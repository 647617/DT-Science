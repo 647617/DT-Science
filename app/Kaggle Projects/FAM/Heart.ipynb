{
 "cells": [
  {
   "cell_type": "markdown",
   "id": "afdf033c",
   "metadata": {},
   "source": [
    "# Imbalance Data"
   ]
  },
  {
   "cell_type": "code",
   "execution_count": 1,
   "id": "d0e4e8a8",
   "metadata": {},
   "outputs": [
    {
     "name": "stderr",
     "output_type": "stream",
     "text": [
      "/opt/conda/lib/python3.9/site-packages/xgboost/compat.py:36: FutureWarning: pandas.Int64Index is deprecated and will be removed from pandas in a future version. Use pandas.Index with the appropriate dtype instead.\n",
      "  from pandas import MultiIndex, Int64Index\n"
     ]
    }
   ],
   "source": [
    "import pandas as pd\n",
    "import numpy  as np\n",
    "import seaborn as SB\n",
    "import matplotlib.pyplot as PLT\n",
    "import scipy.stats as STATS\n",
    "from sklearn.model_selection import train_test_split\n",
    "from sklearn.preprocessing import StandardScaler\n",
    "from sklearn.preprocessing import MinMaxScaler\n",
    "from sklearn import metrics\n",
    "from sklearn.preprocessing import Normalizer\n",
    "from sklearn.preprocessing import LabelEncoder\n",
    "from sklearn.compose import ColumnTransformer\n",
    "from sklearn.preprocessing import OneHotEncoder\n",
    "from sklearn.ensemble import GradientBoostingRegressor\n",
    "from sklearn.metrics import mean_absolute_error,r2_score\n",
    "from sklearn import metrics\n",
    "import random\n",
    "from sklearn.svm import SVC\n",
    "from catboost import CatBoostClassifier\n"
   ]
  },
  {
   "cell_type": "code",
   "execution_count": 2,
   "id": "607101a5",
   "metadata": {},
   "outputs": [],
   "source": [
    "n = 100000\n",
    "skip = sorted(random.sample(range(1,319795),319795-n))\n",
    "DF = pd.read_csv('../../datasets/heart_2020_cleaned.csv',skiprows=skip).reset_index().rename(columns={'index':'id'})"
   ]
  },
  {
   "cell_type": "code",
   "execution_count": 3,
   "id": "fec2473d",
   "metadata": {},
   "outputs": [],
   "source": [
    "CatCols = [\n",
    "    'Smoking','AlcoholDrinking','Stroke','DiffWalking','Sex','AgeCategory','Race','Diabetic',\n",
    "    'PhysicalActivity','GenHealth','Asthma','KidneyDisease','SkinCancer'\n",
    "]\n",
    "NumCols = [\n",
    "    'BMI', 'PhysicalHealth', 'MentalHealth', 'SleepTime'\n",
    "]\n",
    "\n",
    "X = DF[DF.columns.difference(['id','HeartDisease'])]\n",
    "Y = DF['HeartDisease']"
   ]
  },
  {
   "cell_type": "code",
   "execution_count": 4,
   "id": "df122b59",
   "metadata": {},
   "outputs": [
    {
     "data": {
      "text/html": [
       "<div>\n",
       "<style scoped>\n",
       "    .dataframe tbody tr th:only-of-type {\n",
       "        vertical-align: middle;\n",
       "    }\n",
       "\n",
       "    .dataframe tbody tr th {\n",
       "        vertical-align: top;\n",
       "    }\n",
       "\n",
       "    .dataframe thead th {\n",
       "        text-align: right;\n",
       "    }\n",
       "</style>\n",
       "<table border=\"1\" class=\"dataframe\">\n",
       "  <thead>\n",
       "    <tr style=\"text-align: right;\">\n",
       "      <th></th>\n",
       "      <th>AgeCategory</th>\n",
       "      <th>AlcoholDrinking</th>\n",
       "      <th>Asthma</th>\n",
       "      <th>BMI</th>\n",
       "      <th>Diabetic</th>\n",
       "      <th>DiffWalking</th>\n",
       "      <th>GenHealth</th>\n",
       "      <th>KidneyDisease</th>\n",
       "      <th>MentalHealth</th>\n",
       "      <th>PhysicalActivity</th>\n",
       "      <th>PhysicalHealth</th>\n",
       "      <th>Race</th>\n",
       "      <th>Sex</th>\n",
       "      <th>SkinCancer</th>\n",
       "      <th>SleepTime</th>\n",
       "      <th>Smoking</th>\n",
       "      <th>Stroke</th>\n",
       "    </tr>\n",
       "  </thead>\n",
       "  <tbody>\n",
       "    <tr>\n",
       "      <th>0</th>\n",
       "      <td>75-79</td>\n",
       "      <td>No</td>\n",
       "      <td>No</td>\n",
       "      <td>24.21</td>\n",
       "      <td>No</td>\n",
       "      <td>No</td>\n",
       "      <td>Good</td>\n",
       "      <td>No</td>\n",
       "      <td>0.0</td>\n",
       "      <td>No</td>\n",
       "      <td>0.0</td>\n",
       "      <td>White</td>\n",
       "      <td>Female</td>\n",
       "      <td>Yes</td>\n",
       "      <td>6.0</td>\n",
       "      <td>No</td>\n",
       "      <td>No</td>\n",
       "    </tr>\n",
       "    <tr>\n",
       "      <th>1</th>\n",
       "      <td>70-74</td>\n",
       "      <td>No</td>\n",
       "      <td>Yes</td>\n",
       "      <td>21.63</td>\n",
       "      <td>No</td>\n",
       "      <td>No</td>\n",
       "      <td>Fair</td>\n",
       "      <td>No</td>\n",
       "      <td>0.0</td>\n",
       "      <td>Yes</td>\n",
       "      <td>15.0</td>\n",
       "      <td>White</td>\n",
       "      <td>Female</td>\n",
       "      <td>Yes</td>\n",
       "      <td>4.0</td>\n",
       "      <td>No</td>\n",
       "      <td>No</td>\n",
       "    </tr>\n",
       "    <tr>\n",
       "      <th>2</th>\n",
       "      <td>80 or older</td>\n",
       "      <td>No</td>\n",
       "      <td>Yes</td>\n",
       "      <td>31.64</td>\n",
       "      <td>Yes</td>\n",
       "      <td>Yes</td>\n",
       "      <td>Good</td>\n",
       "      <td>No</td>\n",
       "      <td>0.0</td>\n",
       "      <td>No</td>\n",
       "      <td>5.0</td>\n",
       "      <td>White</td>\n",
       "      <td>Female</td>\n",
       "      <td>No</td>\n",
       "      <td>9.0</td>\n",
       "      <td>Yes</td>\n",
       "      <td>No</td>\n",
       "    </tr>\n",
       "    <tr>\n",
       "      <th>3</th>\n",
       "      <td>65-69</td>\n",
       "      <td>No</td>\n",
       "      <td>No</td>\n",
       "      <td>40.69</td>\n",
       "      <td>No</td>\n",
       "      <td>Yes</td>\n",
       "      <td>Good</td>\n",
       "      <td>No</td>\n",
       "      <td>0.0</td>\n",
       "      <td>Yes</td>\n",
       "      <td>0.0</td>\n",
       "      <td>White</td>\n",
       "      <td>Male</td>\n",
       "      <td>No</td>\n",
       "      <td>10.0</td>\n",
       "      <td>No</td>\n",
       "      <td>No</td>\n",
       "    </tr>\n",
       "    <tr>\n",
       "      <th>4</th>\n",
       "      <td>60-64</td>\n",
       "      <td>No</td>\n",
       "      <td>Yes</td>\n",
       "      <td>34.30</td>\n",
       "      <td>Yes</td>\n",
       "      <td>Yes</td>\n",
       "      <td>Poor</td>\n",
       "      <td>No</td>\n",
       "      <td>0.0</td>\n",
       "      <td>No</td>\n",
       "      <td>30.0</td>\n",
       "      <td>White</td>\n",
       "      <td>Male</td>\n",
       "      <td>No</td>\n",
       "      <td>15.0</td>\n",
       "      <td>Yes</td>\n",
       "      <td>No</td>\n",
       "    </tr>\n",
       "  </tbody>\n",
       "</table>\n",
       "</div>"
      ],
      "text/plain": [
       "   AgeCategory AlcoholDrinking Asthma    BMI Diabetic DiffWalking GenHealth  \\\n",
       "0        75-79              No     No  24.21       No          No      Good   \n",
       "1        70-74              No    Yes  21.63       No          No      Fair   \n",
       "2  80 or older              No    Yes  31.64      Yes         Yes      Good   \n",
       "3        65-69              No     No  40.69       No         Yes      Good   \n",
       "4        60-64              No    Yes  34.30      Yes         Yes      Poor   \n",
       "\n",
       "  KidneyDisease  MentalHealth PhysicalActivity  PhysicalHealth   Race     Sex  \\\n",
       "0            No           0.0               No             0.0  White  Female   \n",
       "1            No           0.0              Yes            15.0  White  Female   \n",
       "2            No           0.0               No             5.0  White  Female   \n",
       "3            No           0.0              Yes             0.0  White    Male   \n",
       "4            No           0.0               No            30.0  White    Male   \n",
       "\n",
       "  SkinCancer  SleepTime Smoking Stroke  \n",
       "0        Yes        6.0      No     No  \n",
       "1        Yes        4.0      No     No  \n",
       "2         No        9.0     Yes     No  \n",
       "3         No       10.0      No     No  \n",
       "4         No       15.0     Yes     No  "
      ]
     },
     "execution_count": 4,
     "metadata": {},
     "output_type": "execute_result"
    }
   ],
   "source": [
    "X.head()"
   ]
  },
  {
   "cell_type": "markdown",
   "id": "c86a7d43",
   "metadata": {},
   "source": [
    "# <font color=\"Brown\">BMI :</font>"
   ]
  },
  {
   "cell_type": "code",
   "execution_count": 5,
   "id": "6c8dede4",
   "metadata": {},
   "outputs": [
    {
     "data": {
      "text/plain": [
       "count    100000.000000\n",
       "mean         28.323594\n",
       "std           6.384032\n",
       "min          12.080000\n",
       "25%          23.960000\n",
       "50%          27.320000\n",
       "75%          31.460000\n",
       "max          94.850000\n",
       "Name: BMI, dtype: float64"
      ]
     },
     "execution_count": 5,
     "metadata": {},
     "output_type": "execute_result"
    }
   ],
   "source": [
    "X['BMI'].describe() "
   ]
  },
  {
   "cell_type": "code",
   "execution_count": 6,
   "id": "9350cd96",
   "metadata": {},
   "outputs": [],
   "source": [
    "# normal range 10 ~ 50"
   ]
  },
  {
   "cell_type": "code",
   "execution_count": 7,
   "id": "1bbcee7e",
   "metadata": {
    "scrolled": true
   },
   "outputs": [
    {
     "data": {
      "text/html": [
       "<div>\n",
       "<style scoped>\n",
       "    .dataframe tbody tr th:only-of-type {\n",
       "        vertical-align: middle;\n",
       "    }\n",
       "\n",
       "    .dataframe tbody tr th {\n",
       "        vertical-align: top;\n",
       "    }\n",
       "\n",
       "    .dataframe thead th {\n",
       "        text-align: right;\n",
       "    }\n",
       "</style>\n",
       "<table border=\"1\" class=\"dataframe\">\n",
       "  <thead>\n",
       "    <tr style=\"text-align: right;\">\n",
       "      <th></th>\n",
       "      <th>count</th>\n",
       "      <th>mean</th>\n",
       "      <th>std</th>\n",
       "      <th>min</th>\n",
       "      <th>25%</th>\n",
       "      <th>50%</th>\n",
       "      <th>75%</th>\n",
       "      <th>max</th>\n",
       "    </tr>\n",
       "    <tr>\n",
       "      <th>Sex</th>\n",
       "      <th></th>\n",
       "      <th></th>\n",
       "      <th></th>\n",
       "      <th></th>\n",
       "      <th></th>\n",
       "      <th></th>\n",
       "      <th></th>\n",
       "      <th></th>\n",
       "    </tr>\n",
       "  </thead>\n",
       "  <tbody>\n",
       "    <tr>\n",
       "      <th>Female</th>\n",
       "      <td>51939.0</td>\n",
       "      <td>27.87067</td>\n",
       "      <td>6.261788</td>\n",
       "      <td>12.26</td>\n",
       "      <td>23.30</td>\n",
       "      <td>26.63</td>\n",
       "      <td>31.32</td>\n",
       "      <td>49.92</td>\n",
       "    </tr>\n",
       "    <tr>\n",
       "      <th>Male</th>\n",
       "      <td>47235.0</td>\n",
       "      <td>28.33789</td>\n",
       "      <td>5.364389</td>\n",
       "      <td>12.08</td>\n",
       "      <td>24.41</td>\n",
       "      <td>27.46</td>\n",
       "      <td>31.25</td>\n",
       "      <td>50.00</td>\n",
       "    </tr>\n",
       "  </tbody>\n",
       "</table>\n",
       "</div>"
      ],
      "text/plain": [
       "          count      mean       std    min    25%    50%    75%    max\n",
       "Sex                                                                   \n",
       "Female  51939.0  27.87067  6.261788  12.26  23.30  26.63  31.32  49.92\n",
       "Male    47235.0  28.33789  5.364389  12.08  24.41  27.46  31.25  50.00"
      ]
     },
     "execution_count": 7,
     "metadata": {},
     "output_type": "execute_result"
    }
   ],
   "source": [
    "X[X['BMI']<=50].groupby(['Sex'])['BMI'].describe()"
   ]
  },
  {
   "cell_type": "code",
   "execution_count": 8,
   "id": "3693f967",
   "metadata": {},
   "outputs": [
    {
     "data": {
      "image/png": "[encoded data removed]",
      "text/plain": [
       "<Figure size 432x288 with 1 Axes>"
      ]
     },
     "metadata": {
      "needs_background": "light"
     },
     "output_type": "display_data"
    }
   ],
   "source": [
    "BMI_Normal_Range = X[X['BMI']<=50]\n",
    "BMI_Normal_Range.groupby(['Sex'])['BMI'].hist()\n",
    "PLT.show()"
   ]
  },
  {
   "cell_type": "code",
   "execution_count": 9,
   "id": "98eac83f",
   "metadata": {},
   "outputs": [
    {
     "data": {
      "image/png": "[encoded data removed]",
      "text/plain": [
       "<Figure size 432x288 with 1 Axes>"
      ]
     },
     "metadata": {
      "needs_background": "light"
     },
     "output_type": "display_data"
    }
   ],
   "source": [
    "BMI_Out_Of_Range = X[X['BMI']>50]\n",
    "BMI_Out_Of_Range.groupby(['Sex'])['BMI'].hist()\n",
    "PLT.show()"
   ]
  },
  {
   "cell_type": "code",
   "execution_count": 10,
   "id": "e1c52e0d",
   "metadata": {},
   "outputs": [],
   "source": [
    "# Drop rows with out of rage BMI\n",
    "# X = X.drop(BMI_Out_Of_Range.index,errors='ignore')"
   ]
  },
  {
   "cell_type": "code",
   "execution_count": 11,
   "id": "ee0e0b88",
   "metadata": {},
   "outputs": [
    {
     "data": {
      "text/plain": [
       "<matplotlib.legend.Legend at 0x7fc67df9cf40>"
      ]
     },
     "execution_count": 11,
     "metadata": {},
     "output_type": "execute_result"
    },
    {
     "data": {
      "image/png": "[encoded data removed]",
      "text/plain": [
       "<Figure size 720x360 with 1 Axes>"
      ]
     },
     "metadata": {
      "needs_background": "light"
     },
     "output_type": "display_data"
    }
   ],
   "source": [
    "PLT.figure(figsize=(10,5))\n",
    "SB.boxplot(x=X['Sex'],y=X['BMI'], hue=X['PhysicalActivity']).legend(loc='upper right')"
   ]
  },
  {
   "cell_type": "markdown",
   "id": "4c89b9f3",
   "metadata": {},
   "source": [
    "# <font color=\"Brown\">AlcoholDrinking :</font>"
   ]
  },
  {
   "cell_type": "code",
   "execution_count": 12,
   "id": "454925f8",
   "metadata": {},
   "outputs": [
    {
     "data": {
      "text/plain": [
       "count     100000\n",
       "unique         2\n",
       "top           No\n",
       "freq       93234\n",
       "Name: AlcoholDrinking, dtype: object"
      ]
     },
     "execution_count": 12,
     "metadata": {},
     "output_type": "execute_result"
    }
   ],
   "source": [
    "X['AlcoholDrinking'].describe()"
   ]
  },
  {
   "cell_type": "code",
   "execution_count": 13,
   "id": "1f0c6ae2",
   "metadata": {},
   "outputs": [
    {
     "data": {
      "text/plain": [
       "No     93234\n",
       "Yes     6766\n",
       "Name: AlcoholDrinking, dtype: int64"
      ]
     },
     "execution_count": 13,
     "metadata": {},
     "output_type": "execute_result"
    }
   ],
   "source": [
    "X['AlcoholDrinking'].value_counts()"
   ]
  },
  {
   "cell_type": "markdown",
   "id": "a1cfd872",
   "metadata": {},
   "source": [
    "# <font color=\"Brown\">AgeCategory :</font>"
   ]
  },
  {
   "cell_type": "code",
   "execution_count": 14,
   "id": "a7d18962",
   "metadata": {},
   "outputs": [
    {
     "data": {
      "text/plain": [
       "count     100000\n",
       "unique        13\n",
       "top        60-64\n",
       "freq       10521\n",
       "Name: AgeCategory, dtype: object"
      ]
     },
     "execution_count": 14,
     "metadata": {},
     "output_type": "execute_result"
    }
   ],
   "source": [
    "X['AgeCategory'].describe()"
   ]
  },
  {
   "cell_type": "code",
   "execution_count": 15,
   "id": "c86075eb",
   "metadata": {},
   "outputs": [
    {
     "data": {
      "text/plain": [
       "60-64          10521\n",
       "65-69          10505\n",
       "70-74           9839\n",
       "55-59           9362\n",
       "50-54           8032\n",
       "80 or older     7495\n",
       "75-79           6742\n",
       "45-49           6719\n",
       "40-44           6628\n",
       "18-24           6590\n",
       "35-39           6424\n",
       "30-34           5909\n",
       "25-29           5234\n",
       "Name: AgeCategory, dtype: int64"
      ]
     },
     "execution_count": 15,
     "metadata": {},
     "output_type": "execute_result"
    }
   ],
   "source": [
    "X['AgeCategory'].value_counts()"
   ]
  },
  {
   "cell_type": "code",
   "execution_count": 16,
   "id": "a879a7f4",
   "metadata": {},
   "outputs": [],
   "source": [
    "_1 = X[X['AgeCategory']!='80 or older']['AgeCategory'].str.split('-').apply(\n",
    "    lambda x : (int(x[0])+int(x[1]))/2\n",
    ")\n",
    "_2 = X[X['AgeCategory']=='80 or older']['AgeCategory'].str.split(' or ').apply(\n",
    "    lambda x : 80\n",
    ")\n",
    "X.loc[_1.index,'AgeCategory'] = _1\n",
    "X.loc[_2.index,'AgeCategory'] = _2\n",
    "del _1,_2"
   ]
  },
  {
   "cell_type": "code",
   "execution_count": 17,
   "id": "2a7cacd3",
   "metadata": {},
   "outputs": [
    {
     "name": "stderr",
     "output_type": "stream",
     "text": [
      "/tmp/ipykernel_2656/1643673884.py:1: SettingWithCopyWarning: \n",
      "A value is trying to be set on a copy of a slice from a DataFrame.\n",
      "Try using .loc[row_indexer,col_indexer] = value instead\n",
      "\n",
      "See the caveats in the documentation: https://pandas.pydata.org/pandas-docs/stable/user_guide/indexing.html#returning-a-view-versus-a-copy\n",
      "  X['AgeCategory'] = X['AgeCategory'].astype(np.int64)\n"
     ]
    }
   ],
   "source": [
    "X['AgeCategory'] = X['AgeCategory'].astype(np.int64) "
   ]
  },
  {
   "cell_type": "code",
   "execution_count": 18,
   "id": "bf30761f",
   "metadata": {},
   "outputs": [
    {
     "data": {
      "text/plain": [
       "count    100000.000000\n",
       "mean         54.352300\n",
       "std          17.710506\n",
       "min          21.000000\n",
       "25%          42.000000\n",
       "50%          57.000000\n",
       "75%          67.000000\n",
       "max          80.000000\n",
       "Name: AgeCategory, dtype: float64"
      ]
     },
     "execution_count": 18,
     "metadata": {},
     "output_type": "execute_result"
    }
   ],
   "source": [
    "X['AgeCategory'].describe()"
   ]
  },
  {
   "cell_type": "code",
   "execution_count": 19,
   "id": "65c967e3",
   "metadata": {
    "scrolled": true
   },
   "outputs": [
    {
     "data": {
      "text/plain": [
       "<AxesSubplot:>"
      ]
     },
     "execution_count": 19,
     "metadata": {},
     "output_type": "execute_result"
    },
    {
     "data": {
      "image/png": "[encoded data removed]",
      "text/plain": [
       "<Figure size 432x288 with 1 Axes>"
      ]
     },
     "metadata": {
      "needs_background": "light"
     },
     "output_type": "display_data"
    }
   ],
   "source": [
    "X['AgeCategory'].hist()"
   ]
  },
  {
   "cell_type": "code",
   "execution_count": 20,
   "id": "e1c356df",
   "metadata": {},
   "outputs": [
    {
     "data": {
      "image/png": "[encoded data removed]",
      "text/plain": [
       "<Figure size 432x288 with 1 Axes>"
      ]
     },
     "metadata": {
      "needs_background": "light"
     },
     "output_type": "display_data"
    }
   ],
   "source": [
    "X.groupby(['Sex'])['AgeCategory'].hist()\n",
    "PLT.show()"
   ]
  },
  {
   "cell_type": "code",
   "execution_count": 21,
   "id": "be5ca5f3",
   "metadata": {
    "scrolled": true
   },
   "outputs": [
    {
     "data": {
      "text/plain": [
       "<matplotlib.legend.Legend at 0x7fc67dc10d90>"
      ]
     },
     "execution_count": 21,
     "metadata": {},
     "output_type": "execute_result"
    },
    {
     "data": {
      "image/png": "[encoded data removed]",
      "text/plain": [
       "<Figure size 720x360 with 1 Axes>"
      ]
     },
     "metadata": {
      "needs_background": "light"
     },
     "output_type": "display_data"
    }
   ],
   "source": [
    "PLT.figure(figsize=(10,5))\n",
    "SB.boxplot(x=X['Sex'],y=X['AgeCategory'], hue=X['Asthma']).legend(loc='upper right')"
   ]
  },
  {
   "cell_type": "code",
   "execution_count": 22,
   "id": "7ce2ae17",
   "metadata": {},
   "outputs": [
    {
     "data": {
      "text/plain": [
       "<matplotlib.legend.Legend at 0x7fc67e07f220>"
      ]
     },
     "execution_count": 22,
     "metadata": {},
     "output_type": "execute_result"
    },
    {
     "data": {
      "image/png": "[encoded data removed]",
      "text/plain": [
       "<Figure size 720x360 with 1 Axes>"
      ]
     },
     "metadata": {
      "needs_background": "light"
     },
     "output_type": "display_data"
    }
   ],
   "source": [
    "PLT.figure(figsize=(10,5))\n",
    "SB.boxplot(x=X['Sex'],y=X['AgeCategory'], hue=X['Smoking']).legend(loc='upper right')"
   ]
  },
  {
   "cell_type": "code",
   "execution_count": 23,
   "id": "5abaa4f8",
   "metadata": {
    "scrolled": true
   },
   "outputs": [
    {
     "data": {
      "text/plain": [
       "<matplotlib.legend.Legend at 0x7fc67dc1f8e0>"
      ]
     },
     "execution_count": 23,
     "metadata": {},
     "output_type": "execute_result"
    },
    {
     "data": {
      "image/png": "[encoded data removed]",
      "text/plain": [
       "<Figure size 720x360 with 1 Axes>"
      ]
     },
     "metadata": {
      "needs_background": "light"
     },
     "output_type": "display_data"
    }
   ],
   "source": [
    "PLT.figure(figsize=(10,5))\n",
    "SB.boxplot(x=X['Sex'],y=X['AgeCategory'], hue=X['Stroke']).legend(loc='upper right')"
   ]
  },
  {
   "cell_type": "code",
   "execution_count": 24,
   "id": "9e644bff",
   "metadata": {},
   "outputs": [
    {
     "data": {
      "text/plain": [
       "<matplotlib.legend.Legend at 0x7fc67db19d90>"
      ]
     },
     "execution_count": 24,
     "metadata": {},
     "output_type": "execute_result"
    },
    {
     "data": {
      "image/png": "[encoded data removed]",
      "text/plain": [
       "<Figure size 720x360 with 1 Axes>"
      ]
     },
     "metadata": {
      "needs_background": "light"
     },
     "output_type": "display_data"
    }
   ],
   "source": [
    "PLT.figure(figsize=(10,5))\n",
    "SB.boxplot(x=X['Sex'],y=X['AgeCategory'], hue=X['KidneyDisease']).legend(loc='upper right')"
   ]
  },
  {
   "cell_type": "code",
   "execution_count": 25,
   "id": "cf99c190",
   "metadata": {},
   "outputs": [],
   "source": [
    "CatCols = [\n",
    "    'Smoking','AlcoholDrinking','Stroke','DiffWalking','Sex','Race','Diabetic',\n",
    "    'PhysicalActivity','GenHealth','Asthma','KidneyDisease','SkinCancer'\n",
    "]\n",
    "NumCols = [\n",
    "    'BMI', 'PhysicalHealth', 'MentalHealth', 'SleepTime','AgeCategory'\n",
    "]"
   ]
  },
  {
   "cell_type": "markdown",
   "id": "ed246ea2",
   "metadata": {},
   "source": [
    "# <font color=\"Brown\">Asthma :</font>"
   ]
  },
  {
   "cell_type": "code",
   "execution_count": 26,
   "id": "c077fb26",
   "metadata": {},
   "outputs": [
    {
     "data": {
      "text/plain": [
       "No     86748\n",
       "Yes    13252\n",
       "Name: Asthma, dtype: int64"
      ]
     },
     "execution_count": 26,
     "metadata": {},
     "output_type": "execute_result"
    }
   ],
   "source": [
    "DF['Asthma'].value_counts()"
   ]
  },
  {
   "cell_type": "code",
   "execution_count": 27,
   "id": "29a5bff2",
   "metadata": {},
   "outputs": [
    {
     "data": {
      "text/plain": [
       "count     100000\n",
       "unique         2\n",
       "top           No\n",
       "freq       86748\n",
       "Name: Asthma, dtype: object"
      ]
     },
     "execution_count": 27,
     "metadata": {},
     "output_type": "execute_result"
    }
   ],
   "source": [
    "DF['Asthma'].describe()"
   ]
  },
  {
   "cell_type": "code",
   "execution_count": 28,
   "id": "092f63b5",
   "metadata": {},
   "outputs": [
    {
     "data": {
      "text/plain": [
       "0"
      ]
     },
     "execution_count": 28,
     "metadata": {},
     "output_type": "execute_result"
    }
   ],
   "source": [
    "DF['Asthma'].isnull().sum()"
   ]
  },
  {
   "cell_type": "markdown",
   "id": "db58f269",
   "metadata": {},
   "source": [
    "# <font color=\"Brown\">Diabetic :</font>"
   ]
  },
  {
   "cell_type": "code",
   "execution_count": 29,
   "id": "8b4b5e64",
   "metadata": {},
   "outputs": [
    {
     "data": {
      "text/plain": [
       "No                         84447\n",
       "Yes                        12626\n",
       "No, borderline diabetes     2131\n",
       "Yes (during pregnancy)       796\n",
       "Name: Diabetic, dtype: int64"
      ]
     },
     "execution_count": 29,
     "metadata": {},
     "output_type": "execute_result"
    }
   ],
   "source": [
    "X['Diabetic'].value_counts()"
   ]
  },
  {
   "cell_type": "code",
   "execution_count": 30,
   "id": "a7d51945",
   "metadata": {},
   "outputs": [
    {
     "data": {
      "text/plain": [
       "0"
      ]
     },
     "execution_count": 30,
     "metadata": {},
     "output_type": "execute_result"
    }
   ],
   "source": [
    "X['Diabetic'].isnull().sum()"
   ]
  },
  {
   "cell_type": "code",
   "execution_count": 31,
   "id": "ebdf3863",
   "metadata": {},
   "outputs": [
    {
     "data": {
      "text/plain": [
       "<matplotlib.legend.Legend at 0x7fc67d963100>"
      ]
     },
     "execution_count": 31,
     "metadata": {},
     "output_type": "execute_result"
    },
    {
     "data": {
      "image/png": "[encoded data removed]",
      "text/plain": [
       "<Figure size 720x360 with 1 Axes>"
      ]
     },
     "metadata": {
      "needs_background": "light"
     },
     "output_type": "display_data"
    }
   ],
   "source": [
    "PLT.figure(figsize=(10,5))\n",
    "SB.boxplot(x=X['Diabetic'],y=X['BMI'], hue=X['Sex']).legend(loc='upper right')"
   ]
  },
  {
   "cell_type": "markdown",
   "id": "bebc570a",
   "metadata": {},
   "source": [
    "# <font color=\"Brown\">DiffWalking :</font>"
   ]
  },
  {
   "cell_type": "code",
   "execution_count": 32,
   "id": "eaf3ee9c",
   "metadata": {},
   "outputs": [
    {
     "data": {
      "text/plain": [
       "No     86075\n",
       "Yes    13925\n",
       "Name: DiffWalking, dtype: int64"
      ]
     },
     "execution_count": 32,
     "metadata": {},
     "output_type": "execute_result"
    }
   ],
   "source": [
    "X['DiffWalking'].value_counts()"
   ]
  },
  {
   "cell_type": "code",
   "execution_count": 33,
   "id": "b53d4cb6",
   "metadata": {},
   "outputs": [
    {
     "data": {
      "text/plain": [
       "0"
      ]
     },
     "execution_count": 33,
     "metadata": {},
     "output_type": "execute_result"
    }
   ],
   "source": [
    "X['DiffWalking'].isnull().sum()"
   ]
  },
  {
   "cell_type": "code",
   "execution_count": 34,
   "id": "6b94cf3f",
   "metadata": {
    "scrolled": true
   },
   "outputs": [
    {
     "data": {
      "text/plain": [
       "<matplotlib.legend.Legend at 0x7fc67d959f40>"
      ]
     },
     "execution_count": 34,
     "metadata": {},
     "output_type": "execute_result"
    },
    {
     "data": {
      "image/png": "[encoded data removed]",
      "text/plain": [
       "<Figure size 1008x360 with 1 Axes>"
      ]
     },
     "metadata": {
      "needs_background": "light"
     },
     "output_type": "display_data"
    }
   ],
   "source": [
    "PLT.figure(figsize=(14,5))\n",
    "SB.boxplot(x=Y,y=X['AgeCategory'], hue=X['DiffWalking']).legend(loc='upper right',title='DiffWalking')"
   ]
  },
  {
   "cell_type": "code",
   "execution_count": 35,
   "id": "a33f19d2",
   "metadata": {},
   "outputs": [
    {
     "data": {
      "text/plain": [
       "<matplotlib.legend.Legend at 0x7fc67d8a78e0>"
      ]
     },
     "execution_count": 35,
     "metadata": {},
     "output_type": "execute_result"
    },
    {
     "data": {
      "image/png": "[encoded data removed]",
      "text/plain": [
       "<Figure size 576x360 with 1 Axes>"
      ]
     },
     "metadata": {
      "needs_background": "light"
     },
     "output_type": "display_data"
    }
   ],
   "source": [
    "PLT.figure(figsize=(8,5))\n",
    "SB.boxplot(x=X['Asthma'],y=X['AgeCategory'], hue=Y).legend(loc='upper right',title='HeartDisease')"
   ]
  },
  {
   "cell_type": "markdown",
   "id": "c48f3434",
   "metadata": {},
   "source": [
    "# <font color=\"Brown\">GenHealth :</font>"
   ]
  },
  {
   "cell_type": "code",
   "execution_count": 36,
   "id": "8cfdf746",
   "metadata": {},
   "outputs": [
    {
     "data": {
      "text/plain": [
       "count        100000\n",
       "unique            5\n",
       "top       Very good\n",
       "freq          35586\n",
       "Name: GenHealth, dtype: object"
      ]
     },
     "execution_count": 36,
     "metadata": {},
     "output_type": "execute_result"
    }
   ],
   "source": [
    "X['GenHealth'].describe()"
   ]
  },
  {
   "cell_type": "code",
   "execution_count": 37,
   "id": "9e9cef27",
   "metadata": {},
   "outputs": [
    {
     "data": {
      "text/plain": [
       "0"
      ]
     },
     "execution_count": 37,
     "metadata": {},
     "output_type": "execute_result"
    }
   ],
   "source": [
    "X['GenHealth'].isnull().sum()"
   ]
  },
  {
   "cell_type": "code",
   "execution_count": 38,
   "id": "1bd3b7cd",
   "metadata": {},
   "outputs": [
    {
     "data": {
      "text/plain": [
       "Very good    35586\n",
       "Good         29031\n",
       "Excellent    20939\n",
       "Fair         10833\n",
       "Poor          3611\n",
       "Name: GenHealth, dtype: int64"
      ]
     },
     "execution_count": 38,
     "metadata": {},
     "output_type": "execute_result"
    }
   ],
   "source": [
    "X['GenHealth'].value_counts()"
   ]
  },
  {
   "cell_type": "code",
   "execution_count": 39,
   "id": "e1d77e29",
   "metadata": {},
   "outputs": [
    {
     "data": {
      "text/plain": [
       "<matplotlib.legend.Legend at 0x7fc67d710e50>"
      ]
     },
     "execution_count": 39,
     "metadata": {},
     "output_type": "execute_result"
    },
    {
     "data": {
      "image/png": "[encoded data removed]",
      "text/plain": [
       "<Figure size 576x360 with 1 Axes>"
      ]
     },
     "metadata": {
      "needs_background": "light"
     },
     "output_type": "display_data"
    }
   ],
   "source": [
    "PLT.figure(figsize=(8,5))\n",
    "SB.boxplot(x=X['GenHealth'],y=X['AgeCategory'], hue=Y).legend(loc='upper right',title='HeartDisease')"
   ]
  },
  {
   "cell_type": "markdown",
   "id": "23d0eeeb",
   "metadata": {},
   "source": [
    "# <font color=\"Brown\">KidneyDisease :</font>"
   ]
  },
  {
   "cell_type": "code",
   "execution_count": 40,
   "id": "bfa91929",
   "metadata": {},
   "outputs": [
    {
     "data": {
      "text/plain": [
       "count     100000\n",
       "unique         2\n",
       "top           No\n",
       "freq       96353\n",
       "Name: KidneyDisease, dtype: object"
      ]
     },
     "execution_count": 40,
     "metadata": {},
     "output_type": "execute_result"
    }
   ],
   "source": [
    "X['KidneyDisease'].describe()"
   ]
  },
  {
   "cell_type": "code",
   "execution_count": 41,
   "id": "686f4a95",
   "metadata": {},
   "outputs": [
    {
     "data": {
      "text/plain": [
       "0"
      ]
     },
     "execution_count": 41,
     "metadata": {},
     "output_type": "execute_result"
    }
   ],
   "source": [
    "X['KidneyDisease'].isnull().sum()"
   ]
  },
  {
   "cell_type": "code",
   "execution_count": 42,
   "id": "e930ffc7",
   "metadata": {},
   "outputs": [
    {
     "data": {
      "text/plain": [
       "No     96353\n",
       "Yes     3647\n",
       "Name: KidneyDisease, dtype: int64"
      ]
     },
     "execution_count": 42,
     "metadata": {},
     "output_type": "execute_result"
    }
   ],
   "source": [
    "X['KidneyDisease'].value_counts()"
   ]
  },
  {
   "cell_type": "code",
   "execution_count": 43,
   "id": "354de840",
   "metadata": {},
   "outputs": [
    {
     "data": {
      "text/plain": [
       "<matplotlib.legend.Legend at 0x7fc67d5bc790>"
      ]
     },
     "execution_count": 43,
     "metadata": {},
     "output_type": "execute_result"
    },
    {
     "data": {
      "image/png": "[encoded data removed]",
      "text/plain": [
       "<Figure size 864x432 with 1 Axes>"
      ]
     },
     "metadata": {
      "needs_background": "light"
     },
     "output_type": "display_data"
    }
   ],
   "source": [
    "PLT.figure(figsize=(12,6))\n",
    "SB.boxplot(x=X['KidneyDisease'],y=X['AgeCategory'], hue=Y).legend(loc='upper right',title='HeartDisease')"
   ]
  },
  {
   "cell_type": "markdown",
   "id": "bf197946",
   "metadata": {},
   "source": [
    "# <font color=\"Brown\">MentalHealth :</font>"
   ]
  },
  {
   "cell_type": "code",
   "execution_count": 44,
   "id": "22602578",
   "metadata": {
    "scrolled": true
   },
   "outputs": [
    {
     "data": {
      "text/plain": [
       "count    100000.000000\n",
       "mean          3.912090\n",
       "std           7.960799\n",
       "min           0.000000\n",
       "25%           0.000000\n",
       "50%           0.000000\n",
       "75%           3.000000\n",
       "max          30.000000\n",
       "Name: MentalHealth, dtype: float64"
      ]
     },
     "execution_count": 44,
     "metadata": {},
     "output_type": "execute_result"
    }
   ],
   "source": [
    "X['MentalHealth'].describe()"
   ]
  },
  {
   "cell_type": "code",
   "execution_count": 45,
   "id": "89e3e28a",
   "metadata": {
    "scrolled": true
   },
   "outputs": [
    {
     "data": {
      "text/plain": [
       "0"
      ]
     },
     "execution_count": 45,
     "metadata": {},
     "output_type": "execute_result"
    }
   ],
   "source": [
    "X['MentalHealth'].isna().sum()"
   ]
  },
  {
   "cell_type": "code",
   "execution_count": 46,
   "id": "a189a315",
   "metadata": {},
   "outputs": [
    {
     "data": {
      "text/plain": [
       "0.0     64099\n",
       "1.0      2955\n",
       "2.0      5135\n",
       "3.0      3295\n",
       "4.0      1669\n",
       "5.0      4399\n",
       "6.0       468\n",
       "7.0      1711\n",
       "8.0       357\n",
       "9.0        66\n",
       "10.0     3375\n",
       "11.0       25\n",
       "12.0      241\n",
       "13.0       35\n",
       "14.0      658\n",
       "15.0     3102\n",
       "16.0       56\n",
       "17.0       40\n",
       "18.0       70\n",
       "19.0        9\n",
       "20.0     1662\n",
       "21.0      110\n",
       "22.0       33\n",
       "23.0       25\n",
       "24.0       19\n",
       "25.0      631\n",
       "26.0       21\n",
       "27.0       37\n",
       "28.0      178\n",
       "29.0      109\n",
       "30.0     5410\n",
       "Name: MentalHealth, dtype: int64"
      ]
     },
     "execution_count": 46,
     "metadata": {},
     "output_type": "execute_result"
    }
   ],
   "source": [
    "X['MentalHealth'].value_counts().sort_index()"
   ]
  },
  {
   "cell_type": "code",
   "execution_count": 47,
   "id": "e04f872f",
   "metadata": {},
   "outputs": [
    {
     "data": {
      "text/plain": [
       "<AxesSubplot:>"
      ]
     },
     "execution_count": 47,
     "metadata": {},
     "output_type": "execute_result"
    },
    {
     "data": {
      "image/png": "[encoded data removed]",
      "text/plain": [
       "<Figure size 432x288 with 1 Axes>"
      ]
     },
     "metadata": {
      "needs_background": "light"
     },
     "output_type": "display_data"
    }
   ],
   "source": [
    "X['MentalHealth'].hist()"
   ]
  },
  {
   "cell_type": "code",
   "execution_count": 48,
   "id": "fa598484",
   "metadata": {},
   "outputs": [
    {
     "data": {
      "text/plain": [
       "<matplotlib.legend.Legend at 0x7fc67d59eb20>"
      ]
     },
     "execution_count": 48,
     "metadata": {},
     "output_type": "execute_result"
    },
    {
     "data": {
      "image/png": "[encoded data removed]",
      "text/plain": [
       "<Figure size 1440x432 with 1 Axes>"
      ]
     },
     "metadata": {
      "needs_background": "light"
     },
     "output_type": "display_data"
    }
   ],
   "source": [
    "PLT.figure(figsize=(20,6))\n",
    "SB.boxplot(y=X['MentalHealth'],x=X['AgeCategory'], hue=Y).legend(loc='upper right',title='HeartDisease')"
   ]
  },
  {
   "cell_type": "markdown",
   "id": "024d798f",
   "metadata": {},
   "source": [
    "# <font color=\"Brown\">PhysicalActivity :</font>"
   ]
  },
  {
   "cell_type": "code",
   "execution_count": 49,
   "id": "ffd78f0a",
   "metadata": {},
   "outputs": [
    {
     "data": {
      "text/plain": [
       "count     100000\n",
       "unique         2\n",
       "top          Yes\n",
       "freq       77354\n",
       "Name: PhysicalActivity, dtype: object"
      ]
     },
     "execution_count": 49,
     "metadata": {},
     "output_type": "execute_result"
    }
   ],
   "source": [
    "X['PhysicalActivity'].describe()"
   ]
  },
  {
   "cell_type": "code",
   "execution_count": 50,
   "id": "435da369",
   "metadata": {
    "scrolled": true
   },
   "outputs": [
    {
     "data": {
      "text/plain": [
       "0"
      ]
     },
     "execution_count": 50,
     "metadata": {},
     "output_type": "execute_result"
    }
   ],
   "source": [
    "X['PhysicalActivity'].isna().sum()"
   ]
  },
  {
   "cell_type": "code",
   "execution_count": 51,
   "id": "f1adb19e",
   "metadata": {},
   "outputs": [
    {
     "data": {
      "text/plain": [
       "No     22646\n",
       "Yes    77354\n",
       "Name: PhysicalActivity, dtype: int64"
      ]
     },
     "execution_count": 51,
     "metadata": {},
     "output_type": "execute_result"
    }
   ],
   "source": [
    "X['PhysicalActivity'].value_counts().sort_index()"
   ]
  },
  {
   "cell_type": "code",
   "execution_count": 52,
   "id": "bae91f4d",
   "metadata": {},
   "outputs": [
    {
     "data": {
      "text/plain": [
       "<matplotlib.legend.Legend at 0x7fc67d2c5cd0>"
      ]
     },
     "execution_count": 52,
     "metadata": {},
     "output_type": "execute_result"
    },
    {
     "data": {
      "image/png": "[encoded data removed]",
      "text/plain": [
       "<Figure size 864x432 with 1 Axes>"
      ]
     },
     "metadata": {
      "needs_background": "light"
     },
     "output_type": "display_data"
    }
   ],
   "source": [
    "PLT.figure(figsize=(12,6))\n",
    "SB.boxplot(x=X['PhysicalActivity'],y=X['AgeCategory'], hue=Y).legend(loc='upper right',title='HeartDisease')"
   ]
  },
  {
   "cell_type": "markdown",
   "id": "f07edf7e",
   "metadata": {},
   "source": [
    "# <font color=\"Brown\">PhysicalHealth :</font>"
   ]
  },
  {
   "cell_type": "code",
   "execution_count": 53,
   "id": "3979f0f6",
   "metadata": {
    "scrolled": true
   },
   "outputs": [
    {
     "data": {
      "text/plain": [
       "count    100000.000000\n",
       "mean          3.397760\n",
       "std           7.985126\n",
       "min           0.000000\n",
       "25%           0.000000\n",
       "50%           0.000000\n",
       "75%           2.000000\n",
       "max          30.000000\n",
       "Name: PhysicalHealth, dtype: float64"
      ]
     },
     "execution_count": 53,
     "metadata": {},
     "output_type": "execute_result"
    }
   ],
   "source": [
    "X['PhysicalHealth'].describe()"
   ]
  },
  {
   "cell_type": "code",
   "execution_count": 54,
   "id": "024be1a7",
   "metadata": {
    "scrolled": true
   },
   "outputs": [
    {
     "data": {
      "text/plain": [
       "0"
      ]
     },
     "execution_count": 54,
     "metadata": {},
     "output_type": "execute_result"
    }
   ],
   "source": [
    "X['PhysicalHealth'].isna().sum()"
   ]
  },
  {
   "cell_type": "code",
   "execution_count": 55,
   "id": "df77dc89",
   "metadata": {},
   "outputs": [
    {
     "data": {
      "text/plain": [
       "0.0     70789\n",
       "1.0      3278\n",
       "2.0      4619\n",
       "3.0      2679\n",
       "4.0      1382\n",
       "5.0      2375\n",
       "6.0       386\n",
       "7.0      1511\n",
       "8.0       286\n",
       "9.0        52\n",
       "10.0     1698\n",
       "11.0       29\n",
       "12.0      182\n",
       "13.0       29\n",
       "14.0      932\n",
       "15.0     1568\n",
       "16.0       34\n",
       "17.0       37\n",
       "18.0       47\n",
       "19.0       12\n",
       "20.0     1032\n",
       "21.0      184\n",
       "22.0       34\n",
       "23.0       12\n",
       "24.0       22\n",
       "25.0      351\n",
       "26.0       25\n",
       "27.0       29\n",
       "28.0      142\n",
       "29.0       64\n",
       "30.0     6180\n",
       "Name: PhysicalHealth, dtype: int64"
      ]
     },
     "execution_count": 55,
     "metadata": {},
     "output_type": "execute_result"
    }
   ],
   "source": [
    "X['PhysicalHealth'].value_counts().sort_index()"
   ]
  },
  {
   "cell_type": "code",
   "execution_count": 56,
   "id": "511dceb8",
   "metadata": {},
   "outputs": [
    {
     "data": {
      "text/plain": [
       "<AxesSubplot:>"
      ]
     },
     "execution_count": 56,
     "metadata": {},
     "output_type": "execute_result"
    },
    {
     "data": {
      "image/png": "[encoded data removed]",
      "text/plain": [
       "<Figure size 432x288 with 1 Axes>"
      ]
     },
     "metadata": {
      "needs_background": "light"
     },
     "output_type": "display_data"
    }
   ],
   "source": [
    "X['PhysicalHealth'].hist()"
   ]
  },
  {
   "cell_type": "code",
   "execution_count": 57,
   "id": "57d673d6",
   "metadata": {},
   "outputs": [
    {
     "data": {
      "text/plain": [
       "<matplotlib.legend.Legend at 0x7fc67d1dca00>"
      ]
     },
     "execution_count": 57,
     "metadata": {},
     "output_type": "execute_result"
    },
    {
     "data": {
      "image/png": "[encoded data removed]",
      "text/plain": [
       "<Figure size 1440x432 with 1 Axes>"
      ]
     },
     "metadata": {
      "needs_background": "light"
     },
     "output_type": "display_data"
    }
   ],
   "source": [
    "PLT.figure(figsize=(20,6))\n",
    "SB.boxplot(y=X['PhysicalHealth'],x=X['AgeCategory'], hue=Y).legend(loc='upper right',title='HeartDisease')"
   ]
  },
  {
   "cell_type": "markdown",
   "id": "8fc131eb",
   "metadata": {},
   "source": [
    "# <font color=\"Brown\">Race :</font>"
   ]
  },
  {
   "cell_type": "code",
   "execution_count": 58,
   "id": "0d43409f",
   "metadata": {},
   "outputs": [
    {
     "data": {
      "text/plain": [
       "count     100000\n",
       "unique         6\n",
       "top        White\n",
       "freq       76687\n",
       "Name: Race, dtype: object"
      ]
     },
     "execution_count": 58,
     "metadata": {},
     "output_type": "execute_result"
    }
   ],
   "source": [
    "X['Race'].describe()"
   ]
  },
  {
   "cell_type": "code",
   "execution_count": 59,
   "id": "1dfa171b",
   "metadata": {},
   "outputs": [
    {
     "data": {
      "text/plain": [
       "0"
      ]
     },
     "execution_count": 59,
     "metadata": {},
     "output_type": "execute_result"
    }
   ],
   "source": [
    "X['Race'].isnull().sum()"
   ]
  },
  {
   "cell_type": "code",
   "execution_count": 60,
   "id": "035e725e",
   "metadata": {},
   "outputs": [
    {
     "data": {
      "text/plain": [
       "White                             76687\n",
       "Hispanic                           8504\n",
       "Black                              7179\n",
       "Other                              3435\n",
       "Asian                              2531\n",
       "American Indian/Alaskan Native     1664\n",
       "Name: Race, dtype: int64"
      ]
     },
     "execution_count": 60,
     "metadata": {},
     "output_type": "execute_result"
    }
   ],
   "source": [
    "X['Race'].value_counts()"
   ]
  },
  {
   "cell_type": "markdown",
   "id": "f65a2ce0",
   "metadata": {},
   "source": [
    "# <font color=\"Brown\">Race :</font>"
   ]
  },
  {
   "cell_type": "code",
   "execution_count": 61,
   "id": "e3bcad1d",
   "metadata": {},
   "outputs": [
    {
     "data": {
      "text/plain": [
       "count     100000\n",
       "unique         2\n",
       "top       Female\n",
       "freq       52490\n",
       "Name: Sex, dtype: object"
      ]
     },
     "execution_count": 61,
     "metadata": {},
     "output_type": "execute_result"
    }
   ],
   "source": [
    "X['Sex'].describe()"
   ]
  },
  {
   "cell_type": "code",
   "execution_count": 62,
   "id": "a73105b8",
   "metadata": {},
   "outputs": [
    {
     "data": {
      "text/plain": [
       "0"
      ]
     },
     "execution_count": 62,
     "metadata": {},
     "output_type": "execute_result"
    }
   ],
   "source": [
    "X['Sex'].isnull().sum()"
   ]
  },
  {
   "cell_type": "code",
   "execution_count": 63,
   "id": "64c16e01",
   "metadata": {},
   "outputs": [
    {
     "data": {
      "text/plain": [
       "Female    52490\n",
       "Male      47510\n",
       "Name: Sex, dtype: int64"
      ]
     },
     "execution_count": 63,
     "metadata": {},
     "output_type": "execute_result"
    }
   ],
   "source": [
    "X['Sex'].value_counts()"
   ]
  },
  {
   "cell_type": "code",
   "execution_count": 64,
   "id": "cd5cdaf8",
   "metadata": {},
   "outputs": [
    {
     "data": {
      "text/plain": [
       "<matplotlib.legend.Legend at 0x7fc67cf558b0>"
      ]
     },
     "execution_count": 64,
     "metadata": {},
     "output_type": "execute_result"
    },
    {
     "data": {
      "image/png": "[encoded data removed]",
      "text/plain": [
       "<Figure size 1440x432 with 1 Axes>"
      ]
     },
     "metadata": {
      "needs_background": "light"
     },
     "output_type": "display_data"
    }
   ],
   "source": [
    "PLT.figure(figsize=(20,6))\n",
    "SB.boxplot(x=X['Sex'],y=X['AgeCategory'], hue=Y).legend(loc='upper right',title='HeartDisease')"
   ]
  },
  {
   "cell_type": "markdown",
   "id": "215afd9e",
   "metadata": {},
   "source": [
    "# <font color=\"Brown\">Sex :</font>"
   ]
  },
  {
   "cell_type": "code",
   "execution_count": 65,
   "id": "364c13e9",
   "metadata": {},
   "outputs": [
    {
     "data": {
      "text/plain": [
       "count     100000\n",
       "unique         2\n",
       "top       Female\n",
       "freq       52490\n",
       "Name: Sex, dtype: object"
      ]
     },
     "execution_count": 65,
     "metadata": {},
     "output_type": "execute_result"
    }
   ],
   "source": [
    "X['Sex'].describe()"
   ]
  },
  {
   "cell_type": "code",
   "execution_count": 66,
   "id": "bcf0a726",
   "metadata": {},
   "outputs": [
    {
     "data": {
      "text/plain": [
       "0"
      ]
     },
     "execution_count": 66,
     "metadata": {},
     "output_type": "execute_result"
    }
   ],
   "source": [
    "X['Sex'].isnull().sum()"
   ]
  },
  {
   "cell_type": "code",
   "execution_count": 67,
   "id": "009abea3",
   "metadata": {},
   "outputs": [
    {
     "data": {
      "text/plain": [
       "Female    52490\n",
       "Male      47510\n",
       "Name: Sex, dtype: int64"
      ]
     },
     "execution_count": 67,
     "metadata": {},
     "output_type": "execute_result"
    }
   ],
   "source": [
    "X['Sex'].value_counts()"
   ]
  },
  {
   "cell_type": "code",
   "execution_count": 68,
   "id": "508fc4c3",
   "metadata": {},
   "outputs": [
    {
     "data": {
      "text/plain": [
       "<matplotlib.legend.Legend at 0x7fc67cee9370>"
      ]
     },
     "execution_count": 68,
     "metadata": {},
     "output_type": "execute_result"
    },
    {
     "data": {
      "image/png": "[encoded data removed]",
      "text/plain": [
       "<Figure size 864x432 with 1 Axes>"
      ]
     },
     "metadata": {
      "needs_background": "light"
     },
     "output_type": "display_data"
    }
   ],
   "source": [
    "PLT.figure(figsize=(12,6))\n",
    "SB.boxplot(x=X['Sex'],y=X['BMI'], hue=Y).legend(loc='upper right',title='HeartDisease')"
   ]
  },
  {
   "cell_type": "markdown",
   "id": "869a2b5e",
   "metadata": {},
   "source": [
    "# <font color=\"Brown\">SkinCancer :</font>"
   ]
  },
  {
   "cell_type": "code",
   "execution_count": 69,
   "id": "31539de3",
   "metadata": {},
   "outputs": [
    {
     "data": {
      "text/plain": [
       "count     100000\n",
       "unique         2\n",
       "top           No\n",
       "freq       90662\n",
       "Name: SkinCancer, dtype: object"
      ]
     },
     "execution_count": 69,
     "metadata": {},
     "output_type": "execute_result"
    }
   ],
   "source": [
    "X['SkinCancer'].describe()"
   ]
  },
  {
   "cell_type": "code",
   "execution_count": 70,
   "id": "4675cd98",
   "metadata": {},
   "outputs": [
    {
     "data": {
      "text/plain": [
       "0"
      ]
     },
     "execution_count": 70,
     "metadata": {},
     "output_type": "execute_result"
    }
   ],
   "source": [
    "X['SkinCancer'].isnull().sum()"
   ]
  },
  {
   "cell_type": "code",
   "execution_count": 71,
   "id": "21131ba0",
   "metadata": {
    "scrolled": true
   },
   "outputs": [
    {
     "data": {
      "text/plain": [
       "No     90662\n",
       "Yes     9338\n",
       "Name: SkinCancer, dtype: int64"
      ]
     },
     "execution_count": 71,
     "metadata": {},
     "output_type": "execute_result"
    }
   ],
   "source": [
    "X['SkinCancer'].value_counts()"
   ]
  },
  {
   "cell_type": "markdown",
   "id": "778113f5",
   "metadata": {},
   "source": [
    "# <font color=\"Brown\">SkinCancer :</font>"
   ]
  },
  {
   "cell_type": "code",
   "execution_count": 72,
   "id": "0aa29c45",
   "metadata": {},
   "outputs": [
    {
     "data": {
      "text/plain": [
       "count     100000\n",
       "unique         2\n",
       "top           No\n",
       "freq       90662\n",
       "Name: SkinCancer, dtype: object"
      ]
     },
     "execution_count": 72,
     "metadata": {},
     "output_type": "execute_result"
    }
   ],
   "source": [
    "X['SkinCancer'].describe()"
   ]
  },
  {
   "cell_type": "code",
   "execution_count": 73,
   "id": "f82ff633",
   "metadata": {},
   "outputs": [
    {
     "data": {
      "text/plain": [
       "0"
      ]
     },
     "execution_count": 73,
     "metadata": {},
     "output_type": "execute_result"
    }
   ],
   "source": [
    "X['SkinCancer'].isnull().sum()"
   ]
  },
  {
   "cell_type": "code",
   "execution_count": 74,
   "id": "aaf6724e",
   "metadata": {
    "scrolled": false
   },
   "outputs": [
    {
     "data": {
      "text/plain": [
       "No     90662\n",
       "Yes     9338\n",
       "Name: SkinCancer, dtype: int64"
      ]
     },
     "execution_count": 74,
     "metadata": {},
     "output_type": "execute_result"
    }
   ],
   "source": [
    "X['SkinCancer'].value_counts()"
   ]
  },
  {
   "cell_type": "markdown",
   "id": "672498c0",
   "metadata": {},
   "source": [
    "# <font color=\"Brown\">SleepTime :</font>"
   ]
  },
  {
   "cell_type": "code",
   "execution_count": 75,
   "id": "cb9f0438",
   "metadata": {},
   "outputs": [
    {
     "data": {
      "text/plain": [
       "count    100000.00000\n",
       "mean          7.09454\n",
       "std           1.44150\n",
       "min           1.00000\n",
       "25%           6.00000\n",
       "50%           7.00000\n",
       "75%           8.00000\n",
       "max          24.00000\n",
       "Name: SleepTime, dtype: float64"
      ]
     },
     "execution_count": 75,
     "metadata": {},
     "output_type": "execute_result"
    }
   ],
   "source": [
    "X['SleepTime'].describe()"
   ]
  },
  {
   "cell_type": "code",
   "execution_count": 76,
   "id": "93d67f22",
   "metadata": {},
   "outputs": [
    {
     "data": {
      "text/plain": [
       "0"
      ]
     },
     "execution_count": 76,
     "metadata": {},
     "output_type": "execute_result"
    }
   ],
   "source": [
    "X['SleepTime'].isna().sum()"
   ]
  },
  {
   "cell_type": "code",
   "execution_count": 77,
   "id": "2d1f844b",
   "metadata": {},
   "outputs": [
    {
     "data": {
      "text/plain": [
       "<AxesSubplot:>"
      ]
     },
     "execution_count": 77,
     "metadata": {},
     "output_type": "execute_result"
    },
    {
     "data": {
      "image/png": "[encoded data removed]",
      "text/plain": [
       "<Figure size 432x288 with 1 Axes>"
      ]
     },
     "metadata": {
      "needs_background": "light"
     },
     "output_type": "display_data"
    }
   ],
   "source": [
    "X['SleepTime'].hist()"
   ]
  },
  {
   "cell_type": "code",
   "execution_count": 78,
   "id": "d9e4b4ea",
   "metadata": {},
   "outputs": [],
   "source": [
    "# X = X.drop(X[X['SleepTime']>16]['SleepTime'].index,axis=0)"
   ]
  },
  {
   "cell_type": "code",
   "execution_count": 79,
   "id": "586ec111",
   "metadata": {},
   "outputs": [
    {
     "data": {
      "text/plain": [
       "<AxesSubplot:>"
      ]
     },
     "execution_count": 79,
     "metadata": {},
     "output_type": "execute_result"
    },
    {
     "data": {
      "image/png": "[encoded data removed]",
      "text/plain": [
       "<Figure size 432x288 with 1 Axes>"
      ]
     },
     "metadata": {
      "needs_background": "light"
     },
     "output_type": "display_data"
    }
   ],
   "source": [
    "X['SleepTime'].hist()"
   ]
  },
  {
   "cell_type": "markdown",
   "id": "9abe541b",
   "metadata": {},
   "source": [
    "# <font color=\"Brown\">Smoking :</font>"
   ]
  },
  {
   "cell_type": "code",
   "execution_count": 80,
   "id": "e15c0c8f",
   "metadata": {},
   "outputs": [
    {
     "data": {
      "text/plain": [
       "count     100000\n",
       "unique         2\n",
       "top           No\n",
       "freq       58698\n",
       "Name: Smoking, dtype: object"
      ]
     },
     "execution_count": 80,
     "metadata": {},
     "output_type": "execute_result"
    }
   ],
   "source": [
    "X['Smoking'].describe()"
   ]
  },
  {
   "cell_type": "code",
   "execution_count": 81,
   "id": "3ac5dbe8",
   "metadata": {},
   "outputs": [
    {
     "data": {
      "text/plain": [
       "0"
      ]
     },
     "execution_count": 81,
     "metadata": {},
     "output_type": "execute_result"
    }
   ],
   "source": [
    "X['Smoking'].isnull().sum()"
   ]
  },
  {
   "cell_type": "code",
   "execution_count": 82,
   "id": "57ed82b4",
   "metadata": {},
   "outputs": [
    {
     "data": {
      "text/plain": [
       "No     58698\n",
       "Yes    41302\n",
       "Name: Smoking, dtype: int64"
      ]
     },
     "execution_count": 82,
     "metadata": {},
     "output_type": "execute_result"
    }
   ],
   "source": [
    "X['Smoking'].value_counts()"
   ]
  },
  {
   "cell_type": "code",
   "execution_count": 83,
   "id": "4910695f",
   "metadata": {},
   "outputs": [
    {
     "data": {
      "text/plain": [
       "<matplotlib.legend.Legend at 0x7fc67cf81730>"
      ]
     },
     "execution_count": 83,
     "metadata": {},
     "output_type": "execute_result"
    },
    {
     "data": {
      "image/png": "[encoded data removed]",
      "text/plain": [
       "<Figure size 864x432 with 1 Axes>"
      ]
     },
     "metadata": {
      "needs_background": "light"
     },
     "output_type": "display_data"
    }
   ],
   "source": [
    "PLT.figure(figsize=(12,6))\n",
    "SB.boxplot(x=X['Smoking'],y=X['PhysicalHealth'], hue=Y).legend(loc='upper right',title='HeartDisease')"
   ]
  },
  {
   "cell_type": "code",
   "execution_count": 84,
   "id": "4872ccea",
   "metadata": {},
   "outputs": [
    {
     "data": {
      "text/plain": [
       "<matplotlib.legend.Legend at 0x7fc67f30f820>"
      ]
     },
     "execution_count": 84,
     "metadata": {},
     "output_type": "execute_result"
    },
    {
     "data": {
      "image/png": "[encoded data removed]",
      "text/plain": [
       "<Figure size 864x432 with 1 Axes>"
      ]
     },
     "metadata": {
      "needs_background": "light"
     },
     "output_type": "display_data"
    }
   ],
   "source": [
    "PLT.figure(figsize=(12,6))\n",
    "SB.boxplot(x=X['Smoking'],y=X['MentalHealth'], hue=Y).legend(loc='upper right',title='HeartDisease')"
   ]
  },
  {
   "cell_type": "markdown",
   "id": "72322db8",
   "metadata": {},
   "source": [
    "# <font color=\"Brown\">Stroke :</font>"
   ]
  },
  {
   "cell_type": "code",
   "execution_count": 85,
   "id": "a570485b",
   "metadata": {},
   "outputs": [
    {
     "data": {
      "text/plain": [
       "count     100000\n",
       "unique         2\n",
       "top           No\n",
       "freq       96196\n",
       "Name: Stroke, dtype: object"
      ]
     },
     "execution_count": 85,
     "metadata": {},
     "output_type": "execute_result"
    }
   ],
   "source": [
    "X['Stroke'].describe()"
   ]
  },
  {
   "cell_type": "code",
   "execution_count": 86,
   "id": "527fce8f",
   "metadata": {},
   "outputs": [
    {
     "data": {
      "text/plain": [
       "0"
      ]
     },
     "execution_count": 86,
     "metadata": {},
     "output_type": "execute_result"
    }
   ],
   "source": [
    "X['Stroke'].isnull().sum()"
   ]
  },
  {
   "cell_type": "code",
   "execution_count": 87,
   "id": "4c47e1e6",
   "metadata": {},
   "outputs": [
    {
     "data": {
      "text/plain": [
       "No     96196\n",
       "Yes     3804\n",
       "Name: Stroke, dtype: int64"
      ]
     },
     "execution_count": 87,
     "metadata": {},
     "output_type": "execute_result"
    }
   ],
   "source": [
    "X['Stroke'].value_counts()"
   ]
  },
  {
   "cell_type": "code",
   "execution_count": 88,
   "id": "f6d6cc09",
   "metadata": {},
   "outputs": [
    {
     "data": {
      "text/plain": [
       "<matplotlib.legend.Legend at 0x7fc67cbc46a0>"
      ]
     },
     "execution_count": 88,
     "metadata": {},
     "output_type": "execute_result"
    },
    {
     "data": {
      "image/png": "[encoded data removed]",
      "text/plain": [
       "<Figure size 864x432 with 1 Axes>"
      ]
     },
     "metadata": {
      "needs_background": "light"
     },
     "output_type": "display_data"
    }
   ],
   "source": [
    "PLT.figure(figsize=(12,6))\n",
    "SB.boxplot(x=X['Stroke'],y=X['PhysicalHealth'], hue=Y).legend(loc='upper right',title='HeartDisease')"
   ]
  },
  {
   "cell_type": "code",
   "execution_count": 89,
   "id": "1dac27d7",
   "metadata": {},
   "outputs": [
    {
     "data": {
      "text/plain": [
       "<matplotlib.legend.Legend at 0x7fc67cb5ffd0>"
      ]
     },
     "execution_count": 89,
     "metadata": {},
     "output_type": "execute_result"
    },
    {
     "data": {
      "image/png": "[encoded data removed]",
      "text/plain": [
       "<Figure size 864x432 with 1 Axes>"
      ]
     },
     "metadata": {
      "needs_background": "light"
     },
     "output_type": "display_data"
    }
   ],
   "source": [
    "PLT.figure(figsize=(12,6))\n",
    "SB.boxplot(x=X['Stroke'],y=X['MentalHealth'], hue=Y).legend(loc='upper right',title='HeartDisease')"
   ]
  },
  {
   "cell_type": "markdown",
   "id": "397e1c28",
   "metadata": {},
   "source": [
    "# <font color=\"Green\">One Hot Encode Categorical Label :</font>"
   ]
  },
  {
   "cell_type": "code",
   "execution_count": 90,
   "id": "2777dfad",
   "metadata": {},
   "outputs": [],
   "source": [
    "from sklearn.preprocessing import LabelEncoder\n",
    "from sklearn.compose import ColumnTransformer\n",
    "from sklearn.preprocessing import OneHotEncoder\n",
    "\n",
    "def OHC_transformer_single_column(DF,columns):\n",
    "    \n",
    "    for column_name in columns:\n",
    "        label_encoder = LabelEncoder()\n",
    "        encoded = label_encoder.fit_transform(DF[column_name])\n",
    "        labels =pd.Series(label_encoder.classes_)\n",
    "\n",
    "        clmt = ColumnTransformer([(column_name,OneHotEncoder(),[0])], remainder='passthrough')\n",
    "        clmt_fited_data = clmt.fit_transform(DF[[column_name]]) \n",
    "        clmt_fited_data = clmt_fited_data if type(clmt_fited_data)== np.ndarray else clmt_fited_data.toarray()  \n",
    "        NDF = pd.DataFrame(clmt_fited_data,columns=[f'{column_name}_{x}' for x in labels])\n",
    "        \n",
    "        merged = DF.merge(NDF, left_index=True,right_index=True)\n",
    "        merged = merged.drop(columns=[column_name])\n",
    "        DF = merged\n",
    "    return DF"
   ]
  },
  {
   "cell_type": "code",
   "execution_count": 91,
   "id": "7a2f87d3",
   "metadata": {},
   "outputs": [],
   "source": [
    "X_OHC = OHC_transformer_single_column(X,CatCols) \n",
    "Y = DF.iloc[X_OHC.index]['HeartDisease']\n",
    "Y_label_encoder = LabelEncoder()\n",
    "Y_OHC = Y_label_encoder.fit_transform(Y)"
   ]
  },
  {
   "cell_type": "code",
   "execution_count": 92,
   "id": "d14c1663",
   "metadata": {},
   "outputs": [],
   "source": [
    "NDF = pd.concat([X,Y],axis=1)\n",
    "NDF_OHC = pd.concat([X_OHC,pd.DataFrame(Y_OHC,columns=['HeartDisease'])],axis=1)"
   ]
  },
  {
   "cell_type": "markdown",
   "id": "3e52e205",
   "metadata": {},
   "source": [
    "# <font color=\"Green\">Imbalance Data  :</font>"
   ]
  },
  {
   "cell_type": "code",
   "execution_count": 93,
   "id": "47edd49a",
   "metadata": {},
   "outputs": [
    {
     "name": "stderr",
     "output_type": "stream",
     "text": [
      "/opt/conda/lib/python3.9/site-packages/seaborn/_decorators.py:36: FutureWarning: Pass the following variable as a keyword arg: x. From version 0.12, the only valid positional argument will be `data`, and passing other arguments without an explicit keyword will result in an error or misinterpretation.\n",
      "  warnings.warn(\n"
     ]
    },
    {
     "data": {
      "text/plain": [
       "<AxesSubplot:xlabel='HeartDisease', ylabel='count'>"
      ]
     },
     "execution_count": 93,
     "metadata": {},
     "output_type": "execute_result"
    },
    {
     "data": {
      "image/png": "[encoded data removed]",
      "text/plain": [
       "<Figure size 432x288 with 1 Axes>"
      ]
     },
     "metadata": {
      "needs_background": "light"
     },
     "output_type": "display_data"
    }
   ],
   "source": [
    "SB.countplot('HeartDisease',data=NDF_OHC)"
   ]
  },
  {
   "cell_type": "code",
   "execution_count": 94,
   "id": "7293649e",
   "metadata": {},
   "outputs": [],
   "source": [
    "from imblearn.over_sampling import SMOTE\n",
    "from imblearn.combine import SMOTETomek \n",
    "from imblearn.under_sampling import TomekLinks"
   ]
  },
  {
   "cell_type": "code",
   "execution_count": 95,
   "id": "927d731f",
   "metadata": {},
   "outputs": [],
   "source": [
    "smote = SMOTE()\n",
    "X_smote, Y_smote = smote.fit_resample(X_OHC,pd.DataFrame(Y_OHC,columns=['HeartDisease']))\n",
    "DF_smote = pd.concat([X_smote,Y_smote],axis=1)"
   ]
  },
  {
   "cell_type": "code",
   "execution_count": 96,
   "id": "8a663de4",
   "metadata": {},
   "outputs": [],
   "source": [
    "toml = TomekLinks()\n",
    "X_toml, Y_toml = toml.fit_resample(X_smote,Y_smote)\n",
    "DF_toml = pd.concat([X_toml,Y_toml],axis=1)"
   ]
  },
  {
   "cell_type": "code",
   "execution_count": 97,
   "id": "be1f0f06",
   "metadata": {},
   "outputs": [
    {
     "data": {
      "text/html": [
       "<div>\n",
       "<style scoped>\n",
       "    .dataframe tbody tr th:only-of-type {\n",
       "        vertical-align: middle;\n",
       "    }\n",
       "\n",
       "    .dataframe tbody tr th {\n",
       "        vertical-align: top;\n",
       "    }\n",
       "\n",
       "    .dataframe thead th {\n",
       "        text-align: right;\n",
       "    }\n",
       "</style>\n",
       "<table border=\"1\" class=\"dataframe\">\n",
       "  <thead>\n",
       "    <tr style=\"text-align: right;\">\n",
       "      <th></th>\n",
       "      <th>AgeCategory</th>\n",
       "      <th>BMI</th>\n",
       "      <th>MentalHealth</th>\n",
       "      <th>PhysicalHealth</th>\n",
       "      <th>SleepTime</th>\n",
       "      <th>Smoking_No</th>\n",
       "      <th>Smoking_Yes</th>\n",
       "      <th>AlcoholDrinking_No</th>\n",
       "      <th>AlcoholDrinking_Yes</th>\n",
       "      <th>Stroke_No</th>\n",
       "      <th>...</th>\n",
       "      <th>GenHealth_Good</th>\n",
       "      <th>GenHealth_Poor</th>\n",
       "      <th>GenHealth_Very good</th>\n",
       "      <th>Asthma_No</th>\n",
       "      <th>Asthma_Yes</th>\n",
       "      <th>KidneyDisease_No</th>\n",
       "      <th>KidneyDisease_Yes</th>\n",
       "      <th>SkinCancer_No</th>\n",
       "      <th>SkinCancer_Yes</th>\n",
       "      <th>HeartDisease</th>\n",
       "    </tr>\n",
       "  </thead>\n",
       "  <tbody>\n",
       "    <tr>\n",
       "      <th>0</th>\n",
       "      <td>77</td>\n",
       "      <td>24.210000</td>\n",
       "      <td>0.000000</td>\n",
       "      <td>0.000000</td>\n",
       "      <td>6.000000</td>\n",
       "      <td>1.000000</td>\n",
       "      <td>0.000000</td>\n",
       "      <td>1.0</td>\n",
       "      <td>0.0</td>\n",
       "      <td>1.0</td>\n",
       "      <td>...</td>\n",
       "      <td>1.000000</td>\n",
       "      <td>0.0</td>\n",
       "      <td>0.000000</td>\n",
       "      <td>1.000000</td>\n",
       "      <td>0.000000</td>\n",
       "      <td>1.0</td>\n",
       "      <td>0.0</td>\n",
       "      <td>0.0</td>\n",
       "      <td>1.0</td>\n",
       "      <td>0</td>\n",
       "    </tr>\n",
       "    <tr>\n",
       "      <th>1</th>\n",
       "      <td>72</td>\n",
       "      <td>21.630000</td>\n",
       "      <td>0.000000</td>\n",
       "      <td>15.000000</td>\n",
       "      <td>4.000000</td>\n",
       "      <td>1.000000</td>\n",
       "      <td>0.000000</td>\n",
       "      <td>1.0</td>\n",
       "      <td>0.0</td>\n",
       "      <td>1.0</td>\n",
       "      <td>...</td>\n",
       "      <td>0.000000</td>\n",
       "      <td>0.0</td>\n",
       "      <td>0.000000</td>\n",
       "      <td>0.000000</td>\n",
       "      <td>1.000000</td>\n",
       "      <td>1.0</td>\n",
       "      <td>0.0</td>\n",
       "      <td>0.0</td>\n",
       "      <td>1.0</td>\n",
       "      <td>0</td>\n",
       "    </tr>\n",
       "    <tr>\n",
       "      <th>2</th>\n",
       "      <td>80</td>\n",
       "      <td>31.640000</td>\n",
       "      <td>0.000000</td>\n",
       "      <td>5.000000</td>\n",
       "      <td>9.000000</td>\n",
       "      <td>0.000000</td>\n",
       "      <td>1.000000</td>\n",
       "      <td>1.0</td>\n",
       "      <td>0.0</td>\n",
       "      <td>1.0</td>\n",
       "      <td>...</td>\n",
       "      <td>1.000000</td>\n",
       "      <td>0.0</td>\n",
       "      <td>0.000000</td>\n",
       "      <td>0.000000</td>\n",
       "      <td>1.000000</td>\n",
       "      <td>1.0</td>\n",
       "      <td>0.0</td>\n",
       "      <td>1.0</td>\n",
       "      <td>0.0</td>\n",
       "      <td>0</td>\n",
       "    </tr>\n",
       "    <tr>\n",
       "      <th>3</th>\n",
       "      <td>67</td>\n",
       "      <td>40.690000</td>\n",
       "      <td>0.000000</td>\n",
       "      <td>0.000000</td>\n",
       "      <td>10.000000</td>\n",
       "      <td>1.000000</td>\n",
       "      <td>0.000000</td>\n",
       "      <td>1.0</td>\n",
       "      <td>0.0</td>\n",
       "      <td>1.0</td>\n",
       "      <td>...</td>\n",
       "      <td>1.000000</td>\n",
       "      <td>0.0</td>\n",
       "      <td>0.000000</td>\n",
       "      <td>1.000000</td>\n",
       "      <td>0.000000</td>\n",
       "      <td>1.0</td>\n",
       "      <td>0.0</td>\n",
       "      <td>1.0</td>\n",
       "      <td>0.0</td>\n",
       "      <td>0</td>\n",
       "    </tr>\n",
       "    <tr>\n",
       "      <th>4</th>\n",
       "      <td>62</td>\n",
       "      <td>34.300000</td>\n",
       "      <td>0.000000</td>\n",
       "      <td>30.000000</td>\n",
       "      <td>15.000000</td>\n",
       "      <td>0.000000</td>\n",
       "      <td>1.000000</td>\n",
       "      <td>1.0</td>\n",
       "      <td>0.0</td>\n",
       "      <td>1.0</td>\n",
       "      <td>...</td>\n",
       "      <td>0.000000</td>\n",
       "      <td>1.0</td>\n",
       "      <td>0.000000</td>\n",
       "      <td>0.000000</td>\n",
       "      <td>1.000000</td>\n",
       "      <td>1.0</td>\n",
       "      <td>0.0</td>\n",
       "      <td>1.0</td>\n",
       "      <td>0.0</td>\n",
       "      <td>1</td>\n",
       "    </tr>\n",
       "    <tr>\n",
       "      <th>...</th>\n",
       "      <td>...</td>\n",
       "      <td>...</td>\n",
       "      <td>...</td>\n",
       "      <td>...</td>\n",
       "      <td>...</td>\n",
       "      <td>...</td>\n",
       "      <td>...</td>\n",
       "      <td>...</td>\n",
       "      <td>...</td>\n",
       "      <td>...</td>\n",
       "      <td>...</td>\n",
       "      <td>...</td>\n",
       "      <td>...</td>\n",
       "      <td>...</td>\n",
       "      <td>...</td>\n",
       "      <td>...</td>\n",
       "      <td>...</td>\n",
       "      <td>...</td>\n",
       "      <td>...</td>\n",
       "      <td>...</td>\n",
       "      <td>...</td>\n",
       "    </tr>\n",
       "    <tr>\n",
       "      <th>182362</th>\n",
       "      <td>77</td>\n",
       "      <td>31.364630</td>\n",
       "      <td>0.572558</td>\n",
       "      <td>0.000000</td>\n",
       "      <td>8.572558</td>\n",
       "      <td>0.000000</td>\n",
       "      <td>1.000000</td>\n",
       "      <td>1.0</td>\n",
       "      <td>0.0</td>\n",
       "      <td>1.0</td>\n",
       "      <td>...</td>\n",
       "      <td>1.000000</td>\n",
       "      <td>0.0</td>\n",
       "      <td>0.000000</td>\n",
       "      <td>1.000000</td>\n",
       "      <td>0.000000</td>\n",
       "      <td>1.0</td>\n",
       "      <td>0.0</td>\n",
       "      <td>0.0</td>\n",
       "      <td>1.0</td>\n",
       "      <td>1</td>\n",
       "    </tr>\n",
       "    <tr>\n",
       "      <th>182363</th>\n",
       "      <td>47</td>\n",
       "      <td>26.606587</td>\n",
       "      <td>0.000000</td>\n",
       "      <td>0.923463</td>\n",
       "      <td>7.000000</td>\n",
       "      <td>0.000000</td>\n",
       "      <td>1.000000</td>\n",
       "      <td>1.0</td>\n",
       "      <td>0.0</td>\n",
       "      <td>1.0</td>\n",
       "      <td>...</td>\n",
       "      <td>1.000000</td>\n",
       "      <td>0.0</td>\n",
       "      <td>0.000000</td>\n",
       "      <td>0.923463</td>\n",
       "      <td>0.076537</td>\n",
       "      <td>1.0</td>\n",
       "      <td>0.0</td>\n",
       "      <td>1.0</td>\n",
       "      <td>0.0</td>\n",
       "      <td>1</td>\n",
       "    </tr>\n",
       "    <tr>\n",
       "      <th>182364</th>\n",
       "      <td>67</td>\n",
       "      <td>29.584010</td>\n",
       "      <td>0.000000</td>\n",
       "      <td>0.000000</td>\n",
       "      <td>7.000000</td>\n",
       "      <td>0.381188</td>\n",
       "      <td>0.618812</td>\n",
       "      <td>1.0</td>\n",
       "      <td>0.0</td>\n",
       "      <td>1.0</td>\n",
       "      <td>...</td>\n",
       "      <td>0.000000</td>\n",
       "      <td>0.0</td>\n",
       "      <td>1.000000</td>\n",
       "      <td>1.000000</td>\n",
       "      <td>0.000000</td>\n",
       "      <td>1.0</td>\n",
       "      <td>0.0</td>\n",
       "      <td>1.0</td>\n",
       "      <td>0.0</td>\n",
       "      <td>1</td>\n",
       "    </tr>\n",
       "    <tr>\n",
       "      <th>182365</th>\n",
       "      <td>72</td>\n",
       "      <td>22.493849</td>\n",
       "      <td>0.000000</td>\n",
       "      <td>0.000000</td>\n",
       "      <td>6.472802</td>\n",
       "      <td>1.000000</td>\n",
       "      <td>0.000000</td>\n",
       "      <td>1.0</td>\n",
       "      <td>0.0</td>\n",
       "      <td>1.0</td>\n",
       "      <td>...</td>\n",
       "      <td>0.527198</td>\n",
       "      <td>0.0</td>\n",
       "      <td>0.472802</td>\n",
       "      <td>1.000000</td>\n",
       "      <td>0.000000</td>\n",
       "      <td>1.0</td>\n",
       "      <td>0.0</td>\n",
       "      <td>1.0</td>\n",
       "      <td>0.0</td>\n",
       "      <td>1</td>\n",
       "    </tr>\n",
       "    <tr>\n",
       "      <th>182366</th>\n",
       "      <td>42</td>\n",
       "      <td>24.397198</td>\n",
       "      <td>14.418640</td>\n",
       "      <td>4.767456</td>\n",
       "      <td>6.116272</td>\n",
       "      <td>0.116272</td>\n",
       "      <td>0.883728</td>\n",
       "      <td>1.0</td>\n",
       "      <td>0.0</td>\n",
       "      <td>1.0</td>\n",
       "      <td>...</td>\n",
       "      <td>0.883728</td>\n",
       "      <td>0.0</td>\n",
       "      <td>0.116272</td>\n",
       "      <td>1.000000</td>\n",
       "      <td>0.000000</td>\n",
       "      <td>1.0</td>\n",
       "      <td>0.0</td>\n",
       "      <td>1.0</td>\n",
       "      <td>0.0</td>\n",
       "      <td>1</td>\n",
       "    </tr>\n",
       "  </tbody>\n",
       "</table>\n",
       "<p>182367 rows × 39 columns</p>\n",
       "</div>"
      ],
      "text/plain": [
       "        AgeCategory        BMI  MentalHealth  PhysicalHealth  SleepTime  \\\n",
       "0                77  24.210000      0.000000        0.000000   6.000000   \n",
       "1                72  21.630000      0.000000       15.000000   4.000000   \n",
       "2                80  31.640000      0.000000        5.000000   9.000000   \n",
       "3                67  40.690000      0.000000        0.000000  10.000000   \n",
       "4                62  34.300000      0.000000       30.000000  15.000000   \n",
       "...             ...        ...           ...             ...        ...   \n",
       "182362           77  31.364630      0.572558        0.000000   8.572558   \n",
       "182363           47  26.606587      0.000000        0.923463   7.000000   \n",
       "182364           67  29.584010      0.000000        0.000000   7.000000   \n",
       "182365           72  22.493849      0.000000        0.000000   6.472802   \n",
       "182366           42  24.397198     14.418640        4.767456   6.116272   \n",
       "\n",
       "        Smoking_No  Smoking_Yes  AlcoholDrinking_No  AlcoholDrinking_Yes  \\\n",
       "0         1.000000     0.000000                 1.0                  0.0   \n",
       "1         1.000000     0.000000                 1.0                  0.0   \n",
       "2         0.000000     1.000000                 1.0                  0.0   \n",
       "3         1.000000     0.000000                 1.0                  0.0   \n",
       "4         0.000000     1.000000                 1.0                  0.0   \n",
       "...            ...          ...                 ...                  ...   \n",
       "182362    0.000000     1.000000                 1.0                  0.0   \n",
       "182363    0.000000     1.000000                 1.0                  0.0   \n",
       "182364    0.381188     0.618812                 1.0                  0.0   \n",
       "182365    1.000000     0.000000                 1.0                  0.0   \n",
       "182366    0.116272     0.883728                 1.0                  0.0   \n",
       "\n",
       "        Stroke_No  ...  GenHealth_Good  GenHealth_Poor  GenHealth_Very good  \\\n",
       "0             1.0  ...        1.000000             0.0             0.000000   \n",
       "1             1.0  ...        0.000000             0.0             0.000000   \n",
       "2             1.0  ...        1.000000             0.0             0.000000   \n",
       "3             1.0  ...        1.000000             0.0             0.000000   \n",
       "4             1.0  ...        0.000000             1.0             0.000000   \n",
       "...           ...  ...             ...             ...                  ...   \n",
       "182362        1.0  ...        1.000000             0.0             0.000000   \n",
       "182363        1.0  ...        1.000000             0.0             0.000000   \n",
       "182364        1.0  ...        0.000000             0.0             1.000000   \n",
       "182365        1.0  ...        0.527198             0.0             0.472802   \n",
       "182366        1.0  ...        0.883728             0.0             0.116272   \n",
       "\n",
       "        Asthma_No  Asthma_Yes  KidneyDisease_No  KidneyDisease_Yes  \\\n",
       "0        1.000000    0.000000               1.0                0.0   \n",
       "1        0.000000    1.000000               1.0                0.0   \n",
       "2        0.000000    1.000000               1.0                0.0   \n",
       "3        1.000000    0.000000               1.0                0.0   \n",
       "4        0.000000    1.000000               1.0                0.0   \n",
       "...           ...         ...               ...                ...   \n",
       "182362   1.000000    0.000000               1.0                0.0   \n",
       "182363   0.923463    0.076537               1.0                0.0   \n",
       "182364   1.000000    0.000000               1.0                0.0   \n",
       "182365   1.000000    0.000000               1.0                0.0   \n",
       "182366   1.000000    0.000000               1.0                0.0   \n",
       "\n",
       "        SkinCancer_No  SkinCancer_Yes  HeartDisease  \n",
       "0                 0.0             1.0             0  \n",
       "1                 0.0             1.0             0  \n",
       "2                 1.0             0.0             0  \n",
       "3                 1.0             0.0             0  \n",
       "4                 1.0             0.0             1  \n",
       "...               ...             ...           ...  \n",
       "182362            0.0             1.0             1  \n",
       "182363            1.0             0.0             1  \n",
       "182364            1.0             0.0             1  \n",
       "182365            1.0             0.0             1  \n",
       "182366            1.0             0.0             1  \n",
       "\n",
       "[182367 rows x 39 columns]"
      ]
     },
     "execution_count": 97,
     "metadata": {},
     "output_type": "execute_result"
    }
   ],
   "source": [
    "DF_toml"
   ]
  },
  {
   "cell_type": "markdown",
   "id": "66a48574",
   "metadata": {},
   "source": [
    " # <font color=\"Green\">Normalize  :</font>"
   ]
  },
  {
   "cell_type": "code",
   "execution_count": null,
   "id": "0ea1ea30",
   "metadata": {},
   "outputs": [],
   "source": []
  },
  {
   "cell_type": "code",
   "execution_count": null,
   "id": "ef9d7417",
   "metadata": {},
   "outputs": [],
   "source": []
  },
  {
   "cell_type": "code",
   "execution_count": null,
   "id": "f29ec86e",
   "metadata": {},
   "outputs": [],
   "source": []
  },
  {
   "cell_type": "code",
   "execution_count": null,
   "id": "f6870721",
   "metadata": {},
   "outputs": [],
   "source": []
  },
  {
   "cell_type": "code",
   "execution_count": null,
   "id": "9eaeae30",
   "metadata": {},
   "outputs": [],
   "source": []
  },
  {
   "cell_type": "markdown",
   "id": "5ff2bc78",
   "metadata": {},
   "source": [
    " # <font color=\"Green\">feature reduction  :</font>"
   ]
  },
  {
   "cell_type": "code",
   "execution_count": 98,
   "id": "da08560d",
   "metadata": {},
   "outputs": [],
   "source": [
    "from sklearn.manifold import Isomap\n",
    "from sklearn.manifold import TSNE"
   ]
  },
  {
   "cell_type": "code",
   "execution_count": 99,
   "id": "f75728ef",
   "metadata": {},
   "outputs": [],
   "source": [
    "from sklearn.decomposition import PCA,KernelPCA"
   ]
  },
  {
   "cell_type": "code",
   "execution_count": 100,
   "id": "b7328155",
   "metadata": {},
   "outputs": [
    {
     "ename": "MemoryError",
     "evalue": "Unable to allocate 248. GiB for an array with shape (182367, 182367) and data type float64",
     "output_type": "error",
     "traceback": [
      "\u001b[0;31m---------------------------------------------------------------------------\u001b[0m",
      "\u001b[0;31mMemoryError\u001b[0m                               Traceback (most recent call last)",
      "Input \u001b[0;32mIn [100]\u001b[0m, in \u001b[0;36m<cell line: 2>\u001b[0;34m()\u001b[0m\n\u001b[1;32m      1\u001b[0m pca \u001b[38;5;241m=\u001b[39m KernelPCA(n_components\u001b[38;5;241m=\u001b[39m\u001b[38;5;241m2\u001b[39m,kernel\u001b[38;5;241m=\u001b[39m\u001b[38;5;124m'\u001b[39m\u001b[38;5;124mpoly\u001b[39m\u001b[38;5;124m'\u001b[39m,random_state\u001b[38;5;241m=\u001b[39m\u001b[38;5;241m3220\u001b[39m,gamma\u001b[38;5;241m=\u001b[39m\u001b[38;5;241m1\u001b[39m,degree\u001b[38;5;241m=\u001b[39m\u001b[38;5;241m50\u001b[39m,coef0\u001b[38;5;241m=\u001b[39m\u001b[38;5;241m100000\u001b[39m)\n\u001b[0;32m----> 2\u001b[0m XPCA \u001b[38;5;241m=\u001b[39m \u001b[43mpca\u001b[49m\u001b[38;5;241;43m.\u001b[39;49m\u001b[43mfit_transform\u001b[49m\u001b[43m(\u001b[49m\u001b[43mDF_toml\u001b[49m\u001b[38;5;241;43m.\u001b[39;49m\u001b[43miloc\u001b[49m\u001b[43m[\u001b[49m\u001b[43m:\u001b[49m\u001b[43m,\u001b[49m\u001b[43m:\u001b[49m\u001b[38;5;241;43m-\u001b[39;49m\u001b[38;5;241;43m1\u001b[39;49m\u001b[43m]\u001b[49m\u001b[43m)\u001b[49m\n\u001b[1;32m      3\u001b[0m PLT\u001b[38;5;241m.\u001b[39mscatter(XPCA[:,\u001b[38;5;241m0\u001b[39m],\u001b[38;5;28mrange\u001b[39m(\u001b[38;5;241m0\u001b[39m,\u001b[38;5;28mlen\u001b[39m(XPCA)),c\u001b[38;5;241m=\u001b[39mDF_toml\u001b[38;5;241m.\u001b[39miloc[:,\u001b[38;5;241m-\u001b[39m\u001b[38;5;241m1\u001b[39m])\n",
      "File \u001b[0;32m/opt/conda/lib/python3.9/site-packages/sklearn/decomposition/_kernel_pca.py:464\u001b[0m, in \u001b[0;36mKernelPCA.fit_transform\u001b[0;34m(self, X, y, **params)\u001b[0m\n\u001b[1;32m    443\u001b[0m \u001b[38;5;28;01mdef\u001b[39;00m \u001b[38;5;21mfit_transform\u001b[39m(\u001b[38;5;28mself\u001b[39m, X, y\u001b[38;5;241m=\u001b[39m\u001b[38;5;28;01mNone\u001b[39;00m, \u001b[38;5;241m*\u001b[39m\u001b[38;5;241m*\u001b[39mparams):\n\u001b[1;32m    444\u001b[0m     \u001b[38;5;124;03m\"\"\"Fit the model from data in X and transform X.\u001b[39;00m\n\u001b[1;32m    445\u001b[0m \n\u001b[1;32m    446\u001b[0m \u001b[38;5;124;03m    Parameters\u001b[39;00m\n\u001b[0;32m   (...)\u001b[0m\n\u001b[1;32m    462\u001b[0m \u001b[38;5;124;03m        Returns the instance itself.\u001b[39;00m\n\u001b[1;32m    463\u001b[0m \u001b[38;5;124;03m    \"\"\"\u001b[39;00m\n\u001b[0;32m--> 464\u001b[0m     \u001b[38;5;28;43mself\u001b[39;49m\u001b[38;5;241;43m.\u001b[39;49m\u001b[43mfit\u001b[49m\u001b[43m(\u001b[49m\u001b[43mX\u001b[49m\u001b[43m,\u001b[49m\u001b[43m \u001b[49m\u001b[38;5;241;43m*\u001b[39;49m\u001b[38;5;241;43m*\u001b[39;49m\u001b[43mparams\u001b[49m\u001b[43m)\u001b[49m\n\u001b[1;32m    466\u001b[0m     \u001b[38;5;66;03m# no need to use the kernel to transform X, use shortcut expression\u001b[39;00m\n\u001b[1;32m    467\u001b[0m     X_transformed \u001b[38;5;241m=\u001b[39m \u001b[38;5;28mself\u001b[39m\u001b[38;5;241m.\u001b[39meigenvectors_ \u001b[38;5;241m*\u001b[39m np\u001b[38;5;241m.\u001b[39msqrt(\u001b[38;5;28mself\u001b[39m\u001b[38;5;241m.\u001b[39meigenvalues_)\n",
      "File \u001b[0;32m/opt/conda/lib/python3.9/site-packages/sklearn/decomposition/_kernel_pca.py:431\u001b[0m, in \u001b[0;36mKernelPCA.fit\u001b[0;34m(self, X, y)\u001b[0m\n\u001b[1;32m    429\u001b[0m X \u001b[38;5;241m=\u001b[39m \u001b[38;5;28mself\u001b[39m\u001b[38;5;241m.\u001b[39m_validate_data(X, accept_sparse\u001b[38;5;241m=\u001b[39m\u001b[38;5;124m\"\u001b[39m\u001b[38;5;124mcsr\u001b[39m\u001b[38;5;124m\"\u001b[39m, copy\u001b[38;5;241m=\u001b[39m\u001b[38;5;28mself\u001b[39m\u001b[38;5;241m.\u001b[39mcopy_X)\n\u001b[1;32m    430\u001b[0m \u001b[38;5;28mself\u001b[39m\u001b[38;5;241m.\u001b[39m_centerer \u001b[38;5;241m=\u001b[39m KernelCenterer()\n\u001b[0;32m--> 431\u001b[0m K \u001b[38;5;241m=\u001b[39m \u001b[38;5;28;43mself\u001b[39;49m\u001b[38;5;241;43m.\u001b[39;49m\u001b[43m_get_kernel\u001b[49m\u001b[43m(\u001b[49m\u001b[43mX\u001b[49m\u001b[43m)\u001b[49m\n\u001b[1;32m    432\u001b[0m \u001b[38;5;28mself\u001b[39m\u001b[38;5;241m.\u001b[39m_fit_transform(K)\n\u001b[1;32m    434\u001b[0m \u001b[38;5;28;01mif\u001b[39;00m \u001b[38;5;28mself\u001b[39m\u001b[38;5;241m.\u001b[39mfit_inverse_transform:\n\u001b[1;32m    435\u001b[0m     \u001b[38;5;66;03m# no need to use the kernel to transform X, use shortcut expression\u001b[39;00m\n",
      "File \u001b[0;32m/opt/conda/lib/python3.9/site-packages/sklearn/decomposition/_kernel_pca.py:310\u001b[0m, in \u001b[0;36mKernelPCA._get_kernel\u001b[0;34m(self, X, Y)\u001b[0m\n\u001b[1;32m    308\u001b[0m \u001b[38;5;28;01melse\u001b[39;00m:\n\u001b[1;32m    309\u001b[0m     params \u001b[38;5;241m=\u001b[39m {\u001b[38;5;124m\"\u001b[39m\u001b[38;5;124mgamma\u001b[39m\u001b[38;5;124m\"\u001b[39m: \u001b[38;5;28mself\u001b[39m\u001b[38;5;241m.\u001b[39mgamma, \u001b[38;5;124m\"\u001b[39m\u001b[38;5;124mdegree\u001b[39m\u001b[38;5;124m\"\u001b[39m: \u001b[38;5;28mself\u001b[39m\u001b[38;5;241m.\u001b[39mdegree, \u001b[38;5;124m\"\u001b[39m\u001b[38;5;124mcoef0\u001b[39m\u001b[38;5;124m\"\u001b[39m: \u001b[38;5;28mself\u001b[39m\u001b[38;5;241m.\u001b[39mcoef0}\n\u001b[0;32m--> 310\u001b[0m \u001b[38;5;28;01mreturn\u001b[39;00m \u001b[43mpairwise_kernels\u001b[49m\u001b[43m(\u001b[49m\n\u001b[1;32m    311\u001b[0m \u001b[43m    \u001b[49m\u001b[43mX\u001b[49m\u001b[43m,\u001b[49m\u001b[43m \u001b[49m\u001b[43mY\u001b[49m\u001b[43m,\u001b[49m\u001b[43m \u001b[49m\u001b[43mmetric\u001b[49m\u001b[38;5;241;43m=\u001b[39;49m\u001b[38;5;28;43mself\u001b[39;49m\u001b[38;5;241;43m.\u001b[39;49m\u001b[43mkernel\u001b[49m\u001b[43m,\u001b[49m\u001b[43m \u001b[49m\u001b[43mfilter_params\u001b[49m\u001b[38;5;241;43m=\u001b[39;49m\u001b[38;5;28;43;01mTrue\u001b[39;49;00m\u001b[43m,\u001b[49m\u001b[43m \u001b[49m\u001b[43mn_jobs\u001b[49m\u001b[38;5;241;43m=\u001b[39;49m\u001b[38;5;28;43mself\u001b[39;49m\u001b[38;5;241;43m.\u001b[39;49m\u001b[43mn_jobs\u001b[49m\u001b[43m,\u001b[49m\u001b[43m \u001b[49m\u001b[38;5;241;43m*\u001b[39;49m\u001b[38;5;241;43m*\u001b[39;49m\u001b[43mparams\u001b[49m\n\u001b[1;32m    312\u001b[0m \u001b[43m\u001b[49m\u001b[43m)\u001b[49m\n",
      "File \u001b[0;32m/opt/conda/lib/python3.9/site-packages/sklearn/metrics/pairwise.py:2053\u001b[0m, in \u001b[0;36mpairwise_kernels\u001b[0;34m(X, Y, metric, filter_params, n_jobs, **kwds)\u001b[0m\n\u001b[1;32m   2050\u001b[0m \u001b[38;5;28;01melse\u001b[39;00m:\n\u001b[1;32m   2051\u001b[0m     \u001b[38;5;28;01mraise\u001b[39;00m \u001b[38;5;167;01mValueError\u001b[39;00m(\u001b[38;5;124m\"\u001b[39m\u001b[38;5;124mUnknown kernel \u001b[39m\u001b[38;5;132;01m%r\u001b[39;00m\u001b[38;5;124m\"\u001b[39m \u001b[38;5;241m%\u001b[39m metric)\n\u001b[0;32m-> 2053\u001b[0m \u001b[38;5;28;01mreturn\u001b[39;00m \u001b[43m_parallel_pairwise\u001b[49m\u001b[43m(\u001b[49m\u001b[43mX\u001b[49m\u001b[43m,\u001b[49m\u001b[43m \u001b[49m\u001b[43mY\u001b[49m\u001b[43m,\u001b[49m\u001b[43m \u001b[49m\u001b[43mfunc\u001b[49m\u001b[43m,\u001b[49m\u001b[43m \u001b[49m\u001b[43mn_jobs\u001b[49m\u001b[43m,\u001b[49m\u001b[43m \u001b[49m\u001b[38;5;241;43m*\u001b[39;49m\u001b[38;5;241;43m*\u001b[39;49m\u001b[43mkwds\u001b[49m\u001b[43m)\u001b[49m\n",
      "File \u001b[0;32m/opt/conda/lib/python3.9/site-packages/sklearn/metrics/pairwise.py:1430\u001b[0m, in \u001b[0;36m_parallel_pairwise\u001b[0;34m(X, Y, func, n_jobs, **kwds)\u001b[0m\n\u001b[1;32m   1427\u001b[0m X, Y, dtype \u001b[38;5;241m=\u001b[39m _return_float_dtype(X, Y)\n\u001b[1;32m   1429\u001b[0m \u001b[38;5;28;01mif\u001b[39;00m effective_n_jobs(n_jobs) \u001b[38;5;241m==\u001b[39m \u001b[38;5;241m1\u001b[39m:\n\u001b[0;32m-> 1430\u001b[0m     \u001b[38;5;28;01mreturn\u001b[39;00m \u001b[43mfunc\u001b[49m\u001b[43m(\u001b[49m\u001b[43mX\u001b[49m\u001b[43m,\u001b[49m\u001b[43m \u001b[49m\u001b[43mY\u001b[49m\u001b[43m,\u001b[49m\u001b[43m \u001b[49m\u001b[38;5;241;43m*\u001b[39;49m\u001b[38;5;241;43m*\u001b[39;49m\u001b[43mkwds\u001b[49m\u001b[43m)\u001b[49m\n\u001b[1;32m   1432\u001b[0m \u001b[38;5;66;03m# enforce a threading backend to prevent data communication overhead\u001b[39;00m\n\u001b[1;32m   1433\u001b[0m fd \u001b[38;5;241m=\u001b[39m delayed(_dist_wrapper)\n",
      "File \u001b[0;32m/opt/conda/lib/python3.9/site-packages/sklearn/metrics/pairwise.py:1105\u001b[0m, in \u001b[0;36mpolynomial_kernel\u001b[0;34m(X, Y, degree, gamma, coef0)\u001b[0m\n\u001b[1;32m   1102\u001b[0m \u001b[38;5;28;01mif\u001b[39;00m gamma \u001b[38;5;129;01mis\u001b[39;00m \u001b[38;5;28;01mNone\u001b[39;00m:\n\u001b[1;32m   1103\u001b[0m     gamma \u001b[38;5;241m=\u001b[39m \u001b[38;5;241m1.0\u001b[39m \u001b[38;5;241m/\u001b[39m X\u001b[38;5;241m.\u001b[39mshape[\u001b[38;5;241m1\u001b[39m]\n\u001b[0;32m-> 1105\u001b[0m K \u001b[38;5;241m=\u001b[39m \u001b[43msafe_sparse_dot\u001b[49m\u001b[43m(\u001b[49m\u001b[43mX\u001b[49m\u001b[43m,\u001b[49m\u001b[43m \u001b[49m\u001b[43mY\u001b[49m\u001b[38;5;241;43m.\u001b[39;49m\u001b[43mT\u001b[49m\u001b[43m,\u001b[49m\u001b[43m \u001b[49m\u001b[43mdense_output\u001b[49m\u001b[38;5;241;43m=\u001b[39;49m\u001b[38;5;28;43;01mTrue\u001b[39;49;00m\u001b[43m)\u001b[49m\n\u001b[1;32m   1106\u001b[0m K \u001b[38;5;241m*\u001b[39m\u001b[38;5;241m=\u001b[39m gamma\n\u001b[1;32m   1107\u001b[0m K \u001b[38;5;241m+\u001b[39m\u001b[38;5;241m=\u001b[39m coef0\n",
      "File \u001b[0;32m/opt/conda/lib/python3.9/site-packages/sklearn/utils/extmath.py:153\u001b[0m, in \u001b[0;36msafe_sparse_dot\u001b[0;34m(a, b, dense_output)\u001b[0m\n\u001b[1;32m    151\u001b[0m         ret \u001b[38;5;241m=\u001b[39m np\u001b[38;5;241m.\u001b[39mdot(a, b)\n\u001b[1;32m    152\u001b[0m \u001b[38;5;28;01melse\u001b[39;00m:\n\u001b[0;32m--> 153\u001b[0m     ret \u001b[38;5;241m=\u001b[39m \u001b[43ma\u001b[49m\u001b[43m \u001b[49m\u001b[38;5;241;43m@\u001b[39;49m\u001b[43m \u001b[49m\u001b[43mb\u001b[49m\n\u001b[1;32m    155\u001b[0m \u001b[38;5;28;01mif\u001b[39;00m (\n\u001b[1;32m    156\u001b[0m     sparse\u001b[38;5;241m.\u001b[39missparse(a)\n\u001b[1;32m    157\u001b[0m     \u001b[38;5;129;01mand\u001b[39;00m sparse\u001b[38;5;241m.\u001b[39missparse(b)\n\u001b[1;32m    158\u001b[0m     \u001b[38;5;129;01mand\u001b[39;00m dense_output\n\u001b[1;32m    159\u001b[0m     \u001b[38;5;129;01mand\u001b[39;00m \u001b[38;5;28mhasattr\u001b[39m(ret, \u001b[38;5;124m\"\u001b[39m\u001b[38;5;124mtoarray\u001b[39m\u001b[38;5;124m\"\u001b[39m)\n\u001b[1;32m    160\u001b[0m ):\n\u001b[1;32m    161\u001b[0m     \u001b[38;5;28;01mreturn\u001b[39;00m ret\u001b[38;5;241m.\u001b[39mtoarray()\n",
      "\u001b[0;31mMemoryError\u001b[0m: Unable to allocate 248. GiB for an array with shape (182367, 182367) and data type float64"
     ]
    }
   ],
   "source": [
    "pca = KernelPCA(n_components=2,kernel='poly',random_state=3220,gamma=1,degree=50,coef0=100000)\n",
    "XPCA = pca.fit_transform(DF_toml.iloc[:,:-1])\n",
    "PLT.scatter(XPCA[:,0],range(0,len(XPCA)),c=DF_toml.iloc[:,-1])"
   ]
  },
  {
   "cell_type": "markdown",
   "id": "450a744a",
   "metadata": {},
   "source": [
    " # <font color=\"Green\">modeling  :</font>"
   ]
  },
  {
   "cell_type": "code",
   "execution_count": null,
   "id": "eb0c18ed",
   "metadata": {},
   "outputs": [],
   "source": [
    "ZX = pd.concat([pd.DataFrame(XPCA),DF_toml.iloc[:,-1]],axis=1)\n",
    "\n",
    "X_train,X_test,Y_train,Y_test = train_test_split(ZX.iloc[:,:-1],ZX.iloc[:,-1],random_state=3020)\n",
    "\n",
    "svm_classifier = SVC(C=1,kernel='rbf')\n",
    "svm_classifier.fit(X_train,Y_train)\n",
    "predicted = svm_classifier.predict(X_test)\n",
    "\n",
    "print(metrics.classification_report(Y_test,predicted))\n",
    "print(metrics.confusion_matrix(Y_test,predicted))"
   ]
  },
  {
   "cell_type": "code",
   "execution_count": null,
   "id": "fc760824",
   "metadata": {},
   "outputs": [],
   "source": [
    "X_train,X_test,Y_train,Y_test = train_test_split(DF_toml.iloc[:,:-1],DF_toml.iloc[:,-1],random_state=3020)\n",
    "\n",
    "svm_classifier = SVC(C=1,kernel='rbf')\n",
    "svm_classifier.fit(X_train,Y_train)\n",
    "predicted = svm_classifier.predict(X_test)\n",
    "\n",
    "print(metrics.classification_report(Y_test,predicted))\n",
    "print(metrics.confusion_matrix(Y_test,predicted))"
   ]
  },
  {
   "cell_type": "code",
   "execution_count": null,
   "id": "cab2bb19",
   "metadata": {},
   "outputs": [],
   "source": []
  },
  {
   "cell_type": "code",
   "execution_count": null,
   "id": "6bd3c330",
   "metadata": {},
   "outputs": [],
   "source": []
  },
  {
   "cell_type": "code",
   "execution_count": null,
   "id": "7672362d",
   "metadata": {},
   "outputs": [],
   "source": []
  },
  {
   "cell_type": "code",
   "execution_count": null,
   "id": "64684f5a",
   "metadata": {},
   "outputs": [],
   "source": []
  },
  {
   "cell_type": "code",
   "execution_count": null,
   "id": "73738edd",
   "metadata": {},
   "outputs": [],
   "source": []
  },
  {
   "cell_type": "code",
   "execution_count": null,
   "id": "c37d6a12",
   "metadata": {},
   "outputs": [],
   "source": []
  },
  {
   "cell_type": "code",
   "execution_count": null,
   "id": "9c3ef2fb",
   "metadata": {},
   "outputs": [],
   "source": []
  },
  {
   "cell_type": "code",
   "execution_count": null,
   "id": "0be6933b",
   "metadata": {},
   "outputs": [],
   "source": []
  },
  {
   "cell_type": "code",
   "execution_count": null,
   "id": "eae0d2ec",
   "metadata": {},
   "outputs": [],
   "source": []
  },
  {
   "cell_type": "code",
   "execution_count": null,
   "id": "f82e5ce5",
   "metadata": {},
   "outputs": [],
   "source": []
  },
  {
   "cell_type": "code",
   "execution_count": null,
   "id": "706a6d4f",
   "metadata": {},
   "outputs": [],
   "source": []
  }
 ],
 "metadata": {
  "kernelspec": {
   "display_name": "Python 3 (ipykernel)",
   "language": "python",
   "name": "python3"
  },
  "language_info": {
   "codemirror_mode": {
    "name": "ipython",
    "version": 3
   },
   "file_extension": ".py",
   "mimetype": "text/x-python",
   "name": "python",
   "nbconvert_exporter": "python",
   "pygments_lexer": "ipython3",
   "version": "3.9.12"
  }
 },
 "nbformat": 4,
 "nbformat_minor": 5
}
