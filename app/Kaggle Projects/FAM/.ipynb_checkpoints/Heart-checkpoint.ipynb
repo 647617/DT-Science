{
 "cells": [
  {
   "cell_type": "markdown",
   "id": "afdf033c",
   "metadata": {},
   "source": [
    "# Imbalance Data"
   ]
  },
  {
   "cell_type": "code",
   "execution_count": 1,
   "id": "d0e4e8a8",
   "metadata": {},
   "outputs": [
    {
     "name": "stderr",
     "output_type": "stream",
     "text": [
      "/opt/conda/lib/python3.9/site-packages/xgboost/compat.py:36: FutureWarning: pandas.Int64Index is deprecated and will be removed from pandas in a future version. Use pandas.Index with the appropriate dtype instead.\n",
      "  from pandas import MultiIndex, Int64Index\n"
     ]
    }
   ],
   "source": [
    "import pandas as pd\n",
    "import numpy  as np\n",
    "import seaborn as SB\n",
    "import matplotlib.pyplot as PLT\n",
    "import scipy.stats as STATS\n",
    "from sklearn.model_selection import train_test_split\n",
    "from sklearn.preprocessing import StandardScaler\n",
    "from sklearn.preprocessing import MinMaxScaler\n",
    "from sklearn import metrics\n",
    "from sklearn.preprocessing import Normalizer\n",
    "from sklearn.preprocessing import LabelEncoder\n",
    "from sklearn.compose import ColumnTransformer\n",
    "from sklearn.preprocessing import OneHotEncoder\n",
    "from sklearn.ensemble import GradientBoostingRegressor\n",
    "from sklearn.metrics import mean_absolute_error,r2_score\n",
    "from sklearn import metrics\n",
    "import random\n",
    "from sklearn.svm import SVC\n",
    "from catboost import CatBoostClassifier\n"
   ]
  },
  {
   "cell_type": "code",
   "execution_count": 2,
   "id": "607101a5",
   "metadata": {},
   "outputs": [],
   "source": [
    "n = 10000\n",
    "skip = sorted(random.sample(range(1,319795),319795-n))\n",
    "DF = pd.read_csv('../../datasets/heart_2020_cleaned.csv',skiprows=skip).reset_index().rename(columns={'index':'id'})"
   ]
  },
  {
   "cell_type": "code",
   "execution_count": 3,
   "id": "fec2473d",
   "metadata": {},
   "outputs": [],
   "source": [
    "CatCols = [\n",
    "    'Smoking','AlcoholDrinking','Stroke','DiffWalking','Sex','AgeCategory','Race','Diabetic',\n",
    "    'PhysicalActivity','GenHealth','Asthma','KidneyDisease','SkinCancer'\n",
    "]\n",
    "NumCols = [\n",
    "    'BMI', 'PhysicalHealth', 'MentalHealth', 'SleepTime'\n",
    "]\n",
    "\n",
    "X = DF[DF.columns.difference(['id','HeartDisease'])]\n",
    "Y = DF['HeartDisease']"
   ]
  },
  {
   "cell_type": "code",
   "execution_count": 4,
   "id": "df122b59",
   "metadata": {},
   "outputs": [
    {
     "data": {
      "text/html": [
       "<div>\n",
       "<style scoped>\n",
       "    .dataframe tbody tr th:only-of-type {\n",
       "        vertical-align: middle;\n",
       "    }\n",
       "\n",
       "    .dataframe tbody tr th {\n",
       "        vertical-align: top;\n",
       "    }\n",
       "\n",
       "    .dataframe thead th {\n",
       "        text-align: right;\n",
       "    }\n",
       "</style>\n",
       "<table border=\"1\" class=\"dataframe\">\n",
       "  <thead>\n",
       "    <tr style=\"text-align: right;\">\n",
       "      <th></th>\n",
       "      <th>AgeCategory</th>\n",
       "      <th>AlcoholDrinking</th>\n",
       "      <th>Asthma</th>\n",
       "      <th>BMI</th>\n",
       "      <th>Diabetic</th>\n",
       "      <th>DiffWalking</th>\n",
       "      <th>GenHealth</th>\n",
       "      <th>KidneyDisease</th>\n",
       "      <th>MentalHealth</th>\n",
       "      <th>PhysicalActivity</th>\n",
       "      <th>PhysicalHealth</th>\n",
       "      <th>Race</th>\n",
       "      <th>Sex</th>\n",
       "      <th>SkinCancer</th>\n",
       "      <th>SleepTime</th>\n",
       "      <th>Smoking</th>\n",
       "      <th>Stroke</th>\n",
       "    </tr>\n",
       "  </thead>\n",
       "  <tbody>\n",
       "    <tr>\n",
       "      <th>0</th>\n",
       "      <td>80 or older</td>\n",
       "      <td>No</td>\n",
       "      <td>No</td>\n",
       "      <td>25.82</td>\n",
       "      <td>Yes</td>\n",
       "      <td>No</td>\n",
       "      <td>Fair</td>\n",
       "      <td>No</td>\n",
       "      <td>30.0</td>\n",
       "      <td>Yes</td>\n",
       "      <td>0.0</td>\n",
       "      <td>White</td>\n",
       "      <td>Male</td>\n",
       "      <td>No</td>\n",
       "      <td>8.0</td>\n",
       "      <td>Yes</td>\n",
       "      <td>No</td>\n",
       "    </tr>\n",
       "    <tr>\n",
       "      <th>1</th>\n",
       "      <td>60-64</td>\n",
       "      <td>No</td>\n",
       "      <td>Yes</td>\n",
       "      <td>29.18</td>\n",
       "      <td>No</td>\n",
       "      <td>Yes</td>\n",
       "      <td>Poor</td>\n",
       "      <td>No</td>\n",
       "      <td>30.0</td>\n",
       "      <td>No</td>\n",
       "      <td>30.0</td>\n",
       "      <td>White</td>\n",
       "      <td>Female</td>\n",
       "      <td>No</td>\n",
       "      <td>6.0</td>\n",
       "      <td>Yes</td>\n",
       "      <td>No</td>\n",
       "    </tr>\n",
       "    <tr>\n",
       "      <th>2</th>\n",
       "      <td>60-64</td>\n",
       "      <td>Yes</td>\n",
       "      <td>No</td>\n",
       "      <td>24.02</td>\n",
       "      <td>No</td>\n",
       "      <td>No</td>\n",
       "      <td>Excellent</td>\n",
       "      <td>No</td>\n",
       "      <td>0.0</td>\n",
       "      <td>Yes</td>\n",
       "      <td>7.0</td>\n",
       "      <td>White</td>\n",
       "      <td>Female</td>\n",
       "      <td>No</td>\n",
       "      <td>6.0</td>\n",
       "      <td>No</td>\n",
       "      <td>No</td>\n",
       "    </tr>\n",
       "    <tr>\n",
       "      <th>3</th>\n",
       "      <td>80 or older</td>\n",
       "      <td>No</td>\n",
       "      <td>Yes</td>\n",
       "      <td>25.54</td>\n",
       "      <td>No</td>\n",
       "      <td>No</td>\n",
       "      <td>Fair</td>\n",
       "      <td>No</td>\n",
       "      <td>0.0</td>\n",
       "      <td>No</td>\n",
       "      <td>0.0</td>\n",
       "      <td>American Indian/Alaskan Native</td>\n",
       "      <td>Male</td>\n",
       "      <td>No</td>\n",
       "      <td>6.0</td>\n",
       "      <td>Yes</td>\n",
       "      <td>Yes</td>\n",
       "    </tr>\n",
       "    <tr>\n",
       "      <th>4</th>\n",
       "      <td>55-59</td>\n",
       "      <td>No</td>\n",
       "      <td>No</td>\n",
       "      <td>24.37</td>\n",
       "      <td>No</td>\n",
       "      <td>No</td>\n",
       "      <td>Excellent</td>\n",
       "      <td>No</td>\n",
       "      <td>0.0</td>\n",
       "      <td>Yes</td>\n",
       "      <td>0.0</td>\n",
       "      <td>White</td>\n",
       "      <td>Female</td>\n",
       "      <td>No</td>\n",
       "      <td>6.0</td>\n",
       "      <td>Yes</td>\n",
       "      <td>No</td>\n",
       "    </tr>\n",
       "  </tbody>\n",
       "</table>\n",
       "</div>"
      ],
      "text/plain": [
       "   AgeCategory AlcoholDrinking Asthma    BMI Diabetic DiffWalking  GenHealth  \\\n",
       "0  80 or older              No     No  25.82      Yes          No       Fair   \n",
       "1        60-64              No    Yes  29.18       No         Yes       Poor   \n",
       "2        60-64             Yes     No  24.02       No          No  Excellent   \n",
       "3  80 or older              No    Yes  25.54       No          No       Fair   \n",
       "4        55-59              No     No  24.37       No          No  Excellent   \n",
       "\n",
       "  KidneyDisease  MentalHealth PhysicalActivity  PhysicalHealth  \\\n",
       "0            No          30.0              Yes             0.0   \n",
       "1            No          30.0               No            30.0   \n",
       "2            No           0.0              Yes             7.0   \n",
       "3            No           0.0               No             0.0   \n",
       "4            No           0.0              Yes             0.0   \n",
       "\n",
       "                             Race     Sex SkinCancer  SleepTime Smoking Stroke  \n",
       "0                           White    Male         No        8.0     Yes     No  \n",
       "1                           White  Female         No        6.0     Yes     No  \n",
       "2                           White  Female         No        6.0      No     No  \n",
       "3  American Indian/Alaskan Native    Male         No        6.0     Yes    Yes  \n",
       "4                           White  Female         No        6.0     Yes     No  "
      ]
     },
     "execution_count": 4,
     "metadata": {},
     "output_type": "execute_result"
    }
   ],
   "source": [
    "X.head()"
   ]
  },
  {
   "cell_type": "markdown",
   "id": "c86a7d43",
   "metadata": {},
   "source": [
    "# <font color=\"Brown\">BMI :</font>"
   ]
  },
  {
   "cell_type": "code",
   "execution_count": 5,
   "id": "6c8dede4",
   "metadata": {},
   "outputs": [
    {
     "data": {
      "text/plain": [
       "count    10000.000000\n",
       "mean        28.324109\n",
       "std          6.319126\n",
       "min         13.120000\n",
       "25%         24.130000\n",
       "50%         27.320000\n",
       "75%         31.442500\n",
       "max         73.390000\n",
       "Name: BMI, dtype: float64"
      ]
     },
     "execution_count": 5,
     "metadata": {},
     "output_type": "execute_result"
    }
   ],
   "source": [
    "X['BMI'].describe() "
   ]
  },
  {
   "cell_type": "code",
   "execution_count": 6,
   "id": "9350cd96",
   "metadata": {},
   "outputs": [],
   "source": [
    "# normal range 10 ~ 50"
   ]
  },
  {
   "cell_type": "code",
   "execution_count": 7,
   "id": "1bbcee7e",
   "metadata": {
    "scrolled": true
   },
   "outputs": [
    {
     "data": {
      "text/html": [
       "<div>\n",
       "<style scoped>\n",
       "    .dataframe tbody tr th:only-of-type {\n",
       "        vertical-align: middle;\n",
       "    }\n",
       "\n",
       "    .dataframe tbody tr th {\n",
       "        vertical-align: top;\n",
       "    }\n",
       "\n",
       "    .dataframe thead th {\n",
       "        text-align: right;\n",
       "    }\n",
       "</style>\n",
       "<table border=\"1\" class=\"dataframe\">\n",
       "  <thead>\n",
       "    <tr style=\"text-align: right;\">\n",
       "      <th></th>\n",
       "      <th>count</th>\n",
       "      <th>mean</th>\n",
       "      <th>std</th>\n",
       "      <th>min</th>\n",
       "      <th>25%</th>\n",
       "      <th>50%</th>\n",
       "      <th>75%</th>\n",
       "      <th>max</th>\n",
       "    </tr>\n",
       "    <tr>\n",
       "      <th>Sex</th>\n",
       "      <th></th>\n",
       "      <th></th>\n",
       "      <th></th>\n",
       "      <th></th>\n",
       "      <th></th>\n",
       "      <th></th>\n",
       "      <th></th>\n",
       "      <th></th>\n",
       "    </tr>\n",
       "  </thead>\n",
       "  <tbody>\n",
       "    <tr>\n",
       "      <th>Female</th>\n",
       "      <td>5217.0</td>\n",
       "      <td>27.908353</td>\n",
       "      <td>6.287468</td>\n",
       "      <td>14.53</td>\n",
       "      <td>23.38</td>\n",
       "      <td>26.76</td>\n",
       "      <td>31.32</td>\n",
       "      <td>49.93</td>\n",
       "    </tr>\n",
       "    <tr>\n",
       "      <th>Male</th>\n",
       "      <td>4705.0</td>\n",
       "      <td>28.329012</td>\n",
       "      <td>5.268323</td>\n",
       "      <td>13.12</td>\n",
       "      <td>24.65</td>\n",
       "      <td>27.44</td>\n",
       "      <td>31.27</td>\n",
       "      <td>49.51</td>\n",
       "    </tr>\n",
       "  </tbody>\n",
       "</table>\n",
       "</div>"
      ],
      "text/plain": [
       "         count       mean       std    min    25%    50%    75%    max\n",
       "Sex                                                                   \n",
       "Female  5217.0  27.908353  6.287468  14.53  23.38  26.76  31.32  49.93\n",
       "Male    4705.0  28.329012  5.268323  13.12  24.65  27.44  31.27  49.51"
      ]
     },
     "execution_count": 7,
     "metadata": {},
     "output_type": "execute_result"
    }
   ],
   "source": [
    "X[X['BMI']<=50].groupby(['Sex'])['BMI'].describe()"
   ]
  },
  {
   "cell_type": "code",
   "execution_count": 8,
   "id": "3693f967",
   "metadata": {},
   "outputs": [
    {
     "data": {
      "image/png": "[encoded data removed]",
      "text/plain": [
       "<Figure size 432x288 with 1 Axes>"
      ]
     },
     "metadata": {
      "needs_background": "light"
     },
     "output_type": "display_data"
    }
   ],
   "source": [
    "BMI_Normal_Range = X[X['BMI']<=50]\n",
    "BMI_Normal_Range.groupby(['Sex'])['BMI'].hist()\n",
    "PLT.show()"
   ]
  },
  {
   "cell_type": "code",
   "execution_count": 9,
   "id": "98eac83f",
   "metadata": {},
   "outputs": [
    {
     "data": {
      "image/png": "[encoded data removed]",
      "text/plain": [
       "<Figure size 432x288 with 1 Axes>"
      ]
     },
     "metadata": {
      "needs_background": "light"
     },
     "output_type": "display_data"
    }
   ],
   "source": [
    "BMI_Out_Of_Range = X[X['BMI']>50]\n",
    "BMI_Out_Of_Range.groupby(['Sex'])['BMI'].hist()\n",
    "PLT.show()"
   ]
  },
  {
   "cell_type": "code",
   "execution_count": 10,
   "id": "e1c52e0d",
   "metadata": {},
   "outputs": [],
   "source": [
    "# Drop rows with out of rage BMI\n",
    "# X = X.drop(BMI_Out_Of_Range.index,errors='ignore')"
   ]
  },
  {
   "cell_type": "code",
   "execution_count": 11,
   "id": "ee0e0b88",
   "metadata": {},
   "outputs": [
    {
     "data": {
      "text/plain": [
       "<matplotlib.legend.Legend at 0x7f5f0dfe1d30>"
      ]
     },
     "execution_count": 11,
     "metadata": {},
     "output_type": "execute_result"
    },
    {
     "data": {
      "image/png": "[encoded data removed]",
      "text/plain": [
       "<Figure size 720x360 with 1 Axes>"
      ]
     },
     "metadata": {
      "needs_background": "light"
     },
     "output_type": "display_data"
    }
   ],
   "source": [
    "PLT.figure(figsize=(10,5))\n",
    "SB.boxplot(x=X['Sex'],y=X['BMI'], hue=X['PhysicalActivity']).legend(loc='upper right')"
   ]
  },
  {
   "cell_type": "markdown",
   "id": "4c89b9f3",
   "metadata": {},
   "source": [
    "# <font color=\"Brown\">AlcoholDrinking :</font>"
   ]
  },
  {
   "cell_type": "code",
   "execution_count": 12,
   "id": "454925f8",
   "metadata": {},
   "outputs": [
    {
     "data": {
      "text/plain": [
       "count     10000\n",
       "unique        2\n",
       "top          No\n",
       "freq       9336\n",
       "Name: AlcoholDrinking, dtype: object"
      ]
     },
     "execution_count": 12,
     "metadata": {},
     "output_type": "execute_result"
    }
   ],
   "source": [
    "X['AlcoholDrinking'].describe()"
   ]
  },
  {
   "cell_type": "code",
   "execution_count": 13,
   "id": "1f0c6ae2",
   "metadata": {},
   "outputs": [
    {
     "data": {
      "text/plain": [
       "No     9336\n",
       "Yes     664\n",
       "Name: AlcoholDrinking, dtype: int64"
      ]
     },
     "execution_count": 13,
     "metadata": {},
     "output_type": "execute_result"
    }
   ],
   "source": [
    "X['AlcoholDrinking'].value_counts()"
   ]
  },
  {
   "cell_type": "markdown",
   "id": "a1cfd872",
   "metadata": {},
   "source": [
    "# <font color=\"Brown\">AgeCategory :</font>"
   ]
  },
  {
   "cell_type": "code",
   "execution_count": 14,
   "id": "a7d18962",
   "metadata": {},
   "outputs": [
    {
     "data": {
      "text/plain": [
       "count     10000\n",
       "unique       13\n",
       "top       60-64\n",
       "freq       1094\n",
       "Name: AgeCategory, dtype: object"
      ]
     },
     "execution_count": 14,
     "metadata": {},
     "output_type": "execute_result"
    }
   ],
   "source": [
    "X['AgeCategory'].describe()"
   ]
  },
  {
   "cell_type": "code",
   "execution_count": 15,
   "id": "c86075eb",
   "metadata": {},
   "outputs": [
    {
     "data": {
      "text/plain": [
       "60-64          1094\n",
       "65-69          1082\n",
       "70-74          1048\n",
       "55-59           935\n",
       "50-54           756\n",
       "80 or older     752\n",
       "45-49           709\n",
       "75-79           657\n",
       "35-39           652\n",
       "40-44           634\n",
       "18-24           618\n",
       "30-34           569\n",
       "25-29           494\n",
       "Name: AgeCategory, dtype: int64"
      ]
     },
     "execution_count": 15,
     "metadata": {},
     "output_type": "execute_result"
    }
   ],
   "source": [
    "X['AgeCategory'].value_counts()"
   ]
  },
  {
   "cell_type": "code",
   "execution_count": 16,
   "id": "a879a7f4",
   "metadata": {},
   "outputs": [],
   "source": [
    "_1 = X[X['AgeCategory']!='80 or older']['AgeCategory'].str.split('-').apply(\n",
    "    lambda x : (int(x[0])+int(x[1]))/2\n",
    ")\n",
    "_2 = X[X['AgeCategory']=='80 or older']['AgeCategory'].str.split(' or ').apply(\n",
    "    lambda x : 80\n",
    ")\n",
    "X.loc[_1.index,'AgeCategory'] = _1\n",
    "X.loc[_2.index,'AgeCategory'] = _2\n",
    "del _1,_2"
   ]
  },
  {
   "cell_type": "code",
   "execution_count": 17,
   "id": "2a7cacd3",
   "metadata": {},
   "outputs": [
    {
     "name": "stderr",
     "output_type": "stream",
     "text": [
      "/tmp/ipykernel_2610/1643673884.py:1: SettingWithCopyWarning: \n",
      "A value is trying to be set on a copy of a slice from a DataFrame.\n",
      "Try using .loc[row_indexer,col_indexer] = value instead\n",
      "\n",
      "See the caveats in the documentation: https://pandas.pydata.org/pandas-docs/stable/user_guide/indexing.html#returning-a-view-versus-a-copy\n",
      "  X['AgeCategory'] = X['AgeCategory'].astype(np.int64)\n"
     ]
    }
   ],
   "source": [
    "X['AgeCategory'] = X['AgeCategory'].astype(np.int64) "
   ]
  },
  {
   "cell_type": "code",
   "execution_count": 18,
   "id": "bf30761f",
   "metadata": {},
   "outputs": [
    {
     "data": {
      "text/plain": [
       "count    10000.000000\n",
       "mean        54.773300\n",
       "std         17.541627\n",
       "min         21.000000\n",
       "25%         42.000000\n",
       "50%         57.000000\n",
       "75%         67.000000\n",
       "max         80.000000\n",
       "Name: AgeCategory, dtype: float64"
      ]
     },
     "execution_count": 18,
     "metadata": {},
     "output_type": "execute_result"
    }
   ],
   "source": [
    "X['AgeCategory'].describe()"
   ]
  },
  {
   "cell_type": "code",
   "execution_count": 19,
   "id": "65c967e3",
   "metadata": {
    "scrolled": true
   },
   "outputs": [
    {
     "data": {
      "text/plain": [
       "<AxesSubplot:>"
      ]
     },
     "execution_count": 19,
     "metadata": {},
     "output_type": "execute_result"
    },
    {
     "data": {
      "image/png": "[encoded data removed]",
      "text/plain": [
       "<Figure size 432x288 with 1 Axes>"
      ]
     },
     "metadata": {
      "needs_background": "light"
     },
     "output_type": "display_data"
    }
   ],
   "source": [
    "X['AgeCategory'].hist()"
   ]
  },
  {
   "cell_type": "code",
   "execution_count": 20,
   "id": "e1c356df",
   "metadata": {},
   "outputs": [
    {
     "data": {
      "image/png": "[encoded data removed]",
      "text/plain": [
       "<Figure size 432x288 with 1 Axes>"
      ]
     },
     "metadata": {
      "needs_background": "light"
     },
     "output_type": "display_data"
    }
   ],
   "source": [
    "X.groupby(['Sex'])['AgeCategory'].hist()\n",
    "PLT.show()"
   ]
  },
  {
   "cell_type": "code",
   "execution_count": 21,
   "id": "be5ca5f3",
   "metadata": {
    "scrolled": true
   },
   "outputs": [
    {
     "data": {
      "text/plain": [
       "<matplotlib.legend.Legend at 0x7f5f0effcfd0>"
      ]
     },
     "execution_count": 21,
     "metadata": {},
     "output_type": "execute_result"
    },
    {
     "data": {
      "image/png": "[encoded data removed]",
      "text/plain": [
       "<Figure size 720x360 with 1 Axes>"
      ]
     },
     "metadata": {
      "needs_background": "light"
     },
     "output_type": "display_data"
    }
   ],
   "source": [
    "PLT.figure(figsize=(10,5))\n",
    "SB.boxplot(x=X['Sex'],y=X['AgeCategory'], hue=X['Asthma']).legend(loc='upper right')"
   ]
  },
  {
   "cell_type": "code",
   "execution_count": 22,
   "id": "7ce2ae17",
   "metadata": {},
   "outputs": [
    {
     "data": {
      "text/plain": [
       "<matplotlib.legend.Legend at 0x7f5f0f003a30>"
      ]
     },
     "execution_count": 22,
     "metadata": {},
     "output_type": "execute_result"
    },
    {
     "data": {
      "image/png": "[encoded data removed]",
      "text/plain": [
       "<Figure size 720x360 with 1 Axes>"
      ]
     },
     "metadata": {
      "needs_background": "light"
     },
     "output_type": "display_data"
    }
   ],
   "source": [
    "PLT.figure(figsize=(10,5))\n",
    "SB.boxplot(x=X['Sex'],y=X['AgeCategory'], hue=X['Smoking']).legend(loc='upper right')"
   ]
  },
  {
   "cell_type": "code",
   "execution_count": 23,
   "id": "5abaa4f8",
   "metadata": {
    "scrolled": true
   },
   "outputs": [
    {
     "data": {
      "text/plain": [
       "<matplotlib.legend.Legend at 0x7f5f0db1d490>"
      ]
     },
     "execution_count": 23,
     "metadata": {},
     "output_type": "execute_result"
    },
    {
     "data": {
      "image/png": "[encoded data removed]",
      "text/plain": [
       "<Figure size 720x360 with 1 Axes>"
      ]
     },
     "metadata": {
      "needs_background": "light"
     },
     "output_type": "display_data"
    }
   ],
   "source": [
    "PLT.figure(figsize=(10,5))\n",
    "SB.boxplot(x=X['Sex'],y=X['AgeCategory'], hue=X['Stroke']).legend(loc='upper right')"
   ]
  },
  {
   "cell_type": "code",
   "execution_count": 24,
   "id": "9e644bff",
   "metadata": {},
   "outputs": [
    {
     "data": {
      "text/plain": [
       "<matplotlib.legend.Legend at 0x7f5f0db1d4c0>"
      ]
     },
     "execution_count": 24,
     "metadata": {},
     "output_type": "execute_result"
    },
    {
     "data": {
      "image/png": "[encoded data removed]",
      "text/plain": [
       "<Figure size 720x360 with 1 Axes>"
      ]
     },
     "metadata": {
      "needs_background": "light"
     },
     "output_type": "display_data"
    }
   ],
   "source": [
    "PLT.figure(figsize=(10,5))\n",
    "SB.boxplot(x=X['Sex'],y=X['AgeCategory'], hue=X['KidneyDisease']).legend(loc='upper right')"
   ]
  },
  {
   "cell_type": "code",
   "execution_count": 25,
   "id": "cf99c190",
   "metadata": {},
   "outputs": [],
   "source": [
    "CatCols = [\n",
    "    'Smoking','AlcoholDrinking','Stroke','DiffWalking','Sex','Race','Diabetic',\n",
    "    'PhysicalActivity','GenHealth','Asthma','KidneyDisease','SkinCancer'\n",
    "]\n",
    "NumCols = [\n",
    "    'BMI', 'PhysicalHealth', 'MentalHealth', 'SleepTime','AgeCategory'\n",
    "]"
   ]
  },
  {
   "cell_type": "markdown",
   "id": "ed246ea2",
   "metadata": {},
   "source": [
    "# <font color=\"Brown\">Asthma :</font>"
   ]
  },
  {
   "cell_type": "code",
   "execution_count": 26,
   "id": "c077fb26",
   "metadata": {},
   "outputs": [
    {
     "data": {
      "text/plain": [
       "No     8642\n",
       "Yes    1358\n",
       "Name: Asthma, dtype: int64"
      ]
     },
     "execution_count": 26,
     "metadata": {},
     "output_type": "execute_result"
    }
   ],
   "source": [
    "DF['Asthma'].value_counts()"
   ]
  },
  {
   "cell_type": "code",
   "execution_count": 27,
   "id": "29a5bff2",
   "metadata": {},
   "outputs": [
    {
     "data": {
      "text/plain": [
       "count     10000\n",
       "unique        2\n",
       "top          No\n",
       "freq       8642\n",
       "Name: Asthma, dtype: object"
      ]
     },
     "execution_count": 27,
     "metadata": {},
     "output_type": "execute_result"
    }
   ],
   "source": [
    "DF['Asthma'].describe()"
   ]
  },
  {
   "cell_type": "code",
   "execution_count": 28,
   "id": "092f63b5",
   "metadata": {},
   "outputs": [
    {
     "data": {
      "text/plain": [
       "0"
      ]
     },
     "execution_count": 28,
     "metadata": {},
     "output_type": "execute_result"
    }
   ],
   "source": [
    "DF['Asthma'].isnull().sum()"
   ]
  },
  {
   "cell_type": "markdown",
   "id": "db58f269",
   "metadata": {},
   "source": [
    "# <font color=\"Brown\">Diabetic :</font>"
   ]
  },
  {
   "cell_type": "code",
   "execution_count": 29,
   "id": "8b4b5e64",
   "metadata": {},
   "outputs": [
    {
     "data": {
      "text/plain": [
       "No                         8376\n",
       "Yes                        1325\n",
       "No, borderline diabetes     210\n",
       "Yes (during pregnancy)       89\n",
       "Name: Diabetic, dtype: int64"
      ]
     },
     "execution_count": 29,
     "metadata": {},
     "output_type": "execute_result"
    }
   ],
   "source": [
    "X['Diabetic'].value_counts()"
   ]
  },
  {
   "cell_type": "code",
   "execution_count": 30,
   "id": "a7d51945",
   "metadata": {},
   "outputs": [
    {
     "data": {
      "text/plain": [
       "0"
      ]
     },
     "execution_count": 30,
     "metadata": {},
     "output_type": "execute_result"
    }
   ],
   "source": [
    "X['Diabetic'].isnull().sum()"
   ]
  },
  {
   "cell_type": "code",
   "execution_count": 31,
   "id": "ebdf3863",
   "metadata": {},
   "outputs": [
    {
     "data": {
      "text/plain": [
       "<matplotlib.legend.Legend at 0x7f5f0d9200a0>"
      ]
     },
     "execution_count": 31,
     "metadata": {},
     "output_type": "execute_result"
    },
    {
     "data": {
      "image/png": "[encoded data removed]",
      "text/plain": [
       "<Figure size 720x360 with 1 Axes>"
      ]
     },
     "metadata": {
      "needs_background": "light"
     },
     "output_type": "display_data"
    }
   ],
   "source": [
    "PLT.figure(figsize=(10,5))\n",
    "SB.boxplot(x=X['Diabetic'],y=X['BMI'], hue=X['Sex']).legend(loc='upper right')"
   ]
  },
  {
   "cell_type": "markdown",
   "id": "bebc570a",
   "metadata": {},
   "source": [
    "# <font color=\"Brown\">DiffWalking :</font>"
   ]
  },
  {
   "cell_type": "code",
   "execution_count": 32,
   "id": "eaf3ee9c",
   "metadata": {},
   "outputs": [
    {
     "data": {
      "text/plain": [
       "No     8655\n",
       "Yes    1345\n",
       "Name: DiffWalking, dtype: int64"
      ]
     },
     "execution_count": 32,
     "metadata": {},
     "output_type": "execute_result"
    }
   ],
   "source": [
    "X['DiffWalking'].value_counts()"
   ]
  },
  {
   "cell_type": "code",
   "execution_count": 33,
   "id": "b53d4cb6",
   "metadata": {},
   "outputs": [
    {
     "data": {
      "text/plain": [
       "0"
      ]
     },
     "execution_count": 33,
     "metadata": {},
     "output_type": "execute_result"
    }
   ],
   "source": [
    "X['DiffWalking'].isnull().sum()"
   ]
  },
  {
   "cell_type": "code",
   "execution_count": 34,
   "id": "6b94cf3f",
   "metadata": {
    "scrolled": true
   },
   "outputs": [
    {
     "data": {
      "text/plain": [
       "<matplotlib.legend.Legend at 0x7f5f0d8639d0>"
      ]
     },
     "execution_count": 34,
     "metadata": {},
     "output_type": "execute_result"
    },
    {
     "data": {
      "image/png": "[encoded data removed]",
      "text/plain": [
       "<Figure size 1008x360 with 1 Axes>"
      ]
     },
     "metadata": {
      "needs_background": "light"
     },
     "output_type": "display_data"
    }
   ],
   "source": [
    "PLT.figure(figsize=(14,5))\n",
    "SB.boxplot(x=Y,y=X['AgeCategory'], hue=X['DiffWalking']).legend(loc='upper right',title='DiffWalking')"
   ]
  },
  {
   "cell_type": "code",
   "execution_count": 35,
   "id": "a33f19d2",
   "metadata": {},
   "outputs": [
    {
     "data": {
      "text/plain": [
       "<matplotlib.legend.Legend at 0x7f5f0d793df0>"
      ]
     },
     "execution_count": 35,
     "metadata": {},
     "output_type": "execute_result"
    },
    {
     "data": {
      "image/png": "[encoded data removed]",
      "text/plain": [
       "<Figure size 576x360 with 1 Axes>"
      ]
     },
     "metadata": {
      "needs_background": "light"
     },
     "output_type": "display_data"
    }
   ],
   "source": [
    "PLT.figure(figsize=(8,5))\n",
    "SB.boxplot(x=X['Asthma'],y=X['AgeCategory'], hue=Y).legend(loc='upper right',title='HeartDisease')"
   ]
  },
  {
   "cell_type": "markdown",
   "id": "c48f3434",
   "metadata": {},
   "source": [
    "# <font color=\"Brown\">GenHealth :</font>"
   ]
  },
  {
   "cell_type": "code",
   "execution_count": 36,
   "id": "8cfdf746",
   "metadata": {},
   "outputs": [
    {
     "data": {
      "text/plain": [
       "count         10000\n",
       "unique            5\n",
       "top       Very good\n",
       "freq           3611\n",
       "Name: GenHealth, dtype: object"
      ]
     },
     "execution_count": 36,
     "metadata": {},
     "output_type": "execute_result"
    }
   ],
   "source": [
    "X['GenHealth'].describe()"
   ]
  },
  {
   "cell_type": "code",
   "execution_count": 37,
   "id": "9e9cef27",
   "metadata": {},
   "outputs": [
    {
     "data": {
      "text/plain": [
       "0"
      ]
     },
     "execution_count": 37,
     "metadata": {},
     "output_type": "execute_result"
    }
   ],
   "source": [
    "X['GenHealth'].isnull().sum()"
   ]
  },
  {
   "cell_type": "code",
   "execution_count": 38,
   "id": "1bd3b7cd",
   "metadata": {},
   "outputs": [
    {
     "data": {
      "text/plain": [
       "Very good    3611\n",
       "Good         2920\n",
       "Excellent    2086\n",
       "Fair         1059\n",
       "Poor          324\n",
       "Name: GenHealth, dtype: int64"
      ]
     },
     "execution_count": 38,
     "metadata": {},
     "output_type": "execute_result"
    }
   ],
   "source": [
    "X['GenHealth'].value_counts()"
   ]
  },
  {
   "cell_type": "code",
   "execution_count": 39,
   "id": "e1d77e29",
   "metadata": {},
   "outputs": [
    {
     "data": {
      "text/plain": [
       "<matplotlib.legend.Legend at 0x7f5f0d6d0e20>"
      ]
     },
     "execution_count": 39,
     "metadata": {},
     "output_type": "execute_result"
    },
    {
     "data": {
      "image/png": "[encoded data removed]",
      "text/plain": [
       "<Figure size 576x360 with 1 Axes>"
      ]
     },
     "metadata": {
      "needs_background": "light"
     },
     "output_type": "display_data"
    }
   ],
   "source": [
    "PLT.figure(figsize=(8,5))\n",
    "SB.boxplot(x=X['GenHealth'],y=X['AgeCategory'], hue=Y).legend(loc='upper right',title='HeartDisease')"
   ]
  },
  {
   "cell_type": "markdown",
   "id": "f8ead921",
   "metadata": {},
   "source": [
    "# <font color=\"Brown\">KidneyDisease :</font>"
   ]
  },
  {
   "cell_type": "code",
   "execution_count": 40,
   "id": "bfa91929",
   "metadata": {},
   "outputs": [
    {
     "data": {
      "text/plain": [
       "count     10000\n",
       "unique        2\n",
       "top          No\n",
       "freq       9644\n",
       "Name: KidneyDisease, dtype: object"
      ]
     },
     "execution_count": 40,
     "metadata": {},
     "output_type": "execute_result"
    }
   ],
   "source": [
    "X['KidneyDisease'].describe()"
   ]
  },
  {
   "cell_type": "code",
   "execution_count": 41,
   "id": "686f4a95",
   "metadata": {},
   "outputs": [
    {
     "data": {
      "text/plain": [
       "0"
      ]
     },
     "execution_count": 41,
     "metadata": {},
     "output_type": "execute_result"
    }
   ],
   "source": [
    "X['KidneyDisease'].isnull().sum()"
   ]
  },
  {
   "cell_type": "code",
   "execution_count": 42,
   "id": "e930ffc7",
   "metadata": {},
   "outputs": [
    {
     "data": {
      "text/plain": [
       "No     9644\n",
       "Yes     356\n",
       "Name: KidneyDisease, dtype: int64"
      ]
     },
     "execution_count": 42,
     "metadata": {},
     "output_type": "execute_result"
    }
   ],
   "source": [
    "X['KidneyDisease'].value_counts()"
   ]
  },
  {
   "cell_type": "code",
   "execution_count": 43,
   "id": "354de840",
   "metadata": {},
   "outputs": [
    {
     "data": {
      "text/plain": [
       "<matplotlib.legend.Legend at 0x7f5f0d5da7c0>"
      ]
     },
     "execution_count": 43,
     "metadata": {},
     "output_type": "execute_result"
    },
    {
     "data": {
      "image/png": "[encoded data removed]",
      "text/plain": [
       "<Figure size 864x432 with 1 Axes>"
      ]
     },
     "metadata": {
      "needs_background": "light"
     },
     "output_type": "display_data"
    }
   ],
   "source": [
    "PLT.figure(figsize=(12,6))\n",
    "SB.boxplot(x=X['KidneyDisease'],y=X['AgeCategory'], hue=Y).legend(loc='upper right',title='HeartDisease')"
   ]
  },
  {
   "cell_type": "markdown",
   "id": "691f476f",
   "metadata": {},
   "source": [
    "# <font color=\"Brown\">MentalHealth :</font>"
   ]
  },
  {
   "cell_type": "code",
   "execution_count": 44,
   "id": "22602578",
   "metadata": {
    "scrolled": true
   },
   "outputs": [
    {
     "data": {
      "text/plain": [
       "count    10000.000000\n",
       "mean         3.702300\n",
       "std          7.734226\n",
       "min          0.000000\n",
       "25%          0.000000\n",
       "50%          0.000000\n",
       "75%          3.000000\n",
       "max         30.000000\n",
       "Name: MentalHealth, dtype: float64"
      ]
     },
     "execution_count": 44,
     "metadata": {},
     "output_type": "execute_result"
    }
   ],
   "source": [
    "X['MentalHealth'].describe()"
   ]
  },
  {
   "cell_type": "code",
   "execution_count": 45,
   "id": "89e3e28a",
   "metadata": {
    "scrolled": true
   },
   "outputs": [
    {
     "data": {
      "text/plain": [
       "0"
      ]
     },
     "execution_count": 45,
     "metadata": {},
     "output_type": "execute_result"
    }
   ],
   "source": [
    "X['MentalHealth'].isna().sum()"
   ]
  },
  {
   "cell_type": "code",
   "execution_count": 46,
   "id": "67865e72",
   "metadata": {},
   "outputs": [
    {
     "data": {
      "text/plain": [
       "0.0     6536\n",
       "1.0      289\n",
       "2.0      520\n",
       "3.0      328\n",
       "4.0      151\n",
       "5.0      386\n",
       "6.0       57\n",
       "7.0      201\n",
       "8.0       35\n",
       "9.0        4\n",
       "10.0     318\n",
       "11.0       4\n",
       "12.0      20\n",
       "14.0      63\n",
       "15.0     293\n",
       "16.0       3\n",
       "17.0       7\n",
       "18.0       6\n",
       "20.0     174\n",
       "21.0      13\n",
       "22.0       5\n",
       "23.0       4\n",
       "24.0       1\n",
       "25.0      57\n",
       "26.0       3\n",
       "27.0       3\n",
       "28.0      13\n",
       "29.0      12\n",
       "30.0     494\n",
       "Name: MentalHealth, dtype: int64"
      ]
     },
     "execution_count": 46,
     "metadata": {},
     "output_type": "execute_result"
    }
   ],
   "source": [
    "X['MentalHealth'].value_counts().sort_index()"
   ]
  },
  {
   "cell_type": "code",
   "execution_count": 47,
   "id": "01c09502",
   "metadata": {},
   "outputs": [
    {
     "data": {
      "text/plain": [
       "<AxesSubplot:>"
      ]
     },
     "execution_count": 47,
     "metadata": {},
     "output_type": "execute_result"
    },
    {
     "data": {
      "image/png": "[encoded data removed]",
      "text/plain": [
       "<Figure size 432x288 with 1 Axes>"
      ]
     },
     "metadata": {
      "needs_background": "light"
     },
     "output_type": "display_data"
    }
   ],
   "source": [
    "X['MentalHealth'].hist()"
   ]
  },
  {
   "cell_type": "code",
   "execution_count": 48,
   "id": "9b308cba",
   "metadata": {},
   "outputs": [
    {
     "data": {
      "text/plain": [
       "<matplotlib.legend.Legend at 0x7f5f0d569910>"
      ]
     },
     "execution_count": 48,
     "metadata": {},
     "output_type": "execute_result"
    },
    {
     "data": {
      "image/png": "[encoded data removed]",
      "text/plain": [
       "<Figure size 1440x432 with 1 Axes>"
      ]
     },
     "metadata": {
      "needs_background": "light"
     },
     "output_type": "display_data"
    }
   ],
   "source": [
    "PLT.figure(figsize=(20,6))\n",
    "SB.boxplot(y=X['MentalHealth'],x=X['AgeCategory'], hue=Y).legend(loc='upper right',title='HeartDisease')"
   ]
  },
  {
   "cell_type": "markdown",
   "id": "b8c45941",
   "metadata": {},
   "source": [
    "# <font color=\"Brown\">PhysicalActivity :</font>"
   ]
  },
  {
   "cell_type": "code",
   "execution_count": 49,
   "id": "5de6ad89",
   "metadata": {},
   "outputs": [
    {
     "data": {
      "text/plain": [
       "count     10000\n",
       "unique        2\n",
       "top         Yes\n",
       "freq       7762\n",
       "Name: PhysicalActivity, dtype: object"
      ]
     },
     "execution_count": 49,
     "metadata": {},
     "output_type": "execute_result"
    }
   ],
   "source": [
    "X['PhysicalActivity'].describe()"
   ]
  },
  {
   "cell_type": "code",
   "execution_count": 50,
   "id": "3dcd2383",
   "metadata": {
    "scrolled": true
   },
   "outputs": [
    {
     "data": {
      "text/plain": [
       "0"
      ]
     },
     "execution_count": 50,
     "metadata": {},
     "output_type": "execute_result"
    }
   ],
   "source": [
    "X['PhysicalActivity'].isna().sum()"
   ]
  },
  {
   "cell_type": "code",
   "execution_count": 51,
   "id": "5f29ddf0",
   "metadata": {},
   "outputs": [
    {
     "data": {
      "text/plain": [
       "No     2238\n",
       "Yes    7762\n",
       "Name: PhysicalActivity, dtype: int64"
      ]
     },
     "execution_count": 51,
     "metadata": {},
     "output_type": "execute_result"
    }
   ],
   "source": [
    "X['PhysicalActivity'].value_counts().sort_index()"
   ]
  },
  {
   "cell_type": "code",
   "execution_count": 52,
   "id": "22287816",
   "metadata": {},
   "outputs": [
    {
     "data": {
      "text/plain": [
       "<matplotlib.legend.Legend at 0x7f5f0d2ebcd0>"
      ]
     },
     "execution_count": 52,
     "metadata": {},
     "output_type": "execute_result"
    },
    {
     "data": {
      "image/png": "[encoded data removed]",
      "text/plain": [
       "<Figure size 864x432 with 1 Axes>"
      ]
     },
     "metadata": {
      "needs_background": "light"
     },
     "output_type": "display_data"
    }
   ],
   "source": [
    "PLT.figure(figsize=(12,6))\n",
    "SB.boxplot(x=X['PhysicalActivity'],y=X['AgeCategory'], hue=Y).legend(loc='upper right',title='HeartDisease')"
   ]
  },
  {
   "cell_type": "markdown",
   "id": "0b858886",
   "metadata": {},
   "source": [
    "# <font color=\"Brown\">PhysicalHealth :</font>"
   ]
  },
  {
   "cell_type": "code",
   "execution_count": 53,
   "id": "025328e3",
   "metadata": {
    "scrolled": true
   },
   "outputs": [
    {
     "data": {
      "text/plain": [
       "count    10000.000000\n",
       "mean         3.352400\n",
       "std          7.907785\n",
       "min          0.000000\n",
       "25%          0.000000\n",
       "50%          0.000000\n",
       "75%          2.000000\n",
       "max         30.000000\n",
       "Name: PhysicalHealth, dtype: float64"
      ]
     },
     "execution_count": 53,
     "metadata": {},
     "output_type": "execute_result"
    }
   ],
   "source": [
    "X['PhysicalHealth'].describe()"
   ]
  },
  {
   "cell_type": "code",
   "execution_count": 54,
   "id": "ce0c9afe",
   "metadata": {
    "scrolled": true
   },
   "outputs": [
    {
     "data": {
      "text/plain": [
       "0"
      ]
     },
     "execution_count": 54,
     "metadata": {},
     "output_type": "execute_result"
    }
   ],
   "source": [
    "X['PhysicalHealth'].isna().sum()"
   ]
  },
  {
   "cell_type": "code",
   "execution_count": 55,
   "id": "aa3011b7",
   "metadata": {},
   "outputs": [
    {
     "data": {
      "text/plain": [
       "0.0     7115\n",
       "1.0      301\n",
       "2.0      460\n",
       "3.0      259\n",
       "4.0      138\n",
       "5.0      244\n",
       "6.0       38\n",
       "7.0      156\n",
       "8.0       34\n",
       "9.0        2\n",
       "10.0     179\n",
       "11.0       2\n",
       "12.0      18\n",
       "13.0       2\n",
       "14.0      91\n",
       "15.0     153\n",
       "16.0       6\n",
       "17.0       3\n",
       "18.0       3\n",
       "19.0       1\n",
       "20.0     107\n",
       "21.0      22\n",
       "22.0       3\n",
       "23.0       1\n",
       "24.0       4\n",
       "25.0      36\n",
       "26.0       4\n",
       "27.0       2\n",
       "28.0      11\n",
       "29.0       2\n",
       "30.0     603\n",
       "Name: PhysicalHealth, dtype: int64"
      ]
     },
     "execution_count": 55,
     "metadata": {},
     "output_type": "execute_result"
    }
   ],
   "source": [
    "X['PhysicalHealth'].value_counts().sort_index()"
   ]
  },
  {
   "cell_type": "code",
   "execution_count": 56,
   "id": "19ba234d",
   "metadata": {},
   "outputs": [
    {
     "data": {
      "text/plain": [
       "<AxesSubplot:>"
      ]
     },
     "execution_count": 56,
     "metadata": {},
     "output_type": "execute_result"
    },
    {
     "data": {
      "image/png": "[encoded data removed]",
      "text/plain": [
       "<Figure size 432x288 with 1 Axes>"
      ]
     },
     "metadata": {
      "needs_background": "light"
     },
     "output_type": "display_data"
    }
   ],
   "source": [
    "X['PhysicalHealth'].hist()"
   ]
  },
  {
   "cell_type": "code",
   "execution_count": 57,
   "id": "0a8e0852",
   "metadata": {},
   "outputs": [
    {
     "data": {
      "text/plain": [
       "<matplotlib.legend.Legend at 0x7f5f0d325580>"
      ]
     },
     "execution_count": 57,
     "metadata": {},
     "output_type": "execute_result"
    },
    {
     "data": {
      "image/png": "[encoded data removed]",
      "text/plain": [
       "<Figure size 1440x432 with 1 Axes>"
      ]
     },
     "metadata": {
      "needs_background": "light"
     },
     "output_type": "display_data"
    }
   ],
   "source": [
    "PLT.figure(figsize=(20,6))\n",
    "SB.boxplot(y=X['PhysicalHealth'],x=X['AgeCategory'], hue=Y).legend(loc='upper right',title='HeartDisease')"
   ]
  },
  {
   "cell_type": "markdown",
   "id": "841feb8c",
   "metadata": {},
   "source": [
    "# <font color=\"Brown\">Race :</font>"
   ]
  },
  {
   "cell_type": "code",
   "execution_count": 58,
   "id": "679c71bf",
   "metadata": {},
   "outputs": [
    {
     "data": {
      "text/plain": [
       "count     10000\n",
       "unique        6\n",
       "top       White\n",
       "freq       7672\n",
       "Name: Race, dtype: object"
      ]
     },
     "execution_count": 58,
     "metadata": {},
     "output_type": "execute_result"
    }
   ],
   "source": [
    "X['Race'].describe()"
   ]
  },
  {
   "cell_type": "code",
   "execution_count": 59,
   "id": "755a2580",
   "metadata": {},
   "outputs": [
    {
     "data": {
      "text/plain": [
       "0"
      ]
     },
     "execution_count": 59,
     "metadata": {},
     "output_type": "execute_result"
    }
   ],
   "source": [
    "X['Race'].isnull().sum()"
   ]
  },
  {
   "cell_type": "code",
   "execution_count": 60,
   "id": "a3ab8c6f",
   "metadata": {},
   "outputs": [
    {
     "data": {
      "text/plain": [
       "White                             7672\n",
       "Hispanic                           856\n",
       "Black                              729\n",
       "Other                              324\n",
       "Asian                              252\n",
       "American Indian/Alaskan Native     167\n",
       "Name: Race, dtype: int64"
      ]
     },
     "execution_count": 60,
     "metadata": {},
     "output_type": "execute_result"
    }
   ],
   "source": [
    "X['Race'].value_counts()"
   ]
  },
  {
   "cell_type": "markdown",
   "id": "536dbb27",
   "metadata": {},
   "source": [
    "# <font color=\"Brown\">Race :</font>"
   ]
  },
  {
   "cell_type": "code",
   "execution_count": 61,
   "id": "39f91cc9",
   "metadata": {},
   "outputs": [
    {
     "data": {
      "text/plain": [
       "count      10000\n",
       "unique         2\n",
       "top       Female\n",
       "freq        5272\n",
       "Name: Sex, dtype: object"
      ]
     },
     "execution_count": 61,
     "metadata": {},
     "output_type": "execute_result"
    }
   ],
   "source": [
    "X['Sex'].describe()"
   ]
  },
  {
   "cell_type": "code",
   "execution_count": 62,
   "id": "52f0ceca",
   "metadata": {},
   "outputs": [
    {
     "data": {
      "text/plain": [
       "0"
      ]
     },
     "execution_count": 62,
     "metadata": {},
     "output_type": "execute_result"
    }
   ],
   "source": [
    "X['Sex'].isnull().sum()"
   ]
  },
  {
   "cell_type": "code",
   "execution_count": 63,
   "id": "90be28a7",
   "metadata": {},
   "outputs": [
    {
     "data": {
      "text/plain": [
       "Female    5272\n",
       "Male      4728\n",
       "Name: Sex, dtype: int64"
      ]
     },
     "execution_count": 63,
     "metadata": {},
     "output_type": "execute_result"
    }
   ],
   "source": [
    "X['Sex'].value_counts()"
   ]
  },
  {
   "cell_type": "code",
   "execution_count": 64,
   "id": "b75fa939",
   "metadata": {},
   "outputs": [
    {
     "data": {
      "text/plain": [
       "<matplotlib.legend.Legend at 0x7f5f0cf16910>"
      ]
     },
     "execution_count": 64,
     "metadata": {},
     "output_type": "execute_result"
    },
    {
     "data": {
      "image/png": "[encoded data removed]",
      "text/plain": [
       "<Figure size 1440x432 with 1 Axes>"
      ]
     },
     "metadata": {
      "needs_background": "light"
     },
     "output_type": "display_data"
    }
   ],
   "source": [
    "PLT.figure(figsize=(20,6))\n",
    "SB.boxplot(x=X['Sex'],y=X['AgeCategory'], hue=Y).legend(loc='upper right',title='HeartDisease')"
   ]
  },
  {
   "cell_type": "markdown",
   "id": "6d458f18",
   "metadata": {},
   "source": [
    "# <font color=\"Brown\">Sex :</font>"
   ]
  },
  {
   "cell_type": "code",
   "execution_count": 65,
   "id": "6ec6f11c",
   "metadata": {},
   "outputs": [
    {
     "data": {
      "text/plain": [
       "count      10000\n",
       "unique         2\n",
       "top       Female\n",
       "freq        5272\n",
       "Name: Sex, dtype: object"
      ]
     },
     "execution_count": 65,
     "metadata": {},
     "output_type": "execute_result"
    }
   ],
   "source": [
    "X['Sex'].describe()"
   ]
  },
  {
   "cell_type": "code",
   "execution_count": 66,
   "id": "13a3a188",
   "metadata": {},
   "outputs": [
    {
     "data": {
      "text/plain": [
       "0"
      ]
     },
     "execution_count": 66,
     "metadata": {},
     "output_type": "execute_result"
    }
   ],
   "source": [
    "X['Sex'].isnull().sum()"
   ]
  },
  {
   "cell_type": "code",
   "execution_count": 67,
   "id": "c53d6b8f",
   "metadata": {},
   "outputs": [
    {
     "data": {
      "text/plain": [
       "Female    5272\n",
       "Male      4728\n",
       "Name: Sex, dtype: int64"
      ]
     },
     "execution_count": 67,
     "metadata": {},
     "output_type": "execute_result"
    }
   ],
   "source": [
    "X['Sex'].value_counts()"
   ]
  },
  {
   "cell_type": "code",
   "execution_count": 68,
   "id": "fdee6cc5",
   "metadata": {},
   "outputs": [
    {
     "data": {
      "text/plain": [
       "<matplotlib.legend.Legend at 0x7f5f0ceb0a90>"
      ]
     },
     "execution_count": 68,
     "metadata": {},
     "output_type": "execute_result"
    },
    {
     "data": {
      "image/png": "[encoded data removed]",
      "text/plain": [
       "<Figure size 864x432 with 1 Axes>"
      ]
     },
     "metadata": {
      "needs_background": "light"
     },
     "output_type": "display_data"
    }
   ],
   "source": [
    "PLT.figure(figsize=(12,6))\n",
    "SB.boxplot(x=X['Sex'],y=X['BMI'], hue=Y).legend(loc='upper right',title='HeartDisease')"
   ]
  },
  {
   "cell_type": "markdown",
   "id": "10002c49",
   "metadata": {},
   "source": [
    "# <font color=\"Brown\">SkinCancer :</font>"
   ]
  },
  {
   "cell_type": "code",
   "execution_count": 69,
   "id": "52ddb0e5",
   "metadata": {},
   "outputs": [
    {
     "data": {
      "text/plain": [
       "count     10000\n",
       "unique        2\n",
       "top          No\n",
       "freq       9034\n",
       "Name: SkinCancer, dtype: object"
      ]
     },
     "execution_count": 69,
     "metadata": {},
     "output_type": "execute_result"
    }
   ],
   "source": [
    "X['SkinCancer'].describe()"
   ]
  },
  {
   "cell_type": "code",
   "execution_count": 70,
   "id": "4e80f37d",
   "metadata": {},
   "outputs": [
    {
     "data": {
      "text/plain": [
       "0"
      ]
     },
     "execution_count": 70,
     "metadata": {},
     "output_type": "execute_result"
    }
   ],
   "source": [
    "X['SkinCancer'].isnull().sum()"
   ]
  },
  {
   "cell_type": "code",
   "execution_count": 71,
   "id": "197bfcb9",
   "metadata": {
    "scrolled": true
   },
   "outputs": [
    {
     "data": {
      "text/plain": [
       "No     9034\n",
       "Yes     966\n",
       "Name: SkinCancer, dtype: int64"
      ]
     },
     "execution_count": 71,
     "metadata": {},
     "output_type": "execute_result"
    }
   ],
   "source": [
    "X['SkinCancer'].value_counts()"
   ]
  },
  {
   "cell_type": "markdown",
   "id": "2d5c4201",
   "metadata": {},
   "source": [
    "# <font color=\"Brown\">SkinCancer :</font>"
   ]
  },
  {
   "cell_type": "code",
   "execution_count": 72,
   "id": "b1ffd9de",
   "metadata": {},
   "outputs": [
    {
     "data": {
      "text/plain": [
       "count     10000\n",
       "unique        2\n",
       "top          No\n",
       "freq       9034\n",
       "Name: SkinCancer, dtype: object"
      ]
     },
     "execution_count": 72,
     "metadata": {},
     "output_type": "execute_result"
    }
   ],
   "source": [
    "X['SkinCancer'].describe()"
   ]
  },
  {
   "cell_type": "code",
   "execution_count": 73,
   "id": "14f2c4c9",
   "metadata": {},
   "outputs": [
    {
     "data": {
      "text/plain": [
       "0"
      ]
     },
     "execution_count": 73,
     "metadata": {},
     "output_type": "execute_result"
    }
   ],
   "source": [
    "X['SkinCancer'].isnull().sum()"
   ]
  },
  {
   "cell_type": "code",
   "execution_count": 74,
   "id": "9f8e63f1",
   "metadata": {
    "scrolled": false
   },
   "outputs": [
    {
     "data": {
      "text/plain": [
       "No     9034\n",
       "Yes     966\n",
       "Name: SkinCancer, dtype: int64"
      ]
     },
     "execution_count": 74,
     "metadata": {},
     "output_type": "execute_result"
    }
   ],
   "source": [
    "X['SkinCancer'].value_counts()"
   ]
  },
  {
   "cell_type": "markdown",
   "id": "cfbac51e",
   "metadata": {},
   "source": [
    "# <font color=\"Brown\">SleepTime :</font>"
   ]
  },
  {
   "cell_type": "code",
   "execution_count": 75,
   "id": "d190476d",
   "metadata": {},
   "outputs": [
    {
     "data": {
      "text/plain": [
       "count    10000.000000\n",
       "mean         7.077300\n",
       "std          1.410079\n",
       "min          1.000000\n",
       "25%          6.000000\n",
       "50%          7.000000\n",
       "75%          8.000000\n",
       "max         20.000000\n",
       "Name: SleepTime, dtype: float64"
      ]
     },
     "execution_count": 75,
     "metadata": {},
     "output_type": "execute_result"
    }
   ],
   "source": [
    "X['SleepTime'].describe()"
   ]
  },
  {
   "cell_type": "code",
   "execution_count": 76,
   "id": "725374e2",
   "metadata": {},
   "outputs": [
    {
     "data": {
      "text/plain": [
       "0"
      ]
     },
     "execution_count": 76,
     "metadata": {},
     "output_type": "execute_result"
    }
   ],
   "source": [
    "X['SleepTime'].isna().sum()"
   ]
  },
  {
   "cell_type": "code",
   "execution_count": 77,
   "id": "33a6400a",
   "metadata": {},
   "outputs": [
    {
     "data": {
      "text/plain": [
       "<AxesSubplot:>"
      ]
     },
     "execution_count": 77,
     "metadata": {},
     "output_type": "execute_result"
    },
    {
     "data": {
      "image/png": "[encoded data removed]",
      "text/plain": [
       "<Figure size 432x288 with 1 Axes>"
      ]
     },
     "metadata": {
      "needs_background": "light"
     },
     "output_type": "display_data"
    }
   ],
   "source": [
    "X['SleepTime'].hist()"
   ]
  },
  {
   "cell_type": "code",
   "execution_count": 78,
   "id": "a07527c8",
   "metadata": {},
   "outputs": [],
   "source": [
    "# X = X.drop(X[X['SleepTime']>16]['SleepTime'].index,axis=0)"
   ]
  },
  {
   "cell_type": "code",
   "execution_count": 79,
   "id": "148be1d7",
   "metadata": {},
   "outputs": [
    {
     "data": {
      "text/plain": [
       "<AxesSubplot:>"
      ]
     },
     "execution_count": 79,
     "metadata": {},
     "output_type": "execute_result"
    },
    {
     "data": {
      "image/png": "[encoded data removed]",
      "text/plain": [
       "<Figure size 432x288 with 1 Axes>"
      ]
     },
     "metadata": {
      "needs_background": "light"
     },
     "output_type": "display_data"
    }
   ],
   "source": [
    "X['SleepTime'].hist()"
   ]
  },
  {
   "cell_type": "markdown",
   "id": "566d1781",
   "metadata": {},
   "source": [
    "# <font color=\"Brown\">Smoking :</font>"
   ]
  },
  {
   "cell_type": "code",
   "execution_count": 80,
   "id": "ff73354e",
   "metadata": {},
   "outputs": [
    {
     "data": {
      "text/plain": [
       "count     9996\n",
       "unique       2\n",
       "top         No\n",
       "freq      5925\n",
       "Name: Smoking, dtype: object"
      ]
     },
     "execution_count": 80,
     "metadata": {},
     "output_type": "execute_result"
    }
   ],
   "source": [
    "X['Smoking'].describe()"
   ]
  },
  {
   "cell_type": "code",
   "execution_count": 81,
   "id": "276fd10f",
   "metadata": {},
   "outputs": [
    {
     "data": {
      "text/plain": [
       "0"
      ]
     },
     "execution_count": 81,
     "metadata": {},
     "output_type": "execute_result"
    }
   ],
   "source": [
    "X['Smoking'].isnull().sum()"
   ]
  },
  {
   "cell_type": "code",
   "execution_count": 82,
   "id": "966002bd",
   "metadata": {},
   "outputs": [
    {
     "data": {
      "text/plain": [
       "No     5925\n",
       "Yes    4071\n",
       "Name: Smoking, dtype: int64"
      ]
     },
     "execution_count": 82,
     "metadata": {},
     "output_type": "execute_result"
    }
   ],
   "source": [
    "X['Smoking'].value_counts()"
   ]
  },
  {
   "cell_type": "code",
   "execution_count": 83,
   "id": "38127a1d",
   "metadata": {},
   "outputs": [
    {
     "data": {
      "text/plain": [
       "<matplotlib.legend.Legend at 0x7f5f0da958b0>"
      ]
     },
     "execution_count": 83,
     "metadata": {},
     "output_type": "execute_result"
    },
    {
     "data": {
      "image/png": "[encoded data removed]",
      "text/plain": [
       "<Figure size 864x432 with 1 Axes>"
      ]
     },
     "metadata": {
      "needs_background": "light"
     },
     "output_type": "display_data"
    }
   ],
   "source": [
    "PLT.figure(figsize=(12,6))\n",
    "SB.boxplot(x=X['Smoking'],y=X['PhysicalHealth'], hue=Y).legend(loc='upper right',title='HeartDisease')"
   ]
  },
  {
   "cell_type": "code",
   "execution_count": 84,
   "id": "d4d1bf38",
   "metadata": {},
   "outputs": [
    {
     "data": {
      "text/plain": [
       "<matplotlib.legend.Legend at 0x7f5f0cd503d0>"
      ]
     },
     "execution_count": 84,
     "metadata": {},
     "output_type": "execute_result"
    },
    {
     "data": {
      "image/png": "[encoded data removed]",
      "text/plain": [
       "<Figure size 864x432 with 1 Axes>"
      ]
     },
     "metadata": {
      "needs_background": "light"
     },
     "output_type": "display_data"
    }
   ],
   "source": [
    "PLT.figure(figsize=(12,6))\n",
    "SB.boxplot(x=X['Smoking'],y=X['MentalHealth'], hue=Y).legend(loc='upper right',title='HeartDisease')"
   ]
  },
  {
   "cell_type": "markdown",
   "id": "1e92eeb2",
   "metadata": {},
   "source": [
    "# <font color=\"Brown\">Stroke :</font>"
   ]
  },
  {
   "cell_type": "code",
   "execution_count": 85,
   "id": "689196fb",
   "metadata": {},
   "outputs": [
    {
     "data": {
      "text/plain": [
       "count     9996\n",
       "unique       2\n",
       "top         No\n",
       "freq      9644\n",
       "Name: Stroke, dtype: object"
      ]
     },
     "execution_count": 85,
     "metadata": {},
     "output_type": "execute_result"
    }
   ],
   "source": [
    "X['Stroke'].describe()"
   ]
  },
  {
   "cell_type": "code",
   "execution_count": 86,
   "id": "b33d21df",
   "metadata": {},
   "outputs": [
    {
     "data": {
      "text/plain": [
       "0"
      ]
     },
     "execution_count": 86,
     "metadata": {},
     "output_type": "execute_result"
    }
   ],
   "source": [
    "X['Stroke'].isnull().sum()"
   ]
  },
  {
   "cell_type": "code",
   "execution_count": 87,
   "id": "93bfa1db",
   "metadata": {},
   "outputs": [
    {
     "data": {
      "text/plain": [
       "No     9644\n",
       "Yes     352\n",
       "Name: Stroke, dtype: int64"
      ]
     },
     "execution_count": 87,
     "metadata": {},
     "output_type": "execute_result"
    }
   ],
   "source": [
    "X['Stroke'].value_counts()"
   ]
  },
  {
   "cell_type": "code",
   "execution_count": 88,
   "id": "c4ad571a",
   "metadata": {},
   "outputs": [
    {
     "data": {
      "text/plain": [
       "<matplotlib.legend.Legend at 0x7f5f0cb8eeb0>"
      ]
     },
     "execution_count": 88,
     "metadata": {},
     "output_type": "execute_result"
    },
    {
     "data": {
      "image/png": "[encoded data removed]",
      "text/plain": [
       "<Figure size 864x432 with 1 Axes>"
      ]
     },
     "metadata": {
      "needs_background": "light"
     },
     "output_type": "display_data"
    }
   ],
   "source": [
    "PLT.figure(figsize=(12,6))\n",
    "SB.boxplot(x=X['Stroke'],y=X['PhysicalHealth'], hue=Y).legend(loc='upper right',title='HeartDisease')"
   ]
  },
  {
   "cell_type": "code",
   "execution_count": 89,
   "id": "35ffcf37",
   "metadata": {},
   "outputs": [
    {
     "data": {
      "text/plain": [
       "<matplotlib.legend.Legend at 0x7f5f0cd50280>"
      ]
     },
     "execution_count": 89,
     "metadata": {},
     "output_type": "execute_result"
    },
    {
     "data": {
      "image/png": "[encoded data removed]",
      "text/plain": [
       "<Figure size 864x432 with 1 Axes>"
      ]
     },
     "metadata": {
      "needs_background": "light"
     },
     "output_type": "display_data"
    }
   ],
   "source": [
    "PLT.figure(figsize=(12,6))\n",
    "SB.boxplot(x=X['Stroke'],y=X['MentalHealth'], hue=Y).legend(loc='upper right',title='HeartDisease')"
   ]
  },
  {
   "cell_type": "markdown",
   "id": "63a28a6b",
   "metadata": {},
   "source": [
    "# <font color=\"Green\">One Hot Encode Categorical Label :</font>"
   ]
  },
  {
   "cell_type": "code",
   "execution_count": 90,
   "id": "653ae504",
   "metadata": {},
   "outputs": [],
   "source": [
    "from sklearn.preprocessing import LabelEncoder\n",
    "from sklearn.compose import ColumnTransformer\n",
    "from sklearn.preprocessing import OneHotEncoder\n",
    "\n",
    "def OHC_transformer_single_column(DF,columns):\n",
    "    \n",
    "    for column_name in columns:\n",
    "        label_encoder = LabelEncoder()\n",
    "        encoded = label_encoder.fit_transform(DF[column_name])\n",
    "        labels =pd.Series(label_encoder.classes_)\n",
    "\n",
    "        clmt = ColumnTransformer([(column_name,OneHotEncoder(),[0])], remainder='passthrough')\n",
    "        clmt_fited_data = clmt.fit_transform(DF[[column_name]]) \n",
    "        clmt_fited_data = clmt_fited_data if type(clmt_fited_data)== np.ndarray else clmt_fited_data.toarray()  \n",
    "        NDF = pd.DataFrame(clmt_fited_data,columns=[f'{column_name}_{x}' for x in labels])\n",
    "        \n",
    "        merged = DF.merge(NDF, left_index=True,right_index=True)\n",
    "        merged = merged.drop(columns=[column_name])\n",
    "        DF = merged\n",
    "    return DF"
   ]
  },
  {
   "cell_type": "code",
   "execution_count": 91,
   "id": "d940f564",
   "metadata": {},
   "outputs": [],
   "source": [
    "X_OHC = OHC_transformer_single_column(X,CatCols) \n",
    "Y = DF.iloc[X_OHC.index]['HeartDisease']\n",
    "Y_label_encoder = LabelEncoder()\n",
    "Y_OHC = Y_label_encoder.fit_transform(Y)"
   ]
  },
  {
   "cell_type": "code",
   "execution_count": 92,
   "id": "bf0862ed",
   "metadata": {},
   "outputs": [],
   "source": [
    "NDF = pd.concat([X,Y],axis=1)\n",
    "NDF_OHC = pd.concat([X_OHC,pd.DataFrame(Y_OHC,columns=['HeartDisease'])],axis=1)"
   ]
  },
  {
   "cell_type": "markdown",
   "id": "6cae2bf3",
   "metadata": {},
   "source": [
    "# <font color=\"Green\">Imbalance Data  :</font>"
   ]
  },
  {
   "cell_type": "code",
   "execution_count": 93,
   "id": "80f2b9d3",
   "metadata": {},
   "outputs": [
    {
     "name": "stderr",
     "output_type": "stream",
     "text": [
      "/opt/conda/lib/python3.9/site-packages/seaborn/_decorators.py:36: FutureWarning: Pass the following variable as a keyword arg: x. From version 0.12, the only valid positional argument will be `data`, and passing other arguments without an explicit keyword will result in an error or misinterpretation.\n",
      "  warnings.warn(\n"
     ]
    },
    {
     "data": {
      "text/plain": [
       "<AxesSubplot:xlabel='HeartDisease', ylabel='count'>"
      ]
     },
     "execution_count": 93,
     "metadata": {},
     "output_type": "execute_result"
    },
    {
     "data": {
      "image/png": "[encoded data removed]",
      "text/plain": [
       "<Figure size 432x288 with 1 Axes>"
      ]
     },
     "metadata": {
      "needs_background": "light"
     },
     "output_type": "display_data"
    }
   ],
   "source": [
    "SB.countplot('HeartDisease',data=NDF_OHC)"
   ]
  },
  {
   "cell_type": "code",
   "execution_count": 94,
   "id": "3ffd8088",
   "metadata": {},
   "outputs": [],
   "source": [
    "from imblearn.over_sampling import SMOTE\n",
    "from imblearn.combine import SMOTETomek \n",
    "from imblearn.under_sampling import TomekLinks"
   ]
  },
  {
   "cell_type": "code",
   "execution_count": 95,
   "id": "4ea89786",
   "metadata": {},
   "outputs": [],
   "source": [
    "smote = SMOTE()\n",
    "X_smote, Y_smote = smote.fit_resample(X_OHC,pd.DataFrame(Y_OHC,columns=['HeartDisease']))\n",
    "DF_smote = pd.concat([X_smote,Y_smote],axis=1)"
   ]
  },
  {
   "cell_type": "code",
   "execution_count": 96,
   "id": "de33dd5a",
   "metadata": {},
   "outputs": [],
   "source": [
    "toml = TomekLinks()\n",
    "X_toml, Y_toml = toml.fit_resample(X_smote,Y_smote)\n",
    "DF_toml = pd.concat([X_toml,Y_toml],axis=1)"
   ]
  },
  {
   "cell_type": "code",
   "execution_count": 97,
   "id": "d7925b23",
   "metadata": {},
   "outputs": [
    {
     "data": {
      "text/html": [
       "<div>\n",
       "<style scoped>\n",
       "    .dataframe tbody tr th:only-of-type {\n",
       "        vertical-align: middle;\n",
       "    }\n",
       "\n",
       "    .dataframe tbody tr th {\n",
       "        vertical-align: top;\n",
       "    }\n",
       "\n",
       "    .dataframe thead th {\n",
       "        text-align: right;\n",
       "    }\n",
       "</style>\n",
       "<table border=\"1\" class=\"dataframe\">\n",
       "  <thead>\n",
       "    <tr style=\"text-align: right;\">\n",
       "      <th></th>\n",
       "      <th>AgeCategory</th>\n",
       "      <th>BMI</th>\n",
       "      <th>MentalHealth</th>\n",
       "      <th>PhysicalHealth</th>\n",
       "      <th>SleepTime</th>\n",
       "      <th>Smoking_No</th>\n",
       "      <th>Smoking_Yes</th>\n",
       "      <th>AlcoholDrinking_No</th>\n",
       "      <th>AlcoholDrinking_Yes</th>\n",
       "      <th>Stroke_No</th>\n",
       "      <th>...</th>\n",
       "      <th>GenHealth_Good</th>\n",
       "      <th>GenHealth_Poor</th>\n",
       "      <th>GenHealth_Very good</th>\n",
       "      <th>Asthma_No</th>\n",
       "      <th>Asthma_Yes</th>\n",
       "      <th>KidneyDisease_No</th>\n",
       "      <th>KidneyDisease_Yes</th>\n",
       "      <th>SkinCancer_No</th>\n",
       "      <th>SkinCancer_Yes</th>\n",
       "      <th>HeartDisease</th>\n",
       "    </tr>\n",
       "  </thead>\n",
       "  <tbody>\n",
       "    <tr>\n",
       "      <th>0</th>\n",
       "      <td>80</td>\n",
       "      <td>25.820000</td>\n",
       "      <td>30.000000</td>\n",
       "      <td>0.000000</td>\n",
       "      <td>8.000000</td>\n",
       "      <td>0.0</td>\n",
       "      <td>1.0</td>\n",
       "      <td>1.0</td>\n",
       "      <td>0.0</td>\n",
       "      <td>1.000000</td>\n",
       "      <td>...</td>\n",
       "      <td>0.0</td>\n",
       "      <td>0.000000</td>\n",
       "      <td>0.000000</td>\n",
       "      <td>1.000000</td>\n",
       "      <td>0.000000</td>\n",
       "      <td>1.0</td>\n",
       "      <td>0.0</td>\n",
       "      <td>1.0</td>\n",
       "      <td>0.0</td>\n",
       "      <td>0</td>\n",
       "    </tr>\n",
       "    <tr>\n",
       "      <th>1</th>\n",
       "      <td>62</td>\n",
       "      <td>29.180000</td>\n",
       "      <td>30.000000</td>\n",
       "      <td>30.000000</td>\n",
       "      <td>6.000000</td>\n",
       "      <td>0.0</td>\n",
       "      <td>1.0</td>\n",
       "      <td>1.0</td>\n",
       "      <td>0.0</td>\n",
       "      <td>1.000000</td>\n",
       "      <td>...</td>\n",
       "      <td>0.0</td>\n",
       "      <td>1.000000</td>\n",
       "      <td>0.000000</td>\n",
       "      <td>0.000000</td>\n",
       "      <td>1.000000</td>\n",
       "      <td>1.0</td>\n",
       "      <td>0.0</td>\n",
       "      <td>1.0</td>\n",
       "      <td>0.0</td>\n",
       "      <td>0</td>\n",
       "    </tr>\n",
       "    <tr>\n",
       "      <th>2</th>\n",
       "      <td>62</td>\n",
       "      <td>24.020000</td>\n",
       "      <td>0.000000</td>\n",
       "      <td>7.000000</td>\n",
       "      <td>6.000000</td>\n",
       "      <td>1.0</td>\n",
       "      <td>0.0</td>\n",
       "      <td>0.0</td>\n",
       "      <td>1.0</td>\n",
       "      <td>1.000000</td>\n",
       "      <td>...</td>\n",
       "      <td>0.0</td>\n",
       "      <td>0.000000</td>\n",
       "      <td>0.000000</td>\n",
       "      <td>1.000000</td>\n",
       "      <td>0.000000</td>\n",
       "      <td>1.0</td>\n",
       "      <td>0.0</td>\n",
       "      <td>1.0</td>\n",
       "      <td>0.0</td>\n",
       "      <td>0</td>\n",
       "    </tr>\n",
       "    <tr>\n",
       "      <th>3</th>\n",
       "      <td>80</td>\n",
       "      <td>25.540000</td>\n",
       "      <td>0.000000</td>\n",
       "      <td>0.000000</td>\n",
       "      <td>6.000000</td>\n",
       "      <td>0.0</td>\n",
       "      <td>1.0</td>\n",
       "      <td>1.0</td>\n",
       "      <td>0.0</td>\n",
       "      <td>0.000000</td>\n",
       "      <td>...</td>\n",
       "      <td>0.0</td>\n",
       "      <td>0.000000</td>\n",
       "      <td>0.000000</td>\n",
       "      <td>0.000000</td>\n",
       "      <td>1.000000</td>\n",
       "      <td>1.0</td>\n",
       "      <td>0.0</td>\n",
       "      <td>1.0</td>\n",
       "      <td>0.0</td>\n",
       "      <td>0</td>\n",
       "    </tr>\n",
       "    <tr>\n",
       "      <th>4</th>\n",
       "      <td>57</td>\n",
       "      <td>24.370000</td>\n",
       "      <td>0.000000</td>\n",
       "      <td>0.000000</td>\n",
       "      <td>6.000000</td>\n",
       "      <td>0.0</td>\n",
       "      <td>1.0</td>\n",
       "      <td>1.0</td>\n",
       "      <td>0.0</td>\n",
       "      <td>1.000000</td>\n",
       "      <td>...</td>\n",
       "      <td>0.0</td>\n",
       "      <td>0.000000</td>\n",
       "      <td>0.000000</td>\n",
       "      <td>1.000000</td>\n",
       "      <td>0.000000</td>\n",
       "      <td>1.0</td>\n",
       "      <td>0.0</td>\n",
       "      <td>1.0</td>\n",
       "      <td>0.0</td>\n",
       "      <td>0</td>\n",
       "    </tr>\n",
       "    <tr>\n",
       "      <th>...</th>\n",
       "      <td>...</td>\n",
       "      <td>...</td>\n",
       "      <td>...</td>\n",
       "      <td>...</td>\n",
       "      <td>...</td>\n",
       "      <td>...</td>\n",
       "      <td>...</td>\n",
       "      <td>...</td>\n",
       "      <td>...</td>\n",
       "      <td>...</td>\n",
       "      <td>...</td>\n",
       "      <td>...</td>\n",
       "      <td>...</td>\n",
       "      <td>...</td>\n",
       "      <td>...</td>\n",
       "      <td>...</td>\n",
       "      <td>...</td>\n",
       "      <td>...</td>\n",
       "      <td>...</td>\n",
       "      <td>...</td>\n",
       "      <td>...</td>\n",
       "    </tr>\n",
       "    <tr>\n",
       "      <th>18186</th>\n",
       "      <td>21</td>\n",
       "      <td>28.543184</td>\n",
       "      <td>0.000000</td>\n",
       "      <td>3.006456</td>\n",
       "      <td>7.000000</td>\n",
       "      <td>1.0</td>\n",
       "      <td>0.0</td>\n",
       "      <td>1.0</td>\n",
       "      <td>0.0</td>\n",
       "      <td>1.000000</td>\n",
       "      <td>...</td>\n",
       "      <td>0.0</td>\n",
       "      <td>0.000000</td>\n",
       "      <td>0.429494</td>\n",
       "      <td>0.570506</td>\n",
       "      <td>0.429494</td>\n",
       "      <td>1.0</td>\n",
       "      <td>0.0</td>\n",
       "      <td>1.0</td>\n",
       "      <td>0.0</td>\n",
       "      <td>1</td>\n",
       "    </tr>\n",
       "    <tr>\n",
       "      <th>18187</th>\n",
       "      <td>77</td>\n",
       "      <td>27.897295</td>\n",
       "      <td>0.000000</td>\n",
       "      <td>0.000000</td>\n",
       "      <td>7.601221</td>\n",
       "      <td>0.0</td>\n",
       "      <td>1.0</td>\n",
       "      <td>1.0</td>\n",
       "      <td>0.0</td>\n",
       "      <td>1.000000</td>\n",
       "      <td>...</td>\n",
       "      <td>0.0</td>\n",
       "      <td>0.000000</td>\n",
       "      <td>0.000000</td>\n",
       "      <td>1.000000</td>\n",
       "      <td>0.000000</td>\n",
       "      <td>1.0</td>\n",
       "      <td>0.0</td>\n",
       "      <td>1.0</td>\n",
       "      <td>0.0</td>\n",
       "      <td>1</td>\n",
       "    </tr>\n",
       "    <tr>\n",
       "      <th>18188</th>\n",
       "      <td>62</td>\n",
       "      <td>25.113406</td>\n",
       "      <td>11.811977</td>\n",
       "      <td>29.529944</td>\n",
       "      <td>4.376045</td>\n",
       "      <td>0.0</td>\n",
       "      <td>1.0</td>\n",
       "      <td>1.0</td>\n",
       "      <td>0.0</td>\n",
       "      <td>0.094011</td>\n",
       "      <td>...</td>\n",
       "      <td>0.0</td>\n",
       "      <td>0.905989</td>\n",
       "      <td>0.094011</td>\n",
       "      <td>1.000000</td>\n",
       "      <td>0.000000</td>\n",
       "      <td>1.0</td>\n",
       "      <td>0.0</td>\n",
       "      <td>1.0</td>\n",
       "      <td>0.0</td>\n",
       "      <td>1</td>\n",
       "    </tr>\n",
       "    <tr>\n",
       "      <th>18189</th>\n",
       "      <td>72</td>\n",
       "      <td>32.951941</td>\n",
       "      <td>0.000000</td>\n",
       "      <td>0.000000</td>\n",
       "      <td>7.135611</td>\n",
       "      <td>0.0</td>\n",
       "      <td>1.0</td>\n",
       "      <td>1.0</td>\n",
       "      <td>0.0</td>\n",
       "      <td>1.000000</td>\n",
       "      <td>...</td>\n",
       "      <td>0.0</td>\n",
       "      <td>0.000000</td>\n",
       "      <td>1.000000</td>\n",
       "      <td>1.000000</td>\n",
       "      <td>0.000000</td>\n",
       "      <td>1.0</td>\n",
       "      <td>0.0</td>\n",
       "      <td>1.0</td>\n",
       "      <td>0.0</td>\n",
       "      <td>1</td>\n",
       "    </tr>\n",
       "    <tr>\n",
       "      <th>18190</th>\n",
       "      <td>67</td>\n",
       "      <td>31.860839</td>\n",
       "      <td>30.000000</td>\n",
       "      <td>30.000000</td>\n",
       "      <td>6.188893</td>\n",
       "      <td>0.0</td>\n",
       "      <td>1.0</td>\n",
       "      <td>1.0</td>\n",
       "      <td>0.0</td>\n",
       "      <td>1.000000</td>\n",
       "      <td>...</td>\n",
       "      <td>0.0</td>\n",
       "      <td>0.000000</td>\n",
       "      <td>0.000000</td>\n",
       "      <td>0.094447</td>\n",
       "      <td>0.905553</td>\n",
       "      <td>1.0</td>\n",
       "      <td>0.0</td>\n",
       "      <td>1.0</td>\n",
       "      <td>0.0</td>\n",
       "      <td>1</td>\n",
       "    </tr>\n",
       "  </tbody>\n",
       "</table>\n",
       "<p>18191 rows × 39 columns</p>\n",
       "</div>"
      ],
      "text/plain": [
       "       AgeCategory        BMI  MentalHealth  PhysicalHealth  SleepTime  \\\n",
       "0               80  25.820000     30.000000        0.000000   8.000000   \n",
       "1               62  29.180000     30.000000       30.000000   6.000000   \n",
       "2               62  24.020000      0.000000        7.000000   6.000000   \n",
       "3               80  25.540000      0.000000        0.000000   6.000000   \n",
       "4               57  24.370000      0.000000        0.000000   6.000000   \n",
       "...            ...        ...           ...             ...        ...   \n",
       "18186           21  28.543184      0.000000        3.006456   7.000000   \n",
       "18187           77  27.897295      0.000000        0.000000   7.601221   \n",
       "18188           62  25.113406     11.811977       29.529944   4.376045   \n",
       "18189           72  32.951941      0.000000        0.000000   7.135611   \n",
       "18190           67  31.860839     30.000000       30.000000   6.188893   \n",
       "\n",
       "       Smoking_No  Smoking_Yes  AlcoholDrinking_No  AlcoholDrinking_Yes  \\\n",
       "0             0.0          1.0                 1.0                  0.0   \n",
       "1             0.0          1.0                 1.0                  0.0   \n",
       "2             1.0          0.0                 0.0                  1.0   \n",
       "3             0.0          1.0                 1.0                  0.0   \n",
       "4             0.0          1.0                 1.0                  0.0   \n",
       "...           ...          ...                 ...                  ...   \n",
       "18186         1.0          0.0                 1.0                  0.0   \n",
       "18187         0.0          1.0                 1.0                  0.0   \n",
       "18188         0.0          1.0                 1.0                  0.0   \n",
       "18189         0.0          1.0                 1.0                  0.0   \n",
       "18190         0.0          1.0                 1.0                  0.0   \n",
       "\n",
       "       Stroke_No  ...  GenHealth_Good  GenHealth_Poor  GenHealth_Very good  \\\n",
       "0       1.000000  ...             0.0        0.000000             0.000000   \n",
       "1       1.000000  ...             0.0        1.000000             0.000000   \n",
       "2       1.000000  ...             0.0        0.000000             0.000000   \n",
       "3       0.000000  ...             0.0        0.000000             0.000000   \n",
       "4       1.000000  ...             0.0        0.000000             0.000000   \n",
       "...          ...  ...             ...             ...                  ...   \n",
       "18186   1.000000  ...             0.0        0.000000             0.429494   \n",
       "18187   1.000000  ...             0.0        0.000000             0.000000   \n",
       "18188   0.094011  ...             0.0        0.905989             0.094011   \n",
       "18189   1.000000  ...             0.0        0.000000             1.000000   \n",
       "18190   1.000000  ...             0.0        0.000000             0.000000   \n",
       "\n",
       "       Asthma_No  Asthma_Yes  KidneyDisease_No  KidneyDisease_Yes  \\\n",
       "0       1.000000    0.000000               1.0                0.0   \n",
       "1       0.000000    1.000000               1.0                0.0   \n",
       "2       1.000000    0.000000               1.0                0.0   \n",
       "3       0.000000    1.000000               1.0                0.0   \n",
       "4       1.000000    0.000000               1.0                0.0   \n",
       "...          ...         ...               ...                ...   \n",
       "18186   0.570506    0.429494               1.0                0.0   \n",
       "18187   1.000000    0.000000               1.0                0.0   \n",
       "18188   1.000000    0.000000               1.0                0.0   \n",
       "18189   1.000000    0.000000               1.0                0.0   \n",
       "18190   0.094447    0.905553               1.0                0.0   \n",
       "\n",
       "       SkinCancer_No  SkinCancer_Yes  HeartDisease  \n",
       "0                1.0             0.0             0  \n",
       "1                1.0             0.0             0  \n",
       "2                1.0             0.0             0  \n",
       "3                1.0             0.0             0  \n",
       "4                1.0             0.0             0  \n",
       "...              ...             ...           ...  \n",
       "18186            1.0             0.0             1  \n",
       "18187            1.0             0.0             1  \n",
       "18188            1.0             0.0             1  \n",
       "18189            1.0             0.0             1  \n",
       "18190            1.0             0.0             1  \n",
       "\n",
       "[18191 rows x 39 columns]"
      ]
     },
     "execution_count": 97,
     "metadata": {},
     "output_type": "execute_result"
    }
   ],
   "source": [
    "DF_toml"
   ]
  },
  {
   "cell_type": "markdown",
   "id": "2a1488a8",
   "metadata": {},
   "source": [
    " # <font color=\"Green\">Normalize  :</font>"
   ]
  },
  {
   "cell_type": "code",
   "execution_count": null,
   "id": "08005512",
   "metadata": {},
   "outputs": [],
   "source": []
  },
  {
   "cell_type": "code",
   "execution_count": null,
   "id": "0d164ef3",
   "metadata": {},
   "outputs": [],
   "source": []
  },
  {
   "cell_type": "code",
   "execution_count": null,
   "id": "0b5f495e",
   "metadata": {},
   "outputs": [],
   "source": []
  },
  {
   "cell_type": "code",
   "execution_count": null,
   "id": "1337f8d0",
   "metadata": {},
   "outputs": [],
   "source": []
  },
  {
   "cell_type": "code",
   "execution_count": null,
   "id": "78660253",
   "metadata": {},
   "outputs": [],
   "source": []
  },
  {
   "cell_type": "markdown",
   "id": "422b7052",
   "metadata": {},
   "source": [
    " # <font color=\"Green\">feature reduction  :</font>"
   ]
  },
  {
   "cell_type": "code",
   "execution_count": 98,
   "id": "c95ed876",
   "metadata": {},
   "outputs": [],
   "source": [
    "from sklearn.manifold import Isomap\n",
    "from sklearn.manifold import TSNE"
   ]
  },
  {
   "cell_type": "code",
   "execution_count": 99,
   "id": "61fd4f16",
   "metadata": {},
   "outputs": [],
   "source": [
    "from sklearn.decomposition import PCA,KernelPCA"
   ]
  },
  {
   "cell_type": "code",
   "execution_count": null,
   "id": "2fd05cda",
   "metadata": {},
   "outputs": [],
   "source": [
    "pca = KernelPCA(n_components=2,kernel='poly',random_state=3220,gamma=1,degree=50,coef0=100000)\n",
    "XPCA = pca.fit_transform(DF_toml.iloc[:,:-1])\n",
    "PLT.scatter(XPCA[:,0],range(0,len(XPCA)),c=DF_toml.iloc[:,-1])"
   ]
  },
  {
   "cell_type": "markdown",
   "id": "c47fd8d9",
   "metadata": {},
   "source": [
    " # <font color=\"Green\">modeling  :</font>"
   ]
  },
  {
   "cell_type": "code",
   "execution_count": null,
   "id": "c78eac13",
   "metadata": {},
   "outputs": [],
   "source": [
    "ZX = pd.concat([pd.DataFrame(XPCA),DF_toml.iloc[:,-1]],axis=1)\n",
    "\n",
    "X_train,X_test,Y_train,Y_test = train_test_split(ZX.iloc[:,:-1],ZX.iloc[:,-1],random_state=3020)\n",
    "\n",
    "svm_classifier = SVC(C=1,kernel='rbf')\n",
    "svm_classifier.fit(X_train,Y_train)\n",
    "predicted = svm_classifier.predict(X_test)\n",
    "\n",
    "print(metrics.classification_report(Y_test,predicted))\n",
    "print(metrics.confusion_matrix(Y_test,predicted))"
   ]
  },
  {
   "cell_type": "code",
   "execution_count": null,
   "id": "fe2f81b3",
   "metadata": {},
   "outputs": [],
   "source": [
    "X_train,X_test,Y_train,Y_test = train_test_split(DF_toml.iloc[:,:-1],DF_toml.iloc[:,-1],random_state=3020)\n",
    "\n",
    "svm_classifier = SVC(C=1,kernel='rbf')\n",
    "svm_classifier.fit(X_train,Y_train)\n",
    "predicted = svm_classifier.predict(X_test)\n",
    "\n",
    "print(metrics.classification_report(Y_test,predicted))\n",
    "print(metrics.confusion_matrix(Y_test,predicted))"
   ]
  },
  {
   "cell_type": "code",
   "execution_count": null,
   "id": "90eb17d8",
   "metadata": {},
   "outputs": [],
   "source": []
  },
  {
   "cell_type": "code",
   "execution_count": null,
   "id": "33fd6e14",
   "metadata": {},
   "outputs": [],
   "source": []
  },
  {
   "cell_type": "code",
   "execution_count": null,
   "id": "7672362d",
   "metadata": {},
   "outputs": [],
   "source": []
  },
  {
   "cell_type": "code",
   "execution_count": null,
   "id": "cb6817b2",
   "metadata": {},
   "outputs": [],
   "source": []
  },
  {
   "cell_type": "code",
   "execution_count": null,
   "id": "570abaec",
   "metadata": {},
   "outputs": [],
   "source": []
  },
  {
   "cell_type": "code",
   "execution_count": null,
   "id": "516a0ebc",
   "metadata": {},
   "outputs": [],
   "source": []
  },
  {
   "cell_type": "code",
   "execution_count": null,
   "id": "3c31d2d8",
   "metadata": {},
   "outputs": [],
   "source": []
  },
  {
   "cell_type": "code",
   "execution_count": null,
   "id": "b389e38d",
   "metadata": {},
   "outputs": [],
   "source": []
  },
  {
   "cell_type": "code",
   "execution_count": null,
   "id": "f6fef163",
   "metadata": {},
   "outputs": [],
   "source": []
  },
  {
   "cell_type": "code",
   "execution_count": null,
   "id": "f82e5ce5",
   "metadata": {},
   "outputs": [],
   "source": []
  },
  {
   "cell_type": "code",
   "execution_count": null,
   "id": "706a6d4f",
   "metadata": {},
   "outputs": [],
   "source": []
  }
 ],
 "metadata": {
  "kernelspec": {
   "display_name": "Python 3 (ipykernel)",
   "language": "python",
   "name": "python3"
  },
  "language_info": {
   "codemirror_mode": {
    "name": "ipython",
    "version": 3
   },
   "file_extension": ".py",
   "mimetype": "text/x-python",
   "name": "python",
   "nbconvert_exporter": "python",
   "pygments_lexer": "ipython3",
   "version": "3.9.12"
  }
 },
 "nbformat": 4,
 "nbformat_minor": 5
}
