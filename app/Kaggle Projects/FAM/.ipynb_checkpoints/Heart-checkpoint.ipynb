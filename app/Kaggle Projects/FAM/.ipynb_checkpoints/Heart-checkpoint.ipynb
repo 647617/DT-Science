{
 "cells": [
  {
   "cell_type": "markdown",
   "id": "afdf033c",
   "metadata": {},
   "source": [
    "# Imbalance Data"
   ]
  },
  {
   "cell_type": "code",
   "execution_count": 1,
   "id": "d0e4e8a8",
   "metadata": {},
   "outputs": [
    {
     "name": "stderr",
     "output_type": "stream",
     "text": [
      "/opt/conda/lib/python3.9/site-packages/xgboost/compat.py:36: FutureWarning: pandas.Int64Index is deprecated and will be removed from pandas in a future version. Use pandas.Index with the appropriate dtype instead.\n",
      "  from pandas import MultiIndex, Int64Index\n"
     ]
    }
   ],
   "source": [
    "import pandas as pd\n",
    "import numpy  as np\n",
    "import seaborn as SB\n",
    "import matplotlib.pyplot as PLT\n",
    "import scipy.stats as STATS\n",
    "from sklearn.model_selection import train_test_split\n",
    "from sklearn.preprocessing import StandardScaler\n",
    "from sklearn.preprocessing import MinMaxScaler\n",
    "from sklearn import metrics\n",
    "from sklearn.preprocessing import Normalizer\n",
    "from sklearn.preprocessing import LabelEncoder\n",
    "from sklearn.compose import ColumnTransformer\n",
    "from sklearn.preprocessing import OneHotEncoder\n",
    "from sklearn.ensemble import GradientBoostingRegressor\n",
    "from sklearn.metrics import mean_absolute_error,r2_score\n",
    "from sklearn import metrics\n",
    "import random\n",
    "from sklearn.svm import SVC\n",
    "from catboost import CatBoostClassifier\n"
   ]
  },
  {
   "cell_type": "code",
   "execution_count": 2,
   "id": "607101a5",
   "metadata": {},
   "outputs": [],
   "source": [
    "n = 10000\n",
    "skip = sorted(random.sample(range(1,319795),319795-n))\n",
    "DF = pd.read_csv('../../datasets/heart_2020_cleaned.csv',skiprows=skip).reset_index().rename(columns={'index':'id'})"
   ]
  },
  {
   "cell_type": "code",
   "execution_count": 3,
   "id": "fec2473d",
   "metadata": {},
   "outputs": [],
   "source": [
    "CatCols = [\n",
    "    'Smoking','AlcoholDrinking','Stroke','DiffWalking','Sex','AgeCategory','Race','Diabetic',\n",
    "    'PhysicalActivity','GenHealth','Asthma','KidneyDisease','SkinCancer'\n",
    "]\n",
    "NumCols = [\n",
    "    'BMI', 'PhysicalHealth', 'MentalHealth', 'SleepTime'\n",
    "]\n",
    "\n",
    "X = DF[DF.columns.difference(['id','HeartDisease'])]\n",
    "Y = DF['HeartDisease']"
   ]
  },
  {
   "cell_type": "code",
   "execution_count": 4,
   "id": "df122b59",
   "metadata": {},
   "outputs": [
    {
     "data": {
      "text/html": [
       "<div>\n",
       "<style scoped>\n",
       "    .dataframe tbody tr th:only-of-type {\n",
       "        vertical-align: middle;\n",
       "    }\n",
       "\n",
       "    .dataframe tbody tr th {\n",
       "        vertical-align: top;\n",
       "    }\n",
       "\n",
       "    .dataframe thead th {\n",
       "        text-align: right;\n",
       "    }\n",
       "</style>\n",
       "<table border=\"1\" class=\"dataframe\">\n",
       "  <thead>\n",
       "    <tr style=\"text-align: right;\">\n",
       "      <th></th>\n",
       "      <th>AgeCategory</th>\n",
       "      <th>AlcoholDrinking</th>\n",
       "      <th>Asthma</th>\n",
       "      <th>BMI</th>\n",
       "      <th>Diabetic</th>\n",
       "      <th>DiffWalking</th>\n",
       "      <th>GenHealth</th>\n",
       "      <th>KidneyDisease</th>\n",
       "      <th>MentalHealth</th>\n",
       "      <th>PhysicalActivity</th>\n",
       "      <th>PhysicalHealth</th>\n",
       "      <th>Race</th>\n",
       "      <th>Sex</th>\n",
       "      <th>SkinCancer</th>\n",
       "      <th>SleepTime</th>\n",
       "      <th>Smoking</th>\n",
       "      <th>Stroke</th>\n",
       "    </tr>\n",
       "  </thead>\n",
       "  <tbody>\n",
       "    <tr>\n",
       "      <th>0</th>\n",
       "      <td>70-74</td>\n",
       "      <td>No</td>\n",
       "      <td>No</td>\n",
       "      <td>26.26</td>\n",
       "      <td>No</td>\n",
       "      <td>No</td>\n",
       "      <td>Very good</td>\n",
       "      <td>No</td>\n",
       "      <td>2.0</td>\n",
       "      <td>No</td>\n",
       "      <td>5.0</td>\n",
       "      <td>White</td>\n",
       "      <td>Female</td>\n",
       "      <td>No</td>\n",
       "      <td>10.0</td>\n",
       "      <td>No</td>\n",
       "      <td>No</td>\n",
       "    </tr>\n",
       "    <tr>\n",
       "      <th>1</th>\n",
       "      <td>80 or older</td>\n",
       "      <td>No</td>\n",
       "      <td>No</td>\n",
       "      <td>24.62</td>\n",
       "      <td>No</td>\n",
       "      <td>No</td>\n",
       "      <td>Good</td>\n",
       "      <td>No</td>\n",
       "      <td>0.0</td>\n",
       "      <td>Yes</td>\n",
       "      <td>5.0</td>\n",
       "      <td>White</td>\n",
       "      <td>Female</td>\n",
       "      <td>No</td>\n",
       "      <td>6.0</td>\n",
       "      <td>No</td>\n",
       "      <td>No</td>\n",
       "    </tr>\n",
       "    <tr>\n",
       "      <th>2</th>\n",
       "      <td>65-69</td>\n",
       "      <td>No</td>\n",
       "      <td>Yes</td>\n",
       "      <td>26.61</td>\n",
       "      <td>No</td>\n",
       "      <td>No</td>\n",
       "      <td>Good</td>\n",
       "      <td>No</td>\n",
       "      <td>0.0</td>\n",
       "      <td>Yes</td>\n",
       "      <td>0.0</td>\n",
       "      <td>White</td>\n",
       "      <td>Female</td>\n",
       "      <td>No</td>\n",
       "      <td>12.0</td>\n",
       "      <td>No</td>\n",
       "      <td>No</td>\n",
       "    </tr>\n",
       "    <tr>\n",
       "      <th>3</th>\n",
       "      <td>55-59</td>\n",
       "      <td>No</td>\n",
       "      <td>No</td>\n",
       "      <td>34.41</td>\n",
       "      <td>No</td>\n",
       "      <td>No</td>\n",
       "      <td>Good</td>\n",
       "      <td>No</td>\n",
       "      <td>30.0</td>\n",
       "      <td>Yes</td>\n",
       "      <td>0.0</td>\n",
       "      <td>White</td>\n",
       "      <td>Female</td>\n",
       "      <td>No</td>\n",
       "      <td>9.0</td>\n",
       "      <td>No</td>\n",
       "      <td>No</td>\n",
       "    </tr>\n",
       "    <tr>\n",
       "      <th>4</th>\n",
       "      <td>70-74</td>\n",
       "      <td>No</td>\n",
       "      <td>No</td>\n",
       "      <td>22.60</td>\n",
       "      <td>No</td>\n",
       "      <td>No</td>\n",
       "      <td>Very good</td>\n",
       "      <td>No</td>\n",
       "      <td>0.0</td>\n",
       "      <td>Yes</td>\n",
       "      <td>0.0</td>\n",
       "      <td>White</td>\n",
       "      <td>Female</td>\n",
       "      <td>No</td>\n",
       "      <td>8.0</td>\n",
       "      <td>Yes</td>\n",
       "      <td>No</td>\n",
       "    </tr>\n",
       "  </tbody>\n",
       "</table>\n",
       "</div>"
      ],
      "text/plain": [
       "   AgeCategory AlcoholDrinking Asthma    BMI Diabetic DiffWalking  GenHealth  \\\n",
       "0        70-74              No     No  26.26       No          No  Very good   \n",
       "1  80 or older              No     No  24.62       No          No       Good   \n",
       "2        65-69              No    Yes  26.61       No          No       Good   \n",
       "3        55-59              No     No  34.41       No          No       Good   \n",
       "4        70-74              No     No  22.60       No          No  Very good   \n",
       "\n",
       "  KidneyDisease  MentalHealth PhysicalActivity  PhysicalHealth   Race     Sex  \\\n",
       "0            No           2.0               No             5.0  White  Female   \n",
       "1            No           0.0              Yes             5.0  White  Female   \n",
       "2            No           0.0              Yes             0.0  White  Female   \n",
       "3            No          30.0              Yes             0.0  White  Female   \n",
       "4            No           0.0              Yes             0.0  White  Female   \n",
       "\n",
       "  SkinCancer  SleepTime Smoking Stroke  \n",
       "0         No       10.0      No     No  \n",
       "1         No        6.0      No     No  \n",
       "2         No       12.0      No     No  \n",
       "3         No        9.0      No     No  \n",
       "4         No        8.0     Yes     No  "
      ]
     },
     "execution_count": 4,
     "metadata": {},
     "output_type": "execute_result"
    }
   ],
   "source": [
    "X.head()"
   ]
  },
  {
   "cell_type": "markdown",
   "id": "c86a7d43",
   "metadata": {},
   "source": [
    "# <font color=\"Brown\">BMI :</font>"
   ]
  },
  {
   "cell_type": "code",
   "execution_count": 5,
   "id": "6c8dede4",
   "metadata": {},
   "outputs": [
    {
     "data": {
      "text/plain": [
       "count    10000.000000\n",
       "mean        28.260899\n",
       "std          6.320833\n",
       "min         13.560000\n",
       "25%         24.030000\n",
       "50%         27.260000\n",
       "75%         31.380000\n",
       "max         93.860000\n",
       "Name: BMI, dtype: float64"
      ]
     },
     "execution_count": 5,
     "metadata": {},
     "output_type": "execute_result"
    }
   ],
   "source": [
    "X['BMI'].describe() "
   ]
  },
  {
   "cell_type": "code",
   "execution_count": 6,
   "id": "9350cd96",
   "metadata": {},
   "outputs": [],
   "source": [
    "# normal range 10 ~ 50"
   ]
  },
  {
   "cell_type": "code",
   "execution_count": 7,
   "id": "1bbcee7e",
   "metadata": {
    "scrolled": true
   },
   "outputs": [
    {
     "data": {
      "text/html": [
       "<div>\n",
       "<style scoped>\n",
       "    .dataframe tbody tr th:only-of-type {\n",
       "        vertical-align: middle;\n",
       "    }\n",
       "\n",
       "    .dataframe tbody tr th {\n",
       "        vertical-align: top;\n",
       "    }\n",
       "\n",
       "    .dataframe thead th {\n",
       "        text-align: right;\n",
       "    }\n",
       "</style>\n",
       "<table border=\"1\" class=\"dataframe\">\n",
       "  <thead>\n",
       "    <tr style=\"text-align: right;\">\n",
       "      <th></th>\n",
       "      <th>count</th>\n",
       "      <th>mean</th>\n",
       "      <th>std</th>\n",
       "      <th>min</th>\n",
       "      <th>25%</th>\n",
       "      <th>50%</th>\n",
       "      <th>75%</th>\n",
       "      <th>max</th>\n",
       "    </tr>\n",
       "    <tr>\n",
       "      <th>Sex</th>\n",
       "      <th></th>\n",
       "      <th></th>\n",
       "      <th></th>\n",
       "      <th></th>\n",
       "      <th></th>\n",
       "      <th></th>\n",
       "      <th></th>\n",
       "      <th></th>\n",
       "    </tr>\n",
       "  </thead>\n",
       "  <tbody>\n",
       "    <tr>\n",
       "      <th>Female</th>\n",
       "      <td>5085.0</td>\n",
       "      <td>27.787746</td>\n",
       "      <td>6.219946</td>\n",
       "      <td>13.73</td>\n",
       "      <td>23.23</td>\n",
       "      <td>26.63</td>\n",
       "      <td>31.25</td>\n",
       "      <td>49.61</td>\n",
       "    </tr>\n",
       "    <tr>\n",
       "      <th>Male</th>\n",
       "      <td>4844.0</td>\n",
       "      <td>28.343499</td>\n",
       "      <td>5.381595</td>\n",
       "      <td>13.56</td>\n",
       "      <td>24.41</td>\n",
       "      <td>27.41</td>\n",
       "      <td>31.24</td>\n",
       "      <td>49.92</td>\n",
       "    </tr>\n",
       "  </tbody>\n",
       "</table>\n",
       "</div>"
      ],
      "text/plain": [
       "         count       mean       std    min    25%    50%    75%    max\n",
       "Sex                                                                   \n",
       "Female  5085.0  27.787746  6.219946  13.73  23.23  26.63  31.25  49.61\n",
       "Male    4844.0  28.343499  5.381595  13.56  24.41  27.41  31.24  49.92"
      ]
     },
     "execution_count": 7,
     "metadata": {},
     "output_type": "execute_result"
    }
   ],
   "source": [
    "X[X['BMI']<=50].groupby(['Sex'])['BMI'].describe()"
   ]
  },
  {
   "cell_type": "code",
   "execution_count": 8,
   "id": "3693f967",
   "metadata": {},
   "outputs": [
    {
     "data": {
      "image/png": "[encoded data removed]",
      "text/plain": [
       "<Figure size 432x288 with 1 Axes>"
      ]
     },
     "metadata": {
      "needs_background": "light"
     },
     "output_type": "display_data"
    }
   ],
   "source": [
    "BMI_Normal_Range = X[X['BMI']<=50]\n",
    "BMI_Normal_Range.groupby(['Sex'])['BMI'].hist()\n",
    "PLT.show()"
   ]
  },
  {
   "cell_type": "code",
   "execution_count": 9,
   "id": "98eac83f",
   "metadata": {},
   "outputs": [
    {
     "data": {
      "image/png": "[encoded data removed]",
      "text/plain": [
       "<Figure size 432x288 with 1 Axes>"
      ]
     },
     "metadata": {
      "needs_background": "light"
     },
     "output_type": "display_data"
    }
   ],
   "source": [
    "BMI_Out_Of_Range = X[X['BMI']>50]\n",
    "BMI_Out_Of_Range.groupby(['Sex'])['BMI'].hist()\n",
    "PLT.show()"
   ]
  },
  {
   "cell_type": "code",
   "execution_count": 10,
   "id": "e1c52e0d",
   "metadata": {},
   "outputs": [],
   "source": [
    "# Drop rows with out of rage BMI\n",
    "X = X.drop(BMI_Out_Of_Range.index,errors='ignore')"
   ]
  },
  {
   "cell_type": "code",
   "execution_count": 11,
   "id": "ee0e0b88",
   "metadata": {},
   "outputs": [
    {
     "data": {
      "text/plain": [
       "<matplotlib.legend.Legend at 0x7fe96ece6d30>"
      ]
     },
     "execution_count": 11,
     "metadata": {},
     "output_type": "execute_result"
    },
    {
     "data": {
      "image/png": "[encoded data removed]",
      "text/plain": [
       "<Figure size 720x360 with 1 Axes>"
      ]
     },
     "metadata": {
      "needs_background": "light"
     },
     "output_type": "display_data"
    }
   ],
   "source": [
    "PLT.figure(figsize=(10,5))\n",
    "SB.boxplot(x=X['Sex'],y=X['BMI'], hue=X['PhysicalActivity']).legend(loc='upper right')"
   ]
  },
  {
   "cell_type": "markdown",
   "id": "4c89b9f3",
   "metadata": {},
   "source": [
    "# <font color=\"Brown\">AlcoholDrinking :</font>"
   ]
  },
  {
   "cell_type": "code",
   "execution_count": 12,
   "id": "454925f8",
   "metadata": {},
   "outputs": [
    {
     "data": {
      "text/plain": [
       "count     9929\n",
       "unique       2\n",
       "top         No\n",
       "freq      9276\n",
       "Name: AlcoholDrinking, dtype: object"
      ]
     },
     "execution_count": 12,
     "metadata": {},
     "output_type": "execute_result"
    }
   ],
   "source": [
    "X['AlcoholDrinking'].describe()"
   ]
  },
  {
   "cell_type": "code",
   "execution_count": 13,
   "id": "1f0c6ae2",
   "metadata": {},
   "outputs": [
    {
     "data": {
      "text/plain": [
       "No     9276\n",
       "Yes     653\n",
       "Name: AlcoholDrinking, dtype: int64"
      ]
     },
     "execution_count": 13,
     "metadata": {},
     "output_type": "execute_result"
    }
   ],
   "source": [
    "X['AlcoholDrinking'].value_counts()"
   ]
  },
  {
   "cell_type": "markdown",
   "id": "a1cfd872",
   "metadata": {},
   "source": [
    "# <font color=\"Brown\">AgeCategory :</font>"
   ]
  },
  {
   "cell_type": "code",
   "execution_count": 14,
   "id": "a7d18962",
   "metadata": {},
   "outputs": [
    {
     "data": {
      "text/plain": [
       "count      9929\n",
       "unique       13\n",
       "top       60-64\n",
       "freq       1064\n",
       "Name: AgeCategory, dtype: object"
      ]
     },
     "execution_count": 14,
     "metadata": {},
     "output_type": "execute_result"
    }
   ],
   "source": [
    "X['AgeCategory'].describe()"
   ]
  },
  {
   "cell_type": "code",
   "execution_count": 15,
   "id": "c86075eb",
   "metadata": {},
   "outputs": [
    {
     "data": {
      "text/plain": [
       "60-64          1064\n",
       "65-69          1037\n",
       "70-74           943\n",
       "55-59           898\n",
       "50-54           788\n",
       "80 or older     775\n",
       "18-24           672\n",
       "75-79           668\n",
       "45-49           658\n",
       "40-44           646\n",
       "35-39           644\n",
       "30-34           600\n",
       "25-29           536\n",
       "Name: AgeCategory, dtype: int64"
      ]
     },
     "execution_count": 15,
     "metadata": {},
     "output_type": "execute_result"
    }
   ],
   "source": [
    "X['AgeCategory'].value_counts()"
   ]
  },
  {
   "cell_type": "code",
   "execution_count": 16,
   "id": "a879a7f4",
   "metadata": {},
   "outputs": [],
   "source": [
    "_1 = X[X['AgeCategory']!='80 or older']['AgeCategory'].str.split('-').apply(\n",
    "    lambda x : (int(x[0])+int(x[1]))/2\n",
    ")\n",
    "_2 = X[X['AgeCategory']=='80 or older']['AgeCategory'].str.split(' or ').apply(\n",
    "    lambda x : 80\n",
    ")\n",
    "X.loc[_1.index,'AgeCategory'] = _1\n",
    "X.loc[_2.index,'AgeCategory'] = _2\n",
    "del _1,_2"
   ]
  },
  {
   "cell_type": "code",
   "execution_count": 17,
   "id": "2a7cacd3",
   "metadata": {},
   "outputs": [],
   "source": [
    "X['AgeCategory'] = X['AgeCategory'].astype(np.int64) "
   ]
  },
  {
   "cell_type": "code",
   "execution_count": 18,
   "id": "bf30761f",
   "metadata": {},
   "outputs": [
    {
     "data": {
      "text/plain": [
       "count    9929.000000\n",
       "mean       54.246248\n",
       "std        17.843890\n",
       "min        21.000000\n",
       "25%        42.000000\n",
       "50%        57.000000\n",
       "75%        67.000000\n",
       "max        80.000000\n",
       "Name: AgeCategory, dtype: float64"
      ]
     },
     "execution_count": 18,
     "metadata": {},
     "output_type": "execute_result"
    }
   ],
   "source": [
    "X['AgeCategory'].describe()"
   ]
  },
  {
   "cell_type": "code",
   "execution_count": 19,
   "id": "65c967e3",
   "metadata": {
    "scrolled": true
   },
   "outputs": [
    {
     "data": {
      "text/plain": [
       "<AxesSubplot:>"
      ]
     },
     "execution_count": 19,
     "metadata": {},
     "output_type": "execute_result"
    },
    {
     "data": {
      "image/png": "[encoded data removed]",
      "text/plain": [
       "<Figure size 432x288 with 1 Axes>"
      ]
     },
     "metadata": {
      "needs_background": "light"
     },
     "output_type": "display_data"
    }
   ],
   "source": [
    "X['AgeCategory'].hist()"
   ]
  },
  {
   "cell_type": "code",
   "execution_count": 20,
   "id": "e1c356df",
   "metadata": {},
   "outputs": [
    {
     "data": {
      "image/png": "[encoded data removed]",
      "text/plain": [
       "<Figure size 432x288 with 1 Axes>"
      ]
     },
     "metadata": {
      "needs_background": "light"
     },
     "output_type": "display_data"
    }
   ],
   "source": [
    "X.groupby(['Sex'])['AgeCategory'].hist()\n",
    "PLT.show()"
   ]
  },
  {
   "cell_type": "code",
   "execution_count": 21,
   "id": "be5ca5f3",
   "metadata": {
    "scrolled": true
   },
   "outputs": [
    {
     "data": {
      "text/plain": [
       "<matplotlib.legend.Legend at 0x7fe96fd0c0d0>"
      ]
     },
     "execution_count": 21,
     "metadata": {},
     "output_type": "execute_result"
    },
    {
     "data": {
      "image/png": "[encoded data removed]",
      "text/plain": [
       "<Figure size 720x360 with 1 Axes>"
      ]
     },
     "metadata": {
      "needs_background": "light"
     },
     "output_type": "display_data"
    }
   ],
   "source": [
    "PLT.figure(figsize=(10,5))\n",
    "SB.boxplot(x=X['Sex'],y=X['AgeCategory'], hue=X['Asthma']).legend(loc='upper right')"
   ]
  },
  {
   "cell_type": "code",
   "execution_count": 22,
   "id": "7ce2ae17",
   "metadata": {},
   "outputs": [
    {
     "data": {
      "text/plain": [
       "<matplotlib.legend.Legend at 0x7fe96e993f10>"
      ]
     },
     "execution_count": 22,
     "metadata": {},
     "output_type": "execute_result"
    },
    {
     "data": {
      "image/png": "[encoded data removed]",
      "text/plain": [
       "<Figure size 720x360 with 1 Axes>"
      ]
     },
     "metadata": {
      "needs_background": "light"
     },
     "output_type": "display_data"
    }
   ],
   "source": [
    "PLT.figure(figsize=(10,5))\n",
    "SB.boxplot(x=X['Sex'],y=X['AgeCategory'], hue=X['Smoking']).legend(loc='upper right')"
   ]
  },
  {
   "cell_type": "code",
   "execution_count": 23,
   "id": "5abaa4f8",
   "metadata": {
    "scrolled": true
   },
   "outputs": [
    {
     "data": {
      "text/plain": [
       "<matplotlib.legend.Legend at 0x7fe96e97bfd0>"
      ]
     },
     "execution_count": 23,
     "metadata": {},
     "output_type": "execute_result"
    },
    {
     "data": {
      "image/png": "[encoded data removed]",
      "text/plain": [
       "<Figure size 720x360 with 1 Axes>"
      ]
     },
     "metadata": {
      "needs_background": "light"
     },
     "output_type": "display_data"
    }
   ],
   "source": [
    "PLT.figure(figsize=(10,5))\n",
    "SB.boxplot(x=X['Sex'],y=X['AgeCategory'], hue=X['Stroke']).legend(loc='upper right')"
   ]
  },
  {
   "cell_type": "code",
   "execution_count": 24,
   "id": "9e644bff",
   "metadata": {},
   "outputs": [
    {
     "data": {
      "text/plain": [
       "<matplotlib.legend.Legend at 0x7fe96eb00130>"
      ]
     },
     "execution_count": 24,
     "metadata": {},
     "output_type": "execute_result"
    },
    {
     "data": {
      "image/png": "[encoded data removed]",
      "text/plain": [
       "<Figure size 720x360 with 1 Axes>"
      ]
     },
     "metadata": {
      "needs_background": "light"
     },
     "output_type": "display_data"
    }
   ],
   "source": [
    "PLT.figure(figsize=(10,5))\n",
    "SB.boxplot(x=X['Sex'],y=X['AgeCategory'], hue=X['KidneyDisease']).legend(loc='upper right')"
   ]
  },
  {
   "cell_type": "code",
   "execution_count": 25,
   "id": "cf99c190",
   "metadata": {},
   "outputs": [],
   "source": [
    "CatCols = [\n",
    "    'Smoking','AlcoholDrinking','Stroke','DiffWalking','Sex','Race','Diabetic',\n",
    "    'PhysicalActivity','GenHealth','Asthma','KidneyDisease','SkinCancer'\n",
    "]\n",
    "NumCols = [\n",
    "    'BMI', 'PhysicalHealth', 'MentalHealth', 'SleepTime','AgeCategory'\n",
    "]"
   ]
  },
  {
   "cell_type": "markdown",
   "id": "ed246ea2",
   "metadata": {},
   "source": [
    "# <font color=\"Brown\">Asthma :</font>"
   ]
  },
  {
   "cell_type": "code",
   "execution_count": 26,
   "id": "c077fb26",
   "metadata": {},
   "outputs": [
    {
     "data": {
      "text/plain": [
       "No     8687\n",
       "Yes    1313\n",
       "Name: Asthma, dtype: int64"
      ]
     },
     "execution_count": 26,
     "metadata": {},
     "output_type": "execute_result"
    }
   ],
   "source": [
    "DF['Asthma'].value_counts()"
   ]
  },
  {
   "cell_type": "code",
   "execution_count": 27,
   "id": "29a5bff2",
   "metadata": {},
   "outputs": [
    {
     "data": {
      "text/plain": [
       "count     10000\n",
       "unique        2\n",
       "top          No\n",
       "freq       8687\n",
       "Name: Asthma, dtype: object"
      ]
     },
     "execution_count": 27,
     "metadata": {},
     "output_type": "execute_result"
    }
   ],
   "source": [
    "DF['Asthma'].describe()"
   ]
  },
  {
   "cell_type": "code",
   "execution_count": 28,
   "id": "092f63b5",
   "metadata": {},
   "outputs": [
    {
     "data": {
      "text/plain": [
       "0"
      ]
     },
     "execution_count": 28,
     "metadata": {},
     "output_type": "execute_result"
    }
   ],
   "source": [
    "DF['Asthma'].isnull().sum()"
   ]
  },
  {
   "cell_type": "markdown",
   "id": "db58f269",
   "metadata": {},
   "source": [
    "# <font color=\"Brown\">Diabetic :</font>"
   ]
  },
  {
   "cell_type": "code",
   "execution_count": 29,
   "id": "8b4b5e64",
   "metadata": {},
   "outputs": [
    {
     "data": {
      "text/plain": [
       "No                         8394\n",
       "Yes                        1264\n",
       "No, borderline diabetes     185\n",
       "Yes (during pregnancy)       86\n",
       "Name: Diabetic, dtype: int64"
      ]
     },
     "execution_count": 29,
     "metadata": {},
     "output_type": "execute_result"
    }
   ],
   "source": [
    "X['Diabetic'].value_counts()"
   ]
  },
  {
   "cell_type": "code",
   "execution_count": 30,
   "id": "a7d51945",
   "metadata": {},
   "outputs": [
    {
     "data": {
      "text/plain": [
       "0"
      ]
     },
     "execution_count": 30,
     "metadata": {},
     "output_type": "execute_result"
    }
   ],
   "source": [
    "X['Diabetic'].isnull().sum()"
   ]
  },
  {
   "cell_type": "code",
   "execution_count": 31,
   "id": "ebdf3863",
   "metadata": {},
   "outputs": [
    {
     "data": {
      "text/plain": [
       "<matplotlib.legend.Legend at 0x7fe96e9d46a0>"
      ]
     },
     "execution_count": 31,
     "metadata": {},
     "output_type": "execute_result"
    },
    {
     "data": {
      "image/png": "[encoded data removed]",
      "text/plain": [
       "<Figure size 720x360 with 1 Axes>"
      ]
     },
     "metadata": {
      "needs_background": "light"
     },
     "output_type": "display_data"
    }
   ],
   "source": [
    "PLT.figure(figsize=(10,5))\n",
    "SB.boxplot(x=X['Diabetic'],y=X['BMI'], hue=X['Sex']).legend(loc='upper right')"
   ]
  },
  {
   "cell_type": "markdown",
   "id": "bebc570a",
   "metadata": {},
   "source": [
    "# <font color=\"Brown\">DiffWalking :</font>"
   ]
  },
  {
   "cell_type": "code",
   "execution_count": 32,
   "id": "eaf3ee9c",
   "metadata": {},
   "outputs": [
    {
     "data": {
      "text/plain": [
       "No     8586\n",
       "Yes    1343\n",
       "Name: DiffWalking, dtype: int64"
      ]
     },
     "execution_count": 32,
     "metadata": {},
     "output_type": "execute_result"
    }
   ],
   "source": [
    "X['DiffWalking'].value_counts()"
   ]
  },
  {
   "cell_type": "code",
   "execution_count": 33,
   "id": "b53d4cb6",
   "metadata": {},
   "outputs": [
    {
     "data": {
      "text/plain": [
       "0"
      ]
     },
     "execution_count": 33,
     "metadata": {},
     "output_type": "execute_result"
    }
   ],
   "source": [
    "X['DiffWalking'].isnull().sum()"
   ]
  },
  {
   "cell_type": "code",
   "execution_count": 34,
   "id": "6b94cf3f",
   "metadata": {
    "scrolled": true
   },
   "outputs": [
    {
     "data": {
      "text/plain": [
       "<matplotlib.legend.Legend at 0x7fe96e8b3970>"
      ]
     },
     "execution_count": 34,
     "metadata": {},
     "output_type": "execute_result"
    },
    {
     "data": {
      "image/png": "[encoded data removed]",
      "text/plain": [
       "<Figure size 1008x360 with 1 Axes>"
      ]
     },
     "metadata": {
      "needs_background": "light"
     },
     "output_type": "display_data"
    }
   ],
   "source": [
    "PLT.figure(figsize=(14,5))\n",
    "SB.boxplot(x=Y,y=X['AgeCategory'], hue=X['DiffWalking']).legend(loc='upper right',title='DiffWalking')"
   ]
  },
  {
   "cell_type": "code",
   "execution_count": 35,
   "id": "a33f19d2",
   "metadata": {},
   "outputs": [
    {
     "data": {
      "text/plain": [
       "<matplotlib.legend.Legend at 0x7fe96e7cdd30>"
      ]
     },
     "execution_count": 35,
     "metadata": {},
     "output_type": "execute_result"
    },
    {
     "data": {
      "image/png": "[encoded data removed]",
      "text/plain": [
       "<Figure size 576x360 with 1 Axes>"
      ]
     },
     "metadata": {
      "needs_background": "light"
     },
     "output_type": "display_data"
    }
   ],
   "source": [
    "PLT.figure(figsize=(8,5))\n",
    "SB.boxplot(x=X['Asthma'],y=X['AgeCategory'], hue=Y).legend(loc='upper right',title='HeartDisease')"
   ]
  },
  {
   "cell_type": "markdown",
   "id": "c48f3434",
   "metadata": {},
   "source": [
    "# <font color=\"Brown\">GenHealth :</font>"
   ]
  },
  {
   "cell_type": "code",
   "execution_count": 36,
   "id": "8cfdf746",
   "metadata": {},
   "outputs": [
    {
     "data": {
      "text/plain": [
       "count          9929\n",
       "unique            5\n",
       "top       Very good\n",
       "freq           3506\n",
       "Name: GenHealth, dtype: object"
      ]
     },
     "execution_count": 36,
     "metadata": {},
     "output_type": "execute_result"
    }
   ],
   "source": [
    "X['GenHealth'].describe()"
   ]
  },
  {
   "cell_type": "code",
   "execution_count": 37,
   "id": "9e9cef27",
   "metadata": {},
   "outputs": [
    {
     "data": {
      "text/plain": [
       "0"
      ]
     },
     "execution_count": 37,
     "metadata": {},
     "output_type": "execute_result"
    }
   ],
   "source": [
    "X['GenHealth'].isnull().sum()"
   ]
  },
  {
   "cell_type": "code",
   "execution_count": 38,
   "id": "1bd3b7cd",
   "metadata": {},
   "outputs": [
    {
     "data": {
      "text/plain": [
       "Very good    3506\n",
       "Good         2844\n",
       "Excellent    2137\n",
       "Fair         1106\n",
       "Poor          336\n",
       "Name: GenHealth, dtype: int64"
      ]
     },
     "execution_count": 38,
     "metadata": {},
     "output_type": "execute_result"
    }
   ],
   "source": [
    "X['GenHealth'].value_counts()"
   ]
  },
  {
   "cell_type": "code",
   "execution_count": 39,
   "id": "e1d77e29",
   "metadata": {},
   "outputs": [
    {
     "data": {
      "text/plain": [
       "<matplotlib.legend.Legend at 0x7fe96e709490>"
      ]
     },
     "execution_count": 39,
     "metadata": {},
     "output_type": "execute_result"
    },
    {
     "data": {
      "image/png": "[encoded data removed]",
      "text/plain": [
       "<Figure size 576x360 with 1 Axes>"
      ]
     },
     "metadata": {
      "needs_background": "light"
     },
     "output_type": "display_data"
    }
   ],
   "source": [
    "PLT.figure(figsize=(8,5))\n",
    "SB.boxplot(x=X['GenHealth'],y=X['AgeCategory'], hue=Y).legend(loc='upper right',title='HeartDisease')"
   ]
  },
  {
   "cell_type": "markdown",
   "id": "068e4213",
   "metadata": {},
   "source": [
    "# <font color=\"Brown\">KidneyDisease :</font>"
   ]
  },
  {
   "cell_type": "code",
   "execution_count": 40,
   "id": "bfa91929",
   "metadata": {},
   "outputs": [
    {
     "data": {
      "text/plain": [
       "count     9929\n",
       "unique       2\n",
       "top         No\n",
       "freq      9577\n",
       "Name: KidneyDisease, dtype: object"
      ]
     },
     "execution_count": 40,
     "metadata": {},
     "output_type": "execute_result"
    }
   ],
   "source": [
    "X['KidneyDisease'].describe()"
   ]
  },
  {
   "cell_type": "code",
   "execution_count": 41,
   "id": "686f4a95",
   "metadata": {},
   "outputs": [
    {
     "data": {
      "text/plain": [
       "0"
      ]
     },
     "execution_count": 41,
     "metadata": {},
     "output_type": "execute_result"
    }
   ],
   "source": [
    "X['KidneyDisease'].isnull().sum()"
   ]
  },
  {
   "cell_type": "code",
   "execution_count": 42,
   "id": "e930ffc7",
   "metadata": {},
   "outputs": [
    {
     "data": {
      "text/plain": [
       "No     9577\n",
       "Yes     352\n",
       "Name: KidneyDisease, dtype: int64"
      ]
     },
     "execution_count": 42,
     "metadata": {},
     "output_type": "execute_result"
    }
   ],
   "source": [
    "X['KidneyDisease'].value_counts()"
   ]
  },
  {
   "cell_type": "code",
   "execution_count": 43,
   "id": "354de840",
   "metadata": {},
   "outputs": [
    {
     "data": {
      "text/plain": [
       "<matplotlib.legend.Legend at 0x7fe96e633910>"
      ]
     },
     "execution_count": 43,
     "metadata": {},
     "output_type": "execute_result"
    },
    {
     "data": {
      "image/png": "[encoded data removed]",
      "text/plain": [
       "<Figure size 864x432 with 1 Axes>"
      ]
     },
     "metadata": {
      "needs_background": "light"
     },
     "output_type": "display_data"
    }
   ],
   "source": [
    "PLT.figure(figsize=(12,6))\n",
    "SB.boxplot(x=X['KidneyDisease'],y=X['AgeCategory'], hue=Y).legend(loc='upper right',title='HeartDisease')"
   ]
  },
  {
   "cell_type": "markdown",
   "id": "e3e36e5b",
   "metadata": {},
   "source": [
    "# <font color=\"Brown\">MentalHealth :</font>"
   ]
  },
  {
   "cell_type": "code",
   "execution_count": 44,
   "id": "22602578",
   "metadata": {
    "scrolled": true
   },
   "outputs": [
    {
     "data": {
      "text/plain": [
       "count    9929.000000\n",
       "mean        3.970088\n",
       "std         8.015698\n",
       "min         0.000000\n",
       "25%         0.000000\n",
       "50%         0.000000\n",
       "75%         3.000000\n",
       "max        30.000000\n",
       "Name: MentalHealth, dtype: float64"
      ]
     },
     "execution_count": 44,
     "metadata": {},
     "output_type": "execute_result"
    }
   ],
   "source": [
    "X['MentalHealth'].describe()"
   ]
  },
  {
   "cell_type": "code",
   "execution_count": 45,
   "id": "89e3e28a",
   "metadata": {
    "scrolled": true
   },
   "outputs": [
    {
     "data": {
      "text/plain": [
       "0"
      ]
     },
     "execution_count": 45,
     "metadata": {},
     "output_type": "execute_result"
    }
   ],
   "source": [
    "X['MentalHealth'].isna().sum()"
   ]
  },
  {
   "cell_type": "code",
   "execution_count": 46,
   "id": "f8ee3703",
   "metadata": {},
   "outputs": [
    {
     "data": {
      "text/plain": [
       "0.0     6340\n",
       "1.0      292\n",
       "2.0      509\n",
       "3.0      314\n",
       "4.0      158\n",
       "5.0      446\n",
       "6.0       44\n",
       "7.0      184\n",
       "8.0       39\n",
       "9.0       10\n",
       "10.0     332\n",
       "11.0       2\n",
       "12.0      29\n",
       "13.0       3\n",
       "14.0      76\n",
       "15.0     306\n",
       "16.0       9\n",
       "17.0       1\n",
       "18.0       5\n",
       "20.0     160\n",
       "21.0      19\n",
       "22.0       3\n",
       "23.0       1\n",
       "24.0       3\n",
       "25.0      60\n",
       "26.0       2\n",
       "27.0       7\n",
       "28.0      13\n",
       "29.0       8\n",
       "30.0     554\n",
       "Name: MentalHealth, dtype: int64"
      ]
     },
     "execution_count": 46,
     "metadata": {},
     "output_type": "execute_result"
    }
   ],
   "source": [
    "X['MentalHealth'].value_counts().sort_index()"
   ]
  },
  {
   "cell_type": "code",
   "execution_count": 47,
   "id": "86bb30ec",
   "metadata": {},
   "outputs": [
    {
     "data": {
      "text/plain": [
       "<AxesSubplot:>"
      ]
     },
     "execution_count": 47,
     "metadata": {},
     "output_type": "execute_result"
    },
    {
     "data": {
      "image/png": "[encoded data removed]",
      "text/plain": [
       "<Figure size 432x288 with 1 Axes>"
      ]
     },
     "metadata": {
      "needs_background": "light"
     },
     "output_type": "display_data"
    }
   ],
   "source": [
    "X['MentalHealth'].hist()"
   ]
  },
  {
   "cell_type": "code",
   "execution_count": 48,
   "id": "4c39ec04",
   "metadata": {},
   "outputs": [
    {
     "data": {
      "text/plain": [
       "<matplotlib.legend.Legend at 0x7fe96e5a9fa0>"
      ]
     },
     "execution_count": 48,
     "metadata": {},
     "output_type": "execute_result"
    },
    {
     "data": {
      "image/png": "[encoded data removed]",
      "text/plain": [
       "<Figure size 1440x432 with 1 Axes>"
      ]
     },
     "metadata": {
      "needs_background": "light"
     },
     "output_type": "display_data"
    }
   ],
   "source": [
    "PLT.figure(figsize=(20,6))\n",
    "SB.boxplot(y=X['MentalHealth'],x=X['AgeCategory'], hue=Y).legend(loc='upper right',title='HeartDisease')"
   ]
  },
  {
   "cell_type": "markdown",
   "id": "e11dafcc",
   "metadata": {},
   "source": [
    "# <font color=\"Brown\">PhysicalActivity :</font>"
   ]
  },
  {
   "cell_type": "code",
   "execution_count": 49,
   "id": "bfd215d1",
   "metadata": {},
   "outputs": [
    {
     "data": {
      "text/plain": [
       "count     9929\n",
       "unique       2\n",
       "top        Yes\n",
       "freq      7736\n",
       "Name: PhysicalActivity, dtype: object"
      ]
     },
     "execution_count": 49,
     "metadata": {},
     "output_type": "execute_result"
    }
   ],
   "source": [
    "X['PhysicalActivity'].describe()"
   ]
  },
  {
   "cell_type": "code",
   "execution_count": 50,
   "id": "243d30ce",
   "metadata": {
    "scrolled": true
   },
   "outputs": [
    {
     "data": {
      "text/plain": [
       "0"
      ]
     },
     "execution_count": 50,
     "metadata": {},
     "output_type": "execute_result"
    }
   ],
   "source": [
    "X['PhysicalActivity'].isna().sum()"
   ]
  },
  {
   "cell_type": "code",
   "execution_count": 51,
   "id": "9e27bffa",
   "metadata": {},
   "outputs": [
    {
     "data": {
      "text/plain": [
       "No     2193\n",
       "Yes    7736\n",
       "Name: PhysicalActivity, dtype: int64"
      ]
     },
     "execution_count": 51,
     "metadata": {},
     "output_type": "execute_result"
    }
   ],
   "source": [
    "X['PhysicalActivity'].value_counts().sort_index()"
   ]
  },
  {
   "cell_type": "code",
   "execution_count": 52,
   "id": "e2ad5c69",
   "metadata": {},
   "outputs": [
    {
     "data": {
      "text/plain": [
       "<matplotlib.legend.Legend at 0x7fe96e5b0730>"
      ]
     },
     "execution_count": 52,
     "metadata": {},
     "output_type": "execute_result"
    },
    {
     "data": {
      "image/png": "[encoded data removed]",
      "text/plain": [
       "<Figure size 864x432 with 1 Axes>"
      ]
     },
     "metadata": {
      "needs_background": "light"
     },
     "output_type": "display_data"
    }
   ],
   "source": [
    "PLT.figure(figsize=(12,6))\n",
    "SB.boxplot(x=X['PhysicalActivity'],y=X['AgeCategory'], hue=Y).legend(loc='upper right',title='HeartDisease')"
   ]
  },
  {
   "cell_type": "markdown",
   "id": "214a5321",
   "metadata": {},
   "source": [
    "# <font color=\"Brown\">PhysicalHealth :</font>"
   ]
  },
  {
   "cell_type": "code",
   "execution_count": 53,
   "id": "60621bb7",
   "metadata": {
    "scrolled": true
   },
   "outputs": [
    {
     "data": {
      "text/plain": [
       "count    9929.000000\n",
       "mean        3.477188\n",
       "std         8.109464\n",
       "min         0.000000\n",
       "25%         0.000000\n",
       "50%         0.000000\n",
       "75%         2.000000\n",
       "max        30.000000\n",
       "Name: PhysicalHealth, dtype: float64"
      ]
     },
     "execution_count": 53,
     "metadata": {},
     "output_type": "execute_result"
    }
   ],
   "source": [
    "X['PhysicalHealth'].describe()"
   ]
  },
  {
   "cell_type": "code",
   "execution_count": 54,
   "id": "af236429",
   "metadata": {
    "scrolled": true
   },
   "outputs": [
    {
     "data": {
      "text/plain": [
       "0"
      ]
     },
     "execution_count": 54,
     "metadata": {},
     "output_type": "execute_result"
    }
   ],
   "source": [
    "X['PhysicalHealth'].isna().sum()"
   ]
  },
  {
   "cell_type": "code",
   "execution_count": 55,
   "id": "3de7339f",
   "metadata": {},
   "outputs": [
    {
     "data": {
      "text/plain": [
       "0.0     6994\n",
       "1.0      311\n",
       "2.0      472\n",
       "3.0      267\n",
       "4.0      154\n",
       "5.0      238\n",
       "6.0       45\n",
       "7.0      143\n",
       "8.0       32\n",
       "9.0        5\n",
       "10.0     158\n",
       "11.0       2\n",
       "12.0      16\n",
       "13.0       5\n",
       "14.0     100\n",
       "15.0     157\n",
       "16.0       2\n",
       "17.0       1\n",
       "18.0       4\n",
       "19.0       1\n",
       "20.0      97\n",
       "21.0      12\n",
       "22.0       2\n",
       "23.0       3\n",
       "25.0      32\n",
       "26.0       2\n",
       "27.0       3\n",
       "28.0      11\n",
       "29.0       9\n",
       "30.0     651\n",
       "Name: PhysicalHealth, dtype: int64"
      ]
     },
     "execution_count": 55,
     "metadata": {},
     "output_type": "execute_result"
    }
   ],
   "source": [
    "X['PhysicalHealth'].value_counts().sort_index()"
   ]
  },
  {
   "cell_type": "code",
   "execution_count": 56,
   "id": "9694a1e9",
   "metadata": {},
   "outputs": [
    {
     "data": {
      "text/plain": [
       "<AxesSubplot:>"
      ]
     },
     "execution_count": 56,
     "metadata": {},
     "output_type": "execute_result"
    },
    {
     "data": {
      "image/png": "[encoded data removed]",
      "text/plain": [
       "<Figure size 432x288 with 1 Axes>"
      ]
     },
     "metadata": {
      "needs_background": "light"
     },
     "output_type": "display_data"
    }
   ],
   "source": [
    "X['PhysicalHealth'].hist()"
   ]
  },
  {
   "cell_type": "code",
   "execution_count": 57,
   "id": "d014eedc",
   "metadata": {},
   "outputs": [
    {
     "data": {
      "text/plain": [
       "<matplotlib.legend.Legend at 0x7fe96e368220>"
      ]
     },
     "execution_count": 57,
     "metadata": {},
     "output_type": "execute_result"
    },
    {
     "data": {
      "image/png": "[encoded data removed]",
      "text/plain": [
       "<Figure size 1440x432 with 1 Axes>"
      ]
     },
     "metadata": {
      "needs_background": "light"
     },
     "output_type": "display_data"
    }
   ],
   "source": [
    "PLT.figure(figsize=(20,6))\n",
    "SB.boxplot(y=X['PhysicalHealth'],x=X['AgeCategory'], hue=Y).legend(loc='upper right',title='HeartDisease')"
   ]
  },
  {
   "cell_type": "markdown",
   "id": "82219c1d",
   "metadata": {},
   "source": [
    "# <font color=\"Brown\">Race :</font>"
   ]
  },
  {
   "cell_type": "code",
   "execution_count": 58,
   "id": "8e2d8744",
   "metadata": {},
   "outputs": [
    {
     "data": {
      "text/plain": [
       "count      9929\n",
       "unique        6\n",
       "top       White\n",
       "freq       7579\n",
       "Name: Race, dtype: object"
      ]
     },
     "execution_count": 58,
     "metadata": {},
     "output_type": "execute_result"
    }
   ],
   "source": [
    "X['Race'].describe()"
   ]
  },
  {
   "cell_type": "code",
   "execution_count": 59,
   "id": "164c8b88",
   "metadata": {},
   "outputs": [
    {
     "data": {
      "text/plain": [
       "0"
      ]
     },
     "execution_count": 59,
     "metadata": {},
     "output_type": "execute_result"
    }
   ],
   "source": [
    "X['Race'].isnull().sum()"
   ]
  },
  {
   "cell_type": "code",
   "execution_count": 60,
   "id": "cca075f3",
   "metadata": {},
   "outputs": [
    {
     "data": {
      "text/plain": [
       "White                             7579\n",
       "Hispanic                           859\n",
       "Black                              706\n",
       "Other                              339\n",
       "Asian                              267\n",
       "American Indian/Alaskan Native     179\n",
       "Name: Race, dtype: int64"
      ]
     },
     "execution_count": 60,
     "metadata": {},
     "output_type": "execute_result"
    }
   ],
   "source": [
    "X['Race'].value_counts()"
   ]
  },
  {
   "cell_type": "markdown",
   "id": "8caa1128",
   "metadata": {},
   "source": [
    "# <font color=\"Brown\">Race :</font>"
   ]
  },
  {
   "cell_type": "code",
   "execution_count": 61,
   "id": "2dd6255b",
   "metadata": {},
   "outputs": [
    {
     "data": {
      "text/plain": [
       "count       9929\n",
       "unique         2\n",
       "top       Female\n",
       "freq        5085\n",
       "Name: Sex, dtype: object"
      ]
     },
     "execution_count": 61,
     "metadata": {},
     "output_type": "execute_result"
    }
   ],
   "source": [
    "X['Sex'].describe()"
   ]
  },
  {
   "cell_type": "code",
   "execution_count": 62,
   "id": "e522ed33",
   "metadata": {},
   "outputs": [
    {
     "data": {
      "text/plain": [
       "0"
      ]
     },
     "execution_count": 62,
     "metadata": {},
     "output_type": "execute_result"
    }
   ],
   "source": [
    "X['Sex'].isnull().sum()"
   ]
  },
  {
   "cell_type": "code",
   "execution_count": 63,
   "id": "67dd8cc8",
   "metadata": {},
   "outputs": [
    {
     "data": {
      "text/plain": [
       "Female    5085\n",
       "Male      4844\n",
       "Name: Sex, dtype: int64"
      ]
     },
     "execution_count": 63,
     "metadata": {},
     "output_type": "execute_result"
    }
   ],
   "source": [
    "X['Sex'].value_counts()"
   ]
  },
  {
   "cell_type": "code",
   "execution_count": 64,
   "id": "e517215b",
   "metadata": {},
   "outputs": [
    {
     "data": {
      "text/plain": [
       "<matplotlib.legend.Legend at 0x7fe96df846d0>"
      ]
     },
     "execution_count": 64,
     "metadata": {},
     "output_type": "execute_result"
    },
    {
     "data": {
      "image/png": "[encoded data removed]",
      "text/plain": [
       "<Figure size 1440x432 with 1 Axes>"
      ]
     },
     "metadata": {
      "needs_background": "light"
     },
     "output_type": "display_data"
    }
   ],
   "source": [
    "PLT.figure(figsize=(20,6))\n",
    "SB.boxplot(x=X['Sex'],y=X['AgeCategory'], hue=Y).legend(loc='upper right',title='HeartDisease')"
   ]
  },
  {
   "cell_type": "markdown",
   "id": "6b5b405b",
   "metadata": {},
   "source": [
    "# <font color=\"Brown\">Sex :</font>"
   ]
  },
  {
   "cell_type": "code",
   "execution_count": 65,
   "id": "1a0cc795",
   "metadata": {},
   "outputs": [
    {
     "data": {
      "text/plain": [
       "count       9929\n",
       "unique         2\n",
       "top       Female\n",
       "freq        5085\n",
       "Name: Sex, dtype: object"
      ]
     },
     "execution_count": 65,
     "metadata": {},
     "output_type": "execute_result"
    }
   ],
   "source": [
    "X['Sex'].describe()"
   ]
  },
  {
   "cell_type": "code",
   "execution_count": 66,
   "id": "bb39f36f",
   "metadata": {},
   "outputs": [
    {
     "data": {
      "text/plain": [
       "0"
      ]
     },
     "execution_count": 66,
     "metadata": {},
     "output_type": "execute_result"
    }
   ],
   "source": [
    "X['Sex'].isnull().sum()"
   ]
  },
  {
   "cell_type": "code",
   "execution_count": 67,
   "id": "0c442894",
   "metadata": {},
   "outputs": [
    {
     "data": {
      "text/plain": [
       "Female    5085\n",
       "Male      4844\n",
       "Name: Sex, dtype: int64"
      ]
     },
     "execution_count": 67,
     "metadata": {},
     "output_type": "execute_result"
    }
   ],
   "source": [
    "X['Sex'].value_counts()"
   ]
  },
  {
   "cell_type": "code",
   "execution_count": 68,
   "id": "1e1e0755",
   "metadata": {},
   "outputs": [
    {
     "data": {
      "text/plain": [
       "<matplotlib.legend.Legend at 0x7fe96dfb2f10>"
      ]
     },
     "execution_count": 68,
     "metadata": {},
     "output_type": "execute_result"
    },
    {
     "data": {
      "image/png": "[encoded data removed]",
      "text/plain": [
       "<Figure size 864x432 with 1 Axes>"
      ]
     },
     "metadata": {
      "needs_background": "light"
     },
     "output_type": "display_data"
    }
   ],
   "source": [
    "PLT.figure(figsize=(12,6))\n",
    "SB.boxplot(x=X['Sex'],y=X['BMI'], hue=Y).legend(loc='upper right',title='HeartDisease')"
   ]
  },
  {
   "cell_type": "markdown",
   "id": "7c8e00b9",
   "metadata": {},
   "source": [
    "# <font color=\"Brown\">SkinCancer :</font>"
   ]
  },
  {
   "cell_type": "code",
   "execution_count": 69,
   "id": "02d52062",
   "metadata": {},
   "outputs": [
    {
     "data": {
      "text/plain": [
       "count     9929\n",
       "unique       2\n",
       "top         No\n",
       "freq      9045\n",
       "Name: SkinCancer, dtype: object"
      ]
     },
     "execution_count": 69,
     "metadata": {},
     "output_type": "execute_result"
    }
   ],
   "source": [
    "X['SkinCancer'].describe()"
   ]
  },
  {
   "cell_type": "code",
   "execution_count": 70,
   "id": "05a28c12",
   "metadata": {},
   "outputs": [
    {
     "data": {
      "text/plain": [
       "0"
      ]
     },
     "execution_count": 70,
     "metadata": {},
     "output_type": "execute_result"
    }
   ],
   "source": [
    "X['SkinCancer'].isnull().sum()"
   ]
  },
  {
   "cell_type": "code",
   "execution_count": 71,
   "id": "0a075f50",
   "metadata": {
    "scrolled": true
   },
   "outputs": [
    {
     "data": {
      "text/plain": [
       "No     9045\n",
       "Yes     884\n",
       "Name: SkinCancer, dtype: int64"
      ]
     },
     "execution_count": 71,
     "metadata": {},
     "output_type": "execute_result"
    }
   ],
   "source": [
    "X['SkinCancer'].value_counts()"
   ]
  },
  {
   "cell_type": "markdown",
   "id": "2f993be2",
   "metadata": {},
   "source": [
    "# <font color=\"Brown\">SkinCancer :</font>"
   ]
  },
  {
   "cell_type": "code",
   "execution_count": 72,
   "id": "809273c0",
   "metadata": {},
   "outputs": [
    {
     "data": {
      "text/plain": [
       "count     9929\n",
       "unique       2\n",
       "top         No\n",
       "freq      9045\n",
       "Name: SkinCancer, dtype: object"
      ]
     },
     "execution_count": 72,
     "metadata": {},
     "output_type": "execute_result"
    }
   ],
   "source": [
    "X['SkinCancer'].describe()"
   ]
  },
  {
   "cell_type": "code",
   "execution_count": 73,
   "id": "626b4132",
   "metadata": {},
   "outputs": [
    {
     "data": {
      "text/plain": [
       "0"
      ]
     },
     "execution_count": 73,
     "metadata": {},
     "output_type": "execute_result"
    }
   ],
   "source": [
    "X['SkinCancer'].isnull().sum()"
   ]
  },
  {
   "cell_type": "code",
   "execution_count": 74,
   "id": "d11bf470",
   "metadata": {
    "scrolled": false
   },
   "outputs": [
    {
     "data": {
      "text/plain": [
       "No     9045\n",
       "Yes     884\n",
       "Name: SkinCancer, dtype: int64"
      ]
     },
     "execution_count": 74,
     "metadata": {},
     "output_type": "execute_result"
    }
   ],
   "source": [
    "X['SkinCancer'].value_counts()"
   ]
  },
  {
   "cell_type": "markdown",
   "id": "cf856140",
   "metadata": {},
   "source": [
    "# <font color=\"Brown\">SleepTime :</font>"
   ]
  },
  {
   "cell_type": "code",
   "execution_count": 75,
   "id": "fee771f5",
   "metadata": {},
   "outputs": [
    {
     "data": {
      "text/plain": [
       "count    9929.000000\n",
       "mean        7.120657\n",
       "std         1.470001\n",
       "min         1.000000\n",
       "25%         6.000000\n",
       "50%         7.000000\n",
       "75%         8.000000\n",
       "max        23.000000\n",
       "Name: SleepTime, dtype: float64"
      ]
     },
     "execution_count": 75,
     "metadata": {},
     "output_type": "execute_result"
    }
   ],
   "source": [
    "X['SleepTime'].describe()"
   ]
  },
  {
   "cell_type": "code",
   "execution_count": 76,
   "id": "639731d3",
   "metadata": {},
   "outputs": [
    {
     "data": {
      "text/plain": [
       "0"
      ]
     },
     "execution_count": 76,
     "metadata": {},
     "output_type": "execute_result"
    }
   ],
   "source": [
    "X['SleepTime'].isna().sum()"
   ]
  },
  {
   "cell_type": "code",
   "execution_count": 77,
   "id": "dc1b67ab",
   "metadata": {},
   "outputs": [
    {
     "data": {
      "text/plain": [
       "<AxesSubplot:>"
      ]
     },
     "execution_count": 77,
     "metadata": {},
     "output_type": "execute_result"
    },
    {
     "data": {
      "image/png": "[encoded data removed]",
      "text/plain": [
       "<Figure size 432x288 with 1 Axes>"
      ]
     },
     "metadata": {
      "needs_background": "light"
     },
     "output_type": "display_data"
    }
   ],
   "source": [
    "X['SleepTime'].hist()"
   ]
  },
  {
   "cell_type": "code",
   "execution_count": 78,
   "id": "7c5f3cbd",
   "metadata": {},
   "outputs": [],
   "source": [
    "X = X.drop(X[X['SleepTime']>16]['SleepTime'].index,axis=0)"
   ]
  },
  {
   "cell_type": "code",
   "execution_count": 79,
   "id": "ff6fd54e",
   "metadata": {},
   "outputs": [
    {
     "data": {
      "text/plain": [
       "<AxesSubplot:>"
      ]
     },
     "execution_count": 79,
     "metadata": {},
     "output_type": "execute_result"
    },
    {
     "data": {
      "image/png": "[encoded data removed]",
      "text/plain": [
       "<Figure size 432x288 with 1 Axes>"
      ]
     },
     "metadata": {
      "needs_background": "light"
     },
     "output_type": "display_data"
    }
   ],
   "source": [
    "X['SleepTime'].hist()"
   ]
  },
  {
   "cell_type": "markdown",
   "id": "adcfcf2a",
   "metadata": {},
   "source": [
    "# <font color=\"Brown\">Smoking :</font>"
   ]
  },
  {
   "cell_type": "code",
   "execution_count": 80,
   "id": "0e9c9367",
   "metadata": {},
   "outputs": [
    {
     "data": {
      "text/plain": [
       "count     9921\n",
       "unique       2\n",
       "top         No\n",
       "freq      5855\n",
       "Name: Smoking, dtype: object"
      ]
     },
     "execution_count": 80,
     "metadata": {},
     "output_type": "execute_result"
    }
   ],
   "source": [
    "X['Smoking'].describe()"
   ]
  },
  {
   "cell_type": "code",
   "execution_count": 81,
   "id": "5f64b3f9",
   "metadata": {},
   "outputs": [
    {
     "data": {
      "text/plain": [
       "0"
      ]
     },
     "execution_count": 81,
     "metadata": {},
     "output_type": "execute_result"
    }
   ],
   "source": [
    "X['Smoking'].isnull().sum()"
   ]
  },
  {
   "cell_type": "code",
   "execution_count": 82,
   "id": "3e3058a8",
   "metadata": {},
   "outputs": [
    {
     "data": {
      "text/plain": [
       "No     5855\n",
       "Yes    4066\n",
       "Name: Smoking, dtype: int64"
      ]
     },
     "execution_count": 82,
     "metadata": {},
     "output_type": "execute_result"
    }
   ],
   "source": [
    "X['Smoking'].value_counts()"
   ]
  },
  {
   "cell_type": "code",
   "execution_count": 83,
   "id": "e0548a35",
   "metadata": {},
   "outputs": [
    {
     "data": {
      "text/plain": [
       "<matplotlib.legend.Legend at 0x7fe96eb9d190>"
      ]
     },
     "execution_count": 83,
     "metadata": {},
     "output_type": "execute_result"
    },
    {
     "data": {
      "image/png": "[encoded data removed]",
      "text/plain": [
       "<Figure size 864x432 with 1 Axes>"
      ]
     },
     "metadata": {
      "needs_background": "light"
     },
     "output_type": "display_data"
    }
   ],
   "source": [
    "PLT.figure(figsize=(12,6))\n",
    "SB.boxplot(x=X['Smoking'],y=X['PhysicalHealth'], hue=Y).legend(loc='upper right',title='HeartDisease')"
   ]
  },
  {
   "cell_type": "code",
   "execution_count": 84,
   "id": "ed373ce4",
   "metadata": {},
   "outputs": [
    {
     "data": {
      "text/plain": [
       "<matplotlib.legend.Legend at 0x7fe96dca21c0>"
      ]
     },
     "execution_count": 84,
     "metadata": {},
     "output_type": "execute_result"
    },
    {
     "data": {
      "image/png": "[encoded data removed]",
      "text/plain": [
       "<Figure size 864x432 with 1 Axes>"
      ]
     },
     "metadata": {
      "needs_background": "light"
     },
     "output_type": "display_data"
    }
   ],
   "source": [
    "PLT.figure(figsize=(12,6))\n",
    "SB.boxplot(x=X['Smoking'],y=X['MentalHealth'], hue=Y).legend(loc='upper right',title='HeartDisease')"
   ]
  },
  {
   "cell_type": "markdown",
   "id": "584b9055",
   "metadata": {},
   "source": [
    "# <font color=\"Brown\">Stroke :</font>"
   ]
  },
  {
   "cell_type": "code",
   "execution_count": 85,
   "id": "dc28ba49",
   "metadata": {},
   "outputs": [
    {
     "data": {
      "text/plain": [
       "count     9921\n",
       "unique       2\n",
       "top         No\n",
       "freq      9520\n",
       "Name: Stroke, dtype: object"
      ]
     },
     "execution_count": 85,
     "metadata": {},
     "output_type": "execute_result"
    }
   ],
   "source": [
    "X['Stroke'].describe()"
   ]
  },
  {
   "cell_type": "code",
   "execution_count": 86,
   "id": "ef3cd673",
   "metadata": {},
   "outputs": [
    {
     "data": {
      "text/plain": [
       "0"
      ]
     },
     "execution_count": 86,
     "metadata": {},
     "output_type": "execute_result"
    }
   ],
   "source": [
    "X['Stroke'].isnull().sum()"
   ]
  },
  {
   "cell_type": "code",
   "execution_count": 87,
   "id": "0b1ae892",
   "metadata": {},
   "outputs": [
    {
     "data": {
      "text/plain": [
       "No     9520\n",
       "Yes     401\n",
       "Name: Stroke, dtype: int64"
      ]
     },
     "execution_count": 87,
     "metadata": {},
     "output_type": "execute_result"
    }
   ],
   "source": [
    "X['Stroke'].value_counts()"
   ]
  },
  {
   "cell_type": "code",
   "execution_count": 88,
   "id": "8e1e8827",
   "metadata": {},
   "outputs": [
    {
     "data": {
      "text/plain": [
       "<matplotlib.legend.Legend at 0x7fe96dbc1a00>"
      ]
     },
     "execution_count": 88,
     "metadata": {},
     "output_type": "execute_result"
    },
    {
     "data": {
      "image/png": "[encoded data removed]",
      "text/plain": [
       "<Figure size 864x432 with 1 Axes>"
      ]
     },
     "metadata": {
      "needs_background": "light"
     },
     "output_type": "display_data"
    }
   ],
   "source": [
    "PLT.figure(figsize=(12,6))\n",
    "SB.boxplot(x=X['Stroke'],y=X['PhysicalHealth'], hue=Y).legend(loc='upper right',title='HeartDisease')"
   ]
  },
  {
   "cell_type": "code",
   "execution_count": 89,
   "id": "a40b0d9c",
   "metadata": {},
   "outputs": [
    {
     "data": {
      "text/plain": [
       "<matplotlib.legend.Legend at 0x7fe96dbc18e0>"
      ]
     },
     "execution_count": 89,
     "metadata": {},
     "output_type": "execute_result"
    },
    {
     "data": {
      "image/png": "[encoded data removed]",
      "text/plain": [
       "<Figure size 864x432 with 1 Axes>"
      ]
     },
     "metadata": {
      "needs_background": "light"
     },
     "output_type": "display_data"
    }
   ],
   "source": [
    "PLT.figure(figsize=(12,6))\n",
    "SB.boxplot(x=X['Stroke'],y=X['MentalHealth'], hue=Y).legend(loc='upper right',title='HeartDisease')"
   ]
  },
  {
   "cell_type": "markdown",
   "id": "59fb9e80",
   "metadata": {},
   "source": [
    "# <font color=\"Green\">One Hot Encode Categorical Label :</font>"
   ]
  },
  {
   "cell_type": "code",
   "execution_count": 90,
   "id": "1990c8be",
   "metadata": {},
   "outputs": [],
   "source": [
    "from sklearn.preprocessing import LabelEncoder\n",
    "from sklearn.compose import ColumnTransformer\n",
    "from sklearn.preprocessing import OneHotEncoder\n",
    "\n",
    "def OHC_transformer_single_column(DF,columns):\n",
    "    \n",
    "    for column_name in columns:\n",
    "        label_encoder = LabelEncoder()\n",
    "        encoded = label_encoder.fit_transform(DF[column_name])\n",
    "        labels =pd.Series(label_encoder.classes_)\n",
    "\n",
    "        clmt = ColumnTransformer([(column_name,OneHotEncoder(),[0])], remainder='passthrough')\n",
    "        clmt_fited_data = clmt.fit_transform(DF[[column_name]]) \n",
    "        clmt_fited_data = clmt_fited_data if type(clmt_fited_data)== np.ndarray else clmt_fited_data.toarray()  \n",
    "        NDF = pd.DataFrame(clmt_fited_data,columns=[f'{column_name}_{x}' for x in labels])\n",
    "        \n",
    "        merged = DF.merge(NDF, left_index=True,right_index=True)\n",
    "        merged = merged.drop(columns=[column_name])\n",
    "        DF = merged\n",
    "    return DF"
   ]
  },
  {
   "cell_type": "code",
   "execution_count": 91,
   "id": "b5bfd6b8",
   "metadata": {},
   "outputs": [],
   "source": [
    "X_OHC = OHC_transformer_single_column(X,CatCols) \n",
    "Y = DF.iloc[X_OHC.index]['HeartDisease']\n",
    "Y_label_encoder = LabelEncoder()\n",
    "Y_OHC = Y_label_encoder.fit_transform(Y)"
   ]
  },
  {
   "cell_type": "code",
   "execution_count": 92,
   "id": "71f9a24d",
   "metadata": {},
   "outputs": [],
   "source": [
    "NDF = pd.concat([X,Y],axis=1)\n",
    "NDF_OHC = pd.concat([X_OHC,pd.DataFrame(Y_OHC,columns=['HeartDisease'])],axis=1)"
   ]
  },
  {
   "cell_type": "markdown",
   "id": "0ba3404c",
   "metadata": {},
   "source": [
    "# <font color=\"Green\">Imbalance Data  :</font>"
   ]
  },
  {
   "cell_type": "code",
   "execution_count": 93,
   "id": "be4e9b68",
   "metadata": {},
   "outputs": [
    {
     "name": "stderr",
     "output_type": "stream",
     "text": [
      "/opt/conda/lib/python3.9/site-packages/seaborn/_decorators.py:36: FutureWarning: Pass the following variable as a keyword arg: x. From version 0.12, the only valid positional argument will be `data`, and passing other arguments without an explicit keyword will result in an error or misinterpretation.\n",
      "  warnings.warn(\n"
     ]
    },
    {
     "data": {
      "text/plain": [
       "<AxesSubplot:xlabel='HeartDisease', ylabel='count'>"
      ]
     },
     "execution_count": 93,
     "metadata": {},
     "output_type": "execute_result"
    },
    {
     "data": {
      "image/png": "[encoded data removed]",
      "text/plain": [
       "<Figure size 432x288 with 1 Axes>"
      ]
     },
     "metadata": {
      "needs_background": "light"
     },
     "output_type": "display_data"
    }
   ],
   "source": [
    "SB.countplot('HeartDisease',data=NDF_OHC)"
   ]
  },
  {
   "cell_type": "code",
   "execution_count": 94,
   "id": "66e50f99",
   "metadata": {},
   "outputs": [],
   "source": [
    "from imblearn.over_sampling import SMOTE\n",
    "from imblearn.combine import SMOTETomek \n",
    "from imblearn.under_sampling import TomekLinks"
   ]
  },
  {
   "cell_type": "code",
   "execution_count": 95,
   "id": "daa31631",
   "metadata": {},
   "outputs": [],
   "source": [
    "smote = SMOTE()\n",
    "X_smote, Y_smote = smote.fit_resample(X_OHC,pd.DataFrame(Y_OHC,columns=['HeartDisease']))\n",
    "DF_smote = pd.concat([X_smote,Y_smote],axis=1)"
   ]
  },
  {
   "cell_type": "code",
   "execution_count": 96,
   "id": "a9be6629",
   "metadata": {},
   "outputs": [],
   "source": [
    "toml = TomekLinks()\n",
    "X_toml, Y_toml = toml.fit_resample(X_smote,Y_smote)\n",
    "DF_toml = pd.concat([X_toml,Y_toml],axis=1)"
   ]
  },
  {
   "cell_type": "code",
   "execution_count": 103,
   "id": "5ea3cf02",
   "metadata": {},
   "outputs": [
    {
     "data": {
      "text/html": [
       "<div>\n",
       "<style scoped>\n",
       "    .dataframe tbody tr th:only-of-type {\n",
       "        vertical-align: middle;\n",
       "    }\n",
       "\n",
       "    .dataframe tbody tr th {\n",
       "        vertical-align: top;\n",
       "    }\n",
       "\n",
       "    .dataframe thead th {\n",
       "        text-align: right;\n",
       "    }\n",
       "</style>\n",
       "<table border=\"1\" class=\"dataframe\">\n",
       "  <thead>\n",
       "    <tr style=\"text-align: right;\">\n",
       "      <th></th>\n",
       "      <th>AgeCategory</th>\n",
       "      <th>BMI</th>\n",
       "      <th>MentalHealth</th>\n",
       "      <th>PhysicalHealth</th>\n",
       "      <th>SleepTime</th>\n",
       "      <th>Smoking_No</th>\n",
       "      <th>Smoking_Yes</th>\n",
       "      <th>AlcoholDrinking_No</th>\n",
       "      <th>AlcoholDrinking_Yes</th>\n",
       "      <th>Stroke_No</th>\n",
       "      <th>...</th>\n",
       "      <th>GenHealth_Good</th>\n",
       "      <th>GenHealth_Poor</th>\n",
       "      <th>GenHealth_Very good</th>\n",
       "      <th>Asthma_No</th>\n",
       "      <th>Asthma_Yes</th>\n",
       "      <th>KidneyDisease_No</th>\n",
       "      <th>KidneyDisease_Yes</th>\n",
       "      <th>SkinCancer_No</th>\n",
       "      <th>SkinCancer_Yes</th>\n",
       "      <th>HeartDisease</th>\n",
       "    </tr>\n",
       "  </thead>\n",
       "  <tbody>\n",
       "    <tr>\n",
       "      <th>0</th>\n",
       "      <td>72</td>\n",
       "      <td>26.260000</td>\n",
       "      <td>2.000000</td>\n",
       "      <td>5.000000</td>\n",
       "      <td>10.000000</td>\n",
       "      <td>1.000000</td>\n",
       "      <td>0.000000</td>\n",
       "      <td>1.0</td>\n",
       "      <td>0.0</td>\n",
       "      <td>1.0</td>\n",
       "      <td>...</td>\n",
       "      <td>0.000000</td>\n",
       "      <td>0.000000</td>\n",
       "      <td>1.000000</td>\n",
       "      <td>1.0</td>\n",
       "      <td>0.0</td>\n",
       "      <td>1.000000</td>\n",
       "      <td>0.000000</td>\n",
       "      <td>1.0</td>\n",
       "      <td>0.0</td>\n",
       "      <td>0</td>\n",
       "    </tr>\n",
       "    <tr>\n",
       "      <th>1</th>\n",
       "      <td>80</td>\n",
       "      <td>24.620000</td>\n",
       "      <td>0.000000</td>\n",
       "      <td>5.000000</td>\n",
       "      <td>6.000000</td>\n",
       "      <td>1.000000</td>\n",
       "      <td>0.000000</td>\n",
       "      <td>1.0</td>\n",
       "      <td>0.0</td>\n",
       "      <td>1.0</td>\n",
       "      <td>...</td>\n",
       "      <td>1.000000</td>\n",
       "      <td>0.000000</td>\n",
       "      <td>0.000000</td>\n",
       "      <td>1.0</td>\n",
       "      <td>0.0</td>\n",
       "      <td>1.000000</td>\n",
       "      <td>0.000000</td>\n",
       "      <td>1.0</td>\n",
       "      <td>0.0</td>\n",
       "      <td>0</td>\n",
       "    </tr>\n",
       "    <tr>\n",
       "      <th>2</th>\n",
       "      <td>67</td>\n",
       "      <td>26.610000</td>\n",
       "      <td>0.000000</td>\n",
       "      <td>0.000000</td>\n",
       "      <td>12.000000</td>\n",
       "      <td>1.000000</td>\n",
       "      <td>0.000000</td>\n",
       "      <td>1.0</td>\n",
       "      <td>0.0</td>\n",
       "      <td>1.0</td>\n",
       "      <td>...</td>\n",
       "      <td>1.000000</td>\n",
       "      <td>0.000000</td>\n",
       "      <td>0.000000</td>\n",
       "      <td>0.0</td>\n",
       "      <td>1.0</td>\n",
       "      <td>1.000000</td>\n",
       "      <td>0.000000</td>\n",
       "      <td>1.0</td>\n",
       "      <td>0.0</td>\n",
       "      <td>0</td>\n",
       "    </tr>\n",
       "    <tr>\n",
       "      <th>3</th>\n",
       "      <td>57</td>\n",
       "      <td>34.410000</td>\n",
       "      <td>30.000000</td>\n",
       "      <td>0.000000</td>\n",
       "      <td>9.000000</td>\n",
       "      <td>1.000000</td>\n",
       "      <td>0.000000</td>\n",
       "      <td>1.0</td>\n",
       "      <td>0.0</td>\n",
       "      <td>1.0</td>\n",
       "      <td>...</td>\n",
       "      <td>1.000000</td>\n",
       "      <td>0.000000</td>\n",
       "      <td>0.000000</td>\n",
       "      <td>1.0</td>\n",
       "      <td>0.0</td>\n",
       "      <td>1.000000</td>\n",
       "      <td>0.000000</td>\n",
       "      <td>1.0</td>\n",
       "      <td>0.0</td>\n",
       "      <td>0</td>\n",
       "    </tr>\n",
       "    <tr>\n",
       "      <th>4</th>\n",
       "      <td>72</td>\n",
       "      <td>22.600000</td>\n",
       "      <td>0.000000</td>\n",
       "      <td>0.000000</td>\n",
       "      <td>8.000000</td>\n",
       "      <td>0.000000</td>\n",
       "      <td>1.000000</td>\n",
       "      <td>1.0</td>\n",
       "      <td>0.0</td>\n",
       "      <td>1.0</td>\n",
       "      <td>...</td>\n",
       "      <td>0.000000</td>\n",
       "      <td>0.000000</td>\n",
       "      <td>1.000000</td>\n",
       "      <td>1.0</td>\n",
       "      <td>0.0</td>\n",
       "      <td>1.000000</td>\n",
       "      <td>0.000000</td>\n",
       "      <td>1.0</td>\n",
       "      <td>0.0</td>\n",
       "      <td>0</td>\n",
       "    </tr>\n",
       "    <tr>\n",
       "      <th>...</th>\n",
       "      <td>...</td>\n",
       "      <td>...</td>\n",
       "      <td>...</td>\n",
       "      <td>...</td>\n",
       "      <td>...</td>\n",
       "      <td>...</td>\n",
       "      <td>...</td>\n",
       "      <td>...</td>\n",
       "      <td>...</td>\n",
       "      <td>...</td>\n",
       "      <td>...</td>\n",
       "      <td>...</td>\n",
       "      <td>...</td>\n",
       "      <td>...</td>\n",
       "      <td>...</td>\n",
       "      <td>...</td>\n",
       "      <td>...</td>\n",
       "      <td>...</td>\n",
       "      <td>...</td>\n",
       "      <td>...</td>\n",
       "      <td>...</td>\n",
       "    </tr>\n",
       "    <tr>\n",
       "      <th>16433</th>\n",
       "      <td>80</td>\n",
       "      <td>24.607797</td>\n",
       "      <td>0.000000</td>\n",
       "      <td>4.955330</td>\n",
       "      <td>5.522335</td>\n",
       "      <td>0.522335</td>\n",
       "      <td>0.477665</td>\n",
       "      <td>1.0</td>\n",
       "      <td>0.0</td>\n",
       "      <td>1.0</td>\n",
       "      <td>...</td>\n",
       "      <td>0.000000</td>\n",
       "      <td>0.000000</td>\n",
       "      <td>1.000000</td>\n",
       "      <td>1.0</td>\n",
       "      <td>0.0</td>\n",
       "      <td>1.000000</td>\n",
       "      <td>0.000000</td>\n",
       "      <td>1.0</td>\n",
       "      <td>0.0</td>\n",
       "      <td>1</td>\n",
       "    </tr>\n",
       "    <tr>\n",
       "      <th>16434</th>\n",
       "      <td>80</td>\n",
       "      <td>28.687562</td>\n",
       "      <td>0.000000</td>\n",
       "      <td>0.535420</td>\n",
       "      <td>8.000000</td>\n",
       "      <td>1.000000</td>\n",
       "      <td>0.000000</td>\n",
       "      <td>1.0</td>\n",
       "      <td>0.0</td>\n",
       "      <td>1.0</td>\n",
       "      <td>...</td>\n",
       "      <td>0.464580</td>\n",
       "      <td>0.000000</td>\n",
       "      <td>0.535420</td>\n",
       "      <td>1.0</td>\n",
       "      <td>0.0</td>\n",
       "      <td>1.000000</td>\n",
       "      <td>0.000000</td>\n",
       "      <td>0.0</td>\n",
       "      <td>1.0</td>\n",
       "      <td>1</td>\n",
       "    </tr>\n",
       "    <tr>\n",
       "      <th>16435</th>\n",
       "      <td>80</td>\n",
       "      <td>24.607093</td>\n",
       "      <td>0.000000</td>\n",
       "      <td>0.000000</td>\n",
       "      <td>8.000000</td>\n",
       "      <td>0.000000</td>\n",
       "      <td>1.000000</td>\n",
       "      <td>1.0</td>\n",
       "      <td>0.0</td>\n",
       "      <td>1.0</td>\n",
       "      <td>...</td>\n",
       "      <td>0.740915</td>\n",
       "      <td>0.259085</td>\n",
       "      <td>0.000000</td>\n",
       "      <td>1.0</td>\n",
       "      <td>0.0</td>\n",
       "      <td>0.740915</td>\n",
       "      <td>0.259085</td>\n",
       "      <td>1.0</td>\n",
       "      <td>0.0</td>\n",
       "      <td>1</td>\n",
       "    </tr>\n",
       "    <tr>\n",
       "      <th>16436</th>\n",
       "      <td>80</td>\n",
       "      <td>19.744436</td>\n",
       "      <td>5.006714</td>\n",
       "      <td>30.000000</td>\n",
       "      <td>7.003357</td>\n",
       "      <td>0.996643</td>\n",
       "      <td>0.003357</td>\n",
       "      <td>1.0</td>\n",
       "      <td>0.0</td>\n",
       "      <td>1.0</td>\n",
       "      <td>...</td>\n",
       "      <td>0.000000</td>\n",
       "      <td>0.000000</td>\n",
       "      <td>1.000000</td>\n",
       "      <td>1.0</td>\n",
       "      <td>0.0</td>\n",
       "      <td>1.000000</td>\n",
       "      <td>0.000000</td>\n",
       "      <td>1.0</td>\n",
       "      <td>0.0</td>\n",
       "      <td>1</td>\n",
       "    </tr>\n",
       "    <tr>\n",
       "      <th>16437</th>\n",
       "      <td>62</td>\n",
       "      <td>23.089800</td>\n",
       "      <td>0.000000</td>\n",
       "      <td>0.571539</td>\n",
       "      <td>7.143077</td>\n",
       "      <td>0.571539</td>\n",
       "      <td>0.428461</td>\n",
       "      <td>1.0</td>\n",
       "      <td>0.0</td>\n",
       "      <td>1.0</td>\n",
       "      <td>...</td>\n",
       "      <td>0.571539</td>\n",
       "      <td>0.000000</td>\n",
       "      <td>0.428461</td>\n",
       "      <td>1.0</td>\n",
       "      <td>0.0</td>\n",
       "      <td>1.000000</td>\n",
       "      <td>0.000000</td>\n",
       "      <td>1.0</td>\n",
       "      <td>0.0</td>\n",
       "      <td>1</td>\n",
       "    </tr>\n",
       "  </tbody>\n",
       "</table>\n",
       "<p>16438 rows × 39 columns</p>\n",
       "</div>"
      ],
      "text/plain": [
       "       AgeCategory        BMI  MentalHealth  PhysicalHealth  SleepTime  \\\n",
       "0               72  26.260000      2.000000        5.000000  10.000000   \n",
       "1               80  24.620000      0.000000        5.000000   6.000000   \n",
       "2               67  26.610000      0.000000        0.000000  12.000000   \n",
       "3               57  34.410000     30.000000        0.000000   9.000000   \n",
       "4               72  22.600000      0.000000        0.000000   8.000000   \n",
       "...            ...        ...           ...             ...        ...   \n",
       "16433           80  24.607797      0.000000        4.955330   5.522335   \n",
       "16434           80  28.687562      0.000000        0.535420   8.000000   \n",
       "16435           80  24.607093      0.000000        0.000000   8.000000   \n",
       "16436           80  19.744436      5.006714       30.000000   7.003357   \n",
       "16437           62  23.089800      0.000000        0.571539   7.143077   \n",
       "\n",
       "       Smoking_No  Smoking_Yes  AlcoholDrinking_No  AlcoholDrinking_Yes  \\\n",
       "0        1.000000     0.000000                 1.0                  0.0   \n",
       "1        1.000000     0.000000                 1.0                  0.0   \n",
       "2        1.000000     0.000000                 1.0                  0.0   \n",
       "3        1.000000     0.000000                 1.0                  0.0   \n",
       "4        0.000000     1.000000                 1.0                  0.0   \n",
       "...           ...          ...                 ...                  ...   \n",
       "16433    0.522335     0.477665                 1.0                  0.0   \n",
       "16434    1.000000     0.000000                 1.0                  0.0   \n",
       "16435    0.000000     1.000000                 1.0                  0.0   \n",
       "16436    0.996643     0.003357                 1.0                  0.0   \n",
       "16437    0.571539     0.428461                 1.0                  0.0   \n",
       "\n",
       "       Stroke_No  ...  GenHealth_Good  GenHealth_Poor  GenHealth_Very good  \\\n",
       "0            1.0  ...        0.000000        0.000000             1.000000   \n",
       "1            1.0  ...        1.000000        0.000000             0.000000   \n",
       "2            1.0  ...        1.000000        0.000000             0.000000   \n",
       "3            1.0  ...        1.000000        0.000000             0.000000   \n",
       "4            1.0  ...        0.000000        0.000000             1.000000   \n",
       "...          ...  ...             ...             ...                  ...   \n",
       "16433        1.0  ...        0.000000        0.000000             1.000000   \n",
       "16434        1.0  ...        0.464580        0.000000             0.535420   \n",
       "16435        1.0  ...        0.740915        0.259085             0.000000   \n",
       "16436        1.0  ...        0.000000        0.000000             1.000000   \n",
       "16437        1.0  ...        0.571539        0.000000             0.428461   \n",
       "\n",
       "       Asthma_No  Asthma_Yes  KidneyDisease_No  KidneyDisease_Yes  \\\n",
       "0            1.0         0.0          1.000000           0.000000   \n",
       "1            1.0         0.0          1.000000           0.000000   \n",
       "2            0.0         1.0          1.000000           0.000000   \n",
       "3            1.0         0.0          1.000000           0.000000   \n",
       "4            1.0         0.0          1.000000           0.000000   \n",
       "...          ...         ...               ...                ...   \n",
       "16433        1.0         0.0          1.000000           0.000000   \n",
       "16434        1.0         0.0          1.000000           0.000000   \n",
       "16435        1.0         0.0          0.740915           0.259085   \n",
       "16436        1.0         0.0          1.000000           0.000000   \n",
       "16437        1.0         0.0          1.000000           0.000000   \n",
       "\n",
       "       SkinCancer_No  SkinCancer_Yes  HeartDisease  \n",
       "0                1.0             0.0             0  \n",
       "1                1.0             0.0             0  \n",
       "2                1.0             0.0             0  \n",
       "3                1.0             0.0             0  \n",
       "4                1.0             0.0             0  \n",
       "...              ...             ...           ...  \n",
       "16433            1.0             0.0             1  \n",
       "16434            0.0             1.0             1  \n",
       "16435            1.0             0.0             1  \n",
       "16436            1.0             0.0             1  \n",
       "16437            1.0             0.0             1  \n",
       "\n",
       "[16438 rows x 39 columns]"
      ]
     },
     "execution_count": 103,
     "metadata": {},
     "output_type": "execute_result"
    }
   ],
   "source": [
    "DF_toml"
   ]
  },
  {
   "cell_type": "markdown",
   "id": "deb39cde",
   "metadata": {},
   "source": [
    " # <font color=\"Green\">Normalize  :</font>"
   ]
  },
  {
   "cell_type": "code",
   "execution_count": null,
   "id": "e6d5741c",
   "metadata": {},
   "outputs": [],
   "source": []
  },
  {
   "cell_type": "code",
   "execution_count": null,
   "id": "6ae0d1c0",
   "metadata": {},
   "outputs": [],
   "source": []
  },
  {
   "cell_type": "code",
   "execution_count": null,
   "id": "aa68b85c",
   "metadata": {},
   "outputs": [],
   "source": []
  },
  {
   "cell_type": "code",
   "execution_count": null,
   "id": "33998696",
   "metadata": {},
   "outputs": [],
   "source": []
  },
  {
   "cell_type": "code",
   "execution_count": null,
   "id": "1c7890fb",
   "metadata": {},
   "outputs": [],
   "source": []
  },
  {
   "cell_type": "markdown",
   "id": "6cc302be",
   "metadata": {},
   "source": [
    " # <font color=\"Green\">feature reduction  :</font>"
   ]
  },
  {
   "cell_type": "code",
   "execution_count": 97,
   "id": "325a82a8",
   "metadata": {},
   "outputs": [],
   "source": [
    "from sklearn.manifold import Isomap\n",
    "from sklearn.manifold import TSNE"
   ]
  },
  {
   "cell_type": "code",
   "execution_count": 98,
   "id": "4db3e0a0",
   "metadata": {},
   "outputs": [],
   "source": [
    "from sklearn.decomposition import PCA,KernelPCA"
   ]
  },
  {
   "cell_type": "code",
   "execution_count": 99,
   "id": "6533cc6c",
   "metadata": {},
   "outputs": [
    {
     "data": {
      "text/plain": [
       "<matplotlib.collections.PathCollection at 0x7fe96d0fe790>"
      ]
     },
     "execution_count": 99,
     "metadata": {},
     "output_type": "execute_result"
    },
    {
     "data": {
      "image/png": "[encoded data removed]",
      "text/plain": [
       "<Figure size 432x288 with 1 Axes>"
      ]
     },
     "metadata": {
      "needs_background": "light"
     },
     "output_type": "display_data"
    }
   ],
   "source": [
    "pca = KernelPCA(n_components=2,kernel='poly',random_state=3220,gamma=1,degree=50,coef0=100000)\n",
    "XPCA = pca.fit_transform(DF_toml.iloc[:,:-1])\n",
    "PLT.scatter(XPCA[:,0],range(0,len(XPCA)),c=DF_toml.iloc[:,-1])"
   ]
  },
  {
   "cell_type": "markdown",
   "id": "8640d1d0",
   "metadata": {},
   "source": [
    " # <font color=\"Green\">modeling  :</font>"
   ]
  },
  {
   "cell_type": "code",
   "execution_count": 102,
   "id": "75112e47",
   "metadata": {},
   "outputs": [
    {
     "name": "stdout",
     "output_type": "stream",
     "text": [
      "              precision    recall  f1-score   support\n",
      "\n",
      "           0       0.77      0.61      0.68      2064\n",
      "           1       0.68      0.81      0.74      2046\n",
      "\n",
      "    accuracy                           0.71      4110\n",
      "   macro avg       0.72      0.71      0.71      4110\n",
      "weighted avg       0.72      0.71      0.71      4110\n",
      "\n",
      "[[1267  797]\n",
      " [ 389 1657]]\n"
     ]
    }
   ],
   "source": [
    "ZX = pd.concat([pd.DataFrame(XPCA),DF_toml.iloc[:,-1]],axis=1)\n",
    "\n",
    "X_train,X_test,Y_train,Y_test = train_test_split(ZX.iloc[:,:-1],ZX.iloc[:,-1],random_state=3020)\n",
    "\n",
    "svm_classifier = SVC(C=1,kernel='rbf')\n",
    "svm_classifier.fit(X_train,Y_train)\n",
    "predicted = svm_classifier.predict(X_test)\n",
    "\n",
    "print(metrics.classification_report(Y_test,predicted))\n",
    "print(metrics.confusion_matrix(Y_test,predicted))"
   ]
  },
  {
   "cell_type": "code",
   "execution_count": 104,
   "id": "36bdfbc7",
   "metadata": {},
   "outputs": [
    {
     "name": "stdout",
     "output_type": "stream",
     "text": [
      "              precision    recall  f1-score   support\n",
      "\n",
      "           0       0.76      0.62      0.68      2064\n",
      "           1       0.68      0.80      0.73      2046\n",
      "\n",
      "    accuracy                           0.71      4110\n",
      "   macro avg       0.72      0.71      0.71      4110\n",
      "weighted avg       0.72      0.71      0.71      4110\n",
      "\n",
      "[[1284  780]\n",
      " [ 405 1641]]\n"
     ]
    }
   ],
   "source": [
    "X_train,X_test,Y_train,Y_test = train_test_split(DF_toml.iloc[:,:-1],DF_toml.iloc[:,-1],random_state=3020)\n",
    "\n",
    "svm_classifier = SVC(C=1,kernel='rbf')\n",
    "svm_classifier.fit(X_train,Y_train)\n",
    "predicted = svm_classifier.predict(X_test)\n",
    "\n",
    "print(metrics.classification_report(Y_test,predicted))\n",
    "print(metrics.confusion_matrix(Y_test,predicted))"
   ]
  },
  {
   "cell_type": "code",
   "execution_count": null,
   "id": "c5267c2f",
   "metadata": {},
   "outputs": [],
   "source": []
  },
  {
   "cell_type": "code",
   "execution_count": null,
   "id": "84050480",
   "metadata": {},
   "outputs": [],
   "source": []
  },
  {
   "cell_type": "code",
   "execution_count": null,
   "id": "7672362d",
   "metadata": {},
   "outputs": [],
   "source": []
  },
  {
   "cell_type": "code",
   "execution_count": null,
   "id": "835f4291",
   "metadata": {},
   "outputs": [],
   "source": []
  },
  {
   "cell_type": "code",
   "execution_count": null,
   "id": "b4437263",
   "metadata": {},
   "outputs": [],
   "source": []
  },
  {
   "cell_type": "code",
   "execution_count": null,
   "id": "1f7c9ad1",
   "metadata": {},
   "outputs": [],
   "source": []
  },
  {
   "cell_type": "code",
   "execution_count": null,
   "id": "e500e64e",
   "metadata": {},
   "outputs": [],
   "source": []
  },
  {
   "cell_type": "code",
   "execution_count": null,
   "id": "82f0ea85",
   "metadata": {},
   "outputs": [],
   "source": []
  },
  {
   "cell_type": "code",
   "execution_count": null,
   "id": "4e8568e5",
   "metadata": {},
   "outputs": [],
   "source": []
  },
  {
   "cell_type": "code",
   "execution_count": null,
   "id": "f82e5ce5",
   "metadata": {},
   "outputs": [],
   "source": []
  },
  {
   "cell_type": "code",
   "execution_count": null,
   "id": "706a6d4f",
   "metadata": {},
   "outputs": [],
   "source": []
  }
 ],
 "metadata": {
  "kernelspec": {
   "display_name": "Python 3 (ipykernel)",
   "language": "python",
   "name": "python3"
  },
  "language_info": {
   "codemirror_mode": {
    "name": "ipython",
    "version": 3
   },
   "file_extension": ".py",
   "mimetype": "text/x-python",
   "name": "python",
   "nbconvert_exporter": "python",
   "pygments_lexer": "ipython3",
   "version": "3.9.12"
  }
 },
 "nbformat": 4,
 "nbformat_minor": 5
}
