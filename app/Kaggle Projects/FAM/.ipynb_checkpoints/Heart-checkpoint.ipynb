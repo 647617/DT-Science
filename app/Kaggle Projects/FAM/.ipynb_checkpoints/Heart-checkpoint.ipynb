{
 "cells": [
  {
   "cell_type": "markdown",
   "id": "afdf033c",
   "metadata": {},
   "source": [
    "# Imbalance Data"
   ]
  },
  {
   "cell_type": "code",
   "execution_count": 1,
   "id": "d0e4e8a8",
   "metadata": {},
   "outputs": [],
   "source": [
    "import pandas as pd\n",
    "import numpy  as np\n",
    "import seaborn as SB\n",
    "import matplotlib.pyplot as PLT\n",
    "import scipy.stats as STATS\n",
    "from sklearn.model_selection import train_test_split\n",
    "from sklearn.preprocessing import StandardScaler\n",
    "from sklearn.preprocessing import MinMaxScaler\n",
    "from sklearn import metrics\n",
    "from sklearn.preprocessing import Normalizer\n",
    "from sklearn.preprocessing import LabelEncoder\n",
    "from sklearn.compose import ColumnTransformer\n",
    "from sklearn.preprocessing import OneHotEncoder\n",
    "from sklearn.ensemble import GradientBoostingRegressor\n",
    "from sklearn.metrics import mean_absolute_error,r2_score\n",
    "from sklearn import metrics\n",
    "import random"
   ]
  },
  {
   "cell_type": "code",
   "execution_count": 2,
   "id": "607101a5",
   "metadata": {},
   "outputs": [],
   "source": [
    "n = 1000\n",
    "skip = sorted(random.sample(range(1,319795),319795-n))\n",
    "DF = pd.read_csv('../../datasets/heart_2020_cleaned.csv',skiprows=skip).reset_index().rename(columns={'index':'id'})"
   ]
  },
  {
   "cell_type": "code",
   "execution_count": 3,
   "id": "fec2473d",
   "metadata": {},
   "outputs": [],
   "source": [
    "CatCols = [\n",
    "    'Smoking','AlcoholDrinking','Stroke','DiffWalking','Sex','AgeCategory','Race','Diabetic',\n",
    "    'PhysicalActivity','GenHealth','Asthma','KidneyDisease','SkinCancer'\n",
    "]\n",
    "NumCols = [\n",
    "    'BMI', 'PhysicalHealth', 'MentalHealth', 'SleepTime'\n",
    "]\n",
    "\n",
    "X = DF[DF.columns.difference(['id','HeartDisease'])]\n",
    "Y = DF['HeartDisease']"
   ]
  },
  {
   "cell_type": "code",
   "execution_count": 4,
   "id": "df122b59",
   "metadata": {},
   "outputs": [
    {
     "data": {
      "text/html": [
       "<div>\n",
       "<style scoped>\n",
       "    .dataframe tbody tr th:only-of-type {\n",
       "        vertical-align: middle;\n",
       "    }\n",
       "\n",
       "    .dataframe tbody tr th {\n",
       "        vertical-align: top;\n",
       "    }\n",
       "\n",
       "    .dataframe thead th {\n",
       "        text-align: right;\n",
       "    }\n",
       "</style>\n",
       "<table border=\"1\" class=\"dataframe\">\n",
       "  <thead>\n",
       "    <tr style=\"text-align: right;\">\n",
       "      <th></th>\n",
       "      <th>AgeCategory</th>\n",
       "      <th>AlcoholDrinking</th>\n",
       "      <th>Asthma</th>\n",
       "      <th>BMI</th>\n",
       "      <th>Diabetic</th>\n",
       "      <th>DiffWalking</th>\n",
       "      <th>GenHealth</th>\n",
       "      <th>KidneyDisease</th>\n",
       "      <th>MentalHealth</th>\n",
       "      <th>PhysicalActivity</th>\n",
       "      <th>PhysicalHealth</th>\n",
       "      <th>Race</th>\n",
       "      <th>Sex</th>\n",
       "      <th>SkinCancer</th>\n",
       "      <th>SleepTime</th>\n",
       "      <th>Smoking</th>\n",
       "      <th>Stroke</th>\n",
       "    </tr>\n",
       "  </thead>\n",
       "  <tbody>\n",
       "    <tr>\n",
       "      <th>0</th>\n",
       "      <td>75-79</td>\n",
       "      <td>No</td>\n",
       "      <td>No</td>\n",
       "      <td>23.73</td>\n",
       "      <td>No</td>\n",
       "      <td>No</td>\n",
       "      <td>Good</td>\n",
       "      <td>No</td>\n",
       "      <td>0.0</td>\n",
       "      <td>Yes</td>\n",
       "      <td>0.0</td>\n",
       "      <td>White</td>\n",
       "      <td>Male</td>\n",
       "      <td>Yes</td>\n",
       "      <td>6.0</td>\n",
       "      <td>No</td>\n",
       "      <td>No</td>\n",
       "    </tr>\n",
       "    <tr>\n",
       "      <th>1</th>\n",
       "      <td>75-79</td>\n",
       "      <td>No</td>\n",
       "      <td>No</td>\n",
       "      <td>23.63</td>\n",
       "      <td>No</td>\n",
       "      <td>No</td>\n",
       "      <td>Very good</td>\n",
       "      <td>No</td>\n",
       "      <td>0.0</td>\n",
       "      <td>Yes</td>\n",
       "      <td>0.0</td>\n",
       "      <td>White</td>\n",
       "      <td>Female</td>\n",
       "      <td>Yes</td>\n",
       "      <td>7.0</td>\n",
       "      <td>No</td>\n",
       "      <td>No</td>\n",
       "    </tr>\n",
       "    <tr>\n",
       "      <th>2</th>\n",
       "      <td>60-64</td>\n",
       "      <td>No</td>\n",
       "      <td>Yes</td>\n",
       "      <td>19.79</td>\n",
       "      <td>No</td>\n",
       "      <td>Yes</td>\n",
       "      <td>Poor</td>\n",
       "      <td>No</td>\n",
       "      <td>10.0</td>\n",
       "      <td>No</td>\n",
       "      <td>30.0</td>\n",
       "      <td>Black</td>\n",
       "      <td>Female</td>\n",
       "      <td>No</td>\n",
       "      <td>18.0</td>\n",
       "      <td>Yes</td>\n",
       "      <td>Yes</td>\n",
       "    </tr>\n",
       "    <tr>\n",
       "      <th>3</th>\n",
       "      <td>35-39</td>\n",
       "      <td>No</td>\n",
       "      <td>No</td>\n",
       "      <td>31.40</td>\n",
       "      <td>No</td>\n",
       "      <td>No</td>\n",
       "      <td>Very good</td>\n",
       "      <td>No</td>\n",
       "      <td>0.0</td>\n",
       "      <td>No</td>\n",
       "      <td>0.0</td>\n",
       "      <td>Black</td>\n",
       "      <td>Male</td>\n",
       "      <td>No</td>\n",
       "      <td>6.0</td>\n",
       "      <td>Yes</td>\n",
       "      <td>No</td>\n",
       "    </tr>\n",
       "    <tr>\n",
       "      <th>4</th>\n",
       "      <td>18-24</td>\n",
       "      <td>No</td>\n",
       "      <td>No</td>\n",
       "      <td>27.44</td>\n",
       "      <td>No</td>\n",
       "      <td>No</td>\n",
       "      <td>Good</td>\n",
       "      <td>No</td>\n",
       "      <td>30.0</td>\n",
       "      <td>Yes</td>\n",
       "      <td>0.0</td>\n",
       "      <td>White</td>\n",
       "      <td>Female</td>\n",
       "      <td>No</td>\n",
       "      <td>8.0</td>\n",
       "      <td>No</td>\n",
       "      <td>No</td>\n",
       "    </tr>\n",
       "  </tbody>\n",
       "</table>\n",
       "</div>"
      ],
      "text/plain": [
       "  AgeCategory AlcoholDrinking Asthma    BMI Diabetic DiffWalking  GenHealth  \\\n",
       "0       75-79              No     No  23.73       No          No       Good   \n",
       "1       75-79              No     No  23.63       No          No  Very good   \n",
       "2       60-64              No    Yes  19.79       No         Yes       Poor   \n",
       "3       35-39              No     No  31.40       No          No  Very good   \n",
       "4       18-24              No     No  27.44       No          No       Good   \n",
       "\n",
       "  KidneyDisease  MentalHealth PhysicalActivity  PhysicalHealth   Race     Sex  \\\n",
       "0            No           0.0              Yes             0.0  White    Male   \n",
       "1            No           0.0              Yes             0.0  White  Female   \n",
       "2            No          10.0               No            30.0  Black  Female   \n",
       "3            No           0.0               No             0.0  Black    Male   \n",
       "4            No          30.0              Yes             0.0  White  Female   \n",
       "\n",
       "  SkinCancer  SleepTime Smoking Stroke  \n",
       "0        Yes        6.0      No     No  \n",
       "1        Yes        7.0      No     No  \n",
       "2         No       18.0     Yes    Yes  \n",
       "3         No        6.0     Yes     No  \n",
       "4         No        8.0      No     No  "
      ]
     },
     "execution_count": 4,
     "metadata": {},
     "output_type": "execute_result"
    }
   ],
   "source": [
    "X.head()"
   ]
  },
  {
   "cell_type": "markdown",
   "id": "c86a7d43",
   "metadata": {},
   "source": [
    "# <font color=\"Brown\">BMI :</font>"
   ]
  },
  {
   "cell_type": "code",
   "execution_count": 5,
   "id": "6c8dede4",
   "metadata": {},
   "outputs": [
    {
     "data": {
      "text/plain": [
       "count    1000.000000\n",
       "mean       28.204100\n",
       "std         6.582612\n",
       "min        14.420000\n",
       "25%        23.750000\n",
       "50%        26.940000\n",
       "75%        31.570000\n",
       "max        75.420000\n",
       "Name: BMI, dtype: float64"
      ]
     },
     "execution_count": 5,
     "metadata": {},
     "output_type": "execute_result"
    }
   ],
   "source": [
    "X['BMI'].describe() "
   ]
  },
  {
   "cell_type": "code",
   "execution_count": 6,
   "id": "9350cd96",
   "metadata": {},
   "outputs": [],
   "source": [
    "# normal range 10 ~ 50"
   ]
  },
  {
   "cell_type": "code",
   "execution_count": 7,
   "id": "1bbcee7e",
   "metadata": {
    "scrolled": true
   },
   "outputs": [
    {
     "data": {
      "text/html": [
       "<div>\n",
       "<style scoped>\n",
       "    .dataframe tbody tr th:only-of-type {\n",
       "        vertical-align: middle;\n",
       "    }\n",
       "\n",
       "    .dataframe tbody tr th {\n",
       "        vertical-align: top;\n",
       "    }\n",
       "\n",
       "    .dataframe thead th {\n",
       "        text-align: right;\n",
       "    }\n",
       "</style>\n",
       "<table border=\"1\" class=\"dataframe\">\n",
       "  <thead>\n",
       "    <tr style=\"text-align: right;\">\n",
       "      <th></th>\n",
       "      <th>count</th>\n",
       "      <th>mean</th>\n",
       "      <th>std</th>\n",
       "      <th>min</th>\n",
       "      <th>25%</th>\n",
       "      <th>50%</th>\n",
       "      <th>75%</th>\n",
       "      <th>max</th>\n",
       "    </tr>\n",
       "    <tr>\n",
       "      <th>Sex</th>\n",
       "      <th></th>\n",
       "      <th></th>\n",
       "      <th></th>\n",
       "      <th></th>\n",
       "      <th></th>\n",
       "      <th></th>\n",
       "      <th></th>\n",
       "      <th></th>\n",
       "    </tr>\n",
       "  </thead>\n",
       "  <tbody>\n",
       "    <tr>\n",
       "      <th>Female</th>\n",
       "      <td>519.0</td>\n",
       "      <td>27.794085</td>\n",
       "      <td>6.305277</td>\n",
       "      <td>14.42</td>\n",
       "      <td>23.17</td>\n",
       "      <td>26.63</td>\n",
       "      <td>31.625</td>\n",
       "      <td>49.78</td>\n",
       "    </tr>\n",
       "    <tr>\n",
       "      <th>Male</th>\n",
       "      <td>473.0</td>\n",
       "      <td>28.122156</td>\n",
       "      <td>5.502283</td>\n",
       "      <td>14.60</td>\n",
       "      <td>24.39</td>\n",
       "      <td>26.96</td>\n",
       "      <td>31.190</td>\n",
       "      <td>48.73</td>\n",
       "    </tr>\n",
       "  </tbody>\n",
       "</table>\n",
       "</div>"
      ],
      "text/plain": [
       "        count       mean       std    min    25%    50%     75%    max\n",
       "Sex                                                                   \n",
       "Female  519.0  27.794085  6.305277  14.42  23.17  26.63  31.625  49.78\n",
       "Male    473.0  28.122156  5.502283  14.60  24.39  26.96  31.190  48.73"
      ]
     },
     "execution_count": 7,
     "metadata": {},
     "output_type": "execute_result"
    }
   ],
   "source": [
    "X[X['BMI']<=50].groupby(['Sex'])['BMI'].describe()"
   ]
  },
  {
   "cell_type": "code",
   "execution_count": 8,
   "id": "3693f967",
   "metadata": {},
   "outputs": [
    {
     "data": {
      "image/png": "[encoded data removed]",
      "text/plain": [
       "<Figure size 432x288 with 1 Axes>"
      ]
     },
     "metadata": {
      "needs_background": "light"
     },
     "output_type": "display_data"
    }
   ],
   "source": [
    "BMI_Normal_Range = X[X['BMI']<=50]\n",
    "BMI_Normal_Range.groupby(['Sex'])['BMI'].hist()\n",
    "PLT.show()"
   ]
  },
  {
   "cell_type": "code",
   "execution_count": 9,
   "id": "98eac83f",
   "metadata": {},
   "outputs": [
    {
     "data": {
      "image/png": "[encoded data removed]",
      "text/plain": [
       "<Figure size 432x288 with 1 Axes>"
      ]
     },
     "metadata": {
      "needs_background": "light"
     },
     "output_type": "display_data"
    }
   ],
   "source": [
    "BMI_Out_Of_Range = X[X['BMI']>50]\n",
    "BMI_Out_Of_Range.groupby(['Sex'])['BMI'].hist()\n",
    "PLT.show()"
   ]
  },
  {
   "cell_type": "code",
   "execution_count": 10,
   "id": "e1c52e0d",
   "metadata": {},
   "outputs": [],
   "source": [
    "# Drop rows with out of rage BMI\n",
    "X = X.drop(BMI_Out_Of_Range.index,errors='ignore')"
   ]
  },
  {
   "cell_type": "code",
   "execution_count": 11,
   "id": "ee0e0b88",
   "metadata": {},
   "outputs": [
    {
     "data": {
      "text/plain": [
       "<matplotlib.legend.Legend at 0x7fa7db06a4c0>"
      ]
     },
     "execution_count": 11,
     "metadata": {},
     "output_type": "execute_result"
    },
    {
     "data": {
      "image/png": "[encoded data removed]",
      "text/plain": [
       "<Figure size 720x360 with 1 Axes>"
      ]
     },
     "metadata": {
      "needs_background": "light"
     },
     "output_type": "display_data"
    }
   ],
   "source": [
    "PLT.figure(figsize=(10,5))\n",
    "SB.boxplot(x=X['Sex'],y=X['BMI'], hue=X['PhysicalActivity']).legend(loc='upper right')"
   ]
  },
  {
   "cell_type": "markdown",
   "id": "4c89b9f3",
   "metadata": {},
   "source": [
    "# <font color=\"Brown\">AlcoholDrinking :</font>"
   ]
  },
  {
   "cell_type": "code",
   "execution_count": 12,
   "id": "454925f8",
   "metadata": {},
   "outputs": [
    {
     "data": {
      "text/plain": [
       "count     992\n",
       "unique      2\n",
       "top        No\n",
       "freq      937\n",
       "Name: AlcoholDrinking, dtype: object"
      ]
     },
     "execution_count": 12,
     "metadata": {},
     "output_type": "execute_result"
    }
   ],
   "source": [
    "X['AlcoholDrinking'].describe()"
   ]
  },
  {
   "cell_type": "code",
   "execution_count": 13,
   "id": "1f0c6ae2",
   "metadata": {},
   "outputs": [
    {
     "data": {
      "text/plain": [
       "No     937\n",
       "Yes     55\n",
       "Name: AlcoholDrinking, dtype: int64"
      ]
     },
     "execution_count": 13,
     "metadata": {},
     "output_type": "execute_result"
    }
   ],
   "source": [
    "X['AlcoholDrinking'].value_counts()"
   ]
  },
  {
   "cell_type": "markdown",
   "id": "a1cfd872",
   "metadata": {},
   "source": [
    "# <font color=\"Brown\">AgeCategory :</font>"
   ]
  },
  {
   "cell_type": "code",
   "execution_count": 14,
   "id": "a7d18962",
   "metadata": {},
   "outputs": [
    {
     "data": {
      "text/plain": [
       "count       992\n",
       "unique       13\n",
       "top       65-69\n",
       "freq        106\n",
       "Name: AgeCategory, dtype: object"
      ]
     },
     "execution_count": 14,
     "metadata": {},
     "output_type": "execute_result"
    }
   ],
   "source": [
    "X['AgeCategory'].describe()"
   ]
  },
  {
   "cell_type": "code",
   "execution_count": 15,
   "id": "c86075eb",
   "metadata": {},
   "outputs": [
    {
     "data": {
      "text/plain": [
       "65-69          106\n",
       "60-64          105\n",
       "70-74           95\n",
       "55-59           89\n",
       "75-79           74\n",
       "45-49           74\n",
       "50-54           72\n",
       "35-39           69\n",
       "18-24           69\n",
       "40-44           66\n",
       "30-34           61\n",
       "80 or older     58\n",
       "25-29           54\n",
       "Name: AgeCategory, dtype: int64"
      ]
     },
     "execution_count": 15,
     "metadata": {},
     "output_type": "execute_result"
    }
   ],
   "source": [
    "X['AgeCategory'].value_counts()"
   ]
  },
  {
   "cell_type": "code",
   "execution_count": 16,
   "id": "a879a7f4",
   "metadata": {},
   "outputs": [],
   "source": [
    "_1 = X[X['AgeCategory']!='80 or older']['AgeCategory'].str.split('-').apply(\n",
    "    lambda x : (int(x[0])+int(x[1]))/2\n",
    ")\n",
    "_2 = X[X['AgeCategory']=='80 or older']['AgeCategory'].str.split(' or ').apply(\n",
    "    lambda x : 80\n",
    ")\n",
    "X.loc[_1.index,'AgeCategory'] = _1\n",
    "X.loc[_2.index,'AgeCategory'] = _2\n",
    "del _1,_2"
   ]
  },
  {
   "cell_type": "code",
   "execution_count": 17,
   "id": "2a7cacd3",
   "metadata": {},
   "outputs": [],
   "source": [
    "X['AgeCategory'] = X['AgeCategory'].astype(np.int64) "
   ]
  },
  {
   "cell_type": "code",
   "execution_count": 18,
   "id": "bf30761f",
   "metadata": {},
   "outputs": [
    {
     "data": {
      "text/plain": [
       "count    992.000000\n",
       "mean      53.698589\n",
       "std       17.739819\n",
       "min       21.000000\n",
       "25%       37.000000\n",
       "50%       57.000000\n",
       "75%       67.000000\n",
       "max       80.000000\n",
       "Name: AgeCategory, dtype: float64"
      ]
     },
     "execution_count": 18,
     "metadata": {},
     "output_type": "execute_result"
    }
   ],
   "source": [
    "X['AgeCategory'].describe()"
   ]
  },
  {
   "cell_type": "code",
   "execution_count": 19,
   "id": "65c967e3",
   "metadata": {
    "scrolled": true
   },
   "outputs": [
    {
     "data": {
      "text/plain": [
       "<AxesSubplot:>"
      ]
     },
     "execution_count": 19,
     "metadata": {},
     "output_type": "execute_result"
    },
    {
     "data": {
      "image/png": "[encoded data removed]",
      "text/plain": [
       "<Figure size 432x288 with 1 Axes>"
      ]
     },
     "metadata": {
      "needs_background": "light"
     },
     "output_type": "display_data"
    }
   ],
   "source": [
    "X['AgeCategory'].hist()"
   ]
  },
  {
   "cell_type": "code",
   "execution_count": 20,
   "id": "e1c356df",
   "metadata": {},
   "outputs": [
    {
     "data": {
      "image/png": "[encoded data removed]",
      "text/plain": [
       "<Figure size 432x288 with 1 Axes>"
      ]
     },
     "metadata": {
      "needs_background": "light"
     },
     "output_type": "display_data"
    }
   ],
   "source": [
    "X.groupby(['Sex'])['AgeCategory'].hist()\n",
    "PLT.show()"
   ]
  },
  {
   "cell_type": "code",
   "execution_count": 21,
   "id": "be5ca5f3",
   "metadata": {
    "scrolled": true
   },
   "outputs": [
    {
     "data": {
      "text/plain": [
       "<matplotlib.legend.Legend at 0x7fa7dae6b3d0>"
      ]
     },
     "execution_count": 21,
     "metadata": {},
     "output_type": "execute_result"
    },
    {
     "data": {
      "image/png": "[encoded data removed]",
      "text/plain": [
       "<Figure size 720x360 with 1 Axes>"
      ]
     },
     "metadata": {
      "needs_background": "light"
     },
     "output_type": "display_data"
    }
   ],
   "source": [
    "PLT.figure(figsize=(10,5))\n",
    "SB.boxplot(x=X['Sex'],y=X['AgeCategory'], hue=X['Asthma']).legend(loc='upper right')"
   ]
  },
  {
   "cell_type": "code",
   "execution_count": 22,
   "id": "7ce2ae17",
   "metadata": {},
   "outputs": [
    {
     "data": {
      "text/plain": [
       "<matplotlib.legend.Legend at 0x7fa7dae14280>"
      ]
     },
     "execution_count": 22,
     "metadata": {},
     "output_type": "execute_result"
    },
    {
     "data": {
      "image/png": "[encoded data removed]",
      "text/plain": [
       "<Figure size 720x360 with 1 Axes>"
      ]
     },
     "metadata": {
      "needs_background": "light"
     },
     "output_type": "display_data"
    }
   ],
   "source": [
    "PLT.figure(figsize=(10,5))\n",
    "SB.boxplot(x=X['Sex'],y=X['AgeCategory'], hue=X['Smoking']).legend(loc='upper right')"
   ]
  },
  {
   "cell_type": "code",
   "execution_count": 23,
   "id": "5abaa4f8",
   "metadata": {
    "scrolled": true
   },
   "outputs": [
    {
     "data": {
      "text/plain": [
       "<matplotlib.legend.Legend at 0x7fa7db0e5160>"
      ]
     },
     "execution_count": 23,
     "metadata": {},
     "output_type": "execute_result"
    },
    {
     "data": {
      "image/png": "[encoded data removed]",
      "text/plain": [
       "<Figure size 720x360 with 1 Axes>"
      ]
     },
     "metadata": {
      "needs_background": "light"
     },
     "output_type": "display_data"
    }
   ],
   "source": [
    "PLT.figure(figsize=(10,5))\n",
    "SB.boxplot(x=X['Sex'],y=X['AgeCategory'], hue=X['Stroke']).legend(loc='upper right')"
   ]
  },
  {
   "cell_type": "code",
   "execution_count": 24,
   "id": "9e644bff",
   "metadata": {},
   "outputs": [
    {
     "data": {
      "text/plain": [
       "<matplotlib.legend.Legend at 0x7fa7dae9c4c0>"
      ]
     },
     "execution_count": 24,
     "metadata": {},
     "output_type": "execute_result"
    },
    {
     "data": {
      "image/png": "[encoded data removed]",
      "text/plain": [
       "<Figure size 720x360 with 1 Axes>"
      ]
     },
     "metadata": {
      "needs_background": "light"
     },
     "output_type": "display_data"
    }
   ],
   "source": [
    "PLT.figure(figsize=(10,5))\n",
    "SB.boxplot(x=X['Sex'],y=X['AgeCategory'], hue=X['KidneyDisease']).legend(loc='upper right')"
   ]
  },
  {
   "cell_type": "code",
   "execution_count": 25,
   "id": "cf99c190",
   "metadata": {},
   "outputs": [],
   "source": [
    "CatCols = [\n",
    "    'Smoking','AlcoholDrinking','Stroke','DiffWalking','Sex','Race','Diabetic',\n",
    "    'PhysicalActivity','GenHealth','Asthma','KidneyDisease','SkinCancer'\n",
    "]\n",
    "NumCols = [\n",
    "    'BMI', 'PhysicalHealth', 'MentalHealth', 'SleepTime','AgeCategory'\n",
    "]"
   ]
  },
  {
   "cell_type": "markdown",
   "id": "ed246ea2",
   "metadata": {},
   "source": [
    "# <font color=\"Brown\">Asthma :</font>"
   ]
  },
  {
   "cell_type": "code",
   "execution_count": 26,
   "id": "c077fb26",
   "metadata": {},
   "outputs": [
    {
     "data": {
      "text/plain": [
       "No     866\n",
       "Yes    134\n",
       "Name: Asthma, dtype: int64"
      ]
     },
     "execution_count": 26,
     "metadata": {},
     "output_type": "execute_result"
    }
   ],
   "source": [
    "DF['Asthma'].value_counts()"
   ]
  },
  {
   "cell_type": "code",
   "execution_count": 27,
   "id": "29a5bff2",
   "metadata": {},
   "outputs": [
    {
     "data": {
      "text/plain": [
       "count     1000\n",
       "unique       2\n",
       "top         No\n",
       "freq       866\n",
       "Name: Asthma, dtype: object"
      ]
     },
     "execution_count": 27,
     "metadata": {},
     "output_type": "execute_result"
    }
   ],
   "source": [
    "DF['Asthma'].describe()"
   ]
  },
  {
   "cell_type": "code",
   "execution_count": 28,
   "id": "092f63b5",
   "metadata": {},
   "outputs": [
    {
     "data": {
      "text/plain": [
       "0"
      ]
     },
     "execution_count": 28,
     "metadata": {},
     "output_type": "execute_result"
    }
   ],
   "source": [
    "DF['Asthma'].isnull().sum()"
   ]
  },
  {
   "cell_type": "markdown",
   "id": "db58f269",
   "metadata": {},
   "source": [
    "# <font color=\"Brown\">Diabetic :</font>"
   ]
  },
  {
   "cell_type": "code",
   "execution_count": 29,
   "id": "8b4b5e64",
   "metadata": {},
   "outputs": [
    {
     "data": {
      "text/plain": [
       "No                         837\n",
       "Yes                        119\n",
       "No, borderline diabetes     27\n",
       "Yes (during pregnancy)       9\n",
       "Name: Diabetic, dtype: int64"
      ]
     },
     "execution_count": 29,
     "metadata": {},
     "output_type": "execute_result"
    }
   ],
   "source": [
    "X['Diabetic'].value_counts()"
   ]
  },
  {
   "cell_type": "code",
   "execution_count": 30,
   "id": "a7d51945",
   "metadata": {},
   "outputs": [
    {
     "data": {
      "text/plain": [
       "0"
      ]
     },
     "execution_count": 30,
     "metadata": {},
     "output_type": "execute_result"
    }
   ],
   "source": [
    "X['Diabetic'].isnull().sum()"
   ]
  },
  {
   "cell_type": "code",
   "execution_count": 31,
   "id": "ebdf3863",
   "metadata": {},
   "outputs": [
    {
     "data": {
      "text/plain": [
       "<matplotlib.legend.Legend at 0x7fa7dad66c40>"
      ]
     },
     "execution_count": 31,
     "metadata": {},
     "output_type": "execute_result"
    },
    {
     "data": {
      "image/png": "[encoded data removed]",
      "text/plain": [
       "<Figure size 720x360 with 1 Axes>"
      ]
     },
     "metadata": {
      "needs_background": "light"
     },
     "output_type": "display_data"
    }
   ],
   "source": [
    "PLT.figure(figsize=(10,5))\n",
    "SB.boxplot(x=X['Diabetic'],y=X['BMI'], hue=X['Sex']).legend(loc='upper right')"
   ]
  },
  {
   "cell_type": "markdown",
   "id": "bebc570a",
   "metadata": {},
   "source": [
    "# <font color=\"Brown\">DiffWalking :</font>"
   ]
  },
  {
   "cell_type": "code",
   "execution_count": 32,
   "id": "eaf3ee9c",
   "metadata": {},
   "outputs": [
    {
     "data": {
      "text/plain": [
       "No     859\n",
       "Yes    133\n",
       "Name: DiffWalking, dtype: int64"
      ]
     },
     "execution_count": 32,
     "metadata": {},
     "output_type": "execute_result"
    }
   ],
   "source": [
    "X['DiffWalking'].value_counts()"
   ]
  },
  {
   "cell_type": "code",
   "execution_count": 33,
   "id": "b53d4cb6",
   "metadata": {},
   "outputs": [
    {
     "data": {
      "text/plain": [
       "0"
      ]
     },
     "execution_count": 33,
     "metadata": {},
     "output_type": "execute_result"
    }
   ],
   "source": [
    "X['DiffWalking'].isnull().sum()"
   ]
  },
  {
   "cell_type": "code",
   "execution_count": 34,
   "id": "6b94cf3f",
   "metadata": {
    "scrolled": true
   },
   "outputs": [
    {
     "data": {
      "text/plain": [
       "<matplotlib.legend.Legend at 0x7fa7daccd460>"
      ]
     },
     "execution_count": 34,
     "metadata": {},
     "output_type": "execute_result"
    },
    {
     "data": {
      "image/png": "[encoded data removed]",
      "text/plain": [
       "<Figure size 1008x360 with 1 Axes>"
      ]
     },
     "metadata": {
      "needs_background": "light"
     },
     "output_type": "display_data"
    }
   ],
   "source": [
    "PLT.figure(figsize=(14,5))\n",
    "SB.boxplot(x=Y,y=X['AgeCategory'], hue=X['DiffWalking']).legend(loc='upper right',title='DiffWalking')"
   ]
  },
  {
   "cell_type": "code",
   "execution_count": 35,
   "id": "a33f19d2",
   "metadata": {},
   "outputs": [
    {
     "data": {
      "text/plain": [
       "<matplotlib.legend.Legend at 0x7fa7dac58250>"
      ]
     },
     "execution_count": 35,
     "metadata": {},
     "output_type": "execute_result"
    },
    {
     "data": {
      "image/png": "[encoded data removed]",
      "text/plain": [
       "<Figure size 576x360 with 1 Axes>"
      ]
     },
     "metadata": {
      "needs_background": "light"
     },
     "output_type": "display_data"
    }
   ],
   "source": [
    "PLT.figure(figsize=(8,5))\n",
    "SB.boxplot(x=X['Asthma'],y=X['AgeCategory'], hue=Y).legend(loc='upper right',title='HeartDisease')"
   ]
  },
  {
   "cell_type": "markdown",
   "id": "c48f3434",
   "metadata": {},
   "source": [
    "# <font color=\"Brown\">GenHealth :</font>"
   ]
  },
  {
   "cell_type": "code",
   "execution_count": 36,
   "id": "8cfdf746",
   "metadata": {},
   "outputs": [
    {
     "data": {
      "text/plain": [
       "count           992\n",
       "unique            5\n",
       "top       Very good\n",
       "freq            331\n",
       "Name: GenHealth, dtype: object"
      ]
     },
     "execution_count": 36,
     "metadata": {},
     "output_type": "execute_result"
    }
   ],
   "source": [
    "X['GenHealth'].describe()"
   ]
  },
  {
   "cell_type": "code",
   "execution_count": 37,
   "id": "9e9cef27",
   "metadata": {},
   "outputs": [
    {
     "data": {
      "text/plain": [
       "0"
      ]
     },
     "execution_count": 37,
     "metadata": {},
     "output_type": "execute_result"
    }
   ],
   "source": [
    "X['GenHealth'].isnull().sum()"
   ]
  },
  {
   "cell_type": "code",
   "execution_count": 38,
   "id": "1bd3b7cd",
   "metadata": {},
   "outputs": [
    {
     "data": {
      "text/plain": [
       "Very good    331\n",
       "Good         279\n",
       "Excellent    238\n",
       "Fair         106\n",
       "Poor          38\n",
       "Name: GenHealth, dtype: int64"
      ]
     },
     "execution_count": 38,
     "metadata": {},
     "output_type": "execute_result"
    }
   ],
   "source": [
    "X['GenHealth'].value_counts()"
   ]
  },
  {
   "cell_type": "code",
   "execution_count": 39,
   "id": "e1d77e29",
   "metadata": {},
   "outputs": [
    {
     "data": {
      "text/plain": [
       "<matplotlib.legend.Legend at 0x7fa7dab8c9a0>"
      ]
     },
     "execution_count": 39,
     "metadata": {},
     "output_type": "execute_result"
    },
    {
     "data": {
      "image/png": "[encoded data removed]",
      "text/plain": [
       "<Figure size 576x360 with 1 Axes>"
      ]
     },
     "metadata": {
      "needs_background": "light"
     },
     "output_type": "display_data"
    }
   ],
   "source": [
    "PLT.figure(figsize=(8,5))\n",
    "SB.boxplot(x=X['GenHealth'],y=X['AgeCategory'], hue=Y).legend(loc='upper right',title='HeartDisease')"
   ]
  },
  {
   "cell_type": "markdown",
   "id": "045030ef",
   "metadata": {},
   "source": [
    "# <font color=\"Brown\">KidneyDisease :</font>"
   ]
  },
  {
   "cell_type": "code",
   "execution_count": 40,
   "id": "bfa91929",
   "metadata": {},
   "outputs": [
    {
     "data": {
      "text/plain": [
       "count     992\n",
       "unique      2\n",
       "top        No\n",
       "freq      952\n",
       "Name: KidneyDisease, dtype: object"
      ]
     },
     "execution_count": 40,
     "metadata": {},
     "output_type": "execute_result"
    }
   ],
   "source": [
    "X['KidneyDisease'].describe()"
   ]
  },
  {
   "cell_type": "code",
   "execution_count": 41,
   "id": "686f4a95",
   "metadata": {},
   "outputs": [
    {
     "data": {
      "text/plain": [
       "0"
      ]
     },
     "execution_count": 41,
     "metadata": {},
     "output_type": "execute_result"
    }
   ],
   "source": [
    "X['KidneyDisease'].isnull().sum()"
   ]
  },
  {
   "cell_type": "code",
   "execution_count": 42,
   "id": "e930ffc7",
   "metadata": {},
   "outputs": [
    {
     "data": {
      "text/plain": [
       "No     952\n",
       "Yes     40\n",
       "Name: KidneyDisease, dtype: int64"
      ]
     },
     "execution_count": 42,
     "metadata": {},
     "output_type": "execute_result"
    }
   ],
   "source": [
    "X['KidneyDisease'].value_counts()"
   ]
  },
  {
   "cell_type": "code",
   "execution_count": 43,
   "id": "354de840",
   "metadata": {},
   "outputs": [
    {
     "data": {
      "text/plain": [
       "<matplotlib.legend.Legend at 0x7fa7daa50820>"
      ]
     },
     "execution_count": 43,
     "metadata": {},
     "output_type": "execute_result"
    },
    {
     "data": {
      "image/png": "[encoded data removed]",
      "text/plain": [
       "<Figure size 864x432 with 1 Axes>"
      ]
     },
     "metadata": {
      "needs_background": "light"
     },
     "output_type": "display_data"
    }
   ],
   "source": [
    "PLT.figure(figsize=(12,6))\n",
    "SB.boxplot(x=X['KidneyDisease'],y=X['AgeCategory'], hue=Y).legend(loc='upper right',title='HeartDisease')"
   ]
  },
  {
   "cell_type": "markdown",
   "id": "17726ddf",
   "metadata": {},
   "source": [
    "# <font color=\"Brown\">MentalHealth :</font>"
   ]
  },
  {
   "cell_type": "code",
   "execution_count": 44,
   "id": "22602578",
   "metadata": {
    "scrolled": true
   },
   "outputs": [
    {
     "data": {
      "text/plain": [
       "count    992.000000\n",
       "mean       4.061492\n",
       "std        8.198179\n",
       "min        0.000000\n",
       "25%        0.000000\n",
       "50%        0.000000\n",
       "75%        3.250000\n",
       "max       30.000000\n",
       "Name: MentalHealth, dtype: float64"
      ]
     },
     "execution_count": 44,
     "metadata": {},
     "output_type": "execute_result"
    }
   ],
   "source": [
    "X['MentalHealth'].describe()"
   ]
  },
  {
   "cell_type": "code",
   "execution_count": 45,
   "id": "89e3e28a",
   "metadata": {
    "scrolled": true
   },
   "outputs": [
    {
     "data": {
      "text/plain": [
       "0"
      ]
     },
     "execution_count": 45,
     "metadata": {},
     "output_type": "execute_result"
    }
   ],
   "source": [
    "X['MentalHealth'].isna().sum()"
   ]
  },
  {
   "cell_type": "code",
   "execution_count": 46,
   "id": "7e57d60e",
   "metadata": {},
   "outputs": [
    {
     "data": {
      "text/plain": [
       "0.0     640\n",
       "1.0      27\n",
       "2.0      41\n",
       "3.0      36\n",
       "4.0      15\n",
       "5.0      41\n",
       "6.0       8\n",
       "7.0      14\n",
       "8.0       3\n",
       "10.0     41\n",
       "12.0      4\n",
       "14.0      6\n",
       "15.0     28\n",
       "16.0      1\n",
       "18.0      1\n",
       "20.0     16\n",
       "21.0      2\n",
       "25.0      2\n",
       "28.0      4\n",
       "29.0      3\n",
       "30.0     59\n",
       "Name: MentalHealth, dtype: int64"
      ]
     },
     "execution_count": 46,
     "metadata": {},
     "output_type": "execute_result"
    }
   ],
   "source": [
    "X['MentalHealth'].value_counts().sort_index()"
   ]
  },
  {
   "cell_type": "code",
   "execution_count": 47,
   "id": "1adfbdf7",
   "metadata": {},
   "outputs": [
    {
     "data": {
      "text/plain": [
       "<AxesSubplot:>"
      ]
     },
     "execution_count": 47,
     "metadata": {},
     "output_type": "execute_result"
    },
    {
     "data": {
      "image/png": "[encoded data removed]",
      "text/plain": [
       "<Figure size 432x288 with 1 Axes>"
      ]
     },
     "metadata": {
      "needs_background": "light"
     },
     "output_type": "display_data"
    }
   ],
   "source": [
    "X['MentalHealth'].hist()"
   ]
  },
  {
   "cell_type": "code",
   "execution_count": 48,
   "id": "4d8994ce",
   "metadata": {},
   "outputs": [
    {
     "data": {
      "text/plain": [
       "<matplotlib.legend.Legend at 0x7fa7da8dc970>"
      ]
     },
     "execution_count": 48,
     "metadata": {},
     "output_type": "execute_result"
    },
    {
     "data": {
      "image/png": "[encoded data removed]",
      "text/plain": [
       "<Figure size 1440x432 with 1 Axes>"
      ]
     },
     "metadata": {
      "needs_background": "light"
     },
     "output_type": "display_data"
    }
   ],
   "source": [
    "PLT.figure(figsize=(20,6))\n",
    "SB.boxplot(y=X['MentalHealth'],x=X['AgeCategory'], hue=Y).legend(loc='upper right',title='HeartDisease')"
   ]
  },
  {
   "cell_type": "markdown",
   "id": "f3cecb0d",
   "metadata": {},
   "source": [
    "# <font color=\"Brown\">PhysicalActivity :</font>"
   ]
  },
  {
   "cell_type": "code",
   "execution_count": 49,
   "id": "3d4e9b5a",
   "metadata": {},
   "outputs": [
    {
     "data": {
      "text/plain": [
       "count     992\n",
       "unique      2\n",
       "top       Yes\n",
       "freq      797\n",
       "Name: PhysicalActivity, dtype: object"
      ]
     },
     "execution_count": 49,
     "metadata": {},
     "output_type": "execute_result"
    }
   ],
   "source": [
    "X['PhysicalActivity'].describe()"
   ]
  },
  {
   "cell_type": "code",
   "execution_count": 50,
   "id": "28e04818",
   "metadata": {
    "scrolled": true
   },
   "outputs": [
    {
     "data": {
      "text/plain": [
       "0"
      ]
     },
     "execution_count": 50,
     "metadata": {},
     "output_type": "execute_result"
    }
   ],
   "source": [
    "X['PhysicalActivity'].isna().sum()"
   ]
  },
  {
   "cell_type": "code",
   "execution_count": 51,
   "id": "082988c7",
   "metadata": {},
   "outputs": [
    {
     "data": {
      "text/plain": [
       "No     195\n",
       "Yes    797\n",
       "Name: PhysicalActivity, dtype: int64"
      ]
     },
     "execution_count": 51,
     "metadata": {},
     "output_type": "execute_result"
    }
   ],
   "source": [
    "X['PhysicalActivity'].value_counts().sort_index()"
   ]
  },
  {
   "cell_type": "code",
   "execution_count": 52,
   "id": "6573aa52",
   "metadata": {},
   "outputs": [
    {
     "data": {
      "text/plain": [
       "<matplotlib.legend.Legend at 0x7fa7da6fc850>"
      ]
     },
     "execution_count": 52,
     "metadata": {},
     "output_type": "execute_result"
    },
    {
     "data": {
      "image/png": "[encoded data removed]",
      "text/plain": [
       "<Figure size 864x432 with 1 Axes>"
      ]
     },
     "metadata": {
      "needs_background": "light"
     },
     "output_type": "display_data"
    }
   ],
   "source": [
    "PLT.figure(figsize=(12,6))\n",
    "SB.boxplot(x=X['PhysicalActivity'],y=X['AgeCategory'], hue=Y).legend(loc='upper right',title='HeartDisease')"
   ]
  },
  {
   "cell_type": "markdown",
   "id": "6cad2f02",
   "metadata": {},
   "source": [
    "# <font color=\"Brown\">PhysicalHealth :</font>"
   ]
  },
  {
   "cell_type": "code",
   "execution_count": 53,
   "id": "e6b4ed3a",
   "metadata": {
    "scrolled": true
   },
   "outputs": [
    {
     "data": {
      "text/plain": [
       "count    992.000000\n",
       "mean       3.166331\n",
       "std        7.711731\n",
       "min        0.000000\n",
       "25%        0.000000\n",
       "50%        0.000000\n",
       "75%        2.000000\n",
       "max       30.000000\n",
       "Name: PhysicalHealth, dtype: float64"
      ]
     },
     "execution_count": 53,
     "metadata": {},
     "output_type": "execute_result"
    }
   ],
   "source": [
    "X['PhysicalHealth'].describe()"
   ]
  },
  {
   "cell_type": "code",
   "execution_count": 54,
   "id": "6738cfad",
   "metadata": {
    "scrolled": true
   },
   "outputs": [
    {
     "data": {
      "text/plain": [
       "0"
      ]
     },
     "execution_count": 54,
     "metadata": {},
     "output_type": "execute_result"
    }
   ],
   "source": [
    "X['PhysicalHealth'].isna().sum()"
   ]
  },
  {
   "cell_type": "code",
   "execution_count": 55,
   "id": "becdf3d9",
   "metadata": {},
   "outputs": [
    {
     "data": {
      "text/plain": [
       "0.0     709\n",
       "1.0      33\n",
       "2.0      42\n",
       "3.0      31\n",
       "4.0      16\n",
       "5.0      30\n",
       "6.0       5\n",
       "7.0       9\n",
       "8.0       2\n",
       "10.0     17\n",
       "12.0      4\n",
       "13.0      1\n",
       "14.0      8\n",
       "15.0      7\n",
       "18.0      1\n",
       "20.0     13\n",
       "21.0      1\n",
       "25.0      5\n",
       "28.0      2\n",
       "30.0     56\n",
       "Name: PhysicalHealth, dtype: int64"
      ]
     },
     "execution_count": 55,
     "metadata": {},
     "output_type": "execute_result"
    }
   ],
   "source": [
    "X['PhysicalHealth'].value_counts().sort_index()"
   ]
  },
  {
   "cell_type": "code",
   "execution_count": 56,
   "id": "c2713f2c",
   "metadata": {},
   "outputs": [
    {
     "data": {
      "text/plain": [
       "<AxesSubplot:>"
      ]
     },
     "execution_count": 56,
     "metadata": {},
     "output_type": "execute_result"
    },
    {
     "data": {
      "image/png": "[encoded data removed]",
      "text/plain": [
       "<Figure size 432x288 with 1 Axes>"
      ]
     },
     "metadata": {
      "needs_background": "light"
     },
     "output_type": "display_data"
    }
   ],
   "source": [
    "X['PhysicalHealth'].hist()"
   ]
  },
  {
   "cell_type": "code",
   "execution_count": 57,
   "id": "bdf4d947",
   "metadata": {},
   "outputs": [
    {
     "data": {
      "text/plain": [
       "<matplotlib.legend.Legend at 0x7fa7da742430>"
      ]
     },
     "execution_count": 57,
     "metadata": {},
     "output_type": "execute_result"
    },
    {
     "data": {
      "image/png": "[encoded data removed]",
      "text/plain": [
       "<Figure size 1440x432 with 1 Axes>"
      ]
     },
     "metadata": {
      "needs_background": "light"
     },
     "output_type": "display_data"
    }
   ],
   "source": [
    "PLT.figure(figsize=(20,6))\n",
    "SB.boxplot(y=X['PhysicalHealth'],x=X['AgeCategory'], hue=Y).legend(loc='upper right',title='HeartDisease')"
   ]
  },
  {
   "cell_type": "markdown",
   "id": "2950ebfc",
   "metadata": {},
   "source": [
    "# <font color=\"Brown\">Race :</font>"
   ]
  },
  {
   "cell_type": "code",
   "execution_count": 58,
   "id": "08650ee9",
   "metadata": {},
   "outputs": [
    {
     "data": {
      "text/plain": [
       "count       992\n",
       "unique        6\n",
       "top       White\n",
       "freq        753\n",
       "Name: Race, dtype: object"
      ]
     },
     "execution_count": 58,
     "metadata": {},
     "output_type": "execute_result"
    }
   ],
   "source": [
    "X['Race'].describe()"
   ]
  },
  {
   "cell_type": "code",
   "execution_count": 59,
   "id": "71f03a0d",
   "metadata": {},
   "outputs": [
    {
     "data": {
      "text/plain": [
       "0"
      ]
     },
     "execution_count": 59,
     "metadata": {},
     "output_type": "execute_result"
    }
   ],
   "source": [
    "X['Race'].isnull().sum()"
   ]
  },
  {
   "cell_type": "code",
   "execution_count": 60,
   "id": "6796ebe2",
   "metadata": {},
   "outputs": [
    {
     "data": {
      "text/plain": [
       "White                             753\n",
       "Hispanic                           89\n",
       "Black                              79\n",
       "Other                              32\n",
       "Asian                              20\n",
       "American Indian/Alaskan Native     19\n",
       "Name: Race, dtype: int64"
      ]
     },
     "execution_count": 60,
     "metadata": {},
     "output_type": "execute_result"
    }
   ],
   "source": [
    "X['Race'].value_counts()"
   ]
  },
  {
   "cell_type": "markdown",
   "id": "7efd5537",
   "metadata": {},
   "source": [
    "# <font color=\"Brown\">Race :</font>"
   ]
  },
  {
   "cell_type": "code",
   "execution_count": 61,
   "id": "e9d49872",
   "metadata": {},
   "outputs": [
    {
     "data": {
      "text/plain": [
       "count        992\n",
       "unique         2\n",
       "top       Female\n",
       "freq         519\n",
       "Name: Sex, dtype: object"
      ]
     },
     "execution_count": 61,
     "metadata": {},
     "output_type": "execute_result"
    }
   ],
   "source": [
    "X['Sex'].describe()"
   ]
  },
  {
   "cell_type": "code",
   "execution_count": 62,
   "id": "1301d47b",
   "metadata": {},
   "outputs": [
    {
     "data": {
      "text/plain": [
       "0"
      ]
     },
     "execution_count": 62,
     "metadata": {},
     "output_type": "execute_result"
    }
   ],
   "source": [
    "X['Sex'].isnull().sum()"
   ]
  },
  {
   "cell_type": "code",
   "execution_count": 63,
   "id": "10519d52",
   "metadata": {},
   "outputs": [
    {
     "data": {
      "text/plain": [
       "Female    519\n",
       "Male      473\n",
       "Name: Sex, dtype: int64"
      ]
     },
     "execution_count": 63,
     "metadata": {},
     "output_type": "execute_result"
    }
   ],
   "source": [
    "X['Sex'].value_counts()"
   ]
  },
  {
   "cell_type": "code",
   "execution_count": 64,
   "id": "b030699b",
   "metadata": {},
   "outputs": [
    {
     "data": {
      "text/plain": [
       "<matplotlib.legend.Legend at 0x7fa7da3620a0>"
      ]
     },
     "execution_count": 64,
     "metadata": {},
     "output_type": "execute_result"
    },
    {
     "data": {
      "image/png": "[encoded data removed]",
      "text/plain": [
       "<Figure size 1440x432 with 1 Axes>"
      ]
     },
     "metadata": {
      "needs_background": "light"
     },
     "output_type": "display_data"
    }
   ],
   "source": [
    "PLT.figure(figsize=(20,6))\n",
    "SB.boxplot(x=X['Sex'],y=X['AgeCategory'], hue=Y).legend(loc='upper right',title='HeartDisease')"
   ]
  },
  {
   "cell_type": "markdown",
   "id": "70debf26",
   "metadata": {},
   "source": [
    "# <font color=\"Brown\">Sex :</font>"
   ]
  },
  {
   "cell_type": "code",
   "execution_count": 65,
   "id": "301ad667",
   "metadata": {},
   "outputs": [
    {
     "data": {
      "text/plain": [
       "count        992\n",
       "unique         2\n",
       "top       Female\n",
       "freq         519\n",
       "Name: Sex, dtype: object"
      ]
     },
     "execution_count": 65,
     "metadata": {},
     "output_type": "execute_result"
    }
   ],
   "source": [
    "X['Sex'].describe()"
   ]
  },
  {
   "cell_type": "code",
   "execution_count": 66,
   "id": "eb4626ff",
   "metadata": {},
   "outputs": [
    {
     "data": {
      "text/plain": [
       "0"
      ]
     },
     "execution_count": 66,
     "metadata": {},
     "output_type": "execute_result"
    }
   ],
   "source": [
    "X['Sex'].isnull().sum()"
   ]
  },
  {
   "cell_type": "code",
   "execution_count": 67,
   "id": "a94b6974",
   "metadata": {},
   "outputs": [
    {
     "data": {
      "text/plain": [
       "Female    519\n",
       "Male      473\n",
       "Name: Sex, dtype: int64"
      ]
     },
     "execution_count": 67,
     "metadata": {},
     "output_type": "execute_result"
    }
   ],
   "source": [
    "X['Sex'].value_counts()"
   ]
  },
  {
   "cell_type": "code",
   "execution_count": 68,
   "id": "c95703d4",
   "metadata": {},
   "outputs": [
    {
     "data": {
      "text/plain": [
       "<matplotlib.legend.Legend at 0x7fa7da2f3ac0>"
      ]
     },
     "execution_count": 68,
     "metadata": {},
     "output_type": "execute_result"
    },
    {
     "data": {
      "image/png": "[encoded data removed]",
      "text/plain": [
       "<Figure size 864x432 with 1 Axes>"
      ]
     },
     "metadata": {
      "needs_background": "light"
     },
     "output_type": "display_data"
    }
   ],
   "source": [
    "PLT.figure(figsize=(12,6))\n",
    "SB.boxplot(x=X['Sex'],y=X['BMI'], hue=Y).legend(loc='upper right',title='HeartDisease')"
   ]
  },
  {
   "cell_type": "markdown",
   "id": "ea3462f3",
   "metadata": {},
   "source": [
    "# <font color=\"Brown\">SkinCancer :</font>"
   ]
  },
  {
   "cell_type": "code",
   "execution_count": 69,
   "id": "cf465188",
   "metadata": {},
   "outputs": [
    {
     "data": {
      "text/plain": [
       "count     992\n",
       "unique      2\n",
       "top        No\n",
       "freq      904\n",
       "Name: SkinCancer, dtype: object"
      ]
     },
     "execution_count": 69,
     "metadata": {},
     "output_type": "execute_result"
    }
   ],
   "source": [
    "X['SkinCancer'].describe()"
   ]
  },
  {
   "cell_type": "code",
   "execution_count": 70,
   "id": "061e02b3",
   "metadata": {},
   "outputs": [
    {
     "data": {
      "text/plain": [
       "0"
      ]
     },
     "execution_count": 70,
     "metadata": {},
     "output_type": "execute_result"
    }
   ],
   "source": [
    "X['SkinCancer'].isnull().sum()"
   ]
  },
  {
   "cell_type": "code",
   "execution_count": 71,
   "id": "cf2f6a5f",
   "metadata": {
    "scrolled": true
   },
   "outputs": [
    {
     "data": {
      "text/plain": [
       "No     904\n",
       "Yes     88\n",
       "Name: SkinCancer, dtype: int64"
      ]
     },
     "execution_count": 71,
     "metadata": {},
     "output_type": "execute_result"
    }
   ],
   "source": [
    "X['SkinCancer'].value_counts()"
   ]
  },
  {
   "cell_type": "markdown",
   "id": "6986f3e1",
   "metadata": {},
   "source": [
    "# <font color=\"Brown\">SkinCancer :</font>"
   ]
  },
  {
   "cell_type": "code",
   "execution_count": 72,
   "id": "1aa7e9d4",
   "metadata": {},
   "outputs": [
    {
     "data": {
      "text/plain": [
       "count     992\n",
       "unique      2\n",
       "top        No\n",
       "freq      904\n",
       "Name: SkinCancer, dtype: object"
      ]
     },
     "execution_count": 72,
     "metadata": {},
     "output_type": "execute_result"
    }
   ],
   "source": [
    "X['SkinCancer'].describe()"
   ]
  },
  {
   "cell_type": "code",
   "execution_count": 73,
   "id": "ba0bd8fc",
   "metadata": {},
   "outputs": [
    {
     "data": {
      "text/plain": [
       "0"
      ]
     },
     "execution_count": 73,
     "metadata": {},
     "output_type": "execute_result"
    }
   ],
   "source": [
    "X['SkinCancer'].isnull().sum()"
   ]
  },
  {
   "cell_type": "code",
   "execution_count": 74,
   "id": "d97fbc2c",
   "metadata": {
    "scrolled": false
   },
   "outputs": [
    {
     "data": {
      "text/plain": [
       "No     904\n",
       "Yes     88\n",
       "Name: SkinCancer, dtype: int64"
      ]
     },
     "execution_count": 74,
     "metadata": {},
     "output_type": "execute_result"
    }
   ],
   "source": [
    "X['SkinCancer'].value_counts()"
   ]
  },
  {
   "cell_type": "markdown",
   "id": "90c614a7",
   "metadata": {},
   "source": [
    "# <font color=\"Brown\">SleepTime :</font>"
   ]
  },
  {
   "cell_type": "code",
   "execution_count": 75,
   "id": "e47aaf9d",
   "metadata": {},
   "outputs": [
    {
     "data": {
      "text/plain": [
       "count    992.000000\n",
       "mean       7.139113\n",
       "std        1.488199\n",
       "min        1.000000\n",
       "25%        6.000000\n",
       "50%        7.000000\n",
       "75%        8.000000\n",
       "max       18.000000\n",
       "Name: SleepTime, dtype: float64"
      ]
     },
     "execution_count": 75,
     "metadata": {},
     "output_type": "execute_result"
    }
   ],
   "source": [
    "X['SleepTime'].describe()"
   ]
  },
  {
   "cell_type": "code",
   "execution_count": 76,
   "id": "7eca39c8",
   "metadata": {},
   "outputs": [
    {
     "data": {
      "text/plain": [
       "0"
      ]
     },
     "execution_count": 76,
     "metadata": {},
     "output_type": "execute_result"
    }
   ],
   "source": [
    "X['SleepTime'].isna().sum()"
   ]
  },
  {
   "cell_type": "code",
   "execution_count": 77,
   "id": "9a8eca28",
   "metadata": {},
   "outputs": [
    {
     "data": {
      "text/plain": [
       "<AxesSubplot:>"
      ]
     },
     "execution_count": 77,
     "metadata": {},
     "output_type": "execute_result"
    },
    {
     "data": {
      "image/png": "[encoded data removed]",
      "text/plain": [
       "<Figure size 432x288 with 1 Axes>"
      ]
     },
     "metadata": {
      "needs_background": "light"
     },
     "output_type": "display_data"
    }
   ],
   "source": [
    "X['SleepTime'].hist()"
   ]
  },
  {
   "cell_type": "code",
   "execution_count": 78,
   "id": "4e271503",
   "metadata": {},
   "outputs": [],
   "source": [
    "X = X.drop(X[X['SleepTime']>16]['SleepTime'].index,axis=0)"
   ]
  },
  {
   "cell_type": "code",
   "execution_count": 79,
   "id": "f71a35ec",
   "metadata": {},
   "outputs": [
    {
     "data": {
      "text/plain": [
       "<AxesSubplot:>"
      ]
     },
     "execution_count": 79,
     "metadata": {},
     "output_type": "execute_result"
    },
    {
     "data": {
      "image/png": "[encoded data removed]",
      "text/plain": [
       "<Figure size 432x288 with 1 Axes>"
      ]
     },
     "metadata": {
      "needs_background": "light"
     },
     "output_type": "display_data"
    }
   ],
   "source": [
    "X['SleepTime'].hist()"
   ]
  },
  {
   "cell_type": "markdown",
   "id": "7e97e545",
   "metadata": {},
   "source": [
    "# <font color=\"Brown\">Smoking :</font>"
   ]
  },
  {
   "cell_type": "code",
   "execution_count": 80,
   "id": "f94912b6",
   "metadata": {},
   "outputs": [
    {
     "data": {
      "text/plain": [
       "count     990\n",
       "unique      2\n",
       "top        No\n",
       "freq      578\n",
       "Name: Smoking, dtype: object"
      ]
     },
     "execution_count": 80,
     "metadata": {},
     "output_type": "execute_result"
    }
   ],
   "source": [
    "X['Smoking'].describe()"
   ]
  },
  {
   "cell_type": "code",
   "execution_count": 81,
   "id": "f0b5424c",
   "metadata": {},
   "outputs": [
    {
     "data": {
      "text/plain": [
       "0"
      ]
     },
     "execution_count": 81,
     "metadata": {},
     "output_type": "execute_result"
    }
   ],
   "source": [
    "X['Smoking'].isnull().sum()"
   ]
  },
  {
   "cell_type": "code",
   "execution_count": 82,
   "id": "c42ac39c",
   "metadata": {},
   "outputs": [
    {
     "data": {
      "text/plain": [
       "No     578\n",
       "Yes    412\n",
       "Name: Smoking, dtype: int64"
      ]
     },
     "execution_count": 82,
     "metadata": {},
     "output_type": "execute_result"
    }
   ],
   "source": [
    "X['Smoking'].value_counts()"
   ]
  },
  {
   "cell_type": "code",
   "execution_count": 83,
   "id": "715d9e38",
   "metadata": {},
   "outputs": [
    {
     "data": {
      "text/plain": [
       "<matplotlib.legend.Legend at 0x7fa7dc3ed2b0>"
      ]
     },
     "execution_count": 83,
     "metadata": {},
     "output_type": "execute_result"
    },
    {
     "data": {
      "image/png": "[encoded data removed]",
      "text/plain": [
       "<Figure size 864x432 with 1 Axes>"
      ]
     },
     "metadata": {
      "needs_background": "light"
     },
     "output_type": "display_data"
    }
   ],
   "source": [
    "PLT.figure(figsize=(12,6))\n",
    "SB.boxplot(x=X['Smoking'],y=X['PhysicalHealth'], hue=Y).legend(loc='upper right',title='HeartDisease')"
   ]
  },
  {
   "cell_type": "code",
   "execution_count": 84,
   "id": "e55b37cc",
   "metadata": {},
   "outputs": [
    {
     "data": {
      "text/plain": [
       "<matplotlib.legend.Legend at 0x7fa7dab6d880>"
      ]
     },
     "execution_count": 84,
     "metadata": {},
     "output_type": "execute_result"
    },
    {
     "data": {
      "image/png": "[encoded data removed]",
      "text/plain": [
       "<Figure size 864x432 with 1 Axes>"
      ]
     },
     "metadata": {
      "needs_background": "light"
     },
     "output_type": "display_data"
    }
   ],
   "source": [
    "PLT.figure(figsize=(12,6))\n",
    "SB.boxplot(x=X['Smoking'],y=X['MentalHealth'], hue=Y).legend(loc='upper right',title='HeartDisease')"
   ]
  },
  {
   "cell_type": "markdown",
   "id": "006efc9b",
   "metadata": {},
   "source": [
    "# <font color=\"Brown\">Stroke :</font>"
   ]
  },
  {
   "cell_type": "code",
   "execution_count": 85,
   "id": "4c9a0773",
   "metadata": {},
   "outputs": [
    {
     "data": {
      "text/plain": [
       "count     990\n",
       "unique      2\n",
       "top        No\n",
       "freq      955\n",
       "Name: Stroke, dtype: object"
      ]
     },
     "execution_count": 85,
     "metadata": {},
     "output_type": "execute_result"
    }
   ],
   "source": [
    "X['Stroke'].describe()"
   ]
  },
  {
   "cell_type": "code",
   "execution_count": 86,
   "id": "aaddba18",
   "metadata": {},
   "outputs": [
    {
     "data": {
      "text/plain": [
       "0"
      ]
     },
     "execution_count": 86,
     "metadata": {},
     "output_type": "execute_result"
    }
   ],
   "source": [
    "X['Stroke'].isnull().sum()"
   ]
  },
  {
   "cell_type": "code",
   "execution_count": 87,
   "id": "2d50bccd",
   "metadata": {},
   "outputs": [
    {
     "data": {
      "text/plain": [
       "No     955\n",
       "Yes     35\n",
       "Name: Stroke, dtype: int64"
      ]
     },
     "execution_count": 87,
     "metadata": {},
     "output_type": "execute_result"
    }
   ],
   "source": [
    "X['Stroke'].value_counts()"
   ]
  },
  {
   "cell_type": "code",
   "execution_count": 88,
   "id": "b765e8bc",
   "metadata": {},
   "outputs": [
    {
     "data": {
      "text/plain": [
       "<matplotlib.legend.Legend at 0x7fa7da049940>"
      ]
     },
     "execution_count": 88,
     "metadata": {},
     "output_type": "execute_result"
    },
    {
     "data": {
      "image/png": "[encoded data removed]",
      "text/plain": [
       "<Figure size 864x432 with 1 Axes>"
      ]
     },
     "metadata": {
      "needs_background": "light"
     },
     "output_type": "display_data"
    }
   ],
   "source": [
    "PLT.figure(figsize=(12,6))\n",
    "SB.boxplot(x=X['Stroke'],y=X['PhysicalHealth'], hue=Y).legend(loc='upper right',title='HeartDisease')"
   ]
  },
  {
   "cell_type": "code",
   "execution_count": 89,
   "id": "88a7bfb5",
   "metadata": {},
   "outputs": [
    {
     "data": {
      "text/plain": [
       "<matplotlib.legend.Legend at 0x7fa7d9f9c340>"
      ]
     },
     "execution_count": 89,
     "metadata": {},
     "output_type": "execute_result"
    },
    {
     "data": {
      "image/png": "[encoded data removed]",
      "text/plain": [
       "<Figure size 864x432 with 1 Axes>"
      ]
     },
     "metadata": {
      "needs_background": "light"
     },
     "output_type": "display_data"
    }
   ],
   "source": [
    "PLT.figure(figsize=(12,6))\n",
    "SB.boxplot(x=X['Stroke'],y=X['MentalHealth'], hue=Y).legend(loc='upper right',title='HeartDisease')"
   ]
  },
  {
   "cell_type": "markdown",
   "id": "0f1c5c37",
   "metadata": {},
   "source": [
    "# <font color=\"Green\">One Hot Encode Categorical Label :</font>"
   ]
  },
  {
   "cell_type": "code",
   "execution_count": 90,
   "id": "03924aa5",
   "metadata": {},
   "outputs": [],
   "source": [
    "from sklearn.preprocessing import LabelEncoder\n",
    "from sklearn.compose import ColumnTransformer\n",
    "from sklearn.preprocessing import OneHotEncoder\n",
    "\n",
    "def OHC_transformer_single_column(DF,columns):\n",
    "    \n",
    "    for column_name in columns:\n",
    "        label_encoder = LabelEncoder()\n",
    "        encoded = label_encoder.fit_transform(DF[column_name])\n",
    "        labels =pd.Series(label_encoder.classes_)\n",
    "\n",
    "        clmt = ColumnTransformer([(column_name,OneHotEncoder(),[0])], remainder='passthrough')\n",
    "        clmt_fited_data = clmt.fit_transform(DF[[column_name]]) \n",
    "        clmt_fited_data = clmt_fited_data if type(clmt_fited_data)== np.ndarray else clmt_fited_data.toarray()  \n",
    "        NDF = pd.DataFrame(clmt_fited_data,columns=[f'{column_name}_{x}' for x in labels])\n",
    "        \n",
    "        merged = DF.merge(NDF, left_index=True,right_index=True)\n",
    "        merged = merged.drop(columns=[column_name])\n",
    "        DF = merged\n",
    "    return DF"
   ]
  },
  {
   "cell_type": "code",
   "execution_count": 91,
   "id": "83b23348",
   "metadata": {},
   "outputs": [],
   "source": [
    "X_OHC = OHC_transformer_single_column(X,CatCols) \n",
    "Y = DF.iloc[X_OHC.index]['HeartDisease']\n",
    "Y_label_encoder = LabelEncoder()\n",
    "Y_OHC = Y_label_encoder.fit_transform(Y)"
   ]
  },
  {
   "cell_type": "code",
   "execution_count": 109,
   "id": "beb4bcfc",
   "metadata": {},
   "outputs": [],
   "source": [
    "NDF = pd.concat([X,Y],axis=1)\n",
    "NDF_OHC = pd.concat([X_OHC,pd.DataFrame(Y_OHC,columns=['HeartDisease'])],axis=1)"
   ]
  },
  {
   "cell_type": "markdown",
   "id": "f312a349",
   "metadata": {},
   "source": [
    "# <font color=\"Green\">Imbalance Data  :</font>"
   ]
  },
  {
   "cell_type": "code",
   "execution_count": 110,
   "id": "0f24b023",
   "metadata": {},
   "outputs": [
    {
     "name": "stderr",
     "output_type": "stream",
     "text": [
      "/opt/conda/lib/python3.9/site-packages/seaborn/_decorators.py:36: FutureWarning: Pass the following variable as a keyword arg: x. From version 0.12, the only valid positional argument will be `data`, and passing other arguments without an explicit keyword will result in an error or misinterpretation.\n",
      "  warnings.warn(\n"
     ]
    },
    {
     "data": {
      "text/plain": [
       "<AxesSubplot:xlabel='HeartDisease', ylabel='count'>"
      ]
     },
     "execution_count": 110,
     "metadata": {},
     "output_type": "execute_result"
    },
    {
     "data": {
      "image/png": "[encoded data removed]",
      "text/plain": [
       "<Figure size 432x288 with 1 Axes>"
      ]
     },
     "metadata": {
      "needs_background": "light"
     },
     "output_type": "display_data"
    }
   ],
   "source": [
    "SB.countplot('HeartDisease',data=NDF_OHC)"
   ]
  },
  {
   "cell_type": "code",
   "execution_count": 132,
   "id": "520537e5",
   "metadata": {},
   "outputs": [],
   "source": [
    "from imblearn.over_sampling import SMOTE"
   ]
  },
  {
   "cell_type": "code",
   "execution_count": 141,
   "id": "40d01b93",
   "metadata": {},
   "outputs": [
    {
     "name": "stderr",
     "output_type": "stream",
     "text": [
      "/opt/conda/lib/python3.9/site-packages/seaborn/_decorators.py:36: FutureWarning: Pass the following variable as a keyword arg: x. From version 0.12, the only valid positional argument will be `data`, and passing other arguments without an explicit keyword will result in an error or misinterpretation.\n",
      "  warnings.warn(\n"
     ]
    },
    {
     "data": {
      "text/plain": [
       "<AxesSubplot:xlabel='HeartDisease', ylabel='count'>"
      ]
     },
     "execution_count": 141,
     "metadata": {},
     "output_type": "execute_result"
    },
    {
     "data": {
      "image/png": "[encoded data removed]",
      "text/plain": [
       "<Figure size 432x288 with 1 Axes>"
      ]
     },
     "metadata": {
      "needs_background": "light"
     },
     "output_type": "display_data"
    }
   ],
   "source": [
    "smote = SMOTE()\n",
    "X_smote, Y_smote = smote.fit_resample(X_OHC,pd.DataFrame(Y_OHC,columns=['HeartDisease']))\n",
    "DF_smote = pd.concat([X_smote,Y_smote],axis=1)\n",
    "SB.countplot('HeartDisease',data=DF_smote)"
   ]
  },
  {
   "cell_type": "code",
   "execution_count": null,
   "id": "3f23c485",
   "metadata": {},
   "outputs": [],
   "source": []
  },
  {
   "cell_type": "code",
   "execution_count": null,
   "id": "0a915b14",
   "metadata": {},
   "outputs": [],
   "source": []
  },
  {
   "cell_type": "code",
   "execution_count": null,
   "id": "cf8aa500",
   "metadata": {},
   "outputs": [],
   "source": []
  },
  {
   "cell_type": "code",
   "execution_count": null,
   "id": "a36cdadd",
   "metadata": {},
   "outputs": [],
   "source": []
  },
  {
   "cell_type": "code",
   "execution_count": null,
   "id": "33b8db16",
   "metadata": {},
   "outputs": [],
   "source": []
  },
  {
   "cell_type": "code",
   "execution_count": null,
   "id": "69025368",
   "metadata": {},
   "outputs": [],
   "source": []
  },
  {
   "cell_type": "code",
   "execution_count": null,
   "id": "4e81c680",
   "metadata": {},
   "outputs": [],
   "source": []
  },
  {
   "cell_type": "code",
   "execution_count": 92,
   "id": "cee8cc98",
   "metadata": {},
   "outputs": [],
   "source": [
    "from sklearn.manifold import Isomap\n",
    "from sklearn.manifold import TSNE"
   ]
  },
  {
   "cell_type": "code",
   "execution_count": 142,
   "id": "5da93824",
   "metadata": {},
   "outputs": [
    {
     "name": "stderr",
     "output_type": "stream",
     "text": [
      "/opt/conda/lib/python3.9/site-packages/sklearn/manifold/_t_sne.py:780: FutureWarning: The default initialization in TSNE will change from 'random' to 'pca' in 1.2.\n",
      "  warnings.warn(\n",
      "/opt/conda/lib/python3.9/site-packages/sklearn/manifold/_t_sne.py:790: FutureWarning: The default learning rate in TSNE will change from 200.0 to 'auto' in 1.2.\n",
      "  warnings.warn(\n"
     ]
    },
    {
     "data": {
      "text/plain": [
       "<matplotlib.collections.PathCollection at 0x7fa7bbeb1bb0>"
      ]
     },
     "execution_count": 142,
     "metadata": {},
     "output_type": "execute_result"
    },
    {
     "data": {
      "image/png": "[encoded data removed]",
      "text/plain": [
       "<Figure size 432x288 with 1 Axes>"
      ]
     },
     "metadata": {
      "needs_background": "light"
     },
     "output_type": "display_data"
    }
   ],
   "source": [
    "ica = TSNE(n_components=1,perplexity=150)\n",
    "XICA = ica.fit_transform(DF_smote.iloc[:,:-1])\n",
    "PLT.scatter(XICA[:,-1],range(0,len(XICA)),c=DF_smote.iloc[:,-1])"
   ]
  },
  {
   "cell_type": "code",
   "execution_count": null,
   "id": "11ad25b7",
   "metadata": {},
   "outputs": [],
   "source": []
  },
  {
   "cell_type": "code",
   "execution_count": null,
   "id": "84986598",
   "metadata": {},
   "outputs": [],
   "source": []
  },
  {
   "cell_type": "code",
   "execution_count": null,
   "id": "a6d33194",
   "metadata": {},
   "outputs": [],
   "source": []
  },
  {
   "cell_type": "code",
   "execution_count": null,
   "id": "a8ed8335",
   "metadata": {},
   "outputs": [],
   "source": []
  },
  {
   "cell_type": "code",
   "execution_count": null,
   "id": "e266ee5e",
   "metadata": {},
   "outputs": [],
   "source": []
  },
  {
   "cell_type": "code",
   "execution_count": null,
   "id": "3f7e66c9",
   "metadata": {},
   "outputs": [],
   "source": []
  },
  {
   "cell_type": "code",
   "execution_count": null,
   "id": "be51bb1c",
   "metadata": {},
   "outputs": [],
   "source": []
  },
  {
   "cell_type": "code",
   "execution_count": null,
   "id": "cc62ac74",
   "metadata": {},
   "outputs": [],
   "source": []
  },
  {
   "cell_type": "code",
   "execution_count": null,
   "id": "4a18865b",
   "metadata": {},
   "outputs": [],
   "source": []
  },
  {
   "cell_type": "code",
   "execution_count": null,
   "id": "058c6df0",
   "metadata": {},
   "outputs": [],
   "source": []
  },
  {
   "cell_type": "code",
   "execution_count": null,
   "id": "5a6bbe08",
   "metadata": {},
   "outputs": [],
   "source": []
  },
  {
   "cell_type": "code",
   "execution_count": null,
   "id": "141dd859",
   "metadata": {},
   "outputs": [],
   "source": []
  },
  {
   "cell_type": "code",
   "execution_count": null,
   "id": "7672362d",
   "metadata": {},
   "outputs": [],
   "source": []
  },
  {
   "cell_type": "code",
   "execution_count": null,
   "id": "f82e5ce5",
   "metadata": {},
   "outputs": [],
   "source": []
  },
  {
   "cell_type": "code",
   "execution_count": null,
   "id": "706a6d4f",
   "metadata": {},
   "outputs": [],
   "source": []
  }
 ],
 "metadata": {
  "kernelspec": {
   "display_name": "Python 3 (ipykernel)",
   "language": "python",
   "name": "python3"
  },
  "language_info": {
   "codemirror_mode": {
    "name": "ipython",
    "version": 3
   },
   "file_extension": ".py",
   "mimetype": "text/x-python",
   "name": "python",
   "nbconvert_exporter": "python",
   "pygments_lexer": "ipython3",
   "version": "3.9.12"
  }
 },
 "nbformat": 4,
 "nbformat_minor": 5
}
