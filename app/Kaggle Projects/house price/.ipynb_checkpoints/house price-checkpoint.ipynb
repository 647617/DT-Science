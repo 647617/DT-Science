{
 "cells": [
  {
   "cell_type": "code",
   "execution_count": 1,
   "id": "d0e4e8a8",
   "metadata": {},
   "outputs": [],
   "source": [
    "import pandas as pd\n",
    "import numpy  as np\n",
    "import seaborn as SB\n",
    "import matplotlib.pyplot as PLT\n",
    "import scipy.stats as STATS"
   ]
  },
  {
   "cell_type": "code",
   "execution_count": 2,
   "id": "31acadad",
   "metadata": {},
   "outputs": [],
   "source": [
    "pd.set_option('display.max_rows', 600)\n",
    "pd.set_option('display.max_columns', 100)\n",
    "pd.set_option('display.width', 500)"
   ]
  },
  {
   "cell_type": "code",
   "execution_count": 3,
   "id": "b09e9aef",
   "metadata": {},
   "outputs": [],
   "source": [
    "DF = pd.read_csv('../../datasets/competitions/house-prices/train.csv')"
   ]
  },
  {
   "cell_type": "code",
   "execution_count": 4,
   "id": "a795ff9d",
   "metadata": {},
   "outputs": [],
   "source": [
    "CatCol = [\n",
    "    'MSSubClass','MSZoning','Street','LotShape','LandContour',\n",
    "    'LotConfig','LandSlope','Neighborhood','Condition1',\n",
    "    'Condition2','BldgType','HouseStyle','RoofStyle','RoofMatl','Exterior1st','ExterCond','ExterQual',\n",
    "    'MasVnrType','Foundation','BsmtQual','BsmtCond','BsmtExposure','BsmtFinType1','BsmtFinType2',\n",
    "    'Heating','HeatingQC','Electrical','Functional','FireplaceQu','GarageType','GarageFinish','GarageQual',\n",
    "    'GarageCond','PavedDrive','PoolQC','Fence','MiscFeature','MoSold','YrSold','SaleType','SaleCondition',\n",
    "    'YearRemodAdd','GarageYrBlt','YearBuilt','Exterior2nd','CentralAir','OverallQual','Alley','Utilities'\n",
    "]\n",
    "NumCol = [\n",
    "    'LotFrontage','LotArea','OverallCond','MasVnrArea','BsmtFinSF1','BsmtFinSF2','BsmtUnfSF',\n",
    "    'TotalBsmtSF','1stFlrSF','2ndFlrSF','LowQualFinSF','GrLivArea','BsmtFullBath','BsmtHalfBath','FullBath',\n",
    "    'HalfBath','BedroomAbvGr','KitchenAbvGr','KitchenQual','TotRmsAbvGrd','Fireplaces',\n",
    "    'GarageCars','GarageArea','PavedDrive','WoodDeckSF','OpenPorchSF','EnclosedPorch','3SsnPorch',\n",
    "    'MiscVal','ScreenPorch','PoolArea'\n",
    "]\n",
    "DropedCols = ['Alley','FireplaceQu','PoolQC','Fence','MiscFeature']\n",
    "XCols = [c for c in [*CatCol,*NumCol] if c not in DropedCols]\n",
    "YCol = 'SalePrice'"
   ]
  },
  {
   "cell_type": "code",
   "execution_count": 5,
   "id": "493bc308",
   "metadata": {
    "scrolled": true
   },
   "outputs": [],
   "source": [
    "DF.drop(DropedCols,axis=1,inplace=True)"
   ]
  },
  {
   "cell_type": "code",
   "execution_count": 6,
   "id": "b8e326c9",
   "metadata": {},
   "outputs": [],
   "source": [
    "DF['LotFrontage'].fillna(STATS.trim_mean(DF['LotFrontage'].dropna(),0.1),inplace=True)"
   ]
  },
  {
   "cell_type": "code",
   "execution_count": 7,
   "id": "293797dd",
   "metadata": {},
   "outputs": [],
   "source": [
    "DF['GarageQual'].fillna(DF['GarageQual'].mode()[0],inplace=True) "
   ]
  },
  {
   "cell_type": "code",
   "execution_count": 8,
   "id": "b54a86c5",
   "metadata": {},
   "outputs": [],
   "source": [
    "DF.drop(DF[~DF['OverallCond'].isin(range(0,11))].index,inplace=True)"
   ]
  },
  {
   "cell_type": "code",
   "execution_count": 9,
   "id": "270e2177",
   "metadata": {},
   "outputs": [],
   "source": [
    "DF['Electrical'].fillna(DF['Electrical'].mode()[0],inplace=True)"
   ]
  },
  {
   "cell_type": "code",
   "execution_count": 10,
   "id": "714d3d68",
   "metadata": {
    "scrolled": true
   },
   "outputs": [],
   "source": [
    "DF['BsmtFinType2'].fillna(DF['BsmtFinType2'].mode()[0],inplace=True)"
   ]
  },
  {
   "cell_type": "code",
   "execution_count": 11,
   "id": "a5ec63c0",
   "metadata": {
    "scrolled": false
   },
   "outputs": [],
   "source": [
    "DF['BsmtFinType1'].fillna(DF['BsmtFinType1'].mode()[0],inplace=True)"
   ]
  },
  {
   "cell_type": "code",
   "execution_count": 12,
   "id": "3e10fb93",
   "metadata": {},
   "outputs": [],
   "source": [
    "DF['BsmtExposure'].fillna(DF['BsmtExposure'].mode()[0],inplace=True)"
   ]
  },
  {
   "cell_type": "code",
   "execution_count": 13,
   "id": "f730a586",
   "metadata": {},
   "outputs": [],
   "source": [
    "DF['MasVnrArea'].fillna(STATS.trim_mean(DF['MasVnrArea'].sort_values(),0.1),inplace=True)"
   ]
  },
  {
   "cell_type": "code",
   "execution_count": 14,
   "id": "15da1456",
   "metadata": {},
   "outputs": [],
   "source": [
    "DF['BsmtCond'].fillna(DF['BsmtCond'].mode()[0],inplace=True)"
   ]
  },
  {
   "cell_type": "code",
   "execution_count": 15,
   "id": "d2c91e53",
   "metadata": {},
   "outputs": [],
   "source": [
    "DF['BsmtQual'].fillna(DF['BsmtQual'].mode()[0],inplace=True)"
   ]
  },
  {
   "cell_type": "code",
   "execution_count": 16,
   "id": "4eeda356",
   "metadata": {},
   "outputs": [],
   "source": [
    "DF['GarageType'].fillna(DF['GarageType'].mode()[0],inplace=True)"
   ]
  },
  {
   "cell_type": "code",
   "execution_count": 17,
   "id": "b20058eb",
   "metadata": {},
   "outputs": [],
   "source": [
    "DF['GarageYrBlt'].fillna(DF['GarageYrBlt'].mode()[0],inplace=True)"
   ]
  },
  {
   "cell_type": "code",
   "execution_count": 18,
   "id": "585fcee1",
   "metadata": {},
   "outputs": [],
   "source": [
    "DF['GarageFinish'].fillna(DF['GarageFinish'].mode()[0],inplace=True)"
   ]
  },
  {
   "cell_type": "code",
   "execution_count": 19,
   "id": "23347750",
   "metadata": {},
   "outputs": [],
   "source": [
    "DF['GarageCond'].fillna(DF['GarageCond'].mode()[0],inplace=True)"
   ]
  },
  {
   "cell_type": "code",
   "execution_count": 20,
   "id": "718c89a0",
   "metadata": {},
   "outputs": [],
   "source": [
    "DF['MasVnrType'].fillna(DF['MasVnrType'].mode()[0],inplace=True)"
   ]
  },
  {
   "cell_type": "code",
   "execution_count": 22,
   "id": "24644a18",
   "metadata": {},
   "outputs": [
    {
     "data": {
      "text/plain": [
       "(1460, 76)"
      ]
     },
     "execution_count": 22,
     "metadata": {},
     "output_type": "execute_result"
    }
   ],
   "source": [
    "DF.shape"
   ]
  },
  {
   "cell_type": "code",
   "execution_count": null,
   "id": "a283e286",
   "metadata": {},
   "outputs": [],
   "source": []
  },
  {
   "cell_type": "code",
   "execution_count": null,
   "id": "58473bea",
   "metadata": {},
   "outputs": [],
   "source": []
  },
  {
   "cell_type": "code",
   "execution_count": null,
   "id": "970c979c",
   "metadata": {},
   "outputs": [],
   "source": []
  },
  {
   "cell_type": "code",
   "execution_count": null,
   "id": "47a443e8",
   "metadata": {},
   "outputs": [],
   "source": []
  },
  {
   "cell_type": "code",
   "execution_count": null,
   "id": "a30ad740",
   "metadata": {},
   "outputs": [],
   "source": []
  },
  {
   "cell_type": "code",
   "execution_count": null,
   "id": "e1549a76",
   "metadata": {},
   "outputs": [],
   "source": []
  },
  {
   "cell_type": "code",
   "execution_count": null,
   "id": "1cd14a45",
   "metadata": {},
   "outputs": [],
   "source": []
  },
  {
   "cell_type": "code",
   "execution_count": null,
   "id": "fee1eafa",
   "metadata": {},
   "outputs": [],
   "source": []
  },
  {
   "cell_type": "code",
   "execution_count": null,
   "id": "4fa5d7b3",
   "metadata": {},
   "outputs": [],
   "source": []
  },
  {
   "cell_type": "code",
   "execution_count": null,
   "id": "26532738",
   "metadata": {},
   "outputs": [],
   "source": []
  },
  {
   "cell_type": "code",
   "execution_count": null,
   "id": "7226841a",
   "metadata": {},
   "outputs": [],
   "source": []
  }
 ],
 "metadata": {
  "kernelspec": {
   "display_name": "Python 3 (ipykernel)",
   "language": "python",
   "name": "python3"
  },
  "language_info": {
   "codemirror_mode": {
    "name": "ipython",
    "version": 3
   },
   "file_extension": ".py",
   "mimetype": "text/x-python",
   "name": "python",
   "nbconvert_exporter": "python",
   "pygments_lexer": "ipython3",
   "version": "3.9.12"
  }
 },
 "nbformat": 4,
 "nbformat_minor": 5
}
