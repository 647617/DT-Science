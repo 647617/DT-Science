{
 "cells": [
  {
   "cell_type": "code",
   "execution_count": 1,
   "id": "d0e4e8a8",
   "metadata": {},
   "outputs": [],
   "source": [
    "import pandas as pd\n",
    "import numpy  as np\n",
    "import seaborn as SB\n",
    "import matplotlib.pyplot as PLT\n",
    "import scipy.stats as STATS"
   ]
  },
  {
   "cell_type": "code",
   "execution_count": 2,
   "id": "b09e9aef",
   "metadata": {},
   "outputs": [
    {
     "data": {
      "text/plain": [
       "(1460, 81)"
      ]
     },
     "execution_count": 2,
     "metadata": {},
     "output_type": "execute_result"
    }
   ],
   "source": [
    "DF = pd.read_csv('../../datasets/competitions/house-prices/train.csv')\n",
    "DF.shape"
   ]
  },
  {
   "cell_type": "code",
   "execution_count": 119,
   "id": "a795ff9d",
   "metadata": {},
   "outputs": [],
   "source": [
    "CatCol = [\n",
    "    'MSSubClass','MSZoning','Street','LotShape','LandContour',\n",
    "    'LotConfig','LandSlope','Neighborhood','Condition1',\n",
    "    'Condition2','BldgType','HouseStyle','RoofStyle','RoofMatl','Exterior1st','ExterCond','ExterQual'\n",
    "    'MasVnrType','Foundation','BsmtQual','BsmtCond','BsmtExposure','BsmtFinType1','BsmtFinType2',\n",
    "    'Heating','HeatingQC','Electrical','Functional','FireplaceQu','GarageType','GarageFinish','GarageQual',\n",
    "    'GarageCond','PavedDrive','PoolQC','Fence','MiscFeature','MoSold','YrSold','SaleType','SaleCondition',\n",
    "    'YearRemodAdd','GarageYrBlt','YearBuilt'\n",
    "]\n",
    "\n",
    "NumCol = [\n",
    "    'LotFrontage','LotArea','OverallCond','MasVnrArea','BsmtFinSF1','BsmtFinSF2','BsmtUnfSF',\n",
    "    'TotalBsmtSF','1stFlrSF','2ndFlrSF','LowQualFinSF','GrLivArea','BsmtFullBath','BsmtHalfBath','FullBath',\n",
    "    'HalfBath','BedroomAbvGr','KitchenAbvGr','KitchenQual','TotRmsAbvGrd','Fireplaces',\n",
    "    'GarageCars','GarageArea','PavedDrive','WoodDeckSF','OpenPorchSF','EnclosedPorch','3SsnPorch',\n",
    "    'MiscVal'\n",
    "]\n",
    "\n",
    "\n",
    "hasNull = [\n",
    "    'ExterQual','ExterCond','BsmtQual','BsmtCond','BsmtExposure','MasVnrArea','BsmtFinType1',\n",
    "    'BsmtFinSF1','BsmtFinType2','BsmtFinSF2','BsmtUnfSF','Heating','HeatingQC','Electrical','BsmtFullBath',\n",
    "    'BsmtHalfBath','BedroomAbvGr','HalfBath','FullBath','KitchenAbvGr','KitchenQual','TotRmsAbvGrd',\n",
    "    'Functional','Fireplaces','FireplaceQu','GarageType','GarageYrBlt','GarageFinish','GarageCars','GarageQual',\n",
    "    'GarageCond','3SsnPorch','ScreenPorch','PoolArea','PoolQC','Fence','MiscFeature','MiscVal','MoSold','YrSold',\n",
    "    'SaleType','SaleCondition'\n",
    "]\n",
    "\n",
    "\n",
    "unkownCol = ['OverallQual']\n",
    "\n",
    "RiskCol = [\n",
    "    'Utilities','LandContour','LotConfig','LandSlope',\n",
    "    'Neighborhood','Condition1','Condition2',\n",
    "    'BldgType','HouseStyle','OverallCond'\n",
    "]"
   ]
  },
  {
   "cell_type": "code",
   "execution_count": 120,
   "id": "af915c0d",
   "metadata": {},
   "outputs": [
    {
     "data": {
      "text/plain": [
       "72"
      ]
     },
     "execution_count": 120,
     "metadata": {},
     "output_type": "execute_result"
    }
   ],
   "source": [
    "len(CatCol)+len(NumCol)"
   ]
  },
  {
   "cell_type": "code",
   "execution_count": 4,
   "id": "d83c325d",
   "metadata": {},
   "outputs": [],
   "source": [
    "DF[DF['LotFrontage'].isna()] = STATS.trim_mean(DF['LotFrontage'],0.1)\n",
    "DF.drop('Alley',axis=1,inplace=True)"
   ]
  },
  {
   "cell_type": "code",
   "execution_count": 23,
   "id": "3cf2959d",
   "metadata": {},
   "outputs": [],
   "source": [
    "DF.drop(DF[DF['Neighborhood']==70.04995836802665].index,inplace=True)\n",
    "DF.drop(DF[DF['CentralAir'].isna()].index,inplace=True)\n",
    "DF[DF['MasVnrArea'].isna()] = STATS.trim_mean(DF['MasVnrArea'],0.05)"
   ]
  },
  {
   "cell_type": "code",
   "execution_count": 121,
   "id": "df0a7f51",
   "metadata": {},
   "outputs": [
    {
     "data": {
      "text/plain": [
       "AllPub               1195\n",
       "77.34505087881591       6\n",
       "Name: Utilities, dtype: int64"
      ]
     },
     "execution_count": 121,
     "metadata": {},
     "output_type": "execute_result"
    }
   ],
   "source": [
    "DF['Utilities'].value_counts()"
   ]
  },
  {
   "cell_type": "code",
   "execution_count": 115,
   "id": "81447695",
   "metadata": {},
   "outputs": [
    {
     "data": {
      "text/plain": [
       "0"
      ]
     },
     "execution_count": 115,
     "metadata": {},
     "output_type": "execute_result"
    }
   ],
   "source": [
    "DF['SaleType'].isnull().sum()"
   ]
  },
  {
   "cell_type": "code",
   "execution_count": 91,
   "id": "276d0785",
   "metadata": {},
   "outputs": [
    {
     "data": {
      "text/plain": [
       "count    1201.000000\n",
       "mean       23.117461\n",
       "std        61.758513\n",
       "min         0.000000\n",
       "25%         0.000000\n",
       "50%         0.000000\n",
       "75%         0.000000\n",
       "max       552.000000\n",
       "Name: EnclosedPorch, dtype: float64"
      ]
     },
     "execution_count": 91,
     "metadata": {},
     "output_type": "execute_result"
    }
   ],
   "source": [
    "DF['EnclosedPorch'].describe()"
   ]
  },
  {
   "cell_type": "code",
   "execution_count": 9,
   "id": "cc9ea837",
   "metadata": {},
   "outputs": [
    {
     "data": {
      "text/plain": [
       "70.06666969631382"
      ]
     },
     "execution_count": 9,
     "metadata": {},
     "output_type": "execute_result"
    }
   ],
   "source": [
    "DF['LotFrontage'].mean()"
   ]
  },
  {
   "cell_type": "code",
   "execution_count": 10,
   "id": "535b7880",
   "metadata": {},
   "outputs": [
    {
     "data": {
      "text/plain": [
       "68.96677451121009"
      ]
     },
     "execution_count": 10,
     "metadata": {},
     "output_type": "execute_result"
    }
   ],
   "source": [
    "STATS.trim_mean(DF['LotFrontage'],0.1)"
   ]
  },
  {
   "cell_type": "code",
   "execution_count": 95,
   "id": "7ecb9901",
   "metadata": {},
   "outputs": [
    {
     "data": {
      "text/plain": [
       "<AxesSubplot:>"
      ]
     },
     "execution_count": 95,
     "metadata": {},
     "output_type": "execute_result"
    },
    {
     "data": {
      "image/png": "[encoded data removed]",
      "text/plain": [
       "<Figure size 432x288 with 1 Axes>"
      ]
     },
     "metadata": {
      "needs_background": "light"
     },
     "output_type": "display_data"
    }
   ],
   "source": [
    "DF['3SsnPorch'].hist()"
   ]
  },
  {
   "cell_type": "code",
   "execution_count": null,
   "id": "4311cea6",
   "metadata": {},
   "outputs": [],
   "source": []
  },
  {
   "cell_type": "code",
   "execution_count": null,
   "id": "bd44c968",
   "metadata": {},
   "outputs": [],
   "source": []
  },
  {
   "cell_type": "code",
   "execution_count": null,
   "id": "ee63ea7f",
   "metadata": {},
   "outputs": [],
   "source": []
  },
  {
   "cell_type": "code",
   "execution_count": null,
   "id": "f1b23f58",
   "metadata": {},
   "outputs": [],
   "source": []
  },
  {
   "cell_type": "code",
   "execution_count": null,
   "id": "a283e286",
   "metadata": {},
   "outputs": [],
   "source": []
  },
  {
   "cell_type": "code",
   "execution_count": null,
   "id": "58473bea",
   "metadata": {},
   "outputs": [],
   "source": []
  },
  {
   "cell_type": "code",
   "execution_count": null,
   "id": "970c979c",
   "metadata": {},
   "outputs": [],
   "source": []
  }
 ],
 "metadata": {
  "kernelspec": {
   "display_name": "Python 3 (ipykernel)",
   "language": "python",
   "name": "python3"
  },
  "language_info": {
   "codemirror_mode": {
    "name": "ipython",
    "version": 3
   },
   "file_extension": ".py",
   "mimetype": "text/x-python",
   "name": "python",
   "nbconvert_exporter": "python",
   "pygments_lexer": "ipython3",
   "version": "3.9.12"
  }
 },
 "nbformat": 4,
 "nbformat_minor": 5
}
