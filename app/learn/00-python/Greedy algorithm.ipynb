{
 "cells": [
  {
   "cell_type": "markdown",
   "id": "aa4939a1",
   "metadata": {},
   "source": [
    "# <font color='brown'>Greedy algorithm</font>\n",
    "[https://fa.wikipedia.org/wiki/%D8%A7%D9%84%DA%AF%D9%88%D8%B1%DB%8C%D8%AA%D9%85_%D8%AD%D8%B1%DB%8C%D8%B5%D8%A7%D9%86%D9%87]"
   ]
  },
  {
   "cell_type": "code",
   "execution_count": 149,
   "id": "f2360234",
   "metadata": {},
   "outputs": [
    {
     "name": "stdout",
     "output_type": "stream",
     "text": [
      "154\n",
      "[10, 2, -9, 50, 100, -1, 2]\n"
     ]
    }
   ],
   "source": [
    "nums = [5,3,-70,10,2,-9,50,100,-1,2]\n",
    "\n",
    "maxSum = 0\n",
    "intervalSum = 0\n",
    "intervalStart = 0\n",
    "start = None\n",
    "end = None\n",
    "\n",
    "for i,vi in enumerate(nums):\n",
    "    if intervalSum>=0:\n",
    "        intervalSum+=vi\n",
    "    else:\n",
    "        intervalSum = vi\n",
    "        intervalStart = i\n",
    "\n",
    "    if intervalSum > maxSum :\n",
    "        maxSum = intervalSum\n",
    "        start = intervalStart\n",
    "        end = i+1\n",
    "        \n",
    "        \n",
    "print(maxSum)\n",
    "print(nums[start:end])\n"
   ]
  },
  {
   "cell_type": "code",
   "execution_count": null,
   "id": "98a7a375",
   "metadata": {},
   "outputs": [],
   "source": []
  },
  {
   "cell_type": "code",
   "execution_count": null,
   "id": "e8bf6cfa",
   "metadata": {},
   "outputs": [],
   "source": []
  },
  {
   "cell_type": "code",
   "execution_count": null,
   "id": "a6e0e923",
   "metadata": {},
   "outputs": [],
   "source": []
  },
  {
   "cell_type": "code",
   "execution_count": null,
   "id": "dcc625ac",
   "metadata": {},
   "outputs": [],
   "source": []
  },
  {
   "cell_type": "code",
   "execution_count": null,
   "id": "fb837dab",
   "metadata": {},
   "outputs": [],
   "source": []
  }
 ],
 "metadata": {
  "kernelspec": {
   "display_name": "Python 3 (ipykernel)",
   "language": "python",
   "name": "python3"
  },
  "language_info": {
   "codemirror_mode": {
    "name": "ipython",
    "version": 3
   },
   "file_extension": ".py",
   "mimetype": "text/x-python",
   "name": "python",
   "nbconvert_exporter": "python",
   "pygments_lexer": "ipython3",
   "version": "3.9.12"
  }
 },
 "nbformat": 4,
 "nbformat_minor": 5
}
