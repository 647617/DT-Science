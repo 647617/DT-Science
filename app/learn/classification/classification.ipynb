{
 "cells": [
  {
   "cell_type": "code",
   "execution_count": 6,
   "id": "565edefb",
   "metadata": {},
   "outputs": [],
   "source": [
    "import pandas as pd\n",
    "import numpy as np\n",
    "from matplotlib import pyplot as PLT, cm as CMAP\n",
    "from sklearn import datasets"
   ]
  },
  {
   "cell_type": "markdown",
   "id": "3787d3a2",
   "metadata": {},
   "source": [
    "# 01- <font color=\"orange\">Mnist Classification</font>"
   ]
  },
  {
   "cell_type": "code",
   "execution_count": 7,
   "id": "01928090",
   "metadata": {},
   "outputs": [],
   "source": [
    "DT = datasets.load_digits()"
   ]
  },
  {
   "cell_type": "code",
   "execution_count": 8,
   "id": "cf6e7b28",
   "metadata": {},
   "outputs": [
    {
     "data": {
      "image/png": "[encoded data removed]",
      "text/plain": [
       "<Figure size 432x288 with 4 Axes>"
      ]
     },
     "metadata": {
      "needs_background": "light"
     },
     "output_type": "display_data"
    }
   ],
   "source": [
    "img_labels = list(zip(DT.images,DT.target))\n",
    "for index,(image,label) in enumerate(img_labels[100:104]):\n",
    "    PLT.subplot(1,4,index+1)\n",
    "    PLT.imshow(image,cmap=CMAP.gray_r)\n",
    "    PLT.title(label)"
   ]
  },
  {
   "cell_type": "code",
   "execution_count": 9,
   "id": "820dd3b3",
   "metadata": {},
   "outputs": [
    {
     "data": {
      "text/plain": [
       "(1797, 8, 8)"
      ]
     },
     "execution_count": 9,
     "metadata": {},
     "output_type": "execute_result"
    }
   ],
   "source": [
    "DT.images.shape"
   ]
  },
  {
   "cell_type": "code",
   "execution_count": 10,
   "id": "8273cbd8",
   "metadata": {},
   "outputs": [
    {
     "data": {
      "text/plain": [
       "(1797, 64)"
      ]
     },
     "execution_count": 10,
     "metadata": {},
     "output_type": "execute_result"
    }
   ],
   "source": [
    "X = DT.images.reshape(len(DT.images),-1)\n",
    "X.shape"
   ]
  },
  {
   "cell_type": "code",
   "execution_count": 11,
   "id": "a4acbdc0",
   "metadata": {},
   "outputs": [],
   "source": [
    "Y = DT.target"
   ]
  },
  {
   "cell_type": "markdown",
   "id": "5b6df324",
   "metadata": {},
   "source": [
    "### 01-01 <font color=\"green\">SVM algoritm (Support Vector Machine) - hyper plane</font>\n",
    "    * svm :\n",
    "        * draw single or multiple line\n",
    "        * use kernel trick => adding R\n",
    "    * Y = Wx + b\n",
    "    * draw a line with max margin "
   ]
  },
  {
   "cell_type": "code",
   "execution_count": 12,
   "id": "5f67411a",
   "metadata": {},
   "outputs": [],
   "source": [
    "from sklearn.svm import SVC"
   ]
  },
  {
   "cell_type": "code",
   "execution_count": 13,
   "id": "5842181d",
   "metadata": {},
   "outputs": [],
   "source": [
    "svm_classifier = SVC()"
   ]
  },
  {
   "cell_type": "code",
   "execution_count": 14,
   "id": "da530060",
   "metadata": {},
   "outputs": [
    {
     "data": {
      "text/plain": [
       "SVC()"
      ]
     },
     "execution_count": 14,
     "metadata": {},
     "output_type": "execute_result"
    }
   ],
   "source": [
    "svm_classifier.fit(X,Y)"
   ]
  },
  {
   "cell_type": "code",
   "execution_count": 15,
   "id": "ad956f82",
   "metadata": {},
   "outputs": [
    {
     "data": {
      "text/plain": [
       "3"
      ]
     },
     "execution_count": 15,
     "metadata": {},
     "output_type": "execute_result"
    },
    {
     "data": {
      "image/png": "[encoded data removed]",
      "text/plain": [
       "<Figure size 432x288 with 1 Axes>"
      ]
     },
     "metadata": {
      "needs_background": "light"
     },
     "output_type": "display_data"
    }
   ],
   "source": [
    "number = 190\n",
    "PLT.imshow(DT.images[number],cmap=CMAP.gray_r)\n",
    "PLT.title(DT.target[number])\n",
    "svm_classifier.predict([X[number]])[0]"
   ]
  },
  {
   "cell_type": "code",
   "execution_count": 22,
   "id": "cd914bfc",
   "metadata": {},
   "outputs": [
    {
     "data": {
      "text/plain": [
       "9"
      ]
     },
     "execution_count": 22,
     "metadata": {},
     "output_type": "execute_result"
    },
    {
     "data": {
      "image/png": "[encoded data removed]",
      "text/plain": [
       "<Figure size 432x288 with 1 Axes>"
      ]
     },
     "metadata": {
      "needs_background": "light"
     },
     "output_type": "display_data"
    }
   ],
   "source": [
    "NewVector = X[190].copy()\n",
    "NewVector[35] = 16\n",
    "NewVector[34] = 16\n",
    "NewVector[33] = 16\n",
    "NewVector[25] = 16\n",
    "NewVector[18] = 16\n",
    "NewVector[17] = 16\n",
    "\n",
    "PLT.imshow(NewVector.reshape(8,8),cmap=CMAP.gray_r)\n",
    "svm_classifier.predict([NewVector])[0]"
   ]
  },
  {
   "cell_type": "code",
   "execution_count": null,
   "id": "7842faaa",
   "metadata": {},
   "outputs": [],
   "source": []
  },
  {
   "cell_type": "code",
   "execution_count": null,
   "id": "f921c7a5",
   "metadata": {},
   "outputs": [],
   "source": []
  },
  {
   "cell_type": "code",
   "execution_count": null,
   "id": "12ac232f",
   "metadata": {},
   "outputs": [],
   "source": []
  },
  {
   "cell_type": "code",
   "execution_count": null,
   "id": "c5711fc6",
   "metadata": {},
   "outputs": [],
   "source": []
  },
  {
   "cell_type": "code",
   "execution_count": null,
   "id": "41251a71",
   "metadata": {},
   "outputs": [],
   "source": []
  },
  {
   "cell_type": "code",
   "execution_count": null,
   "id": "50dcd1ae",
   "metadata": {},
   "outputs": [],
   "source": []
  },
  {
   "cell_type": "code",
   "execution_count": null,
   "id": "142ffb0c",
   "metadata": {},
   "outputs": [],
   "source": []
  }
 ],
 "metadata": {
  "kernelspec": {
   "display_name": "Python 3 (ipykernel)",
   "language": "python",
   "name": "python3"
  },
  "language_info": {
   "codemirror_mode": {
    "name": "ipython",
    "version": 3
   },
   "file_extension": ".py",
   "mimetype": "text/x-python",
   "name": "python",
   "nbconvert_exporter": "python",
   "pygments_lexer": "ipython3",
   "version": "3.9.12"
  }
 },
 "nbformat": 4,
 "nbformat_minor": 5
}
