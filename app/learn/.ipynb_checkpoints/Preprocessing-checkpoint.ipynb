{
 "cells": [
  {
   "cell_type": "markdown",
   "id": "d1072876",
   "metadata": {},
   "source": [
    "# <font color='orange'>Preprocessing</font>\n",
    "## <font color='brown'>Missing Value</font>\n",
    "    drop Nan - row\n",
    "    fill Nan with mean / mode for categorical data / mode\n",
    "    fill Nan with constant\n",
    "    fill Nan with nearest neighbor (KNN)\n",
    "## <font color='brown'>Cat2Num ==> RN</font>\n",
    "    OHC ==> 0/1/0 ==> cardinality = 3\n",
    "    ranking\n",
    "    replace with numerical property (ex: car label to car price)\n",
    "## <font color='brown'>Scaling</font>\n",
    "    max normalization\n",
    "    min-max normalization = (x-min/max-min)  ==> 0~1\n",
    "    standard score-scaling normalization = (x-mean / sqrt(variance) ) ==> -3 ~ +3\n",
    "    L1,L2 norm\n",
    "    binarizer"
   ]
  },
  {
   "cell_type": "code",
   "execution_count": 66,
   "id": "1b54f625",
   "metadata": {},
   "outputs": [],
   "source": [
    "import pandas as pd\n",
    "import numpy as np\n",
    "from sklearn.impute import SimpleImputer\n",
    "from sklearn.preprocessing import LabelEncoder\n",
    "from sklearn.preprocessing import OneHotEncoder\n",
    "from sklearn.compose import ColumnTransformer\n",
    "from sklearn.preprocessing import StandardScaler\n",
    "from sklearn.impute import KNNImputer\n",
    "from sklearn.preprocessing import MinMaxScaler\n",
    "import matplotlib.pyplot as PLT\n",
    "from sklearn.preprocessing import Normalizer\n",
    "from sklearn.preprocessing import Binarizer\n",
    "\n",
    "# import sys\n",
    "# np.set_printoptions(threshold=sys.maxsize)"
   ]
  },
  {
   "cell_type": "markdown",
   "id": "dc1797aa",
   "metadata": {},
   "source": [
    "### <font color='brown'>Preprocessing 01</font>"
   ]
  },
  {
   "cell_type": "code",
   "execution_count": 2,
   "id": "b7ac568f",
   "metadata": {},
   "outputs": [
    {
     "data": {
      "text/html": [
       "<div>\n",
       "<style scoped>\n",
       "    .dataframe tbody tr th:only-of-type {\n",
       "        vertical-align: middle;\n",
       "    }\n",
       "\n",
       "    .dataframe tbody tr th {\n",
       "        vertical-align: top;\n",
       "    }\n",
       "\n",
       "    .dataframe thead th {\n",
       "        text-align: right;\n",
       "    }\n",
       "</style>\n",
       "<table border=\"1\" class=\"dataframe\">\n",
       "  <thead>\n",
       "    <tr style=\"text-align: right;\">\n",
       "      <th></th>\n",
       "      <th>Region</th>\n",
       "      <th>Age</th>\n",
       "      <th>Income</th>\n",
       "      <th>Online Shopper</th>\n",
       "    </tr>\n",
       "  </thead>\n",
       "  <tbody>\n",
       "    <tr>\n",
       "      <th>0</th>\n",
       "      <td>India</td>\n",
       "      <td>49.0</td>\n",
       "      <td>86400.0</td>\n",
       "      <td>No</td>\n",
       "    </tr>\n",
       "    <tr>\n",
       "      <th>1</th>\n",
       "      <td>Brazil</td>\n",
       "      <td>32.0</td>\n",
       "      <td>57600.0</td>\n",
       "      <td>Yes</td>\n",
       "    </tr>\n",
       "    <tr>\n",
       "      <th>2</th>\n",
       "      <td>USA</td>\n",
       "      <td>35.0</td>\n",
       "      <td>64800.0</td>\n",
       "      <td>No</td>\n",
       "    </tr>\n",
       "    <tr>\n",
       "      <th>3</th>\n",
       "      <td>Brazil</td>\n",
       "      <td>43.0</td>\n",
       "      <td>73200.0</td>\n",
       "      <td>No</td>\n",
       "    </tr>\n",
       "    <tr>\n",
       "      <th>4</th>\n",
       "      <td>USA</td>\n",
       "      <td>45.0</td>\n",
       "      <td>NaN</td>\n",
       "      <td>Yes</td>\n",
       "    </tr>\n",
       "    <tr>\n",
       "      <th>5</th>\n",
       "      <td>India</td>\n",
       "      <td>40.0</td>\n",
       "      <td>69600.0</td>\n",
       "      <td>Yes</td>\n",
       "    </tr>\n",
       "    <tr>\n",
       "      <th>6</th>\n",
       "      <td>Brazil</td>\n",
       "      <td>NaN</td>\n",
       "      <td>62400.0</td>\n",
       "      <td>No</td>\n",
       "    </tr>\n",
       "    <tr>\n",
       "      <th>7</th>\n",
       "      <td>India</td>\n",
       "      <td>53.0</td>\n",
       "      <td>94800.0</td>\n",
       "      <td>Yes</td>\n",
       "    </tr>\n",
       "    <tr>\n",
       "      <th>8</th>\n",
       "      <td>USA</td>\n",
       "      <td>55.0</td>\n",
       "      <td>99600.0</td>\n",
       "      <td>No</td>\n",
       "    </tr>\n",
       "    <tr>\n",
       "      <th>9</th>\n",
       "      <td>India</td>\n",
       "      <td>42.0</td>\n",
       "      <td>80400.0</td>\n",
       "      <td>Yes</td>\n",
       "    </tr>\n",
       "  </tbody>\n",
       "</table>\n",
       "</div>"
      ],
      "text/plain": [
       "   Region   Age   Income Online Shopper\n",
       "0   India  49.0  86400.0             No\n",
       "1  Brazil  32.0  57600.0            Yes\n",
       "2     USA  35.0  64800.0             No\n",
       "3  Brazil  43.0  73200.0             No\n",
       "4     USA  45.0      NaN            Yes\n",
       "5   India  40.0  69600.0            Yes\n",
       "6  Brazil   NaN  62400.0             No\n",
       "7   India  53.0  94800.0            Yes\n",
       "8     USA  55.0  99600.0             No\n",
       "9   India  42.0  80400.0            Yes"
      ]
     },
     "execution_count": 2,
     "metadata": {},
     "output_type": "execute_result"
    }
   ],
   "source": [
    "DT = pd.read_csv('../datasets/DataPreprocessing.csv')\n",
    "DT"
   ]
  },
  {
   "cell_type": "code",
   "execution_count": 3,
   "id": "4c8c1f51",
   "metadata": {},
   "outputs": [],
   "source": [
    "X = DT.iloc[:,:-1].values\n",
    "Y = DT.iloc[:,-1].values"
   ]
  },
  {
   "cell_type": "code",
   "execution_count": 4,
   "id": "d749a051",
   "metadata": {},
   "outputs": [],
   "source": [
    "smi = SimpleImputer(missing_values=np.nan,strategy='mean')\n",
    "# null for object or string values\n",
    "# nan for numeric values\n",
    "smi.fit(X[:,1:3])\n",
    "X[:,1:3] = smi.transform(X[:,1:3])"
   ]
  },
  {
   "cell_type": "code",
   "execution_count": 5,
   "id": "14bcb9b9",
   "metadata": {},
   "outputs": [
    {
     "data": {
      "text/plain": [
       "array([['India', 49.0, 86400.0],\n",
       "       ['Brazil', 32.0, 57600.0],\n",
       "       ['USA', 35.0, 64800.0],\n",
       "       ['Brazil', 43.0, 73200.0],\n",
       "       ['USA', 45.0, 76533.33333333333],\n",
       "       ['India', 40.0, 69600.0],\n",
       "       ['Brazil', 43.77777777777778, 62400.0],\n",
       "       ['India', 53.0, 94800.0],\n",
       "       ['USA', 55.0, 99600.0],\n",
       "       ['India', 42.0, 80400.0]], dtype=object)"
      ]
     },
     "execution_count": 5,
     "metadata": {},
     "output_type": "execute_result"
    }
   ],
   "source": [
    "X"
   ]
  },
  {
   "cell_type": "code",
   "execution_count": 6,
   "id": "a955a900",
   "metadata": {},
   "outputs": [],
   "source": [
    "lbe = LabelEncoder()\n",
    "X[:,0] = lbe.fit_transform(X[:,0])"
   ]
  },
  {
   "cell_type": "code",
   "execution_count": 7,
   "id": "06ccf7b8",
   "metadata": {},
   "outputs": [
    {
     "data": {
      "text/plain": [
       "array([[0.0, 1.0, 0.0, 49.0, 86400.0],\n",
       "       [1.0, 0.0, 0.0, 32.0, 57600.0],\n",
       "       [0.0, 0.0, 1.0, 35.0, 64800.0],\n",
       "       [1.0, 0.0, 0.0, 43.0, 73200.0],\n",
       "       [0.0, 0.0, 1.0, 45.0, 76533.33333333333],\n",
       "       [0.0, 1.0, 0.0, 40.0, 69600.0],\n",
       "       [1.0, 0.0, 0.0, 43.77777777777778, 62400.0],\n",
       "       [0.0, 1.0, 0.0, 53.0, 94800.0],\n",
       "       [0.0, 0.0, 1.0, 55.0, 99600.0],\n",
       "       [0.0, 1.0, 0.0, 42.0, 80400.0]], dtype=object)"
      ]
     },
     "execution_count": 7,
     "metadata": {},
     "output_type": "execute_result"
    }
   ],
   "source": [
    "clmt = ColumnTransformer([('country',OneHotEncoder(),[0])], remainder='passthrough') # passthrough or drop\n",
    "X = clmt.fit_transform(X)\n",
    "X"
   ]
  },
  {
   "cell_type": "code",
   "execution_count": 8,
   "id": "8e148e6d",
   "metadata": {},
   "outputs": [
    {
     "data": {
      "text/plain": [
       "array([[-0.65465367,  1.22474487, -0.65465367,  0.75887436,  0.74947325],\n",
       "       [ 1.52752523, -0.81649658, -0.65465367, -1.71150388, -1.43817841],\n",
       "       [-0.65465367, -0.81649658,  1.52752523, -1.27555478, -0.89126549],\n",
       "       [ 1.52752523, -0.81649658, -0.65465367, -0.11302384, -0.25320042],\n",
       "       [-0.65465367, -0.81649658,  1.52752523,  0.17760889,  0.        ],\n",
       "       [-0.65465367,  1.22474487, -0.65465367, -0.54897294, -0.52665688],\n",
       "       [ 1.52752523, -0.81649658, -0.65465367,  0.        , -1.0735698 ],\n",
       "       [-0.65465367,  1.22474487, -0.65465367,  1.34013983,  1.38753832],\n",
       "       [-0.65465367, -0.81649658,  1.52752523,  1.63077256,  1.75214693],\n",
       "       [-0.65465367,  1.22474487, -0.65465367, -0.25834021,  0.29371249]])"
      ]
     },
     "execution_count": 8,
     "metadata": {},
     "output_type": "execute_result"
    }
   ],
   "source": [
    "ss = StandardScaler()\n",
    "X = ss.fit_transform(X)\n",
    "X"
   ]
  },
  {
   "cell_type": "markdown",
   "id": "a700e34f",
   "metadata": {},
   "source": [
    "### <font color='brown'>KNN Preprocessing</font>"
   ]
  },
  {
   "cell_type": "code",
   "execution_count": 9,
   "id": "e6beee37",
   "metadata": {},
   "outputs": [
    {
     "data": {
      "text/html": [
       "<div>\n",
       "<style scoped>\n",
       "    .dataframe tbody tr th:only-of-type {\n",
       "        vertical-align: middle;\n",
       "    }\n",
       "\n",
       "    .dataframe tbody tr th {\n",
       "        vertical-align: top;\n",
       "    }\n",
       "\n",
       "    .dataframe thead th {\n",
       "        text-align: right;\n",
       "    }\n",
       "</style>\n",
       "<table border=\"1\" class=\"dataframe\">\n",
       "  <thead>\n",
       "    <tr style=\"text-align: right;\">\n",
       "      <th></th>\n",
       "      <th>pregnant_count</th>\n",
       "      <th>plasma</th>\n",
       "      <th>blood_pressure</th>\n",
       "      <th>skin_fitness</th>\n",
       "      <th>blood_glucose</th>\n",
       "      <th>bmi</th>\n",
       "      <th>diabetes_pedigree</th>\n",
       "      <th>age</th>\n",
       "      <th>class</th>\n",
       "    </tr>\n",
       "  </thead>\n",
       "  <tbody>\n",
       "    <tr>\n",
       "      <th>0</th>\n",
       "      <td>6</td>\n",
       "      <td>148</td>\n",
       "      <td>72</td>\n",
       "      <td>35</td>\n",
       "      <td>0</td>\n",
       "      <td>33.6</td>\n",
       "      <td>0.627</td>\n",
       "      <td>50</td>\n",
       "      <td>1</td>\n",
       "    </tr>\n",
       "    <tr>\n",
       "      <th>1</th>\n",
       "      <td>1</td>\n",
       "      <td>85</td>\n",
       "      <td>66</td>\n",
       "      <td>29</td>\n",
       "      <td>0</td>\n",
       "      <td>26.6</td>\n",
       "      <td>0.351</td>\n",
       "      <td>31</td>\n",
       "      <td>0</td>\n",
       "    </tr>\n",
       "    <tr>\n",
       "      <th>2</th>\n",
       "      <td>8</td>\n",
       "      <td>183</td>\n",
       "      <td>64</td>\n",
       "      <td>0</td>\n",
       "      <td>0</td>\n",
       "      <td>23.3</td>\n",
       "      <td>0.672</td>\n",
       "      <td>32</td>\n",
       "      <td>1</td>\n",
       "    </tr>\n",
       "    <tr>\n",
       "      <th>3</th>\n",
       "      <td>1</td>\n",
       "      <td>89</td>\n",
       "      <td>66</td>\n",
       "      <td>23</td>\n",
       "      <td>94</td>\n",
       "      <td>28.1</td>\n",
       "      <td>0.167</td>\n",
       "      <td>21</td>\n",
       "      <td>0</td>\n",
       "    </tr>\n",
       "    <tr>\n",
       "      <th>4</th>\n",
       "      <td>0</td>\n",
       "      <td>137</td>\n",
       "      <td>40</td>\n",
       "      <td>35</td>\n",
       "      <td>168</td>\n",
       "      <td>43.1</td>\n",
       "      <td>2.288</td>\n",
       "      <td>33</td>\n",
       "      <td>1</td>\n",
       "    </tr>\n",
       "  </tbody>\n",
       "</table>\n",
       "</div>"
      ],
      "text/plain": [
       "   pregnant_count  plasma  blood_pressure  skin_fitness  blood_glucose   bmi  \\\n",
       "0               6     148              72            35              0  33.6   \n",
       "1               1      85              66            29              0  26.6   \n",
       "2               8     183              64             0              0  23.3   \n",
       "3               1      89              66            23             94  28.1   \n",
       "4               0     137              40            35            168  43.1   \n",
       "\n",
       "   diabetes_pedigree   age  class  \n",
       "0               0.627   50      1  \n",
       "1               0.351   31      0  \n",
       "2               0.672   32      1  \n",
       "3               0.167   21      0  \n",
       "4               2.288   33      1  "
      ]
     },
     "execution_count": 9,
     "metadata": {},
     "output_type": "execute_result"
    }
   ],
   "source": [
    "DT = pd.read_csv('../datasets/pima-indians-diabetes.csv'\n",
    "                 ,names=[\n",
    "                     'pregnant_count',\n",
    "                     'plasma',\n",
    "                     'blood_pressure',\n",
    "                     'skin_fitness',\n",
    "                     'blood_glucose',\n",
    "                     'bmi',\n",
    "                     'diabetes_pedigree ',\n",
    "                     'age',\n",
    "                     'class',\n",
    "                 ])\n",
    "DT.head()"
   ]
  },
  {
   "cell_type": "code",
   "execution_count": 10,
   "id": "fbb8795a",
   "metadata": {},
   "outputs": [
    {
     "data": {
      "text/plain": [
       "pregnant_count        0\n",
       "plasma                0\n",
       "blood_pressure        0\n",
       "skin_fitness          0\n",
       "blood_glucose         0\n",
       "bmi                   0\n",
       "diabetes_pedigree     0\n",
       "age                   0\n",
       "class                 0\n",
       "dtype: int64"
      ]
     },
     "execution_count": 10,
     "metadata": {},
     "output_type": "execute_result"
    }
   ],
   "source": [
    "DT.isna().sum()"
   ]
  },
  {
   "cell_type": "code",
   "execution_count": 11,
   "id": "7cdd4709",
   "metadata": {},
   "outputs": [
    {
     "data": {
      "text/plain": [
       "pregnant_count        0\n",
       "plasma                0\n",
       "blood_pressure        0\n",
       "skin_fitness          0\n",
       "blood_glucose         0\n",
       "bmi                   0\n",
       "diabetes_pedigree     0\n",
       "age                   0\n",
       "class                 0\n",
       "dtype: int64"
      ]
     },
     "execution_count": 11,
     "metadata": {},
     "output_type": "execute_result"
    }
   ],
   "source": [
    "DT.isnull().sum()"
   ]
  },
  {
   "cell_type": "code",
   "execution_count": 12,
   "id": "0c3a4ee0",
   "metadata": {},
   "outputs": [
    {
     "data": {
      "text/html": [
       "<div>\n",
       "<style scoped>\n",
       "    .dataframe tbody tr th:only-of-type {\n",
       "        vertical-align: middle;\n",
       "    }\n",
       "\n",
       "    .dataframe tbody tr th {\n",
       "        vertical-align: top;\n",
       "    }\n",
       "\n",
       "    .dataframe thead th {\n",
       "        text-align: right;\n",
       "    }\n",
       "</style>\n",
       "<table border=\"1\" class=\"dataframe\">\n",
       "  <thead>\n",
       "    <tr style=\"text-align: right;\">\n",
       "      <th></th>\n",
       "      <th>pregnant_count</th>\n",
       "      <th>plasma</th>\n",
       "      <th>blood_pressure</th>\n",
       "      <th>skin_fitness</th>\n",
       "      <th>blood_glucose</th>\n",
       "      <th>bmi</th>\n",
       "      <th>diabetes_pedigree</th>\n",
       "      <th>age</th>\n",
       "      <th>class</th>\n",
       "    </tr>\n",
       "  </thead>\n",
       "  <tbody>\n",
       "    <tr>\n",
       "      <th>2</th>\n",
       "      <td>8</td>\n",
       "      <td>183</td>\n",
       "      <td>64</td>\n",
       "      <td>0</td>\n",
       "      <td>0</td>\n",
       "      <td>23.3</td>\n",
       "      <td>0.672</td>\n",
       "      <td>32</td>\n",
       "      <td>1</td>\n",
       "    </tr>\n",
       "    <tr>\n",
       "      <th>5</th>\n",
       "      <td>5</td>\n",
       "      <td>116</td>\n",
       "      <td>74</td>\n",
       "      <td>0</td>\n",
       "      <td>0</td>\n",
       "      <td>25.6</td>\n",
       "      <td>0.201</td>\n",
       "      <td>30</td>\n",
       "      <td>0</td>\n",
       "    </tr>\n",
       "    <tr>\n",
       "      <th>7</th>\n",
       "      <td>10</td>\n",
       "      <td>115</td>\n",
       "      <td>0</td>\n",
       "      <td>0</td>\n",
       "      <td>0</td>\n",
       "      <td>35.3</td>\n",
       "      <td>0.134</td>\n",
       "      <td>29</td>\n",
       "      <td>0</td>\n",
       "    </tr>\n",
       "    <tr>\n",
       "      <th>9</th>\n",
       "      <td>8</td>\n",
       "      <td>125</td>\n",
       "      <td>96</td>\n",
       "      <td>0</td>\n",
       "      <td>0</td>\n",
       "      <td>0.0</td>\n",
       "      <td>0.232</td>\n",
       "      <td>54</td>\n",
       "      <td>1</td>\n",
       "    </tr>\n",
       "    <tr>\n",
       "      <th>10</th>\n",
       "      <td>4</td>\n",
       "      <td>110</td>\n",
       "      <td>92</td>\n",
       "      <td>0</td>\n",
       "      <td>0</td>\n",
       "      <td>37.6</td>\n",
       "      <td>0.191</td>\n",
       "      <td>30</td>\n",
       "      <td>0</td>\n",
       "    </tr>\n",
       "    <tr>\n",
       "      <th>...</th>\n",
       "      <td>...</td>\n",
       "      <td>...</td>\n",
       "      <td>...</td>\n",
       "      <td>...</td>\n",
       "      <td>...</td>\n",
       "      <td>...</td>\n",
       "      <td>...</td>\n",
       "      <td>...</td>\n",
       "      <td>...</td>\n",
       "    </tr>\n",
       "    <tr>\n",
       "      <th>757</th>\n",
       "      <td>0</td>\n",
       "      <td>123</td>\n",
       "      <td>72</td>\n",
       "      <td>0</td>\n",
       "      <td>0</td>\n",
       "      <td>36.3</td>\n",
       "      <td>0.258</td>\n",
       "      <td>52</td>\n",
       "      <td>1</td>\n",
       "    </tr>\n",
       "    <tr>\n",
       "      <th>758</th>\n",
       "      <td>1</td>\n",
       "      <td>106</td>\n",
       "      <td>76</td>\n",
       "      <td>0</td>\n",
       "      <td>0</td>\n",
       "      <td>37.5</td>\n",
       "      <td>0.197</td>\n",
       "      <td>26</td>\n",
       "      <td>0</td>\n",
       "    </tr>\n",
       "    <tr>\n",
       "      <th>759</th>\n",
       "      <td>6</td>\n",
       "      <td>190</td>\n",
       "      <td>92</td>\n",
       "      <td>0</td>\n",
       "      <td>0</td>\n",
       "      <td>35.5</td>\n",
       "      <td>0.278</td>\n",
       "      <td>66</td>\n",
       "      <td>1</td>\n",
       "    </tr>\n",
       "    <tr>\n",
       "      <th>762</th>\n",
       "      <td>9</td>\n",
       "      <td>89</td>\n",
       "      <td>62</td>\n",
       "      <td>0</td>\n",
       "      <td>0</td>\n",
       "      <td>22.5</td>\n",
       "      <td>0.142</td>\n",
       "      <td>33</td>\n",
       "      <td>0</td>\n",
       "    </tr>\n",
       "    <tr>\n",
       "      <th>766</th>\n",
       "      <td>1</td>\n",
       "      <td>126</td>\n",
       "      <td>60</td>\n",
       "      <td>0</td>\n",
       "      <td>0</td>\n",
       "      <td>30.1</td>\n",
       "      <td>0.349</td>\n",
       "      <td>47</td>\n",
       "      <td>1</td>\n",
       "    </tr>\n",
       "  </tbody>\n",
       "</table>\n",
       "<p>227 rows × 9 columns</p>\n",
       "</div>"
      ],
      "text/plain": [
       "     pregnant_count  plasma  blood_pressure  skin_fitness  blood_glucose  \\\n",
       "2                 8     183              64             0              0   \n",
       "5                 5     116              74             0              0   \n",
       "7                10     115               0             0              0   \n",
       "9                 8     125              96             0              0   \n",
       "10                4     110              92             0              0   \n",
       "..              ...     ...             ...           ...            ...   \n",
       "757               0     123              72             0              0   \n",
       "758               1     106              76             0              0   \n",
       "759               6     190              92             0              0   \n",
       "762               9      89              62             0              0   \n",
       "766               1     126              60             0              0   \n",
       "\n",
       "      bmi  diabetes_pedigree   age  class  \n",
       "2    23.3               0.672   32      1  \n",
       "5    25.6               0.201   30      0  \n",
       "7    35.3               0.134   29      0  \n",
       "9     0.0               0.232   54      1  \n",
       "10   37.6               0.191   30      0  \n",
       "..    ...                 ...  ...    ...  \n",
       "757  36.3               0.258   52      1  \n",
       "758  37.5               0.197   26      0  \n",
       "759  35.5               0.278   66      1  \n",
       "762  22.5               0.142   33      0  \n",
       "766  30.1               0.349   47      1  \n",
       "\n",
       "[227 rows x 9 columns]"
      ]
     },
     "execution_count": 12,
     "metadata": {},
     "output_type": "execute_result"
    }
   ],
   "source": [
    "skines = DT[DT['skin_fitness']==0]\n",
    "skines "
   ]
  },
  {
   "cell_type": "code",
   "execution_count": 13,
   "id": "33384cea",
   "metadata": {},
   "outputs": [],
   "source": [
    "skin_fitness_mean = DT[DT['skin_fitness']!=0]['skin_fitness'].mean()"
   ]
  },
  {
   "cell_type": "code",
   "execution_count": 14,
   "id": "66822885",
   "metadata": {},
   "outputs": [],
   "source": [
    "DT.replace( {'skin_fitness':0}, skin_fitness_mean, inplace=True)"
   ]
  },
  {
   "cell_type": "code",
   "execution_count": 15,
   "id": "5a60d967",
   "metadata": {},
   "outputs": [],
   "source": [
    "blood_glucose_mean = DT[DT['blood_glucose']!=0]['blood_glucose'].mean()"
   ]
  },
  {
   "cell_type": "code",
   "execution_count": 16,
   "id": "d6ddeeaa",
   "metadata": {},
   "outputs": [],
   "source": [
    "DT.replace( {'blood_glucose':0}, skin_fitness_mean, inplace=True)"
   ]
  },
  {
   "cell_type": "code",
   "execution_count": 17,
   "id": "dceb022d",
   "metadata": {},
   "outputs": [],
   "source": [
    "DT = pd.read_csv('../datasets/pima-indians-diabetes.csv'\n",
    "                 ,names=[\n",
    "                     'pregnant_count',\n",
    "                     'plasma',\n",
    "                     'blood_pressure',\n",
    "                     'skin_fitness',\n",
    "                     'blood_glucose',\n",
    "                     'bmi',\n",
    "                     'diabetes_pedigree ',\n",
    "                     'age',\n",
    "                     'class',\n",
    "                 ])"
   ]
  },
  {
   "cell_type": "code",
   "execution_count": 18,
   "id": "da4af50e",
   "metadata": {},
   "outputs": [],
   "source": [
    "DT.replace( {'skin_fitness':0,'blood_glucose':0}, np.nan, inplace=True)"
   ]
  },
  {
   "cell_type": "code",
   "execution_count": 19,
   "id": "751a231a",
   "metadata": {},
   "outputs": [
    {
     "data": {
      "text/plain": [
       "array([[  6.   , 148.   ,  72.   , ...,   0.627,  50.   ,   1.   ],\n",
       "       [  1.   ,  85.   ,  66.   , ...,   0.351,  31.   ,   0.   ],\n",
       "       [  8.   , 183.   ,  64.   , ...,   0.672,  32.   ,   1.   ],\n",
       "       ...,\n",
       "       [  5.   , 121.   ,  72.   , ...,   0.245,  30.   ,   0.   ],\n",
       "       [  1.   , 126.   ,  60.   , ...,   0.349,  47.   ,   1.   ],\n",
       "       [  1.   ,  93.   ,  70.   , ...,   0.315,  23.   ,   0.   ]])"
      ]
     },
     "execution_count": 19,
     "metadata": {},
     "output_type": "execute_result"
    }
   ],
   "source": [
    "knimp = KNNImputer(n_neighbors=3)\n",
    "DT = knimp.fit_transform(DT)\n",
    "DT"
   ]
  },
  {
   "cell_type": "code",
   "execution_count": 20,
   "id": "984df23c",
   "metadata": {},
   "outputs": [
    {
     "data": {
      "text/plain": [
       "array([[0.35294118, 0.74371859, 0.59016393, ..., 0.23441503, 0.48333333,\n",
       "        1.        ],\n",
       "       [0.05882353, 0.42713568, 0.54098361, ..., 0.11656704, 0.16666667,\n",
       "        0.        ],\n",
       "       [0.47058824, 0.91959799, 0.52459016, ..., 0.25362938, 0.18333333,\n",
       "        1.        ],\n",
       "       ...,\n",
       "       [0.29411765, 0.6080402 , 0.59016393, ..., 0.07130658, 0.15      ,\n",
       "        0.        ],\n",
       "       [0.05882353, 0.63316583, 0.49180328, ..., 0.11571307, 0.43333333,\n",
       "        1.        ],\n",
       "       [0.05882353, 0.46733668, 0.57377049, ..., 0.10119556, 0.03333333,\n",
       "        0.        ]])"
      ]
     },
     "execution_count": 20,
     "metadata": {},
     "output_type": "execute_result"
    }
   ],
   "source": [
    "minmaxSCL = MinMaxScaler(feature_range=(0,1))\n",
    "DT = minmaxSCL.fit_transform(DT)\n",
    "DT"
   ]
  },
  {
   "cell_type": "code",
   "execution_count": 21,
   "id": "582b001f",
   "metadata": {},
   "outputs": [
    {
     "data": {
      "text/plain": [
       "array([[ 0.63994726,  0.84832379,  0.14964075, ...,  0.46849198,\n",
       "         1.4259954 ,  1.36589591],\n",
       "       [-0.84488505, -1.12339636, -0.16054575, ..., -0.36506078,\n",
       "        -0.19067191, -0.73212021],\n",
       "       [ 1.23388019,  1.94372388, -0.26394125, ...,  0.60439732,\n",
       "        -0.10558415,  1.36589591],\n",
       "       ...,\n",
       "       [ 0.3429808 ,  0.00330087,  0.14964075, ..., -0.68519336,\n",
       "        -0.27575966, -0.73212021],\n",
       "       [-0.84488505,  0.1597866 , -0.47073225, ..., -0.37110101,\n",
       "         1.17073215,  1.36589591],\n",
       "       [-0.84488505, -0.8730192 ,  0.04624525, ..., -0.47378505,\n",
       "        -0.87137393, -0.73212021]])"
      ]
     },
     "execution_count": 21,
     "metadata": {},
     "output_type": "execute_result"
    }
   ],
   "source": [
    "stscl = StandardScaler()\n",
    "DT = stscl.fit_transform(DT)\n",
    "DT"
   ]
  },
  {
   "cell_type": "markdown",
   "id": "83d28178",
   "metadata": {},
   "source": [
    "### <font color='brown'>L1,L2 - binarizer Preprocessing</font>"
   ]
  },
  {
   "cell_type": "code",
   "execution_count": 43,
   "id": "81753c7c",
   "metadata": {},
   "outputs": [
    {
     "data": {
      "text/html": [
       "<div>\n",
       "<style scoped>\n",
       "    .dataframe tbody tr th:only-of-type {\n",
       "        vertical-align: middle;\n",
       "    }\n",
       "\n",
       "    .dataframe tbody tr th {\n",
       "        vertical-align: top;\n",
       "    }\n",
       "\n",
       "    .dataframe thead th {\n",
       "        text-align: right;\n",
       "    }\n",
       "</style>\n",
       "<table border=\"1\" class=\"dataframe\">\n",
       "  <thead>\n",
       "    <tr style=\"text-align: right;\">\n",
       "      <th></th>\n",
       "      <th>pregnant_count</th>\n",
       "      <th>plasma</th>\n",
       "      <th>blood_pressure</th>\n",
       "      <th>skin_fitness</th>\n",
       "      <th>blood_glucose</th>\n",
       "      <th>bmi</th>\n",
       "      <th>diabetes_pedigree</th>\n",
       "      <th>age</th>\n",
       "    </tr>\n",
       "  </thead>\n",
       "  <tbody>\n",
       "    <tr>\n",
       "      <th>0</th>\n",
       "      <td>6</td>\n",
       "      <td>148</td>\n",
       "      <td>72</td>\n",
       "      <td>35</td>\n",
       "      <td>0</td>\n",
       "      <td>33.6</td>\n",
       "      <td>0.627</td>\n",
       "      <td>50</td>\n",
       "    </tr>\n",
       "    <tr>\n",
       "      <th>1</th>\n",
       "      <td>1</td>\n",
       "      <td>85</td>\n",
       "      <td>66</td>\n",
       "      <td>29</td>\n",
       "      <td>0</td>\n",
       "      <td>26.6</td>\n",
       "      <td>0.351</td>\n",
       "      <td>31</td>\n",
       "    </tr>\n",
       "    <tr>\n",
       "      <th>2</th>\n",
       "      <td>8</td>\n",
       "      <td>183</td>\n",
       "      <td>64</td>\n",
       "      <td>0</td>\n",
       "      <td>0</td>\n",
       "      <td>23.3</td>\n",
       "      <td>0.672</td>\n",
       "      <td>32</td>\n",
       "    </tr>\n",
       "    <tr>\n",
       "      <th>3</th>\n",
       "      <td>1</td>\n",
       "      <td>89</td>\n",
       "      <td>66</td>\n",
       "      <td>23</td>\n",
       "      <td>94</td>\n",
       "      <td>28.1</td>\n",
       "      <td>0.167</td>\n",
       "      <td>21</td>\n",
       "    </tr>\n",
       "    <tr>\n",
       "      <th>4</th>\n",
       "      <td>0</td>\n",
       "      <td>137</td>\n",
       "      <td>40</td>\n",
       "      <td>35</td>\n",
       "      <td>168</td>\n",
       "      <td>43.1</td>\n",
       "      <td>2.288</td>\n",
       "      <td>33</td>\n",
       "    </tr>\n",
       "  </tbody>\n",
       "</table>\n",
       "</div>"
      ],
      "text/plain": [
       "   pregnant_count  plasma  blood_pressure  skin_fitness  blood_glucose   bmi  \\\n",
       "0               6     148              72            35              0  33.6   \n",
       "1               1      85              66            29              0  26.6   \n",
       "2               8     183              64             0              0  23.3   \n",
       "3               1      89              66            23             94  28.1   \n",
       "4               0     137              40            35            168  43.1   \n",
       "\n",
       "   diabetes_pedigree   age  \n",
       "0               0.627   50  \n",
       "1               0.351   31  \n",
       "2               0.672   32  \n",
       "3               0.167   21  \n",
       "4               2.288   33  "
      ]
     },
     "execution_count": 43,
     "metadata": {},
     "output_type": "execute_result"
    }
   ],
   "source": [
    "DT = pd.read_csv('../datasets/pima-indians-diabetes.csv'\n",
    "                 ,names=[\n",
    "                     'pregnant_count',\n",
    "                     'plasma',\n",
    "                     'blood_pressure',\n",
    "                     'skin_fitness',\n",
    "                     'blood_glucose',\n",
    "                     'bmi',\n",
    "                     'diabetes_pedigree ',\n",
    "                     'age',\n",
    "                     'class',\n",
    "                 ])\n",
    "DT = DT.iloc[:,:-1]\n",
    "DT.head()"
   ]
  },
  {
   "cell_type": "code",
   "execution_count": 44,
   "id": "600b543a",
   "metadata": {},
   "outputs": [],
   "source": [
    "L2norm = Normalizer()"
   ]
  },
  {
   "cell_type": "code",
   "execution_count": 64,
   "id": "c8d17fea",
   "metadata": {},
   "outputs": [],
   "source": [
    "L1norm = Normalizer(norm='l1')"
   ]
  },
  {
   "cell_type": "code",
   "execution_count": 61,
   "id": "3f7781b4",
   "metadata": {},
   "outputs": [
    {
     "name": "stdout",
     "output_type": "stream",
     "text": [
      "1.0000000000000002\n"
     ]
    },
    {
     "data": {
      "text/plain": [
       "array([[0.03355237, 0.82762513, 0.40262844, ..., 0.18789327, 0.00350622,\n",
       "        0.27960308],\n",
       "       [0.008424  , 0.71604034, 0.55598426, ..., 0.22407851, 0.00295683,\n",
       "        0.26114412],\n",
       "       [0.04039768, 0.92409698, 0.32318146, ..., 0.11765825, 0.00339341,\n",
       "        0.16159073],\n",
       "       ...,\n",
       "       [0.02691539, 0.65135243, 0.38758161, ..., 0.14103664, 0.00131885,\n",
       "        0.16149234],\n",
       "       [0.00665306, 0.83828547, 0.39918356, ..., 0.20025708, 0.00232192,\n",
       "        0.31269379],\n",
       "       [0.00791454, 0.73605211, 0.55401772, ..., 0.24060198, 0.00249308,\n",
       "        0.18203439]])"
      ]
     },
     "execution_count": 61,
     "metadata": {},
     "output_type": "execute_result"
    }
   ],
   "source": [
    "DTL2 = L2norm.fit_transform(DT)\n",
    "print(sum(DTL2[0]**2))\n",
    "DTL2"
   ]
  },
  {
   "cell_type": "code",
   "execution_count": 65,
   "id": "d19b54ab",
   "metadata": {},
   "outputs": [
    {
     "name": "stdout",
     "output_type": "stream",
     "text": [
      "0.9999999999999999\n"
     ]
    },
    {
     "data": {
      "text/plain": [
       "array([[0.01737987, 0.42870343, 0.20855843, ..., 0.09732727, 0.0018162 ,\n",
       "        0.14483224],\n",
       "       [0.00418496, 0.35572147, 0.27620726, ..., 0.11131989, 0.00146892,\n",
       "        0.12973371],\n",
       "       [0.02572579, 0.58847742, 0.20580631, ..., 0.07492636, 0.00216097,\n",
       "        0.10290316],\n",
       "       ...,\n",
       "       [0.01283878, 0.31069856, 0.18487848, ..., 0.06727522, 0.0006291 ,\n",
       "        0.0770327 ],\n",
       "       [0.00378145, 0.47646238, 0.22688685, ..., 0.11382157, 0.00131973,\n",
       "        0.17772803],\n",
       "       [0.00402067, 0.37392196, 0.28144664, ..., 0.12222825, 0.00126651,\n",
       "        0.09247532]])"
      ]
     },
     "execution_count": 65,
     "metadata": {},
     "output_type": "execute_result"
    }
   ],
   "source": [
    "DTL1 = L1norm.fit_transform(DT)\n",
    "print(sum(DTL1[0]))\n",
    "DTL1"
   ]
  },
  {
   "cell_type": "code",
   "execution_count": 67,
   "id": "8ac696ba",
   "metadata": {},
   "outputs": [],
   "source": [
    "binzer = Binarizer(threshold=0.0)"
   ]
  },
  {
   "cell_type": "code",
   "execution_count": 68,
   "id": "05857774",
   "metadata": {},
   "outputs": [
    {
     "data": {
      "text/plain": [
       "array([[1., 1., 1., ..., 1., 1., 1.],\n",
       "       [1., 1., 1., ..., 1., 1., 1.],\n",
       "       [1., 1., 1., ..., 1., 1., 1.],\n",
       "       ...,\n",
       "       [1., 1., 1., ..., 1., 1., 1.],\n",
       "       [1., 1., 1., ..., 1., 1., 1.],\n",
       "       [1., 1., 1., ..., 1., 1., 1.]])"
      ]
     },
     "execution_count": 68,
     "metadata": {},
     "output_type": "execute_result"
    }
   ],
   "source": [
    "DTBINZER = binzer.fit_transform(DT)\n",
    "DTBINZER"
   ]
  },
  {
   "cell_type": "code",
   "execution_count": 71,
   "id": "9e74e0dd",
   "metadata": {},
   "outputs": [
    {
     "data": {
      "text/plain": [
       "array([  6.   , 148.   ,  72.   ,  35.   ,   0.   ,  33.6  ,   0.627,\n",
       "        50.   ,   1.   ,   1.   ,   1.   ,   1.   ,   0.   ,   1.   ,\n",
       "         1.   ,   1.   ])"
      ]
     },
     "execution_count": 71,
     "metadata": {},
     "output_type": "execute_result"
    }
   ],
   "source": [
    "DTnewFeature = np.concatenate((DT,DTBINZER),axis=1)\n",
    "DTnewFeature[0]"
   ]
  },
  {
   "cell_type": "code",
   "execution_count": null,
   "id": "27f9b891",
   "metadata": {},
   "outputs": [],
   "source": []
  },
  {
   "cell_type": "code",
   "execution_count": null,
   "id": "8debf3ce",
   "metadata": {},
   "outputs": [],
   "source": []
  },
  {
   "cell_type": "code",
   "execution_count": null,
   "id": "1f06c89f",
   "metadata": {},
   "outputs": [],
   "source": []
  }
 ],
 "metadata": {
  "kernelspec": {
   "display_name": "Python 3 (ipykernel)",
   "language": "python",
   "name": "python3"
  },
  "language_info": {
   "codemirror_mode": {
    "name": "ipython",
    "version": 3
   },
   "file_extension": ".py",
   "mimetype": "text/x-python",
   "name": "python",
   "nbconvert_exporter": "python",
   "pygments_lexer": "ipython3",
   "version": "3.9.12"
  }
 },
 "nbformat": 4,
 "nbformat_minor": 5
}
